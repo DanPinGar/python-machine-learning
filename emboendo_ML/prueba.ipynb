{
 "cells": [
  {
   "cell_type": "code",
   "execution_count": 18,
   "metadata": {},
   "outputs": [],
   "source": [
    "import tensorflow as tf\n",
    "from tensorflow.keras import layers, models\n",
    "import numpy as np\n"
   ]
  },
  {
   "cell_type": "code",
   "execution_count": 19,
   "metadata": {},
   "outputs": [],
   "source": [
    "max_frames = 20\n",
    "X_train = [\n",
    "    np.random.random((15, 100, 100, 1)),  # Video 1 con 15 frames\n",
    "    np.random.random((20, 100, 100, 1)),  # Video 2 con 20 frames\n",
    "    np.random.random((12, 100, 100, 1)),  # Video 3 con 12 frames\n",
    "]\n",
    "for i, video in enumerate(X_train):\n",
    "    frames_actual = video.shape[0]\n",
    "    if frames_actual < max_frames:\n",
    "        \n",
    "        padding = np.zeros((max_frames - frames_actual, 100, 100, 1))\n",
    "        X_train[i] = np.concatenate([video, padding], axis=0)\n",
    "    elif frames_actual > max_frames:\n",
    "        # Truncar si es necesario\n",
    "        X_train[i] = video[:max_frames, :, :, :]\n",
    "        \n",
    "X_train = np.array(X_train)\n",
    "y_train = np.array([1, 0, 1])  # Etiquetas de ejemplo"
   ]
  },
  {
   "cell_type": "code",
   "execution_count": 8,
   "metadata": {},
   "outputs": [],
   "source": [
    "\n",
    "model = models.Sequential()\n",
    "model.add(layers.TimeDistributed(layers.Conv2D(32, (3, 3), activation='relu'), input_shape=(max_frames, 100, 100, 1)))\n",
    "model.add(layers.TimeDistributed(layers.MaxPooling2D((2, 2))))\n",
    "model.add(layers.TimeDistributed(layers.Conv2D(64, (3, 3), activation='relu')))\n",
    "model.add(layers.TimeDistributed(layers.MaxPooling2D((2, 2))))\n",
    "model.add(layers.TimeDistributed(layers.Conv2D(64, (3, 3), activation='relu')))\n",
    "model.add(layers.TimeDistributed(layers.Flatten()))\n",
    "model.add(layers.LSTM(64))\n",
    "model.add(layers.Dense(1, activation='sigmoid'))\n"
   ]
  },
  {
   "cell_type": "code",
   "execution_count": 9,
   "metadata": {},
   "outputs": [
    {
     "name": "stdout",
     "output_type": "stream",
     "text": [
      "Epoch 1/10\n",
      "1/1 [==============================] - 3s 3s/step - loss: 0.6980 - accuracy: 0.6667\n",
      "Epoch 2/10\n",
      "1/1 [==============================] - 0s 417ms/step - loss: 0.8726 - accuracy: 0.3333\n",
      "Epoch 3/10\n",
      "1/1 [==============================] - 0s 488ms/step - loss: 0.5660 - accuracy: 0.3333\n",
      "Epoch 4/10\n",
      "1/1 [==============================] - 0s 432ms/step - loss: 0.4647 - accuracy: 1.0000\n",
      "Epoch 5/10\n",
      "1/1 [==============================] - 0s 457ms/step - loss: 0.4240 - accuracy: 1.0000\n",
      "Epoch 6/10\n",
      "1/1 [==============================] - 0s 416ms/step - loss: 0.3499 - accuracy: 1.0000\n",
      "Epoch 7/10\n",
      "1/1 [==============================] - 0s 430ms/step - loss: 0.2747 - accuracy: 1.0000\n",
      "Epoch 8/10\n",
      "1/1 [==============================] - 0s 409ms/step - loss: 0.2009 - accuracy: 1.0000\n",
      "Epoch 9/10\n",
      "1/1 [==============================] - 0s 403ms/step - loss: 0.1341 - accuracy: 1.0000\n",
      "Epoch 10/10\n",
      "1/1 [==============================] - 0s 454ms/step - loss: 0.0829 - accuracy: 1.0000\n"
     ]
    },
    {
     "data": {
      "text/plain": [
       "<keras.src.callbacks.History at 0x18b74f7c1d0>"
      ]
     },
     "execution_count": 9,
     "metadata": {},
     "output_type": "execute_result"
    }
   ],
   "source": [
    "\n",
    "model.compile(optimizer='adam', loss='binary_crossentropy', metrics=['accuracy'])\n",
    "model.fit(X_train, y_train, epochs=10, batch_size=32)\n"
   ]
  },
  {
   "cell_type": "code",
   "execution_count": 17,
   "metadata": {},
   "outputs": [
    {
     "name": "stdout",
     "output_type": "stream",
     "text": [
      "1/1 [==============================] - 0s 41ms/step\n",
      "Predicción para el nuevo video: 1\n"
     ]
    }
   ],
   "source": [
    "\n",
    "nuevo_video = np.random.random((18, 100, 100, 1))\n",
    "\n",
    "max_frames = 20\n",
    "if nuevo_video.shape[0] < max_frames:\n",
    "    # Rellenar con ceros si es necesario\n",
    "    padding = np.zeros((max_frames - nuevo_video.shape[0], 100, 100, 1))\n",
    "    nuevo_video = np.concatenate([nuevo_video, padding], axis=0)\n",
    "elif nuevo_video.shape[0] > max_frames:\n",
    "    # Truncar si es necesario\n",
    "    nuevo_video = nuevo_video[:max_frames, :, :, :]\n",
    "\n",
    "# Realizar la predicción\n",
    "prediccion = model.predict(np.expand_dims(nuevo_video, axis=0))\n",
    "\n",
    "print(f'Predicción para el nuevo video: {round(prediccion[0][0])}')"
   ]
  }
 ],
 "metadata": {
  "kernelspec": {
   "display_name": ".venv",
   "language": "python",
   "name": "python3"
  },
  "language_info": {
   "codemirror_mode": {
    "name": "ipython",
    "version": 3
   },
   "file_extension": ".py",
   "mimetype": "text/x-python",
   "name": "python",
   "nbconvert_exporter": "python",
   "pygments_lexer": "ipython3",
   "version": "3.11.6"
  }
 },
 "nbformat": 4,
 "nbformat_minor": 2
}
