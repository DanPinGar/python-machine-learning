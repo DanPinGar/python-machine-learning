{
 "cells": [
  {
   "cell_type": "markdown",
   "metadata": {},
   "source": [
    "# LIBRARIES IMPORT"
   ]
  },
  {
   "cell_type": "code",
   "execution_count": 1,
   "metadata": {},
   "outputs": [],
   "source": [
    "# imports\n",
    "\n",
    "import fig_lib \n",
    "import CNN_lib\n",
    "import CNN_utilities\n",
    "import numpy as np\n",
    "import matplotlib.pyplot as plt\n",
    "import time\n",
    "import pandas as pd\n",
    "import pickle\n",
    "\n",
    "from tensorflow import keras\n",
    "from tensorflow.keras import layers, models\n",
    "from sklearn.model_selection import train_test_split\n"
   ]
  },
  {
   "cell_type": "code",
   "execution_count": 2,
   "metadata": {},
   "outputs": [],
   "source": [
    "init_time = time.time()"
   ]
  },
  {
   "cell_type": "code",
   "execution_count": 3,
   "metadata": {},
   "outputs": [],
   "source": [
    "data_load_dicom,generate_new_peakle=True,False\n",
    "generate_new_data=False \n",
    "\n",
    "load_train_data=False\n",
    "video_d=True                                    # Video = True , Image = False "
   ]
  },
  {
   "cell_type": "code",
   "execution_count": 4,
   "metadata": {},
   "outputs": [],
   "source": [
    "\n",
    "pkl_d_p = 'C:\\PROJECTS\\emboendo\\CNN/input_d.pkl'\n",
    "pkl_train_p='C:\\PROJECTS\\emboendo\\CNN/train_d.pkl'        "
   ]
  },
  {
   "cell_type": "markdown",
   "metadata": {},
   "source": [
    "# DATA LOAD"
   ]
  },
  {
   "cell_type": "code",
   "execution_count": 5,
   "metadata": {},
   "outputs": [
    {
     "data": {
      "text/html": [
       "<div>\n",
       "<style scoped>\n",
       "    .dataframe tbody tr th:only-of-type {\n",
       "        vertical-align: middle;\n",
       "    }\n",
       "\n",
       "    .dataframe tbody tr th {\n",
       "        vertical-align: top;\n",
       "    }\n",
       "\n",
       "    .dataframe thead th {\n",
       "        text-align: right;\n",
       "    }\n",
       "</style>\n",
       "<table border=\"1\" class=\"dataframe\">\n",
       "  <thead>\n",
       "    <tr style=\"text-align: right;\">\n",
       "      <th></th>\n",
       "      <th>PatientID</th>\n",
       "      <th>Sex</th>\n",
       "      <th>Age</th>\n",
       "      <th>S.E.</th>\n",
       "      <th>M.A.</th>\n",
       "      <th>A.C.V.</th>\n",
       "      <th>label</th>\n",
       "      <th>Records</th>\n",
       "    </tr>\n",
       "  </thead>\n",
       "  <tbody>\n",
       "    <tr>\n",
       "      <th>0</th>\n",
       "      <td>62</td>\n",
       "      <td>0</td>\n",
       "      <td>67</td>\n",
       "      <td>0</td>\n",
       "      <td>0</td>\n",
       "      <td>0</td>\n",
       "      <td>0</td>\n",
       "      <td>[I0, I1, I2, I9, I11, I18]</td>\n",
       "    </tr>\n",
       "    <tr>\n",
       "      <th>1</th>\n",
       "      <td>76</td>\n",
       "      <td>1</td>\n",
       "      <td>72</td>\n",
       "      <td>0</td>\n",
       "      <td>0</td>\n",
       "      <td>0</td>\n",
       "      <td>0</td>\n",
       "      <td>[I24, I25, I26, I27, I28, I33, I38, I39, I40, ...</td>\n",
       "    </tr>\n",
       "    <tr>\n",
       "      <th>2</th>\n",
       "      <td>93</td>\n",
       "      <td>0</td>\n",
       "      <td>78</td>\n",
       "      <td>0</td>\n",
       "      <td>0</td>\n",
       "      <td>0</td>\n",
       "      <td>0</td>\n",
       "      <td>[I50, I51, I53, I54, I56, I57, I58, I61, I63, ...</td>\n",
       "    </tr>\n",
       "    <tr>\n",
       "      <th>3</th>\n",
       "      <td>103</td>\n",
       "      <td>0</td>\n",
       "      <td>82</td>\n",
       "      <td>1</td>\n",
       "      <td>0</td>\n",
       "      <td>0</td>\n",
       "      <td>1</td>\n",
       "      <td>[I70, I71, I72, I73, I77, I79, I80, I81, I82, ...</td>\n",
       "    </tr>\n",
       "    <tr>\n",
       "      <th>4</th>\n",
       "      <td>105</td>\n",
       "      <td>1</td>\n",
       "      <td>57</td>\n",
       "      <td>1</td>\n",
       "      <td>0</td>\n",
       "      <td>0</td>\n",
       "      <td>1</td>\n",
       "      <td>[I86, I87, I89, I90, I91, I92, I93, I94, I95, ...</td>\n",
       "    </tr>\n",
       "    <tr>\n",
       "      <th>...</th>\n",
       "      <td>...</td>\n",
       "      <td>...</td>\n",
       "      <td>...</td>\n",
       "      <td>...</td>\n",
       "      <td>...</td>\n",
       "      <td>...</td>\n",
       "      <td>...</td>\n",
       "      <td>...</td>\n",
       "    </tr>\n",
       "    <tr>\n",
       "      <th>60</th>\n",
       "      <td>1311</td>\n",
       "      <td>1</td>\n",
       "      <td>73</td>\n",
       "      <td>0</td>\n",
       "      <td>0</td>\n",
       "      <td>0</td>\n",
       "      <td>0</td>\n",
       "      <td>[I1183, I1189, I1190, I1192, I1197, I1200, I1202]</td>\n",
       "    </tr>\n",
       "    <tr>\n",
       "      <th>61</th>\n",
       "      <td>1327</td>\n",
       "      <td>1</td>\n",
       "      <td>55</td>\n",
       "      <td>0</td>\n",
       "      <td>0</td>\n",
       "      <td>0</td>\n",
       "      <td>0</td>\n",
       "      <td>[I1203, I1205, I1206, I1207, I1209, I1215, I12...</td>\n",
       "    </tr>\n",
       "    <tr>\n",
       "      <th>62</th>\n",
       "      <td>1340</td>\n",
       "      <td>1</td>\n",
       "      <td>73</td>\n",
       "      <td>0</td>\n",
       "      <td>0</td>\n",
       "      <td>0</td>\n",
       "      <td>0</td>\n",
       "      <td>[I1221, I1224, I1226, I1227, I1228, I1232, I12...</td>\n",
       "    </tr>\n",
       "    <tr>\n",
       "      <th>63</th>\n",
       "      <td>1358</td>\n",
       "      <td>1</td>\n",
       "      <td>62</td>\n",
       "      <td>1</td>\n",
       "      <td>0</td>\n",
       "      <td>0</td>\n",
       "      <td>1</td>\n",
       "      <td>[I1242, I1243, I1244, I1247, I1248, I1252, I12...</td>\n",
       "    </tr>\n",
       "    <tr>\n",
       "      <th>64</th>\n",
       "      <td>1369</td>\n",
       "      <td>0</td>\n",
       "      <td>64</td>\n",
       "      <td>0</td>\n",
       "      <td>0</td>\n",
       "      <td>0</td>\n",
       "      <td>0</td>\n",
       "      <td>[I1272, I1274, I1278, I1279, I1280, I1285, I1286]</td>\n",
       "    </tr>\n",
       "  </tbody>\n",
       "</table>\n",
       "<p>65 rows × 8 columns</p>\n",
       "</div>"
      ],
      "text/plain": [
       "    PatientID  Sex  Age  S.E.  M.A.  A.C.V.  label  \\\n",
       "0          62    0   67     0     0       0      0   \n",
       "1          76    1   72     0     0       0      0   \n",
       "2          93    0   78     0     0       0      0   \n",
       "3         103    0   82     1     0       0      1   \n",
       "4         105    1   57     1     0       0      1   \n",
       "..        ...  ...  ...   ...   ...     ...    ...   \n",
       "60       1311    1   73     0     0       0      0   \n",
       "61       1327    1   55     0     0       0      0   \n",
       "62       1340    1   73     0     0       0      0   \n",
       "63       1358    1   62     1     0       0      1   \n",
       "64       1369    0   64     0     0       0      0   \n",
       "\n",
       "                                              Records  \n",
       "0                          [I0, I1, I2, I9, I11, I18]  \n",
       "1   [I24, I25, I26, I27, I28, I33, I38, I39, I40, ...  \n",
       "2   [I50, I51, I53, I54, I56, I57, I58, I61, I63, ...  \n",
       "3   [I70, I71, I72, I73, I77, I79, I80, I81, I82, ...  \n",
       "4   [I86, I87, I89, I90, I91, I92, I93, I94, I95, ...  \n",
       "..                                                ...  \n",
       "60  [I1183, I1189, I1190, I1192, I1197, I1200, I1202]  \n",
       "61  [I1203, I1205, I1206, I1207, I1209, I1215, I12...  \n",
       "62  [I1221, I1224, I1226, I1227, I1228, I1232, I12...  \n",
       "63  [I1242, I1243, I1244, I1247, I1248, I1252, I12...  \n",
       "64  [I1272, I1274, I1278, I1279, I1280, I1285, I1286]  \n",
       "\n",
       "[65 rows x 8 columns]"
      ]
     },
     "metadata": {},
     "output_type": "display_data"
    }
   ],
   "source": [
    "data_load_dicom=True\n",
    "\n",
    "if data_load_dicom:\n",
    "\n",
    "    patients_recs_d_df=CNN_utilities.main_d_df()\n",
    "    patients_labels_d_df=CNN_utilities.labels_df()\n",
    "    patients_d_df=pd.merge( patients_labels_d_df,patients_recs_d_df, on='PatientID')\n",
    "    \n",
    "    display(patients_d_df)\n"
   ]
  },
  {
   "cell_type": "code",
   "execution_count": 6,
   "metadata": {},
   "outputs": [
    {
     "ename": "FileNotFoundError",
     "evalue": "[Errno 2] No such file or directory: 'C:\\\\PROJECTS\\\\emboendo\\\\ML_code\\\\_static/input_d.pkl'",
     "output_type": "error",
     "traceback": [
      "\u001b[1;31m---------------------------------------------------------------------------\u001b[0m",
      "\u001b[1;31mFileNotFoundError\u001b[0m                         Traceback (most recent call last)",
      "\u001b[1;32mc:\\PROJECTS\\emboendo\\CNN\\python-machine-learning\\emboendo_ML\\embo_CNN_lab\\models_lab_V3.ipynb Cell 8\u001b[0m line \u001b[0;36m2\n\u001b[0;32m     <a href='vscode-notebook-cell:/c%3A/PROJECTS/emboendo/CNN/python-machine-learning/emboendo_ML/embo_CNN_lab/models_lab_V3.ipynb#X10sZmlsZQ%3D%3D?line=19'>20</a>\u001b[0m             input_d[rec][\u001b[39m'\u001b[39m\u001b[39mimage\u001b[39m\u001b[39m'\u001b[39m]\u001b[39m=\u001b[39mnp\u001b[39m.\u001b[39marray(vd_ls)\n\u001b[0;32m     <a href='vscode-notebook-cell:/c%3A/PROJECTS/emboendo/CNN/python-machine-learning/emboendo_ML/embo_CNN_lab/models_lab_V3.ipynb#X10sZmlsZQ%3D%3D?line=20'>21</a>\u001b[0m             input_d[rec][\u001b[39m'\u001b[39m\u001b[39mdimHW\u001b[39m\u001b[39m'\u001b[39m]\u001b[39m=\u001b[39m [height,width]   \n\u001b[1;32m---> <a href='vscode-notebook-cell:/c%3A/PROJECTS/emboendo/CNN/python-machine-learning/emboendo_ML/embo_CNN_lab/models_lab_V3.ipynb#X10sZmlsZQ%3D%3D?line=22'>23</a>\u001b[0m     \u001b[39mwith\u001b[39;00m \u001b[39mopen\u001b[39;49m(pkl_d_p, \u001b[39m'\u001b[39;49m\u001b[39mwb\u001b[39;49m\u001b[39m'\u001b[39;49m) \u001b[39mas\u001b[39;00m pikle_file:\n\u001b[0;32m     <a href='vscode-notebook-cell:/c%3A/PROJECTS/emboendo/CNN/python-machine-learning/emboendo_ML/embo_CNN_lab/models_lab_V3.ipynb#X10sZmlsZQ%3D%3D?line=23'>24</a>\u001b[0m         pickle\u001b[39m.\u001b[39mdump(input_d, pikle_file)\n\u001b[0;32m     <a href='vscode-notebook-cell:/c%3A/PROJECTS/emboendo/CNN/python-machine-learning/emboendo_ML/embo_CNN_lab/models_lab_V3.ipynb#X10sZmlsZQ%3D%3D?line=26'>27</a>\u001b[0m \u001b[39melse\u001b[39;00m: \n",
      "File \u001b[1;32mc:\\PROJECTS\\emboendo\\.venv\\Lib\\site-packages\\IPython\\core\\interactiveshell.py:308\u001b[0m, in \u001b[0;36m_modified_open\u001b[1;34m(file, *args, **kwargs)\u001b[0m\n\u001b[0;32m    301\u001b[0m \u001b[39mif\u001b[39;00m file \u001b[39min\u001b[39;00m {\u001b[39m0\u001b[39m, \u001b[39m1\u001b[39m, \u001b[39m2\u001b[39m}:\n\u001b[0;32m    302\u001b[0m     \u001b[39mraise\u001b[39;00m \u001b[39mValueError\u001b[39;00m(\n\u001b[0;32m    303\u001b[0m         \u001b[39mf\u001b[39m\u001b[39m\"\u001b[39m\u001b[39mIPython won\u001b[39m\u001b[39m'\u001b[39m\u001b[39mt let you open fd=\u001b[39m\u001b[39m{\u001b[39;00mfile\u001b[39m}\u001b[39;00m\u001b[39m by default \u001b[39m\u001b[39m\"\u001b[39m\n\u001b[0;32m    304\u001b[0m         \u001b[39m\"\u001b[39m\u001b[39mas it is likely to crash IPython. If you know what you are doing, \u001b[39m\u001b[39m\"\u001b[39m\n\u001b[0;32m    305\u001b[0m         \u001b[39m\"\u001b[39m\u001b[39myou can use builtins\u001b[39m\u001b[39m'\u001b[39m\u001b[39m open.\u001b[39m\u001b[39m\"\u001b[39m\n\u001b[0;32m    306\u001b[0m     )\n\u001b[1;32m--> 308\u001b[0m \u001b[39mreturn\u001b[39;00m io_open(file, \u001b[39m*\u001b[39;49margs, \u001b[39m*\u001b[39;49m\u001b[39m*\u001b[39;49mkwargs)\n",
      "\u001b[1;31mFileNotFoundError\u001b[0m: [Errno 2] No such file or directory: 'C:\\\\PROJECTS\\\\emboendo\\\\ML_code\\\\_static/input_d.pkl'"
     ]
    }
   ],
   "source": [
    "\n",
    "if data_load_dicom:\n",
    "    \n",
    "    if generate_new_peakle:\n",
    "        \n",
    "        input_d={}    \n",
    "\n",
    "        for label,ii in zip(patients_d_df['label'],patients_d_df['Records']):\n",
    "            \n",
    "            for rec in ii:\n",
    "\n",
    "                input_d[rec]={'label':label}\n",
    "                ds_file=CNN_utilities.load_rec(rec)\n",
    "                vd_ls=[]\n",
    "\n",
    "                for i in range(ds_file.pixel_array.shape[0]):\n",
    "                    \n",
    "                    image_8bit,  width, height = CNN_utilities.im_data(ds_file.pixel_array[i])\n",
    "                    vd_ls.append(image_8bit)\n",
    "\n",
    "                input_d[rec]['image']=np.array(vd_ls)\n",
    "                input_d[rec]['dimHW']= [height,width]   \n",
    "\n",
    "        with open(pkl_d_p, 'wb') as pikle_file:\n",
    "            pickle.dump(input_d, pikle_file)\n",
    "        \n",
    "\n",
    "    else: \n",
    "\n",
    "        with open(pkl_d_p, 'rb') as pikle_file:\n",
    "            input_d = pickle.load(pikle_file)\n",
    "       \n"
   ]
  },
  {
   "cell_type": "code",
   "execution_count": null,
   "metadata": {},
   "outputs": [],
   "source": [
    "if data_load_dicom:    \n",
    "    \n",
    "    print('FIRST LAYER KEYS:', list(input_d.keys()))\n",
    "    print('SECOND LAYER KEYS:',list(input_d[list(input_d.keys())[0]].keys()))\n",
    "    print(f' KEY TYPE \"{list(input_d[list(input_d.keys())[0]].keys())[0]}\":',type(input_d[list(input_d.keys())[0]][list(input_d[list(input_d.keys())[0]].keys())[0]]),'Example:',input_d[list(input_d.keys())[0]][list(input_d[list(input_d.keys())[0]].keys())[0]])\n",
    "    print(f' KEY TYPE \"{list(input_d[list(input_d.keys())[0]].keys())[1]}\":',type(input_d[list(input_d.keys())[0]][list(input_d[list(input_d.keys())[1]].keys())[1]]),'Example shape:',np.shape(input_d[list(input_d.keys())[0]][list(input_d[list(input_d.keys())[1]].keys())[1]]))\n",
    "    \n"
   ]
  },
  {
   "cell_type": "code",
   "execution_count": null,
   "metadata": {},
   "outputs": [],
   "source": [
    "if data_load_dicom:\n",
    "    print('RECORD - LABEL - SHAPE')\n",
    "\n",
    "    for R in input_d.keys():\n",
    "        print(R,input_d[R]['label'],np.shape(input_d[R]['image']),type(input_d[R]['image']))\n",
    "    "
   ]
  },
  {
   "cell_type": "markdown",
   "metadata": {},
   "source": [
    "# DATA GENERATOR"
   ]
  },
  {
   "cell_type": "code",
   "execution_count": null,
   "metadata": {},
   "outputs": [],
   "source": [
    "# -------- DATA PARAMS --------               \n",
    "\n",
    "if generate_new_data:    \n",
    "\n",
    "    total_n_recs=400\n",
    "    #n_recs_train,n_recs_eval=300,80\n",
    "    HEIGHT, WIDTH = 100, 100\n",
    "    circles_filled=False\n",
    "    color=255\n",
    "\n",
    "    # -------- Video ---------\n",
    " \n",
    "\n",
    "    n_frames=[10,12]    # [min,max]\n",
    "\n",
    "    t_btw_frm=0.2"
   ]
  },
  {
   "cell_type": "code",
   "execution_count": null,
   "metadata": {},
   "outputs": [],
   "source": [
    "#input_d, eval_d\n",
    "\n",
    "if generate_new_data:\n",
    "\n",
    "    if video_d:\n",
    "        \n",
    "        input_d=fig_lib.vid_data_gen(HEIGHT, WIDTH,total_n_recs,n_frames,'I',cir_f=circles_filled,color=color)\n",
    "        \n",
    "    else:\n",
    "\n",
    "        input_d=fig_lib.im_data_gen(HEIGHT, WIDTH,total_n_recs,'I',cir_f=circles_filled,color=color)\n",
    "\n",
    "    print('FIRST LAYER KEYS:', list(input_d.keys()))\n",
    "    print('SECOND LAYER KEYS:',list(input_d[list(input_d.keys())[0]].keys()))\n",
    "    print(f' KEY TYPE \"{list(input_d[list(input_d.keys())[0]].keys())[0]}\":',type(input_d[list(input_d.keys())[0]][list(input_d[list(input_d.keys())[0]].keys())[0]]),'Example:',input_d[list(input_d.keys())[0]][list(input_d[list(input_d.keys())[0]].keys())[0]])\n",
    "    print(f' KEY TYPE \"{list(input_d[list(input_d.keys())[0]].keys())[1]}\":',type(input_d[list(input_d.keys())[0]][list(input_d[list(input_d.keys())[1]].keys())[1]]),'Example shape:',np.shape(input_d[list(input_d.keys())[0]][list(input_d[list(input_d.keys())[1]].keys())[1]]))\n"
   ]
  },
  {
   "cell_type": "code",
   "execution_count": null,
   "metadata": {},
   "outputs": [],
   "source": [
    "print('RECORD - LABEL - SHAPE')\n",
    "\n",
    "if generate_new_data:\n",
    "    \n",
    "    for R in input_d.keys():\n",
    "        print(R,input_d[R]['label'],np.shape(input_d[R]['image']),type(input_d[R]['image']))"
   ]
  },
  {
   "cell_type": "markdown",
   "metadata": {},
   "source": [
    "# CHECK DATA"
   ]
  },
  {
   "cell_type": "code",
   "execution_count": null,
   "metadata": {},
   "outputs": [],
   "source": [
    "t_btw_frm=0.05\n",
    "d_plt_check,rec_check=False,'I82'\n",
    "print(input_d[rec_check]['label'])\n"
   ]
  },
  {
   "cell_type": "code",
   "execution_count": null,
   "metadata": {},
   "outputs": [],
   "source": [
    "# check video\n",
    "\n",
    "if d_plt_check:\n",
    "\n",
    "    if video_d:fig_lib.vid_show(input_d[rec_check]['image'],t_btw_frm=t_btw_frm)\n",
    "    else:fig_lib.im_show(input_d[rec_check]['image'])\n",
    "\n"
   ]
  },
  {
   "cell_type": "markdown",
   "metadata": {},
   "source": [
    "# CNN"
   ]
  },
  {
   "cell_type": "markdown",
   "metadata": {},
   "source": [
    "### GENERATE TRAIN DATA"
   ]
  },
  {
   "cell_type": "code",
   "execution_count": null,
   "metadata": {},
   "outputs": [],
   "source": [
    "# X_train,Y_train\n",
    "\n",
    "if load_train_data: \n",
    "      \n",
    "    with open(pkl_train_p, 'rb') as pikle_file:\n",
    "\n",
    "        save_trains= pickle.load(pikle_file)\n",
    "\n",
    "    X_train,Y_train =  save_trains[0],save_trains[1]\n",
    "\n",
    "else:\n",
    "\n",
    "    if video_d:X_train,Y_train,max_frm_n,HEIGHT, WIDTH =CNN_lib.vid_d_bin_gen(input_d, zero=0, one= 1)\n",
    "    else:X_train,Y_train =CNN_lib.im_d_bin_gen(input_d,zero='circle', one= 'line')\n",
    "\n",
    "    save_trains=[X_train,Y_train]\n",
    "\n",
    "    with open(pkl_train_p, 'wb') as pikle_file:\n",
    "            \n",
    "            pickle.dump(save_trains, pikle_file)\n",
    "\n"
   ]
  },
  {
   "cell_type": "code",
   "execution_count": null,
   "metadata": {},
   "outputs": [],
   "source": [
    "# X_train,Y_train,X_eval,Y_eval\n",
    "\n",
    "test_size=0.2\n",
    "X_train, X_eval, Y_train, Y_eval = train_test_split(X_train, Y_train, test_size=test_size) #,random_state=42)\n",
    "\n",
    "print('Train data:',len(Y_train),'Evaluation data:',len(Y_eval))"
   ]
  },
  {
   "cell_type": "code",
   "execution_count": null,
   "metadata": {},
   "outputs": [],
   "source": [
    "# check data\n",
    "\n",
    "zeros_count = np.sum(Y_train == 0)\n",
    "ones_count = np.sum(Y_train == 1)\n",
    "zeros_count_val = np.sum(Y_eval == 0)\n",
    "ones_count_val = np.sum(Y_eval == 1)\n",
    "\n",
    "labels = ['Circles Train', 'Lines Train','Circles Validation', 'Lines Validation']\n",
    "print(' Train data shape:', np.shape(X_train),' Validation data shape:', np.shape(X_eval))\n",
    "\n",
    "plt.bar(labels, [zeros_count, ones_count,zeros_count_val,ones_count_val], color=['green', 'blue','green', 'blue'])\n",
    "\n",
    "for i, count in enumerate([zeros_count, ones_count,zeros_count_val,ones_count_val]):\n",
    "\n",
    "    plt.text(i, count + 0.1, str(count), ha='center', va='bottom')\n",
    "\n",
    "plt.title('Data Labels')\n",
    "plt.show()"
   ]
  },
  {
   "cell_type": "code",
   "execution_count": null,
   "metadata": {},
   "outputs": [],
   "source": [
    "end_time = time.time()\n",
    "\n",
    "process_time = end_time - init_time\n",
    "print(f\"Tiempo transcurrido: {process_time} segundos\")"
   ]
  },
  {
   "cell_type": "markdown",
   "metadata": {},
   "source": [
    "### PARAMETERS"
   ]
  },
  {
   "cell_type": "code",
   "execution_count": null,
   "metadata": {},
   "outputs": [],
   "source": [
    "print('LIBRARY MODELS:')\n",
    "print(' ')\n",
    "\n",
    "for model_name in CNN_lib.MODELS.values(): print(model_name)"
   ]
  },
  {
   "cell_type": "code",
   "execution_count": null,
   "metadata": {},
   "outputs": [],
   "source": [
    "# -------- CNN PARAMS --------\n",
    "\n",
    "# -------- MODEL --------\n",
    "\n",
    "model_from_CNN_lib,mdl= False,'video_conv2D'\n",
    "\n",
    "opt='adam'\n",
    "lss='binary_crossentropy'\n",
    "\n",
    "# -------- TRAINNING --------\n",
    "\n",
    "epch=2\n"
   ]
  },
  {
   "cell_type": "markdown",
   "metadata": {},
   "source": [
    "### MODEL"
   ]
  },
  {
   "cell_type": "code",
   "execution_count": null,
   "metadata": {},
   "outputs": [],
   "source": [
    "# MODEL \n",
    "\n",
    "if model_from_CNN_lib:\n",
    "  \n",
    "  if video_d: model = CNN_lib.lib_models(mdl,im_input_shp=(max_frm_n, HEIGHT, WIDTH, 1))\n",
    "  else: model = CNN_lib.lib_models(mdl,im_input_shp=(HEIGHT, WIDTH,1))\n",
    "\n",
    "else:\n",
    "\n",
    "  model = models.Sequential([\n",
    "          layers.Conv3D(filters=16, kernel_size=(3, 3, 3), activation='relu',input_shape=(max_frm_n, HEIGHT, WIDTH, 1)),\n",
    "          layers.MaxPooling3D(pool_size=(2, 2, 2)),\n",
    "          layers.Conv3D(filters=32, kernel_size=(1, 3, 3),  activation='relu'),\n",
    "          layers.MaxPooling3D(pool_size=(2, 2, 2)),\n",
    "          layers.Conv3D(filters=32, kernel_size=(1, 3, 3),  activation='relu'),\n",
    "          layers.MaxPooling3D(pool_size=(2, 2, 2)),\n",
    "          layers.Conv3D(filters=64, kernel_size=(1, 3, 3),  activation='relu'),\n",
    "          layers.Flatten(),\n",
    "          layers.Dense(64, activation='relu'),\n",
    "          layers.Dense(1,activation='sigmoid')\n",
    "          ])\n",
    "\n",
    "\n",
    "model.summary()"
   ]
  },
  {
   "cell_type": "code",
   "execution_count": null,
   "metadata": {},
   "outputs": [],
   "source": [
    "model.compile(optimizer=opt, loss=lss, metrics=['accuracy'])"
   ]
  },
  {
   "cell_type": "markdown",
   "metadata": {},
   "source": [
    "### TRAINNING"
   ]
  },
  {
   "cell_type": "code",
   "execution_count": null,
   "metadata": {},
   "outputs": [],
   "source": [
    "t_in=time.time()\n",
    "history =model.fit(X_train, Y_train, epochs=epch, validation_data=(X_eval,Y_eval))\n",
    "t_train=time.time()-t_in"
   ]
  },
  {
   "cell_type": "markdown",
   "metadata": {},
   "source": [
    "### EVALUATE MODEL"
   ]
  },
  {
   "cell_type": "code",
   "execution_count": null,
   "metadata": {},
   "outputs": [],
   "source": [
    "fg_size=(14,8)\n",
    "\n",
    "acc = history.history['accuracy']\n",
    "val_acc = history.history['val_accuracy']\n",
    "\n",
    "loss = history.history['loss']\n",
    "val_loss = history.history['val_loss']\n",
    "\n",
    "epochs_range = range(epch)\n",
    "\n",
    "plt.figure(figsize=fg_size)\n",
    "plt.subplot(1, 2, 1)\n",
    "plt.plot(epochs_range, acc, label='Training Accuracy')\n",
    "plt.plot(epochs_range, val_acc, label='Validation Accuracy')\n",
    "plt.legend(loc='lower right')\n",
    "plt.title('Training and Validation Accuracy')\n",
    "plt.xlabel('Epochs')  \n",
    "plt.ylabel('Accuracy')  \n",
    "\n",
    "plt.subplot(1, 2, 2)\n",
    "plt.plot(epochs_range, loss, label='Training Loss')\n",
    "plt.plot(epochs_range, val_loss, label='Validation Loss')\n",
    "plt.legend(loc='upper right')\n",
    "plt.title('Training and Validation Loss')\n",
    "plt.xlabel('Epochs')  \n",
    "plt.ylabel('Loss')  \n",
    "plt.show()"
   ]
  },
  {
   "cell_type": "code",
   "execution_count": null,
   "metadata": {},
   "outputs": [],
   "source": [
    "test_loss, test_accuracy = model.evaluate(X_eval,Y_eval,verbose=2)\n",
    "\n",
    "print(f'Loss: {test_loss}',f'Accuracy: {test_accuracy}')"
   ]
  },
  {
   "cell_type": "code",
   "execution_count": null,
   "metadata": {},
   "outputs": [],
   "source": [
    "performance_d={'NAME':mdl,\n",
    "               'ACCURACY':test_accuracy,\n",
    "               'LOSS':test_loss,\n",
    "               'VIDEO':video_d,\n",
    "               'TRAIN SAMPLES':n_recs_train,\n",
    "               'VALIDATION SAMPLES':n_recs_eval,\n",
    "               'TRAINNING TIME':t_train,\n",
    "               'EPOCHS':epch,\n",
    "               'FRAMES RANGE':n_frames,\n",
    "               'HEIGHT':HEIGHT,\n",
    "               'WIDTH':WIDTH}\n",
    "\n",
    "performance_d"
   ]
  },
  {
   "cell_type": "markdown",
   "metadata": {},
   "source": [
    "### FORECAST"
   ]
  },
  {
   "cell_type": "markdown",
   "metadata": {},
   "source": [
    "GENERATE RANDOM IMAGE"
   ]
  },
  {
   "cell_type": "code",
   "execution_count": null,
   "metadata": {},
   "outputs": [],
   "source": [
    "# generate random im\n",
    "\n",
    "n_rdm=np.random.rand()\n",
    "\n",
    "if video_d:\n",
    "    \n",
    "    vd_ls=[]\n",
    "    N_frames=np.random.randint(n_frames[0],n_frames[1]+1)\n",
    "\n",
    "    if n_rdm>=0.5:\n",
    "\n",
    "        p1=[np.random.randint(0, WIDTH-1),np.random.randint(0, HEIGHT-1)]\n",
    "        p2=[np.random.randint(0, WIDTH-1),np.random.randint(0, HEIGHT-1)]\n",
    "\n",
    "        for _ in range(N_frames):\n",
    "\n",
    "            vd_ls.append(fig_lib.line_im(p1,p2,height=HEIGHT, width=WIDTH,thickness=(1,3),color=color))\n",
    "            p1[0]+= np.random.randint(-int(WIDTH*0.02), int(WIDTH*0.02))\n",
    "            p2[0]+=np.random.randint(-int(WIDTH*0.06), int(WIDTH*0.06))\n",
    "            p1[1]+= np.random.randint(-int(HEIGHT*0.02), int(HEIGHT*0.02))\n",
    "            p2[1]+=np.random.randint(-int(HEIGHT*0.06), int(HEIGHT*0.06))\n",
    "\n",
    "        label='Line'\n",
    "        \n",
    "\n",
    "    else:\n",
    "\n",
    "        center= [np.random.randint(int(0+WIDTH*0.3), int(WIDTH - WIDTH*0.3)),np.random.randint(int(0+HEIGHT*0.3), int(HEIGHT-HEIGHT*0.3))]\n",
    "        radio = np.random.randint(12, 17)\n",
    "\n",
    "        for _ in range(N_frames):\n",
    "        \n",
    "            vd_ls.append(fig_lib.circle_im(center,radio,height=HEIGHT, width=WIDTH,thickness=(1,3),color=color,filled=circles_filled))\n",
    "            center[0]+= np.random.randint(-int(WIDTH*0.03), int(WIDTH*0.03))\n",
    "            center[1]+= np.random.randint(-int(HEIGHT*0.03), int(HEIGHT*0.03))\n",
    "            radio += np.random.randint(-int(HEIGHT*0.01), int(HEIGHT*0.02))\n",
    "\n",
    "        label ='circle'\n",
    "\n",
    "    video=np.array(vd_ls)\n",
    "    image = video[:, :, :, np.newaxis]\n",
    "    frames_actual = image.shape[0]\n",
    "    if frames_actual < max_frm_n:\n",
    "        \n",
    "        padding = np.zeros((max_frm_n - frames_actual, HEIGHT, WIDTH, 1))\n",
    "        image = np.concatenate([image, padding], axis=0)\n",
    "\n",
    "else:\n",
    "\n",
    "    if n_rdm>=0.5:\n",
    "\n",
    "        p1=[np.random.randint(0, WIDTH-1),np.random.randint(0, HEIGHT-1)]\n",
    "        p2=[np.random.randint(0, WIDTH-1),np.random.randint(0, HEIGHT-1)]\n",
    "        image=fig_lib.line_im(p1,p2,height=HEIGHT, width=WIDTH,thickness=(1,3),color=color)\n",
    "        label='Line'\n",
    "\n",
    "    else:\n",
    "        \n",
    "        center= [np.random.randint(int(0+WIDTH*0.3), int(WIDTH - WIDTH*0.3)),np.random.randint(int(0+HEIGHT*0.3), int(HEIGHT-HEIGHT*0.3))]\n",
    "        radio = np.random.randint(12, 17)\n",
    "        image=fig_lib.circle_im(center,radio,height=HEIGHT, width=WIDTH,thickness=(1,3),color=color,filled=circles_filled)\n",
    "        label= 'circle'"
   ]
  },
  {
   "cell_type": "code",
   "execution_count": null,
   "metadata": {},
   "outputs": [],
   "source": [
    "# Forecast\n",
    "\n",
    "pred = model.predict(np.expand_dims(image, axis=0),verbose=2)\n",
    "CNN_lib.bin_forecast(pred,label=label,up_frc='line',down_frc='circle')\n"
   ]
  },
  {
   "cell_type": "code",
   "execution_count": null,
   "metadata": {},
   "outputs": [],
   "source": [
    "# show\n",
    "\n",
    "if video_d:fig_lib.vid_show(video)\n",
    "else:fig_lib.im_show(image)"
   ]
  }
 ],
 "metadata": {
  "kernelspec": {
   "display_name": ".venv",
   "language": "python",
   "name": "python3"
  },
  "language_info": {
   "codemirror_mode": {
    "name": "ipython",
    "version": 3
   },
   "file_extension": ".py",
   "mimetype": "text/x-python",
   "name": "python",
   "nbconvert_exporter": "python",
   "pygments_lexer": "ipython3",
   "version": "3.11.6"
  }
 },
 "nbformat": 4,
 "nbformat_minor": 2
}
