{
 "cells": [
  {
   "cell_type": "markdown",
   "metadata": {},
   "source": [
    "# KERNEL CLEAN"
   ]
  },
  {
   "cell_type": "code",
   "execution_count": 1,
   "metadata": {},
   "outputs": [],
   "source": [
    "%reset -f -s\n",
    "\n",
    "import gc"
   ]
  },
  {
   "cell_type": "markdown",
   "metadata": {},
   "source": [
    "# LIBRARIES IMPORT"
   ]
  },
  {
   "cell_type": "code",
   "execution_count": 2,
   "metadata": {},
   "outputs": [
    {
     "name": "stdout",
     "output_type": "stream",
     "text": [
      "WARNING:tensorflow:From c:\\PROJECTS\\EMBOENDO\\.venv\\Lib\\site-packages\\keras\\src\\losses.py:2976: The name tf.losses.sparse_softmax_cross_entropy is deprecated. Please use tf.compat.v1.losses.sparse_softmax_cross_entropy instead.\n",
      "\n"
     ]
    }
   ],
   "source": [
    "# imports\n",
    "\n",
    "import CNN_lib\n",
    "import CNN_utilities\n",
    "import fig_lib \n",
    "\n",
    "import numpy as np\n",
    "import matplotlib.pyplot as plt\n",
    "import pickle\n",
    "\n",
    "from tensorflow.keras import layers, models\n",
    "from tensorflow.keras.callbacks import ModelCheckpoint\n",
    "from tensorflow.keras.models import load_model\n",
    "\n",
    "\n",
    "from sklearn.model_selection import train_test_split\n",
    "from sklearn.metrics import roc_curve, auc\n",
    "from sklearn.metrics import confusion_matrix, classification_report\n"
   ]
  },
  {
   "cell_type": "code",
   "execution_count": 3,
   "metadata": {},
   "outputs": [],
   "source": [
    "\n",
    "trains_n=10\n",
    "t_btw_frm=0.05\n",
    "\n",
    "checking_on=False\n",
    "data_augmentation= True\n",
    "\n",
    "checkpoint_path = \"C:/PROJECTS\\emboendo\\CNN\\python-machine-learning\\emboendo_ML\\embo_CNN_lab\\_static/checkpoints\"\n",
    "pkl_train_p='C:\\PROJECTS\\emboendo\\CNN/pikles/processed_train_d.pkl'   "
   ]
  },
  {
   "cell_type": "code",
   "execution_count": 4,
   "metadata": {},
   "outputs": [
    {
     "data": {
      "text/plain": [
       "['C:/PROJECTS\\\\emboendo\\\\CNN\\\\python-machine-learning\\\\emboendo_ML\\\\embo_CNN_lab\\\\_static/checkpoints_0.h5',\n",
       " 'C:/PROJECTS\\\\emboendo\\\\CNN\\\\python-machine-learning\\\\emboendo_ML\\\\embo_CNN_lab\\\\_static/checkpoints_1.h5',\n",
       " 'C:/PROJECTS\\\\emboendo\\\\CNN\\\\python-machine-learning\\\\emboendo_ML\\\\embo_CNN_lab\\\\_static/checkpoints_2.h5',\n",
       " 'C:/PROJECTS\\\\emboendo\\\\CNN\\\\python-machine-learning\\\\emboendo_ML\\\\embo_CNN_lab\\\\_static/checkpoints_3.h5',\n",
       " 'C:/PROJECTS\\\\emboendo\\\\CNN\\\\python-machine-learning\\\\emboendo_ML\\\\embo_CNN_lab\\\\_static/checkpoints_4.h5',\n",
       " 'C:/PROJECTS\\\\emboendo\\\\CNN\\\\python-machine-learning\\\\emboendo_ML\\\\embo_CNN_lab\\\\_static/checkpoints_5.h5',\n",
       " 'C:/PROJECTS\\\\emboendo\\\\CNN\\\\python-machine-learning\\\\emboendo_ML\\\\embo_CNN_lab\\\\_static/checkpoints_6.h5',\n",
       " 'C:/PROJECTS\\\\emboendo\\\\CNN\\\\python-machine-learning\\\\emboendo_ML\\\\embo_CNN_lab\\\\_static/checkpoints_7.h5',\n",
       " 'C:/PROJECTS\\\\emboendo\\\\CNN\\\\python-machine-learning\\\\emboendo_ML\\\\embo_CNN_lab\\\\_static/checkpoints_8.h5',\n",
       " 'C:/PROJECTS\\\\emboendo\\\\CNN\\\\python-machine-learning\\\\emboendo_ML\\\\embo_CNN_lab\\\\_static/checkpoints_9.h5']"
      ]
     },
     "execution_count": 4,
     "metadata": {},
     "output_type": "execute_result"
    }
   ],
   "source": [
    "check_points_p = [checkpoint_path+'_'+str(n)+'.h5' for n in range(trains_n)]\n",
    "\n",
    "check_points_p"
   ]
  },
  {
   "cell_type": "markdown",
   "metadata": {},
   "source": [
    "# CNN"
   ]
  },
  {
   "cell_type": "markdown",
   "metadata": {},
   "source": [
    "### GENERATE TRAIN DATA"
   ]
  },
  {
   "cell_type": "code",
   "execution_count": 5,
   "metadata": {},
   "outputs": [],
   "source": [
    "# X_train,Y_train\n",
    "\n",
    "with open(pkl_train_p, 'rb') as pikle_file:\n",
    "\n",
    "    save_trains= pickle.load(pikle_file)\n",
    "\n",
    "x_train,y_train,rcs =  save_trains[0],save_trains[1],save_trains[2]\n",
    "\n",
    "max_frm_n, HEIGHT, WIDTH=np.shape(x_train)[1],np.shape(x_train)[2],np.shape(x_train)[3]\n"
   ]
  },
  {
   "cell_type": "markdown",
   "metadata": {},
   "source": [
    "### CHECK 1"
   ]
  },
  {
   "cell_type": "code",
   "execution_count": 6,
   "metadata": {},
   "outputs": [],
   "source": [
    "if checking_on:\n",
    "\n",
    "    for x,y,r in zip(x_train,y_train,rcs):\n",
    "        print(r,int(y),np.shape(x),type(x))"
   ]
  },
  {
   "cell_type": "code",
   "execution_count": 7,
   "metadata": {},
   "outputs": [],
   "source": [
    "if checking_on:\n",
    "\n",
    "    rec_elm='I70'\n",
    "    idx=rcs.index(rec_elm)\n",
    "    print(y_train[idx])"
   ]
  },
  {
   "cell_type": "code",
   "execution_count": 8,
   "metadata": {},
   "outputs": [],
   "source": [
    "if checking_on:fig_lib.vid_show(x_train[idx],t_btw_frm=t_btw_frm)"
   ]
  },
  {
   "cell_type": "code",
   "execution_count": 9,
   "metadata": {},
   "outputs": [],
   "source": [
    "\n",
    "Xx_train=x_train\n",
    "Yy_train=y_train\n"
   ]
  },
  {
   "cell_type": "markdown",
   "metadata": {},
   "source": [
    "## DATA SHUFFLE 1"
   ]
  },
  {
   "cell_type": "code",
   "execution_count": 10,
   "metadata": {},
   "outputs": [],
   "source": [
    "Xx_train,Yy_train,recs=CNN_lib.shuffle(Xx_train,Yy_train,rcs)"
   ]
  },
  {
   "cell_type": "markdown",
   "metadata": {},
   "source": [
    "## DATA SPLIT"
   ]
  },
  {
   "cell_type": "code",
   "execution_count": 11,
   "metadata": {},
   "outputs": [
    {
     "name": "stdout",
     "output_type": "stream",
     "text": [
      "Train data: 528 Evaluation data: 132\n"
     ]
    }
   ],
   "source": [
    "test_size=0.2\n",
    "\n",
    "X_train_spl, X_eval_spl, Y_train_spl, Y_eval_spl = train_test_split(Xx_train, Yy_train, test_size=test_size, shuffle=False) #,random_state=42)\n",
    "\n",
    "recs_train =recs[0:len(Y_train_spl)]\n",
    "recs_eval =recs[len(Y_train_spl)::]\n",
    "\n",
    "print('Train data:',len(Y_train_spl),'Evaluation data:',len(Y_eval_spl))\n"
   ]
  },
  {
   "cell_type": "code",
   "execution_count": 12,
   "metadata": {},
   "outputs": [
    {
     "name": "stdout",
     "output_type": "stream",
     "text": [
      " Train data shape: (528, 40, 160, 160, 1)  Validation data shape: (132, 40, 160, 160, 1)\n"
     ]
    },
    {
     "data": {
      "image/png": "[encoded data removed]",
      "text/plain": [
       "<Figure size 640x480 with 1 Axes>"
      ]
     },
     "metadata": {},
     "output_type": "display_data"
    }
   ],
   "source": [
    "# check data\n",
    "\n",
    "zeros_count = np.sum(Y_train_spl == 0)\n",
    "ones_count = np.sum(Y_train_spl == 1)\n",
    "zeros_count_val = np.sum(Y_eval_spl == 0)\n",
    "ones_count_val = np.sum(Y_eval_spl == 1)\n",
    "\n",
    "print(' Train data shape:', np.shape(X_train_spl),' Validation data shape:', np.shape(X_eval_spl))\n",
    "\n",
    "CNN_lib.data_bars_plot(zeros_count,ones_count,zeros_count_val,ones_count_val)"
   ]
  },
  {
   "cell_type": "markdown",
   "metadata": {},
   "source": [
    "# DATA AUGMENTATION"
   ]
  },
  {
   "cell_type": "code",
   "execution_count": 13,
   "metadata": {},
   "outputs": [
    {
     "name": "stdout",
     "output_type": "stream",
     "text": [
      "Flip 1: 96, 0: 27\n",
      "Rotation 1: 96, 0: 27\n",
      "Contrast 1: 55, 0: 16\n",
      "brightness 1: 55, 0: 16\n"
     ]
    }
   ],
   "source": [
    "if data_augmentation:\n",
    "    \n",
    "    n_flip_1=0.7\n",
    "    n_flip_0=0.07\n",
    "\n",
    "    nf1 = round(n_flip_1*ones_count)\n",
    "    nf0 = round(n_flip_0*zeros_count)\n",
    "\n",
    "    print(f'Flip 1: {nf1}, 0: {nf0}')\n",
    "\n",
    "    n_rot_1=0.7\n",
    "    n_rot_0=0.07\n",
    "\n",
    "    nr1 = round(n_rot_1*ones_count)\n",
    "    nr0 = round(n_rot_0*zeros_count)\n",
    "\n",
    "    print(f'Rotation 1: {nr1}, 0: {nr0}')\n",
    "\n",
    "    n_contr_1=0.4\n",
    "    n_contr_0=0.04\n",
    "\n",
    "    nc1 = round(n_contr_1*ones_count)\n",
    "    nc0 = round(n_contr_0*zeros_count)\n",
    "\n",
    "    print(f'Contrast 1: {nc1}, 0: {nc0}')\n",
    "\n",
    "    n_bright_1=0.4\n",
    "    n_bright_0=0.04\n",
    "\n",
    "    nb1 = round(n_bright_1*ones_count)\n",
    "    nb0 = round(n_bright_0*zeros_count)\n",
    "\n",
    "    print(f'brightness 1: {nb1}, 0: {nb0}')\n",
    "\n"
   ]
  },
  {
   "cell_type": "code",
   "execution_count": 14,
   "metadata": {},
   "outputs": [],
   "source": [
    "\n",
    "if data_augmentation:\n",
    "\n",
    "    Flip_X_1,Flip_Y_1,Flip_recs_1=CNN_lib.main_aug_f(nf1,X_train_spl,Y_train_spl,recs,label=1,typ='Flip')\n",
    "    Flip_X_0,Flip_Y_0,Flip_recs_0=CNN_lib.main_aug_f(nf0,X_train_spl,Y_train_spl,recs,label=0,typ='Flip')\n",
    "\n",
    "    Rot_X_1,Rot_Y_1,Rot_recs_1=CNN_lib.main_aug_f(nr1,X_train_spl,Y_train_spl,recs,label=1,typ='Rotation')\n",
    "    Rot_X_0,Rot_Y_0,Rot_recs_0=CNN_lib.main_aug_f(nr0,X_train_spl,Y_train_spl,recs,label=0,typ='Rotation')\n",
    "\n",
    "    Cntr_X_1,Cntr_Y_1,Cntr_recs_1=CNN_lib.main_aug_f(nc1,X_train_spl,Y_train_spl,recs,label=1,typ='Contrast')\n",
    "    Cntr_X_0,Cntr_Y_0,Cntr_recs_0=CNN_lib.main_aug_f(nc0,X_train_spl,Y_train_spl,recs,label=0,typ='Contrast')\n",
    "\n",
    "    Bgr_X_1,Bgr_Y_1,Bgr_recs_1=CNN_lib.main_aug_f(nb1,X_train_spl,Y_train_spl,recs,label=1,typ='Brightness')\n",
    "    Bgr_X_0,Bgr_Y_0,Bgr_recs_0=CNN_lib.main_aug_f(nb0,X_train_spl,Y_train_spl,recs,label=0,typ='Brightness')\n"
   ]
  },
  {
   "cell_type": "code",
   "execution_count": 15,
   "metadata": {},
   "outputs": [
    {
     "name": "stdout",
     "output_type": "stream",
     "text": [
      "(916, 40, 160, 160, 1) (916,)\n",
      "(132, 40, 160, 160, 1) (132,)\n"
     ]
    }
   ],
   "source": [
    "if data_augmentation:\n",
    "\n",
    "    X_train_spl = np.concatenate((X_train_spl, Flip_X_1,Flip_X_0,Rot_X_1,Rot_X_0,Cntr_X_1,Cntr_X_0,Bgr_X_1,Bgr_X_0), axis=0)\n",
    "    Y_train_spl = np.concatenate((Y_train_spl, Flip_Y_1,Flip_Y_0,Rot_Y_1,Rot_Y_0,Cntr_Y_1,Cntr_Y_0,Bgr_Y_1,Bgr_Y_0))\n",
    "    \n",
    "    recs_train = recs_train+Flip_recs_1+Flip_recs_0+Rot_recs_1+Rot_recs_0+Cntr_recs_1+Cntr_recs_0+Bgr_recs_1+Bgr_recs_0\n",
    "\n",
    "    print(X_train_spl.shape,Y_train_spl.shape)\n",
    "    print(X_eval_spl.shape,Y_eval_spl.shape)\n"
   ]
  },
  {
   "cell_type": "markdown",
   "metadata": {},
   "source": [
    "### DATA SHUFFLE 2"
   ]
  },
  {
   "cell_type": "code",
   "execution_count": 16,
   "metadata": {},
   "outputs": [],
   "source": [
    "if data_augmentation: X_train,Y_train,recs_train_f=CNN_lib.shuffle(X_train_spl,Y_train_spl,recs_train)\n",
    "else: X_train,Y_train,recs_train_f = X_train_spl,Y_train_spl,recs_train\n",
    "\n",
    "X_eval=X_eval_spl\n",
    "Y_eval=Y_eval_spl"
   ]
  },
  {
   "cell_type": "code",
   "execution_count": 17,
   "metadata": {},
   "outputs": [
    {
     "data": {
      "image/png": "[encoded data removed]",
      "text/plain": [
       "<Figure size 640x480 with 1 Axes>"
      ]
     },
     "metadata": {},
     "output_type": "display_data"
    }
   ],
   "source": [
    "# check data\n",
    "if data_augmentation:\n",
    "\n",
    "    zeros_count = np.sum(Y_train == 0)\n",
    "    ones_count = np.sum(Y_train == 1)\n",
    "    zeros_count_val = np.sum(Y_eval == 0)\n",
    "    ones_count_val = np.sum(Y_eval == 1)\n",
    "\n",
    "    CNN_lib.data_bars_plot(zeros_count,ones_count,zeros_count_val,ones_count_val)"
   ]
  },
  {
   "cell_type": "markdown",
   "metadata": {},
   "source": [
    "### CHECK 2"
   ]
  },
  {
   "cell_type": "code",
   "execution_count": 18,
   "metadata": {},
   "outputs": [],
   "source": [
    "if checking_on:\n",
    "\n",
    "    for x,y,r in zip(X_train,Y_train,recs_train_f):\n",
    "        print(r,int(y),np.shape(x),type(x))\n",
    "        "
   ]
  },
  {
   "cell_type": "code",
   "execution_count": 19,
   "metadata": {},
   "outputs": [],
   "source": [
    "\n",
    "if checking_on:\n",
    "\n",
    "    rec_elm='I180'\n",
    "    idx=recs_train_f.index(rec_elm)\n",
    "    print(idx,Y_train[idx])"
   ]
  },
  {
   "cell_type": "code",
   "execution_count": 20,
   "metadata": {},
   "outputs": [],
   "source": [
    "if checking_on:fig_lib.vid_show(X_train[idx],t_btw_frm=t_btw_frm)"
   ]
  },
  {
   "cell_type": "markdown",
   "metadata": {},
   "source": [
    "#  CNN"
   ]
  },
  {
   "cell_type": "code",
   "execution_count": 21,
   "metadata": {},
   "outputs": [
    {
     "name": "stdout",
     "output_type": "stream",
     "text": [
      "LIBRARY MODELS:\n",
      " \n",
      "image_full\n",
      "image_conv\n",
      "image_conv_augmentation\n",
      "video_conv2D\n",
      "video_conv3D\n",
      "conv3D_2D+1\n"
     ]
    }
   ],
   "source": [
    "print('LIBRARY MODELS:')\n",
    "print(' ')\n",
    "\n",
    "for model_name in CNN_lib.MODELS.values(): print(model_name)"
   ]
  },
  {
   "cell_type": "code",
   "execution_count": 22,
   "metadata": {},
   "outputs": [],
   "source": [
    "# -------- CNN PARAMS --------\n",
    "\n",
    "# -------- MODEL --------\n",
    "\n",
    "model_from_CNN_lib,mdl= False,'video_conv3D'\n",
    "\n",
    "opt='adam'\n",
    "lss='binary_crossentropy'\n",
    "\n",
    "# -------- TRAINNING --------\n",
    "\n",
    "epochs=8\n"
   ]
  },
  {
   "cell_type": "markdown",
   "metadata": {},
   "source": [
    "### MODEL"
   ]
  },
  {
   "cell_type": "code",
   "execution_count": 23,
   "metadata": {},
   "outputs": [
    {
     "data": {
      "text/plain": [
       "5987"
      ]
     },
     "execution_count": 23,
     "metadata": {},
     "output_type": "execute_result"
    }
   ],
   "source": [
    "gc.collect()"
   ]
  },
  {
   "cell_type": "code",
   "execution_count": 24,
   "metadata": {},
   "outputs": [
    {
     "name": "stdout",
     "output_type": "stream",
     "text": [
      "WARNING:tensorflow:From c:\\PROJECTS\\EMBOENDO\\.venv\\Lib\\site-packages\\keras\\src\\backend.py:873: The name tf.get_default_graph is deprecated. Please use tf.compat.v1.get_default_graph instead.\n",
      "\n",
      "WARNING:tensorflow:From c:\\PROJECTS\\EMBOENDO\\.venv\\Lib\\site-packages\\keras\\src\\optimizers\\__init__.py:309: The name tf.train.Optimizer is deprecated. Please use tf.compat.v1.train.Optimizer instead.\n",
      "\n",
      "Model: \"sequential_9\"\n",
      "_________________________________________________________________\n",
      " Layer (type)                Output Shape              Param #   \n",
      "=================================================================\n",
      " conv3d_36 (Conv3D)          (None, 38, 158, 160, 16   160       \n",
      "                             )                                   \n",
      "                                                                 \n",
      " max_pooling3d_27 (MaxPooli  (None, 19, 79, 80, 16)    0         \n",
      " ng3D)                                                           \n",
      "                                                                 \n",
      " conv3d_37 (Conv3D)          (None, 17, 77, 80, 32)    4640      \n",
      "                                                                 \n",
      " max_pooling3d_28 (MaxPooli  (None, 8, 38, 40, 32)     0         \n",
      " ng3D)                                                           \n",
      "                                                                 \n",
      " conv3d_38 (Conv3D)          (None, 6, 36, 40, 32)     9248      \n",
      "                                                                 \n",
      " max_pooling3d_29 (MaxPooli  (None, 3, 18, 20, 32)     0         \n",
      " ng3D)                                                           \n",
      "                                                                 \n",
      " conv3d_39 (Conv3D)          (None, 3, 18, 16, 16)     2576      \n",
      "                                                                 \n",
      " flatten_9 (Flatten)         (None, 13824)             0         \n",
      "                                                                 \n",
      " dropout_9 (Dropout)         (None, 13824)             0         \n",
      "                                                                 \n",
      " dense_18 (Dense)            (None, 64)                884800    \n",
      "                                                                 \n",
      " dense_19 (Dense)            (None, 1)                 65        \n",
      "                                                                 \n",
      "=================================================================\n",
      "Total params: 901489 (3.44 MB)\n",
      "Trainable params: 901489 (3.44 MB)\n",
      "Non-trainable params: 0 (0.00 Byte)\n",
      "_________________________________________________________________\n"
     ]
    }
   ],
   "source": [
    "# MODEL \n",
    "input_shape=(max_frm_n, HEIGHT, WIDTH, 1)\n",
    "\n",
    "modelos=[]\n",
    "\n",
    "for _ in check_points_p:\n",
    "\n",
    "  if model_from_CNN_lib: model = CNN_lib.lib_models(mdl,im_input_shp=input_shape)\n",
    "\n",
    "  else:\n",
    "\n",
    "    model = models.Sequential([\n",
    "            layers.Conv3D(filters=16, kernel_size=(3, 3, 1), activation='relu',input_shape=input_shape),\n",
    "            layers.MaxPooling3D(pool_size=(2, 2, 2)),\n",
    "            layers.Conv3D(filters=32, kernel_size=(3, 3, 1),  activation='relu'),\n",
    "            layers.MaxPooling3D(pool_size=(2, 2, 2)),\n",
    "            layers.Conv3D(filters=32, kernel_size=(3, 3, 1),  activation='relu'),\n",
    "            layers.MaxPooling3D(pool_size=(2, 2, 2)),\n",
    "            layers.Conv3D(filters=16, kernel_size=(1, 1, 5),  activation='relu'),\n",
    "            layers.Flatten(),\n",
    "            layers.Dropout(0.2),\n",
    "            layers.Dense(64, activation='relu'),\n",
    "            layers.Dense(1,activation='sigmoid')\n",
    "            ])\n",
    "    \n",
    "  model.compile(optimizer=opt, loss=lss, metrics=['accuracy'])\n",
    "  modelos.append(model)\n",
    "\n",
    "model.summary()"
   ]
  },
  {
   "cell_type": "code",
   "execution_count": 25,
   "metadata": {},
   "outputs": [],
   "source": [
    "checkpoints=[ModelCheckpoint(pp, save_best_only=True, monitor='val_loss',   mode='min', verbose=1) for pp in check_points_p]\n"
   ]
  },
  {
   "cell_type": "markdown",
   "metadata": {},
   "source": [
    "### TRAINNING"
   ]
  },
  {
   "cell_type": "code",
   "execution_count": 26,
   "metadata": {},
   "outputs": [
    {
     "name": "stdout",
     "output_type": "stream",
     "text": [
      "Epoch 1/8\n",
      "WARNING:tensorflow:From c:\\PROJECTS\\EMBOENDO\\.venv\\Lib\\site-packages\\keras\\src\\utils\\tf_utils.py:492: The name tf.ragged.RaggedTensorValue is deprecated. Please use tf.compat.v1.ragged.RaggedTensorValue instead.\n",
      "\n",
      "WARNING:tensorflow:From c:\\PROJECTS\\EMBOENDO\\.venv\\Lib\\site-packages\\keras\\src\\engine\\base_layer_utils.py:384: The name tf.executing_eagerly_outside_functions is deprecated. Please use tf.compat.v1.executing_eagerly_outside_functions instead.\n",
      "\n",
      "29/29 [==============================] - ETA: 0s - loss: 0.6833 - accuracy: 0.5469\n",
      "Epoch 1: val_loss improved from inf to 0.68976, saving model to C:/PROJECTS\\emboendo\\CNN\\python-machine-learning\\emboendo_ML\\embo_CNN_lab\\_static\\checkpoints_0.h5\n",
      "29/29 [==============================] - 16s 511ms/step - loss: 0.6833 - accuracy: 0.5469 - val_loss: 0.6898 - val_accuracy: 0.5379\n",
      "Epoch 2/8\n"
     ]
    },
    {
     "name": "stderr",
     "output_type": "stream",
     "text": [
      "c:\\PROJECTS\\EMBOENDO\\.venv\\Lib\\site-packages\\keras\\src\\engine\\training.py:3103: UserWarning: You are saving your model as an HDF5 file via `model.save()`. This file format is considered legacy. We recommend using instead the native Keras format, e.g. `model.save('my_model.keras')`.\n",
      "  saving_api.save_model(\n"
     ]
    },
    {
     "name": "stdout",
     "output_type": "stream",
     "text": [
      "29/29 [==============================] - ETA: 0s - loss: 0.6551 - accuracy: 0.6157\n",
      "Epoch 2: val_loss did not improve from 0.68976\n",
      "29/29 [==============================] - 14s 497ms/step - loss: 0.6551 - accuracy: 0.6157 - val_loss: 0.7429 - val_accuracy: 0.4697\n",
      "Epoch 3/8\n",
      "29/29 [==============================] - ETA: 0s - loss: 0.5980 - accuracy: 0.6638\n",
      "Epoch 3: val_loss improved from 0.68976 to 0.56547, saving model to C:/PROJECTS\\emboendo\\CNN\\python-machine-learning\\emboendo_ML\\embo_CNN_lab\\_static\\checkpoints_0.h5\n",
      "29/29 [==============================] - 15s 517ms/step - loss: 0.5980 - accuracy: 0.6638 - val_loss: 0.5655 - val_accuracy: 0.7197\n",
      "Epoch 4/8\n",
      "29/29 [==============================] - ETA: 0s - loss: 0.4971 - accuracy: 0.7729\n",
      "Epoch 4: val_loss did not improve from 0.56547\n",
      "29/29 [==============================] - 15s 511ms/step - loss: 0.4971 - accuracy: 0.7729 - val_loss: 0.6067 - val_accuracy: 0.6818\n",
      "Epoch 5/8\n",
      "29/29 [==============================] - ETA: 0s - loss: 0.3933 - accuracy: 0.8242\n",
      "Epoch 5: val_loss did not improve from 0.56547\n",
      "29/29 [==============================] - 15s 507ms/step - loss: 0.3933 - accuracy: 0.8242 - val_loss: 0.7386 - val_accuracy: 0.7197\n",
      "Epoch 6/8\n",
      "29/29 [==============================] - ETA: 0s - loss: 0.2713 - accuracy: 0.8788\n",
      "Epoch 6: val_loss did not improve from 0.56547\n",
      "29/29 [==============================] - 14s 488ms/step - loss: 0.2713 - accuracy: 0.8788 - val_loss: 0.7219 - val_accuracy: 0.6970\n",
      "Epoch 7/8\n",
      "29/29 [==============================] - ETA: 0s - loss: 0.2048 - accuracy: 0.9127\n",
      "Epoch 7: val_loss did not improve from 0.56547\n",
      "29/29 [==============================] - 14s 485ms/step - loss: 0.2048 - accuracy: 0.9127 - val_loss: 0.7847 - val_accuracy: 0.6970\n",
      "Epoch 8/8\n",
      "29/29 [==============================] - ETA: 0s - loss: 0.1220 - accuracy: 0.9596\n",
      "Epoch 8: val_loss did not improve from 0.56547\n",
      "29/29 [==============================] - 18s 631ms/step - loss: 0.1220 - accuracy: 0.9596 - val_loss: 1.0891 - val_accuracy: 0.6364\n",
      "Epoch 1/8\n",
      "29/29 [==============================] - ETA: 0s - loss: 0.7159 - accuracy: 0.5535\n",
      "Epoch 1: val_loss improved from inf to 0.69892, saving model to C:/PROJECTS\\emboendo\\CNN\\python-machine-learning\\emboendo_ML\\embo_CNN_lab\\_static\\checkpoints_1.h5\n",
      "29/29 [==============================] - 33s 1s/step - loss: 0.7159 - accuracy: 0.5535 - val_loss: 0.6989 - val_accuracy: 0.4470\n",
      "Epoch 2/8\n",
      "29/29 [==============================] - ETA: 0s - loss: 0.6785 - accuracy: 0.5622\n",
      "Epoch 2: val_loss improved from 0.69892 to 0.69730, saving model to C:/PROJECTS\\emboendo\\CNN\\python-machine-learning\\emboendo_ML\\embo_CNN_lab\\_static\\checkpoints_1.h5\n",
      "29/29 [==============================] - 32s 1s/step - loss: 0.6785 - accuracy: 0.5622 - val_loss: 0.6973 - val_accuracy: 0.5152\n",
      "Epoch 3/8\n",
      "29/29 [==============================] - ETA: 0s - loss: 0.6415 - accuracy: 0.6419\n",
      "Epoch 3: val_loss did not improve from 0.69730\n",
      "29/29 [==============================] - 32s 1s/step - loss: 0.6415 - accuracy: 0.6419 - val_loss: 0.7418 - val_accuracy: 0.4545\n",
      "Epoch 4/8\n",
      "29/29 [==============================] - ETA: 0s - loss: 0.5847 - accuracy: 0.6736\n",
      "Epoch 4: val_loss improved from 0.69730 to 0.60696, saving model to C:/PROJECTS\\emboendo\\CNN\\python-machine-learning\\emboendo_ML\\embo_CNN_lab\\_static\\checkpoints_1.h5\n",
      "29/29 [==============================] - 33s 1s/step - loss: 0.5847 - accuracy: 0.6736 - val_loss: 0.6070 - val_accuracy: 0.6894\n",
      "Epoch 5/8\n",
      "29/29 [==============================] - ETA: 0s - loss: 0.4981 - accuracy: 0.7576\n",
      "Epoch 5: val_loss improved from 0.60696 to 0.57013, saving model to C:/PROJECTS\\emboendo\\CNN\\python-machine-learning\\emboendo_ML\\embo_CNN_lab\\_static\\checkpoints_1.h5\n",
      "29/29 [==============================] - 20s 690ms/step - loss: 0.4981 - accuracy: 0.7576 - val_loss: 0.5701 - val_accuracy: 0.6970\n",
      "Epoch 6/8\n",
      "29/29 [==============================] - ETA: 0s - loss: 0.4278 - accuracy: 0.7926\n",
      "Epoch 6: val_loss did not improve from 0.57013\n",
      "29/29 [==============================] - 14s 488ms/step - loss: 0.4278 - accuracy: 0.7926 - val_loss: 0.5948 - val_accuracy: 0.7273\n",
      "Epoch 7/8\n",
      "29/29 [==============================] - ETA: 0s - loss: 0.3414 - accuracy: 0.8537\n",
      "Epoch 7: val_loss did not improve from 0.57013\n",
      "29/29 [==============================] - 14s 486ms/step - loss: 0.3414 - accuracy: 0.8537 - val_loss: 0.5988 - val_accuracy: 0.7348\n",
      "Epoch 8/8\n",
      "29/29 [==============================] - ETA: 0s - loss: 0.2633 - accuracy: 0.8963\n",
      "Epoch 8: val_loss did not improve from 0.57013\n",
      "29/29 [==============================] - 14s 485ms/step - loss: 0.2633 - accuracy: 0.8963 - val_loss: 0.7052 - val_accuracy: 0.6894\n",
      "Epoch 1/8\n",
      "29/29 [==============================] - ETA: 0s - loss: 0.6994 - accuracy: 0.4847\n",
      "Epoch 1: val_loss improved from inf to 0.69098, saving model to C:/PROJECTS\\emboendo\\CNN\\python-machine-learning\\emboendo_ML\\embo_CNN_lab\\_static\\checkpoints_2.h5\n",
      "29/29 [==============================] - 15s 492ms/step - loss: 0.6994 - accuracy: 0.4847 - val_loss: 0.6910 - val_accuracy: 0.6894\n",
      "Epoch 2/8\n",
      "29/29 [==============================] - ETA: 0s - loss: 0.6868 - accuracy: 0.5633\n",
      "Epoch 2: val_loss did not improve from 0.69098\n",
      "29/29 [==============================] - 14s 487ms/step - loss: 0.6868 - accuracy: 0.5633 - val_loss: 0.6996 - val_accuracy: 0.4924\n",
      "Epoch 3/8\n",
      "29/29 [==============================] - ETA: 0s - loss: 0.6597 - accuracy: 0.6190\n",
      "Epoch 3: val_loss improved from 0.69098 to 0.64911, saving model to C:/PROJECTS\\emboendo\\CNN\\python-machine-learning\\emboendo_ML\\embo_CNN_lab\\_static\\checkpoints_2.h5\n",
      "29/29 [==============================] - 14s 497ms/step - loss: 0.6597 - accuracy: 0.6190 - val_loss: 0.6491 - val_accuracy: 0.6894\n",
      "Epoch 4/8\n",
      "29/29 [==============================] - ETA: 0s - loss: 0.6191 - accuracy: 0.6583\n",
      "Epoch 4: val_loss improved from 0.64911 to 0.63792, saving model to C:/PROJECTS\\emboendo\\CNN\\python-machine-learning\\emboendo_ML\\embo_CNN_lab\\_static\\checkpoints_2.h5\n",
      "29/29 [==============================] - 15s 509ms/step - loss: 0.6191 - accuracy: 0.6583 - val_loss: 0.6379 - val_accuracy: 0.7045\n",
      "Epoch 5/8\n",
      "29/29 [==============================] - ETA: 0s - loss: 0.5827 - accuracy: 0.6900\n",
      "Epoch 5: val_loss did not improve from 0.63792\n",
      "29/29 [==============================] - 15s 512ms/step - loss: 0.5827 - accuracy: 0.6900 - val_loss: 0.6483 - val_accuracy: 0.6515\n",
      "Epoch 6/8\n",
      "29/29 [==============================] - ETA: 0s - loss: 0.5310 - accuracy: 0.7434\n",
      "Epoch 6: val_loss improved from 0.63792 to 0.56195, saving model to C:/PROJECTS\\emboendo\\CNN\\python-machine-learning\\emboendo_ML\\embo_CNN_lab\\_static\\checkpoints_2.h5\n",
      "29/29 [==============================] - 14s 499ms/step - loss: 0.5310 - accuracy: 0.7434 - val_loss: 0.5620 - val_accuracy: 0.7121\n",
      "Epoch 7/8\n",
      "29/29 [==============================] - ETA: 0s - loss: 0.4701 - accuracy: 0.7860\n",
      "Epoch 7: val_loss did not improve from 0.56195\n",
      "29/29 [==============================] - 15s 505ms/step - loss: 0.4701 - accuracy: 0.7860 - val_loss: 0.6160 - val_accuracy: 0.7197\n",
      "Epoch 8/8\n",
      "29/29 [==============================] - ETA: 0s - loss: 0.4112 - accuracy: 0.7926\n",
      "Epoch 8: val_loss did not improve from 0.56195\n",
      "29/29 [==============================] - 15s 519ms/step - loss: 0.4112 - accuracy: 0.7926 - val_loss: 0.6196 - val_accuracy: 0.6894\n",
      "Epoch 1/8\n",
      "29/29 [==============================] - ETA: 0s - loss: 0.6895 - accuracy: 0.5142\n",
      "Epoch 1: val_loss improved from inf to 0.68148, saving model to C:/PROJECTS\\emboendo\\CNN\\python-machine-learning\\emboendo_ML\\embo_CNN_lab\\_static\\checkpoints_3.h5\n",
      "29/29 [==============================] - 16s 516ms/step - loss: 0.6895 - accuracy: 0.5142 - val_loss: 0.6815 - val_accuracy: 0.6212\n",
      "Epoch 2/8\n",
      "29/29 [==============================] - ETA: 0s - loss: 0.6683 - accuracy: 0.5950\n",
      "Epoch 2: val_loss improved from 0.68148 to 0.63414, saving model to C:/PROJECTS\\emboendo\\CNN\\python-machine-learning\\emboendo_ML\\embo_CNN_lab\\_static\\checkpoints_3.h5\n",
      "29/29 [==============================] - 15s 504ms/step - loss: 0.6683 - accuracy: 0.5950 - val_loss: 0.6341 - val_accuracy: 0.6515\n",
      "Epoch 3/8\n",
      "29/29 [==============================] - ETA: 0s - loss: 0.6547 - accuracy: 0.6070\n",
      "Epoch 3: val_loss improved from 0.63414 to 0.62330, saving model to C:/PROJECTS\\emboendo\\CNN\\python-machine-learning\\emboendo_ML\\embo_CNN_lab\\_static\\checkpoints_3.h5\n",
      "29/29 [==============================] - 15s 515ms/step - loss: 0.6547 - accuracy: 0.6070 - val_loss: 0.6233 - val_accuracy: 0.6970\n",
      "Epoch 4/8\n",
      "29/29 [==============================] - ETA: 0s - loss: 0.5952 - accuracy: 0.6779\n",
      "Epoch 4: val_loss improved from 0.62330 to 0.60113, saving model to C:/PROJECTS\\emboendo\\CNN\\python-machine-learning\\emboendo_ML\\embo_CNN_lab\\_static\\checkpoints_3.h5\n",
      "29/29 [==============================] - 15s 525ms/step - loss: 0.5952 - accuracy: 0.6779 - val_loss: 0.6011 - val_accuracy: 0.6742\n",
      "Epoch 5/8\n",
      "29/29 [==============================] - ETA: 0s - loss: 0.5131 - accuracy: 0.7336\n",
      "Epoch 5: val_loss improved from 0.60113 to 0.55765, saving model to C:/PROJECTS\\emboendo\\CNN\\python-machine-learning\\emboendo_ML\\embo_CNN_lab\\_static\\checkpoints_3.h5\n",
      "29/29 [==============================] - 15s 517ms/step - loss: 0.5131 - accuracy: 0.7336 - val_loss: 0.5576 - val_accuracy: 0.6970\n",
      "Epoch 6/8\n",
      "29/29 [==============================] - ETA: 0s - loss: 0.4079 - accuracy: 0.8111\n",
      "Epoch 6: val_loss did not improve from 0.55765\n",
      "29/29 [==============================] - 15s 513ms/step - loss: 0.4079 - accuracy: 0.8111 - val_loss: 0.6018 - val_accuracy: 0.7197\n",
      "Epoch 7/8\n",
      "29/29 [==============================] - ETA: 0s - loss: 0.3082 - accuracy: 0.8723\n",
      "Epoch 7: val_loss did not improve from 0.55765\n",
      "29/29 [==============================] - 18s 639ms/step - loss: 0.3082 - accuracy: 0.8723 - val_loss: 0.6036 - val_accuracy: 0.7500\n",
      "Epoch 8/8\n",
      "29/29 [==============================] - ETA: 0s - loss: 0.2165 - accuracy: 0.9258\n",
      "Epoch 8: val_loss did not improve from 0.55765\n",
      "29/29 [==============================] - 15s 517ms/step - loss: 0.2165 - accuracy: 0.9258 - val_loss: 0.6618 - val_accuracy: 0.7424\n",
      "Epoch 1/8\n",
      "29/29 [==============================] - ETA: 0s - loss: 0.6863 - accuracy: 0.5306\n",
      "Epoch 1: val_loss improved from inf to 0.65861, saving model to C:/PROJECTS\\emboendo\\CNN\\python-machine-learning\\emboendo_ML\\embo_CNN_lab\\_static\\checkpoints_4.h5\n",
      "29/29 [==============================] - 15s 510ms/step - loss: 0.6863 - accuracy: 0.5306 - val_loss: 0.6586 - val_accuracy: 0.7197\n",
      "Epoch 2/8\n",
      "29/29 [==============================] - ETA: 0s - loss: 0.6561 - accuracy: 0.6124\n",
      "Epoch 2: val_loss did not improve from 0.65861\n",
      "29/29 [==============================] - 15s 518ms/step - loss: 0.6561 - accuracy: 0.6124 - val_loss: 0.6799 - val_accuracy: 0.5606\n",
      "Epoch 3/8\n",
      "29/29 [==============================] - ETA: 0s - loss: 0.6156 - accuracy: 0.6496\n",
      "Epoch 3: val_loss improved from 0.65861 to 0.65691, saving model to C:/PROJECTS\\emboendo\\CNN\\python-machine-learning\\emboendo_ML\\embo_CNN_lab\\_static\\checkpoints_4.h5\n",
      "29/29 [==============================] - 27s 932ms/step - loss: 0.6156 - accuracy: 0.6496 - val_loss: 0.6569 - val_accuracy: 0.6136\n",
      "Epoch 4/8\n",
      "29/29 [==============================] - ETA: 0s - loss: 0.5738 - accuracy: 0.6932\n",
      "Epoch 4: val_loss improved from 0.65691 to 0.54728, saving model to C:/PROJECTS\\emboendo\\CNN\\python-machine-learning\\emboendo_ML\\embo_CNN_lab\\_static\\checkpoints_4.h5\n",
      "29/29 [==============================] - 22s 755ms/step - loss: 0.5738 - accuracy: 0.6932 - val_loss: 0.5473 - val_accuracy: 0.7121\n",
      "Epoch 5/8\n",
      "29/29 [==============================] - ETA: 0s - loss: 0.4807 - accuracy: 0.7664\n",
      "Epoch 5: val_loss improved from 0.54728 to 0.54652, saving model to C:/PROJECTS\\emboendo\\CNN\\python-machine-learning\\emboendo_ML\\embo_CNN_lab\\_static\\checkpoints_4.h5\n",
      "29/29 [==============================] - 33s 1s/step - loss: 0.4807 - accuracy: 0.7664 - val_loss: 0.5465 - val_accuracy: 0.7273\n",
      "Epoch 6/8\n",
      "29/29 [==============================] - ETA: 0s - loss: 0.3828 - accuracy: 0.8308\n",
      "Epoch 6: val_loss did not improve from 0.54652\n",
      "29/29 [==============================] - 16s 535ms/step - loss: 0.3828 - accuracy: 0.8308 - val_loss: 0.6141 - val_accuracy: 0.7424\n",
      "Epoch 7/8\n",
      "29/29 [==============================] - ETA: 0s - loss: 0.3366 - accuracy: 0.8559\n",
      "Epoch 7: val_loss did not improve from 0.54652\n",
      "29/29 [==============================] - 32s 1s/step - loss: 0.3366 - accuracy: 0.8559 - val_loss: 0.5928 - val_accuracy: 0.7121\n",
      "Epoch 8/8\n",
      "29/29 [==============================] - ETA: 0s - loss: 0.2351 - accuracy: 0.9083\n",
      "Epoch 8: val_loss did not improve from 0.54652\n",
      "29/29 [==============================] - 26s 898ms/step - loss: 0.2351 - accuracy: 0.9083 - val_loss: 0.7673 - val_accuracy: 0.7197\n",
      "Epoch 1/8\n",
      "29/29 [==============================] - ETA: 0s - loss: 0.6957 - accuracy: 0.5360\n",
      "Epoch 1: val_loss improved from inf to 0.74651, saving model to C:/PROJECTS\\emboendo\\CNN\\python-machine-learning\\emboendo_ML\\embo_CNN_lab\\_static\\checkpoints_5.h5\n",
      "29/29 [==============================] - 15s 509ms/step - loss: 0.6957 - accuracy: 0.5360 - val_loss: 0.7465 - val_accuracy: 0.2879\n",
      "Epoch 2/8\n",
      "29/29 [==============================] - ETA: 0s - loss: 0.6789 - accuracy: 0.5797\n",
      "Epoch 2: val_loss improved from 0.74651 to 0.69514, saving model to C:/PROJECTS\\emboendo\\CNN\\python-machine-learning\\emboendo_ML\\embo_CNN_lab\\_static\\checkpoints_5.h5\n",
      "29/29 [==============================] - 21s 738ms/step - loss: 0.6789 - accuracy: 0.5797 - val_loss: 0.6951 - val_accuracy: 0.5000\n",
      "Epoch 3/8\n",
      "29/29 [==============================] - ETA: 0s - loss: 0.6378 - accuracy: 0.6255\n",
      "Epoch 3: val_loss improved from 0.69514 to 0.65390, saving model to C:/PROJECTS\\emboendo\\CNN\\python-machine-learning\\emboendo_ML\\embo_CNN_lab\\_static\\checkpoints_5.h5\n",
      "29/29 [==============================] - 32s 1s/step - loss: 0.6378 - accuracy: 0.6255 - val_loss: 0.6539 - val_accuracy: 0.6364\n",
      "Epoch 4/8\n",
      "29/29 [==============================] - ETA: 0s - loss: 0.6056 - accuracy: 0.6692\n",
      "Epoch 4: val_loss improved from 0.65390 to 0.61128, saving model to C:/PROJECTS\\emboendo\\CNN\\python-machine-learning\\emboendo_ML\\embo_CNN_lab\\_static\\checkpoints_5.h5\n",
      "29/29 [==============================] - 32s 1s/step - loss: 0.6056 - accuracy: 0.6692 - val_loss: 0.6113 - val_accuracy: 0.6667\n",
      "Epoch 5/8\n",
      "29/29 [==============================] - ETA: 0s - loss: 0.5232 - accuracy: 0.7478\n",
      "Epoch 5: val_loss did not improve from 0.61128\n",
      "29/29 [==============================] - 32s 1s/step - loss: 0.5232 - accuracy: 0.7478 - val_loss: 0.6272 - val_accuracy: 0.6364\n",
      "Epoch 6/8\n",
      "29/29 [==============================] - ETA: 0s - loss: 0.4145 - accuracy: 0.8133\n",
      "Epoch 6: val_loss did not improve from 0.61128\n",
      "29/29 [==============================] - 20s 678ms/step - loss: 0.4145 - accuracy: 0.8133 - val_loss: 0.6122 - val_accuracy: 0.6818\n",
      "Epoch 7/8\n",
      "29/29 [==============================] - ETA: 0s - loss: 0.3054 - accuracy: 0.8712\n",
      "Epoch 7: val_loss did not improve from 0.61128\n",
      "29/29 [==============================] - 15s 503ms/step - loss: 0.3054 - accuracy: 0.8712 - val_loss: 0.6653 - val_accuracy: 0.6894\n",
      "Epoch 8/8\n",
      "29/29 [==============================] - ETA: 0s - loss: 0.1997 - accuracy: 0.9192\n",
      "Epoch 8: val_loss did not improve from 0.61128\n",
      "29/29 [==============================] - 15s 503ms/step - loss: 0.1997 - accuracy: 0.9192 - val_loss: 0.8149 - val_accuracy: 0.6742\n",
      "Epoch 1/8\n",
      "29/29 [==============================] - ETA: 0s - loss: 0.6892 - accuracy: 0.5317\n",
      "Epoch 1: val_loss improved from inf to 0.72036, saving model to C:/PROJECTS\\emboendo\\CNN\\python-machine-learning\\emboendo_ML\\embo_CNN_lab\\_static\\checkpoints_6.h5\n",
      "29/29 [==============================] - 16s 508ms/step - loss: 0.6892 - accuracy: 0.5317 - val_loss: 0.7204 - val_accuracy: 0.4242\n",
      "Epoch 2/8\n",
      "29/29 [==============================] - ETA: 0s - loss: 0.6587 - accuracy: 0.6015\n",
      "Epoch 2: val_loss improved from 0.72036 to 0.65968, saving model to C:/PROJECTS\\emboendo\\CNN\\python-machine-learning\\emboendo_ML\\embo_CNN_lab\\_static\\checkpoints_6.h5\n",
      "29/29 [==============================] - 30s 1s/step - loss: 0.6587 - accuracy: 0.6015 - val_loss: 0.6597 - val_accuracy: 0.5682\n",
      "Epoch 3/8\n",
      "29/29 [==============================] - ETA: 0s - loss: 0.6382 - accuracy: 0.6463\n",
      "Epoch 3: val_loss improved from 0.65968 to 0.61148, saving model to C:/PROJECTS\\emboendo\\CNN\\python-machine-learning\\emboendo_ML\\embo_CNN_lab\\_static\\checkpoints_6.h5\n",
      "29/29 [==============================] - 32s 1s/step - loss: 0.6382 - accuracy: 0.6463 - val_loss: 0.6115 - val_accuracy: 0.7348\n",
      "Epoch 4/8\n",
      "29/29 [==============================] - ETA: 0s - loss: 0.5633 - accuracy: 0.7074\n",
      "Epoch 4: val_loss improved from 0.61148 to 0.58079, saving model to C:/PROJECTS\\emboendo\\CNN\\python-machine-learning\\emboendo_ML\\embo_CNN_lab\\_static\\checkpoints_6.h5\n",
      "29/29 [==============================] - 16s 542ms/step - loss: 0.5633 - accuracy: 0.7074 - val_loss: 0.5808 - val_accuracy: 0.7045\n",
      "Epoch 5/8\n",
      "29/29 [==============================] - ETA: 0s - loss: 0.4737 - accuracy: 0.7598\n",
      "Epoch 5: val_loss improved from 0.58079 to 0.57647, saving model to C:/PROJECTS\\emboendo\\CNN\\python-machine-learning\\emboendo_ML\\embo_CNN_lab\\_static\\checkpoints_6.h5\n",
      "29/29 [==============================] - 14s 492ms/step - loss: 0.4737 - accuracy: 0.7598 - val_loss: 0.5765 - val_accuracy: 0.7197\n",
      "Epoch 6/8\n",
      "29/29 [==============================] - ETA: 0s - loss: 0.3879 - accuracy: 0.8177\n",
      "Epoch 6: val_loss did not improve from 0.57647\n",
      "29/29 [==============================] - 14s 495ms/step - loss: 0.3879 - accuracy: 0.8177 - val_loss: 0.5879 - val_accuracy: 0.7500\n",
      "Epoch 7/8\n",
      "29/29 [==============================] - ETA: 0s - loss: 0.2843 - accuracy: 0.8810\n",
      "Epoch 7: val_loss did not improve from 0.57647\n",
      "29/29 [==============================] - 29s 1s/step - loss: 0.2843 - accuracy: 0.8810 - val_loss: 0.7073 - val_accuracy: 0.7121\n",
      "Epoch 8/8\n",
      "29/29 [==============================] - ETA: 0s - loss: 0.1837 - accuracy: 0.9279\n",
      "Epoch 8: val_loss did not improve from 0.57647\n",
      "29/29 [==============================] - 18s 609ms/step - loss: 0.1837 - accuracy: 0.9279 - val_loss: 0.7681 - val_accuracy: 0.7045\n",
      "Epoch 1/8\n",
      "29/29 [==============================] - ETA: 0s - loss: 0.7010 - accuracy: 0.5251\n",
      "Epoch 1: val_loss improved from inf to 0.71569, saving model to C:/PROJECTS\\emboendo\\CNN\\python-machine-learning\\emboendo_ML\\embo_CNN_lab\\_static\\checkpoints_7.h5\n",
      "29/29 [==============================] - 15s 512ms/step - loss: 0.7010 - accuracy: 0.5251 - val_loss: 0.7157 - val_accuracy: 0.4318\n",
      "Epoch 2/8\n",
      " 7/29 [======>.......................] - ETA: 11s - loss: 0.6842 - accuracy: 0.5625"
     ]
    },
    {
     "ename": "KeyboardInterrupt",
     "evalue": "",
     "output_type": "error",
     "traceback": [
      "\u001b[1;31m---------------------------------------------------------------------------\u001b[0m",
      "\u001b[1;31mKeyboardInterrupt\u001b[0m                         Traceback (most recent call last)",
      "Cell \u001b[1;32mIn[26], line 1\u001b[0m\n\u001b[1;32m----> 1\u001b[0m histories\u001b[38;5;241m=\u001b[39m\u001b[43m[\u001b[49m\u001b[43mmd\u001b[49m\u001b[38;5;241;43m.\u001b[39;49m\u001b[43mfit\u001b[49m\u001b[43m(\u001b[49m\u001b[43mX_train\u001b[49m\u001b[43m,\u001b[49m\u001b[43m \u001b[49m\u001b[43mY_train\u001b[49m\u001b[43m,\u001b[49m\u001b[43m \u001b[49m\u001b[43mepochs\u001b[49m\u001b[38;5;241;43m=\u001b[39;49m\u001b[43mepochs\u001b[49m\u001b[43m,\u001b[49m\u001b[43m \u001b[49m\u001b[43mvalidation_data\u001b[49m\u001b[38;5;241;43m=\u001b[39;49m\u001b[43m(\u001b[49m\u001b[43mX_eval\u001b[49m\u001b[43m,\u001b[49m\u001b[43mY_eval\u001b[49m\u001b[43m)\u001b[49m\u001b[43m,\u001b[49m\u001b[43mcallbacks\u001b[49m\u001b[38;5;241;43m=\u001b[39;49m\u001b[43m[\u001b[49m\u001b[43mchk_p\u001b[49m\u001b[43m]\u001b[49m\u001b[43m)\u001b[49m\u001b[43m \u001b[49m\u001b[38;5;28;43;01mfor\u001b[39;49;00m\u001b[43m \u001b[49m\u001b[43mmd\u001b[49m\u001b[43m,\u001b[49m\u001b[43m \u001b[49m\u001b[43mchk_p\u001b[49m\u001b[43m \u001b[49m\u001b[38;5;129;43;01min\u001b[39;49;00m\u001b[43m \u001b[49m\u001b[38;5;28;43mzip\u001b[39;49m\u001b[43m(\u001b[49m\u001b[43mmodelos\u001b[49m\u001b[43m,\u001b[49m\u001b[43mcheckpoints\u001b[49m\u001b[43m)\u001b[49m\u001b[43m]\u001b[49m\n",
      "Cell \u001b[1;32mIn[26], line 1\u001b[0m, in \u001b[0;36m<listcomp>\u001b[1;34m(.0)\u001b[0m\n\u001b[1;32m----> 1\u001b[0m histories\u001b[38;5;241m=\u001b[39m[\u001b[43mmd\u001b[49m\u001b[38;5;241;43m.\u001b[39;49m\u001b[43mfit\u001b[49m\u001b[43m(\u001b[49m\u001b[43mX_train\u001b[49m\u001b[43m,\u001b[49m\u001b[43m \u001b[49m\u001b[43mY_train\u001b[49m\u001b[43m,\u001b[49m\u001b[43m \u001b[49m\u001b[43mepochs\u001b[49m\u001b[38;5;241;43m=\u001b[39;49m\u001b[43mepochs\u001b[49m\u001b[43m,\u001b[49m\u001b[43m \u001b[49m\u001b[43mvalidation_data\u001b[49m\u001b[38;5;241;43m=\u001b[39;49m\u001b[43m(\u001b[49m\u001b[43mX_eval\u001b[49m\u001b[43m,\u001b[49m\u001b[43mY_eval\u001b[49m\u001b[43m)\u001b[49m\u001b[43m,\u001b[49m\u001b[43mcallbacks\u001b[49m\u001b[38;5;241;43m=\u001b[39;49m\u001b[43m[\u001b[49m\u001b[43mchk_p\u001b[49m\u001b[43m]\u001b[49m\u001b[43m)\u001b[49m \u001b[38;5;28;01mfor\u001b[39;00m md, chk_p \u001b[38;5;129;01min\u001b[39;00m \u001b[38;5;28mzip\u001b[39m(modelos,checkpoints)]\n",
      "File \u001b[1;32mc:\\PROJECTS\\EMBOENDO\\.venv\\Lib\\site-packages\\keras\\src\\utils\\traceback_utils.py:65\u001b[0m, in \u001b[0;36mfilter_traceback.<locals>.error_handler\u001b[1;34m(*args, **kwargs)\u001b[0m\n\u001b[0;32m     63\u001b[0m filtered_tb \u001b[38;5;241m=\u001b[39m \u001b[38;5;28;01mNone\u001b[39;00m\n\u001b[0;32m     64\u001b[0m \u001b[38;5;28;01mtry\u001b[39;00m:\n\u001b[1;32m---> 65\u001b[0m     \u001b[38;5;28;01mreturn\u001b[39;00m \u001b[43mfn\u001b[49m\u001b[43m(\u001b[49m\u001b[38;5;241;43m*\u001b[39;49m\u001b[43margs\u001b[49m\u001b[43m,\u001b[49m\u001b[43m \u001b[49m\u001b[38;5;241;43m*\u001b[39;49m\u001b[38;5;241;43m*\u001b[39;49m\u001b[43mkwargs\u001b[49m\u001b[43m)\u001b[49m\n\u001b[0;32m     66\u001b[0m \u001b[38;5;28;01mexcept\u001b[39;00m \u001b[38;5;167;01mException\u001b[39;00m \u001b[38;5;28;01mas\u001b[39;00m e:\n\u001b[0;32m     67\u001b[0m     filtered_tb \u001b[38;5;241m=\u001b[39m _process_traceback_frames(e\u001b[38;5;241m.\u001b[39m__traceback__)\n",
      "File \u001b[1;32mc:\\PROJECTS\\EMBOENDO\\.venv\\Lib\\site-packages\\keras\\src\\engine\\training.py:1807\u001b[0m, in \u001b[0;36mModel.fit\u001b[1;34m(self, x, y, batch_size, epochs, verbose, callbacks, validation_split, validation_data, shuffle, class_weight, sample_weight, initial_epoch, steps_per_epoch, validation_steps, validation_batch_size, validation_freq, max_queue_size, workers, use_multiprocessing)\u001b[0m\n\u001b[0;32m   1799\u001b[0m \u001b[38;5;28;01mwith\u001b[39;00m tf\u001b[38;5;241m.\u001b[39mprofiler\u001b[38;5;241m.\u001b[39mexperimental\u001b[38;5;241m.\u001b[39mTrace(\n\u001b[0;32m   1800\u001b[0m     \u001b[38;5;124m\"\u001b[39m\u001b[38;5;124mtrain\u001b[39m\u001b[38;5;124m\"\u001b[39m,\n\u001b[0;32m   1801\u001b[0m     epoch_num\u001b[38;5;241m=\u001b[39mepoch,\n\u001b[1;32m   (...)\u001b[0m\n\u001b[0;32m   1804\u001b[0m     _r\u001b[38;5;241m=\u001b[39m\u001b[38;5;241m1\u001b[39m,\n\u001b[0;32m   1805\u001b[0m ):\n\u001b[0;32m   1806\u001b[0m     callbacks\u001b[38;5;241m.\u001b[39mon_train_batch_begin(step)\n\u001b[1;32m-> 1807\u001b[0m     tmp_logs \u001b[38;5;241m=\u001b[39m \u001b[38;5;28;43mself\u001b[39;49m\u001b[38;5;241;43m.\u001b[39;49m\u001b[43mtrain_function\u001b[49m\u001b[43m(\u001b[49m\u001b[43miterator\u001b[49m\u001b[43m)\u001b[49m\n\u001b[0;32m   1808\u001b[0m     \u001b[38;5;28;01mif\u001b[39;00m data_handler\u001b[38;5;241m.\u001b[39mshould_sync:\n\u001b[0;32m   1809\u001b[0m         context\u001b[38;5;241m.\u001b[39masync_wait()\n",
      "File \u001b[1;32mc:\\PROJECTS\\EMBOENDO\\.venv\\Lib\\site-packages\\tensorflow\\python\\util\\traceback_utils.py:150\u001b[0m, in \u001b[0;36mfilter_traceback.<locals>.error_handler\u001b[1;34m(*args, **kwargs)\u001b[0m\n\u001b[0;32m    148\u001b[0m filtered_tb \u001b[38;5;241m=\u001b[39m \u001b[38;5;28;01mNone\u001b[39;00m\n\u001b[0;32m    149\u001b[0m \u001b[38;5;28;01mtry\u001b[39;00m:\n\u001b[1;32m--> 150\u001b[0m   \u001b[38;5;28;01mreturn\u001b[39;00m \u001b[43mfn\u001b[49m\u001b[43m(\u001b[49m\u001b[38;5;241;43m*\u001b[39;49m\u001b[43margs\u001b[49m\u001b[43m,\u001b[49m\u001b[43m \u001b[49m\u001b[38;5;241;43m*\u001b[39;49m\u001b[38;5;241;43m*\u001b[39;49m\u001b[43mkwargs\u001b[49m\u001b[43m)\u001b[49m\n\u001b[0;32m    151\u001b[0m \u001b[38;5;28;01mexcept\u001b[39;00m \u001b[38;5;167;01mException\u001b[39;00m \u001b[38;5;28;01mas\u001b[39;00m e:\n\u001b[0;32m    152\u001b[0m   filtered_tb \u001b[38;5;241m=\u001b[39m _process_traceback_frames(e\u001b[38;5;241m.\u001b[39m__traceback__)\n",
      "File \u001b[1;32mc:\\PROJECTS\\EMBOENDO\\.venv\\Lib\\site-packages\\tensorflow\\python\\eager\\polymorphic_function\\polymorphic_function.py:832\u001b[0m, in \u001b[0;36mFunction.__call__\u001b[1;34m(self, *args, **kwds)\u001b[0m\n\u001b[0;32m    829\u001b[0m compiler \u001b[38;5;241m=\u001b[39m \u001b[38;5;124m\"\u001b[39m\u001b[38;5;124mxla\u001b[39m\u001b[38;5;124m\"\u001b[39m \u001b[38;5;28;01mif\u001b[39;00m \u001b[38;5;28mself\u001b[39m\u001b[38;5;241m.\u001b[39m_jit_compile \u001b[38;5;28;01melse\u001b[39;00m \u001b[38;5;124m\"\u001b[39m\u001b[38;5;124mnonXla\u001b[39m\u001b[38;5;124m\"\u001b[39m\n\u001b[0;32m    831\u001b[0m \u001b[38;5;28;01mwith\u001b[39;00m OptionalXlaContext(\u001b[38;5;28mself\u001b[39m\u001b[38;5;241m.\u001b[39m_jit_compile):\n\u001b[1;32m--> 832\u001b[0m   result \u001b[38;5;241m=\u001b[39m \u001b[38;5;28;43mself\u001b[39;49m\u001b[38;5;241;43m.\u001b[39;49m\u001b[43m_call\u001b[49m\u001b[43m(\u001b[49m\u001b[38;5;241;43m*\u001b[39;49m\u001b[43margs\u001b[49m\u001b[43m,\u001b[49m\u001b[43m \u001b[49m\u001b[38;5;241;43m*\u001b[39;49m\u001b[38;5;241;43m*\u001b[39;49m\u001b[43mkwds\u001b[49m\u001b[43m)\u001b[49m\n\u001b[0;32m    834\u001b[0m new_tracing_count \u001b[38;5;241m=\u001b[39m \u001b[38;5;28mself\u001b[39m\u001b[38;5;241m.\u001b[39mexperimental_get_tracing_count()\n\u001b[0;32m    835\u001b[0m without_tracing \u001b[38;5;241m=\u001b[39m (tracing_count \u001b[38;5;241m==\u001b[39m new_tracing_count)\n",
      "File \u001b[1;32mc:\\PROJECTS\\EMBOENDO\\.venv\\Lib\\site-packages\\tensorflow\\python\\eager\\polymorphic_function\\polymorphic_function.py:868\u001b[0m, in \u001b[0;36mFunction._call\u001b[1;34m(self, *args, **kwds)\u001b[0m\n\u001b[0;32m    865\u001b[0m   \u001b[38;5;28mself\u001b[39m\u001b[38;5;241m.\u001b[39m_lock\u001b[38;5;241m.\u001b[39mrelease()\n\u001b[0;32m    866\u001b[0m   \u001b[38;5;66;03m# In this case we have created variables on the first call, so we run the\u001b[39;00m\n\u001b[0;32m    867\u001b[0m   \u001b[38;5;66;03m# defunned version which is guaranteed to never create variables.\u001b[39;00m\n\u001b[1;32m--> 868\u001b[0m   \u001b[38;5;28;01mreturn\u001b[39;00m \u001b[43mtracing_compilation\u001b[49m\u001b[38;5;241;43m.\u001b[39;49m\u001b[43mcall_function\u001b[49m\u001b[43m(\u001b[49m\n\u001b[0;32m    869\u001b[0m \u001b[43m      \u001b[49m\u001b[43margs\u001b[49m\u001b[43m,\u001b[49m\u001b[43m \u001b[49m\u001b[43mkwds\u001b[49m\u001b[43m,\u001b[49m\u001b[43m \u001b[49m\u001b[38;5;28;43mself\u001b[39;49m\u001b[38;5;241;43m.\u001b[39;49m\u001b[43m_no_variable_creation_config\u001b[49m\n\u001b[0;32m    870\u001b[0m \u001b[43m  \u001b[49m\u001b[43m)\u001b[49m\n\u001b[0;32m    871\u001b[0m \u001b[38;5;28;01melif\u001b[39;00m \u001b[38;5;28mself\u001b[39m\u001b[38;5;241m.\u001b[39m_variable_creation_config \u001b[38;5;129;01mis\u001b[39;00m \u001b[38;5;129;01mnot\u001b[39;00m \u001b[38;5;28;01mNone\u001b[39;00m:\n\u001b[0;32m    872\u001b[0m   \u001b[38;5;66;03m# Release the lock early so that multiple threads can perform the call\u001b[39;00m\n\u001b[0;32m    873\u001b[0m   \u001b[38;5;66;03m# in parallel.\u001b[39;00m\n\u001b[0;32m    874\u001b[0m   \u001b[38;5;28mself\u001b[39m\u001b[38;5;241m.\u001b[39m_lock\u001b[38;5;241m.\u001b[39mrelease()\n",
      "File \u001b[1;32mc:\\PROJECTS\\EMBOENDO\\.venv\\Lib\\site-packages\\tensorflow\\python\\eager\\polymorphic_function\\tracing_compilation.py:139\u001b[0m, in \u001b[0;36mcall_function\u001b[1;34m(args, kwargs, tracing_options)\u001b[0m\n\u001b[0;32m    137\u001b[0m bound_args \u001b[38;5;241m=\u001b[39m function\u001b[38;5;241m.\u001b[39mfunction_type\u001b[38;5;241m.\u001b[39mbind(\u001b[38;5;241m*\u001b[39margs, \u001b[38;5;241m*\u001b[39m\u001b[38;5;241m*\u001b[39mkwargs)\n\u001b[0;32m    138\u001b[0m flat_inputs \u001b[38;5;241m=\u001b[39m function\u001b[38;5;241m.\u001b[39mfunction_type\u001b[38;5;241m.\u001b[39munpack_inputs(bound_args)\n\u001b[1;32m--> 139\u001b[0m \u001b[38;5;28;01mreturn\u001b[39;00m \u001b[43mfunction\u001b[49m\u001b[38;5;241;43m.\u001b[39;49m\u001b[43m_call_flat\u001b[49m\u001b[43m(\u001b[49m\u001b[43m  \u001b[49m\u001b[38;5;66;43;03m# pylint: disable=protected-access\u001b[39;49;00m\n\u001b[0;32m    140\u001b[0m \u001b[43m    \u001b[49m\u001b[43mflat_inputs\u001b[49m\u001b[43m,\u001b[49m\u001b[43m \u001b[49m\u001b[43mcaptured_inputs\u001b[49m\u001b[38;5;241;43m=\u001b[39;49m\u001b[43mfunction\u001b[49m\u001b[38;5;241;43m.\u001b[39;49m\u001b[43mcaptured_inputs\u001b[49m\n\u001b[0;32m    141\u001b[0m \u001b[43m\u001b[49m\u001b[43m)\u001b[49m\n",
      "File \u001b[1;32mc:\\PROJECTS\\EMBOENDO\\.venv\\Lib\\site-packages\\tensorflow\\python\\eager\\polymorphic_function\\concrete_function.py:1323\u001b[0m, in \u001b[0;36mConcreteFunction._call_flat\u001b[1;34m(self, tensor_inputs, captured_inputs)\u001b[0m\n\u001b[0;32m   1319\u001b[0m possible_gradient_type \u001b[38;5;241m=\u001b[39m gradients_util\u001b[38;5;241m.\u001b[39mPossibleTapeGradientTypes(args)\n\u001b[0;32m   1320\u001b[0m \u001b[38;5;28;01mif\u001b[39;00m (possible_gradient_type \u001b[38;5;241m==\u001b[39m gradients_util\u001b[38;5;241m.\u001b[39mPOSSIBLE_GRADIENT_TYPES_NONE\n\u001b[0;32m   1321\u001b[0m     \u001b[38;5;129;01mand\u001b[39;00m executing_eagerly):\n\u001b[0;32m   1322\u001b[0m   \u001b[38;5;66;03m# No tape is watching; skip to running the function.\u001b[39;00m\n\u001b[1;32m-> 1323\u001b[0m   \u001b[38;5;28;01mreturn\u001b[39;00m \u001b[38;5;28;43mself\u001b[39;49m\u001b[38;5;241;43m.\u001b[39;49m\u001b[43m_inference_function\u001b[49m\u001b[38;5;241;43m.\u001b[39;49m\u001b[43mcall_preflattened\u001b[49m\u001b[43m(\u001b[49m\u001b[43margs\u001b[49m\u001b[43m)\u001b[49m\n\u001b[0;32m   1324\u001b[0m forward_backward \u001b[38;5;241m=\u001b[39m \u001b[38;5;28mself\u001b[39m\u001b[38;5;241m.\u001b[39m_select_forward_and_backward_functions(\n\u001b[0;32m   1325\u001b[0m     args,\n\u001b[0;32m   1326\u001b[0m     possible_gradient_type,\n\u001b[0;32m   1327\u001b[0m     executing_eagerly)\n\u001b[0;32m   1328\u001b[0m forward_function, args_with_tangents \u001b[38;5;241m=\u001b[39m forward_backward\u001b[38;5;241m.\u001b[39mforward()\n",
      "File \u001b[1;32mc:\\PROJECTS\\EMBOENDO\\.venv\\Lib\\site-packages\\tensorflow\\python\\eager\\polymorphic_function\\atomic_function.py:216\u001b[0m, in \u001b[0;36mAtomicFunction.call_preflattened\u001b[1;34m(self, args)\u001b[0m\n\u001b[0;32m    214\u001b[0m \u001b[38;5;28;01mdef\u001b[39;00m \u001b[38;5;21mcall_preflattened\u001b[39m(\u001b[38;5;28mself\u001b[39m, args: Sequence[core\u001b[38;5;241m.\u001b[39mTensor]) \u001b[38;5;241m-\u001b[39m\u001b[38;5;241m>\u001b[39m Any:\n\u001b[0;32m    215\u001b[0m \u001b[38;5;250m  \u001b[39m\u001b[38;5;124;03m\"\"\"Calls with flattened tensor inputs and returns the structured output.\"\"\"\u001b[39;00m\n\u001b[1;32m--> 216\u001b[0m   flat_outputs \u001b[38;5;241m=\u001b[39m \u001b[38;5;28;43mself\u001b[39;49m\u001b[38;5;241;43m.\u001b[39;49m\u001b[43mcall_flat\u001b[49m\u001b[43m(\u001b[49m\u001b[38;5;241;43m*\u001b[39;49m\u001b[43margs\u001b[49m\u001b[43m)\u001b[49m\n\u001b[0;32m    217\u001b[0m   \u001b[38;5;28;01mreturn\u001b[39;00m \u001b[38;5;28mself\u001b[39m\u001b[38;5;241m.\u001b[39mfunction_type\u001b[38;5;241m.\u001b[39mpack_output(flat_outputs)\n",
      "File \u001b[1;32mc:\\PROJECTS\\EMBOENDO\\.venv\\Lib\\site-packages\\tensorflow\\python\\eager\\polymorphic_function\\atomic_function.py:251\u001b[0m, in \u001b[0;36mAtomicFunction.call_flat\u001b[1;34m(self, *args)\u001b[0m\n\u001b[0;32m    249\u001b[0m \u001b[38;5;28;01mwith\u001b[39;00m record\u001b[38;5;241m.\u001b[39mstop_recording():\n\u001b[0;32m    250\u001b[0m   \u001b[38;5;28;01mif\u001b[39;00m \u001b[38;5;28mself\u001b[39m\u001b[38;5;241m.\u001b[39m_bound_context\u001b[38;5;241m.\u001b[39mexecuting_eagerly():\n\u001b[1;32m--> 251\u001b[0m     outputs \u001b[38;5;241m=\u001b[39m \u001b[38;5;28;43mself\u001b[39;49m\u001b[38;5;241;43m.\u001b[39;49m\u001b[43m_bound_context\u001b[49m\u001b[38;5;241;43m.\u001b[39;49m\u001b[43mcall_function\u001b[49m\u001b[43m(\u001b[49m\n\u001b[0;32m    252\u001b[0m \u001b[43m        \u001b[49m\u001b[38;5;28;43mself\u001b[39;49m\u001b[38;5;241;43m.\u001b[39;49m\u001b[43mname\u001b[49m\u001b[43m,\u001b[49m\n\u001b[0;32m    253\u001b[0m \u001b[43m        \u001b[49m\u001b[38;5;28;43mlist\u001b[39;49m\u001b[43m(\u001b[49m\u001b[43margs\u001b[49m\u001b[43m)\u001b[49m\u001b[43m,\u001b[49m\n\u001b[0;32m    254\u001b[0m \u001b[43m        \u001b[49m\u001b[38;5;28;43mlen\u001b[39;49m\u001b[43m(\u001b[49m\u001b[38;5;28;43mself\u001b[39;49m\u001b[38;5;241;43m.\u001b[39;49m\u001b[43mfunction_type\u001b[49m\u001b[38;5;241;43m.\u001b[39;49m\u001b[43mflat_outputs\u001b[49m\u001b[43m)\u001b[49m\u001b[43m,\u001b[49m\n\u001b[0;32m    255\u001b[0m \u001b[43m    \u001b[49m\u001b[43m)\u001b[49m\n\u001b[0;32m    256\u001b[0m   \u001b[38;5;28;01melse\u001b[39;00m:\n\u001b[0;32m    257\u001b[0m     outputs \u001b[38;5;241m=\u001b[39m make_call_op_in_graph(\n\u001b[0;32m    258\u001b[0m         \u001b[38;5;28mself\u001b[39m,\n\u001b[0;32m    259\u001b[0m         \u001b[38;5;28mlist\u001b[39m(args),\n\u001b[0;32m    260\u001b[0m         \u001b[38;5;28mself\u001b[39m\u001b[38;5;241m.\u001b[39m_bound_context\u001b[38;5;241m.\u001b[39mfunction_call_options\u001b[38;5;241m.\u001b[39mas_attrs(),\n\u001b[0;32m    261\u001b[0m     )\n",
      "File \u001b[1;32mc:\\PROJECTS\\EMBOENDO\\.venv\\Lib\\site-packages\\tensorflow\\python\\eager\\context.py:1486\u001b[0m, in \u001b[0;36mContext.call_function\u001b[1;34m(self, name, tensor_inputs, num_outputs)\u001b[0m\n\u001b[0;32m   1484\u001b[0m cancellation_context \u001b[38;5;241m=\u001b[39m cancellation\u001b[38;5;241m.\u001b[39mcontext()\n\u001b[0;32m   1485\u001b[0m \u001b[38;5;28;01mif\u001b[39;00m cancellation_context \u001b[38;5;129;01mis\u001b[39;00m \u001b[38;5;28;01mNone\u001b[39;00m:\n\u001b[1;32m-> 1486\u001b[0m   outputs \u001b[38;5;241m=\u001b[39m \u001b[43mexecute\u001b[49m\u001b[38;5;241;43m.\u001b[39;49m\u001b[43mexecute\u001b[49m\u001b[43m(\u001b[49m\n\u001b[0;32m   1487\u001b[0m \u001b[43m      \u001b[49m\u001b[43mname\u001b[49m\u001b[38;5;241;43m.\u001b[39;49m\u001b[43mdecode\u001b[49m\u001b[43m(\u001b[49m\u001b[38;5;124;43m\"\u001b[39;49m\u001b[38;5;124;43mutf-8\u001b[39;49m\u001b[38;5;124;43m\"\u001b[39;49m\u001b[43m)\u001b[49m\u001b[43m,\u001b[49m\n\u001b[0;32m   1488\u001b[0m \u001b[43m      \u001b[49m\u001b[43mnum_outputs\u001b[49m\u001b[38;5;241;43m=\u001b[39;49m\u001b[43mnum_outputs\u001b[49m\u001b[43m,\u001b[49m\n\u001b[0;32m   1489\u001b[0m \u001b[43m      \u001b[49m\u001b[43minputs\u001b[49m\u001b[38;5;241;43m=\u001b[39;49m\u001b[43mtensor_inputs\u001b[49m\u001b[43m,\u001b[49m\n\u001b[0;32m   1490\u001b[0m \u001b[43m      \u001b[49m\u001b[43mattrs\u001b[49m\u001b[38;5;241;43m=\u001b[39;49m\u001b[43mattrs\u001b[49m\u001b[43m,\u001b[49m\n\u001b[0;32m   1491\u001b[0m \u001b[43m      \u001b[49m\u001b[43mctx\u001b[49m\u001b[38;5;241;43m=\u001b[39;49m\u001b[38;5;28;43mself\u001b[39;49m\u001b[43m,\u001b[49m\n\u001b[0;32m   1492\u001b[0m \u001b[43m  \u001b[49m\u001b[43m)\u001b[49m\n\u001b[0;32m   1493\u001b[0m \u001b[38;5;28;01melse\u001b[39;00m:\n\u001b[0;32m   1494\u001b[0m   outputs \u001b[38;5;241m=\u001b[39m execute\u001b[38;5;241m.\u001b[39mexecute_with_cancellation(\n\u001b[0;32m   1495\u001b[0m       name\u001b[38;5;241m.\u001b[39mdecode(\u001b[38;5;124m\"\u001b[39m\u001b[38;5;124mutf-8\u001b[39m\u001b[38;5;124m\"\u001b[39m),\n\u001b[0;32m   1496\u001b[0m       num_outputs\u001b[38;5;241m=\u001b[39mnum_outputs,\n\u001b[1;32m   (...)\u001b[0m\n\u001b[0;32m   1500\u001b[0m       cancellation_manager\u001b[38;5;241m=\u001b[39mcancellation_context,\n\u001b[0;32m   1501\u001b[0m   )\n",
      "File \u001b[1;32mc:\\PROJECTS\\EMBOENDO\\.venv\\Lib\\site-packages\\tensorflow\\python\\eager\\execute.py:53\u001b[0m, in \u001b[0;36mquick_execute\u001b[1;34m(op_name, num_outputs, inputs, attrs, ctx, name)\u001b[0m\n\u001b[0;32m     51\u001b[0m \u001b[38;5;28;01mtry\u001b[39;00m:\n\u001b[0;32m     52\u001b[0m   ctx\u001b[38;5;241m.\u001b[39mensure_initialized()\n\u001b[1;32m---> 53\u001b[0m   tensors \u001b[38;5;241m=\u001b[39m \u001b[43mpywrap_tfe\u001b[49m\u001b[38;5;241;43m.\u001b[39;49m\u001b[43mTFE_Py_Execute\u001b[49m\u001b[43m(\u001b[49m\u001b[43mctx\u001b[49m\u001b[38;5;241;43m.\u001b[39;49m\u001b[43m_handle\u001b[49m\u001b[43m,\u001b[49m\u001b[43m \u001b[49m\u001b[43mdevice_name\u001b[49m\u001b[43m,\u001b[49m\u001b[43m \u001b[49m\u001b[43mop_name\u001b[49m\u001b[43m,\u001b[49m\n\u001b[0;32m     54\u001b[0m \u001b[43m                                      \u001b[49m\u001b[43minputs\u001b[49m\u001b[43m,\u001b[49m\u001b[43m \u001b[49m\u001b[43mattrs\u001b[49m\u001b[43m,\u001b[49m\u001b[43m \u001b[49m\u001b[43mnum_outputs\u001b[49m\u001b[43m)\u001b[49m\n\u001b[0;32m     55\u001b[0m \u001b[38;5;28;01mexcept\u001b[39;00m core\u001b[38;5;241m.\u001b[39m_NotOkStatusException \u001b[38;5;28;01mas\u001b[39;00m e:\n\u001b[0;32m     56\u001b[0m   \u001b[38;5;28;01mif\u001b[39;00m name \u001b[38;5;129;01mis\u001b[39;00m \u001b[38;5;129;01mnot\u001b[39;00m \u001b[38;5;28;01mNone\u001b[39;00m:\n",
      "\u001b[1;31mKeyboardInterrupt\u001b[0m: "
     ]
    }
   ],
   "source": [
    "histories=[md.fit(X_train, Y_train, epochs=epochs, validation_data=(X_eval,Y_eval),callbacks=[chk_p]) for md, chk_p in zip(modelos,checkpoints)]"
   ]
  },
  {
   "cell_type": "markdown",
   "metadata": {},
   "source": [
    "### EVALUATE MODEL"
   ]
  },
  {
   "cell_type": "code",
   "execution_count": null,
   "metadata": {},
   "outputs": [],
   "source": [
    "#for history in histories: CNN_lib.plot_train_eval(history,epochs)"
   ]
  },
  {
   "cell_type": "code",
   "execution_count": null,
   "metadata": {},
   "outputs": [],
   "source": [
    "modelos =[ load_model(pp) for pp in check_points_p]"
   ]
  },
  {
   "cell_type": "code",
   "execution_count": null,
   "metadata": {},
   "outputs": [],
   "source": [
    "loss= []\n",
    "accuracy = []\n",
    "\n",
    "for model in modelos:\n",
    "\n",
    "    test_loss, test_accuracy = model.evaluate(X_eval,Y_eval,verbose=0) \n",
    "\n",
    "    loss.append(test_loss)\n",
    "    accuracy.append(test_accuracy)\n"
   ]
  },
  {
   "cell_type": "markdown",
   "metadata": {},
   "source": [
    "## ROC CURVE"
   ]
  },
  {
   "cell_type": "code",
   "execution_count": null,
   "metadata": {},
   "outputs": [],
   "source": [
    "roc_aucs = []\n",
    "\n",
    "for model in modelos:\n",
    "\n",
    "    predictions = model.predict(X_eval)\n",
    "\n",
    "    fpr_val, tpr_val, thresholds_val = roc_curve(Y_eval, predictions)\n",
    "    roc_auc_false = auc(fpr_val, tpr_val)\n",
    "    roc_aucs.append(roc_auc_false)\n",
    "\n",
    "    #CNN_lib.plot_roc_curve(fpr_val,tpr_val,roc_auc_false)\n"
   ]
  },
  {
   "cell_type": "code",
   "execution_count": null,
   "metadata": {},
   "outputs": [],
   "source": [
    "CNN_lib.list_plot(roc_aucs,title='AUCS',ylabel='Roc AUC')\n"
   ]
  },
  {
   "cell_type": "code",
   "execution_count": null,
   "metadata": {},
   "outputs": [],
   "source": [
    "print( 'AUC')\n",
    "\n",
    "CNN_lib.stats(roc_aucs)\n"
   ]
  },
  {
   "cell_type": "code",
   "execution_count": null,
   "metadata": {},
   "outputs": [],
   "source": [
    "print( 'LOSS')\n",
    "\n",
    "CNN_lib.stats(loss)"
   ]
  },
  {
   "cell_type": "code",
   "execution_count": null,
   "metadata": {},
   "outputs": [],
   "source": [
    "print( 'ACCURACITY')\n",
    "\n",
    "CNN_lib.stats(accuracy,rnd=4)"
   ]
  },
  {
   "cell_type": "markdown",
   "metadata": {},
   "source": [
    "#  FORECAST EVALUATION"
   ]
  },
  {
   "cell_type": "code",
   "execution_count": null,
   "metadata": {},
   "outputs": [],
   "source": [
    "\n",
    "predictions_raw=[]\n",
    "\n",
    "trsh=0.35\n",
    "\n",
    "for pred in predictions:\n",
    "\n",
    "    if pred < trsh:predictions_raw.append(0)\n",
    "    else:predictions_raw.append(1)\n",
    "\n",
    "predictions_raw=np.array(predictions_raw)\n"
   ]
  },
  {
   "cell_type": "code",
   "execution_count": null,
   "metadata": {},
   "outputs": [],
   "source": [
    "conf_matrix = confusion_matrix(Y_eval, predictions_raw)\n",
    "\n",
    "print(\"Matriz de Confusión:\")\n",
    "print(conf_matrix)\n",
    "\n",
    "# Obtener el informe de clasificación\n",
    "classification_report_str = classification_report(Y_eval, predictions_raw)\n",
    "print(\"Informe de Clasificación:\")\n",
    "print(classification_report_str)\n",
    "\n"
   ]
  },
  {
   "cell_type": "code",
   "execution_count": null,
   "metadata": {},
   "outputs": [],
   "source": [
    "true_classes = Y_eval  \n",
    "\n",
    "correctly_classified_indices = np.where(predictions_raw == true_classes)[0]\n",
    "incorrectly_classified_indices = np.where(predictions_raw != true_classes)[0]\n",
    "\n",
    "correctly_classified_video_ids = [video_id for video_id in correctly_classified_indices]\n",
    "incorrectly_classified_video_ids = [video_id for video_id in incorrectly_classified_indices]\n",
    "\n",
    "num_zeros = np.count_nonzero(Y_eval == 0)\n",
    "num_ones = np.count_nonzero(Y_eval == 1)\n"
   ]
  },
  {
   "cell_type": "code",
   "execution_count": null,
   "metadata": {},
   "outputs": [],
   "source": [
    "correct_labels_val = [Y_eval[i] for i in correctly_classified_indices]\n",
    "\n",
    "print(correct_labels_val)"
   ]
  },
  {
   "cell_type": "code",
   "execution_count": null,
   "metadata": {},
   "outputs": [],
   "source": [
    "\n",
    "print(f\"OK, {len(correctly_classified_video_ids)}\")\n",
    "print(f\"BAD, {len(incorrectly_classified_video_ids)}\")\n",
    "print(f'Ratio forecast: {len(correctly_classified_video_ids)/len(incorrectly_classified_video_ids)}')\n",
    "print(f'Ratio labeling: {max([num_ones,num_zeros])/min([num_ones,num_zeros])}')\n"
   ]
  }
 ],
 "metadata": {
  "kernelspec": {
   "display_name": ".venv",
   "language": "python",
   "name": "python3"
  },
  "language_info": {
   "codemirror_mode": {
    "name": "ipython",
    "version": 3
   },
   "file_extension": ".py",
   "mimetype": "text/x-python",
   "name": "python",
   "nbconvert_exporter": "python",
   "pygments_lexer": "ipython3",
   "version": "3.11.7"
  }
 },
 "nbformat": 4,
 "nbformat_minor": 2
}
