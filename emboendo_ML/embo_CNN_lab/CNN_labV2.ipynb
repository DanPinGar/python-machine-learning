{
 "cells": [
  {
   "cell_type": "markdown",
   "metadata": {},
   "source": [
    "# KERNEL CLEAN"
   ]
  },
  {
   "cell_type": "code",
   "execution_count": 1,
   "metadata": {},
   "outputs": [],
   "source": [
    "%reset -f -s\n",
    "\n",
    "import gc"
   ]
  },
  {
   "cell_type": "markdown",
   "metadata": {},
   "source": [
    "# LIBRARIES IMPORT"
   ]
  },
  {
   "cell_type": "code",
   "execution_count": 2,
   "metadata": {},
   "outputs": [
    {
     "name": "stdout",
     "output_type": "stream",
     "text": [
      "WARNING:tensorflow:From c:\\PROJECTS\\emboendo\\.venv\\Lib\\site-packages\\keras\\src\\losses.py:2976: The name tf.losses.sparse_softmax_cross_entropy is deprecated. Please use tf.compat.v1.losses.sparse_softmax_cross_entropy instead.\n",
      "\n"
     ]
    }
   ],
   "source": [
    "# imports\n",
    "\n",
    "import CNN_lib\n",
    "import CNN_utilities\n",
    "import fig_lib \n",
    "\n",
    "import numpy as np\n",
    "import matplotlib.pyplot as plt\n",
    "import pickle\n",
    "\n",
    "from tensorflow.keras import layers, models\n",
    "from tensorflow.keras.callbacks import ModelCheckpoint\n",
    "from tensorflow.keras.models import load_model\n",
    "\n",
    "\n",
    "from sklearn.model_selection import train_test_split\n",
    "from sklearn.metrics import roc_curve, auc\n",
    "from sklearn.metrics import confusion_matrix, classification_report\n"
   ]
  },
  {
   "cell_type": "code",
   "execution_count": 3,
   "metadata": {},
   "outputs": [],
   "source": [
    "d_type='processed'     # 'processed', 'synthetic'\n",
    "video_d=True            # Video = True , Image = False \n",
    "test_data,number_data_points= False,500\n",
    "\n",
    "t_btw_frm=0.05\n",
    "\n",
    "checking_on=False\n",
    "\n",
    "data_augmentation= True\n",
    "number_new_d=150\n",
    "\n",
    "checkpoint_path = \"C:/PROJECTS\\emboendo\\CNN\\python-machine-learning\\emboendo_ML\\embo_CNN_lab\\_static/model_checkpoint.h5\"\n",
    "\n",
    "if d_type=='processed' : pkl_train_p='C:\\PROJECTS\\emboendo\\CNN/pikles/processed_train_d.pkl'  \n",
    "elif d_type=='synthetic' : pkl_train_p='C:\\PROJECTS\\emboendo\\CNN/pikles/synthetic_train_d.pkl'   \n",
    "     "
   ]
  },
  {
   "cell_type": "markdown",
   "metadata": {},
   "source": [
    "# CNN"
   ]
  },
  {
   "cell_type": "markdown",
   "metadata": {},
   "source": [
    "### GENERATE TRAIN DATA"
   ]
  },
  {
   "cell_type": "code",
   "execution_count": 4,
   "metadata": {},
   "outputs": [],
   "source": [
    "# X_train,Y_train\n",
    "\n",
    "with open(pkl_train_p, 'rb') as pikle_file:\n",
    "\n",
    "    save_trains= pickle.load(pikle_file)\n",
    "\n",
    "x_train,y_train,rcs =  save_trains[0],save_trains[1],save_trains[2]\n",
    "\n",
    "max_frm_n, HEIGHT, WIDTH=np.shape(x_train)[1],np.shape(x_train)[2],np.shape(x_train)[3]\n"
   ]
  },
  {
   "cell_type": "code",
   "execution_count": 5,
   "metadata": {},
   "outputs": [],
   "source": [
    "if checking_on:\n",
    "\n",
    "    for x,y,r in zip(x_train,y_train,rcs):\n",
    "        print(r,int(y),np.shape(x),type(x))"
   ]
  },
  {
   "cell_type": "markdown",
   "metadata": {},
   "source": [
    "# DATA AUGMENTATION"
   ]
  },
  {
   "cell_type": "code",
   "execution_count": 6,
   "metadata": {},
   "outputs": [],
   "source": [
    "#video = tf.image.random_brightness(video, max_delta=0.9)    # OK\n",
    "#video = tf.image.random_contrast(video, lower=0.5, upper=10)   # OK\n",
    "\n",
    "if data_augmentation:\n",
    "\n",
    "    aug_recs=[]\n",
    "    aug_X_train=[]\n",
    "    aug_Y_train=np.ones(number_new_d)\n",
    "\n",
    "    idx_Y_1 = np.where(y_train == 1)[0]\n",
    "    idx_Y_1 = np.random.choice(idx_Y_1, size=number_new_d, replace=False)\n",
    "\n",
    "    for index in idx_Y_1:\n",
    "\n",
    "        video=CNN_lib.random_flip(x_train[index])\n",
    "        aug_X_train.append(video)\n",
    "        aug_recs.append('AUG_'+rcs[index])\n",
    "\n",
    "    aug_X_train=np.array(aug_X_train)"
   ]
  },
  {
   "cell_type": "code",
   "execution_count": 7,
   "metadata": {},
   "outputs": [],
   "source": [
    "if data_augmentation:\n",
    "\n",
    "    y_train = np.concatenate((y_train, aug_Y_train))\n",
    "    x_train=np.concatenate((x_train, aug_X_train), axis=0)\n",
    "    rcs=rcs+aug_recs"
   ]
  },
  {
   "cell_type": "markdown",
   "metadata": {},
   "source": [
    "### CHECK 1"
   ]
  },
  {
   "cell_type": "code",
   "execution_count": 8,
   "metadata": {},
   "outputs": [],
   "source": [
    "if checking_on:\n",
    "\n",
    "    for x,y,r in zip(x_train,y_train,rcs):\n",
    "        print(r,int(y),np.shape(x),type(x))"
   ]
  },
  {
   "cell_type": "code",
   "execution_count": 9,
   "metadata": {},
   "outputs": [],
   "source": [
    "if checking_on:\n",
    "\n",
    "    rec_elm='I70'\n",
    "    idx=rcs.index(rec_elm)\n",
    "    y_train[idx]"
   ]
  },
  {
   "cell_type": "code",
   "execution_count": 10,
   "metadata": {},
   "outputs": [],
   "source": [
    "if checking_on:fig_lib.vid_show(x_train[idx],t_btw_frm=t_btw_frm)"
   ]
  },
  {
   "cell_type": "code",
   "execution_count": 11,
   "metadata": {},
   "outputs": [],
   "source": [
    "if test_data:\n",
    "\n",
    "    total_data_points=len(y_train)\n",
    "    test_len=total_data_points-number_data_points\n",
    "    \n",
    "    Xx_train=x_train[0:number_data_points]\n",
    "    Yy_train=y_train[0:number_data_points]\n",
    "    recs=rcs[0:number_data_points]\n",
    "\n",
    "else:\n",
    "\n",
    "    Xx_train=x_train\n",
    "    Yy_train=y_train\n"
   ]
  },
  {
   "cell_type": "markdown",
   "metadata": {},
   "source": [
    "## DATA SHUFFLE"
   ]
  },
  {
   "cell_type": "code",
   "execution_count": 12,
   "metadata": {},
   "outputs": [],
   "source": [
    "idx_permut = np.random.permutation(len(Xx_train))\n",
    "Xx_train,Yy_train=Xx_train[idx_permut],Yy_train[idx_permut]\n",
    "recs=list(np.take(rcs, idx_permut))\n"
   ]
  },
  {
   "cell_type": "markdown",
   "metadata": {},
   "source": [
    "### CHECK 2"
   ]
  },
  {
   "cell_type": "code",
   "execution_count": 13,
   "metadata": {},
   "outputs": [],
   "source": [
    "if checking_on:\n",
    "\n",
    "    rec_elm='AUG_I70'\n",
    "    idx=recs.index(rec_elm)\n",
    "    print(idx,Yy_train[idx])"
   ]
  },
  {
   "cell_type": "code",
   "execution_count": 14,
   "metadata": {},
   "outputs": [],
   "source": [
    "if checking_on:fig_lib.vid_show(Xx_train[idx],t_btw_frm=t_btw_frm)"
   ]
  },
  {
   "cell_type": "markdown",
   "metadata": {},
   "source": [
    "## DATA SPLIT"
   ]
  },
  {
   "cell_type": "code",
   "execution_count": 15,
   "metadata": {},
   "outputs": [],
   "source": [
    "# X_train,Y_train,X_eval,Y_eval\n",
    "\n",
    "\n",
    "test_size=0.2\n"
   ]
  },
  {
   "cell_type": "code",
   "execution_count": 16,
   "metadata": {},
   "outputs": [
    {
     "name": "stdout",
     "output_type": "stream",
     "text": [
      "Train data: 648 Evaluation data: 162\n"
     ]
    }
   ],
   "source": [
    "\n",
    "X_train, X_eval, Y_train, Y_eval = train_test_split(Xx_train, Yy_train, test_size=test_size, shuffle=False) #,random_state=42)\n",
    "\n",
    "print('Train data:',len(Y_train),'Evaluation data:',len(Y_eval))\n",
    "if test_data:print('Test_len:',test_len)"
   ]
  },
  {
   "cell_type": "code",
   "execution_count": 17,
   "metadata": {},
   "outputs": [
    {
     "name": "stdout",
     "output_type": "stream",
     "text": [
      " Train data shape: (648, 40, 160, 160, 1)  Validation data shape: (162, 40, 160, 160, 1)\n"
     ]
    },
    {
     "data": {
      "image/png": "[encoded data removed]",
      "text/plain": [
       "<Figure size 640x480 with 1 Axes>"
      ]
     },
     "metadata": {},
     "output_type": "display_data"
    }
   ],
   "source": [
    "# check data\n",
    "\n",
    "zeros_count = np.sum(Y_train == 0)\n",
    "ones_count = np.sum(Y_train == 1)\n",
    "zeros_count_val = np.sum(Y_eval == 0)\n",
    "ones_count_val = np.sum(Y_eval == 1)\n",
    "\n",
    "labels = ['0 Train', '1 Train','0 Validation', '1 Validation']\n",
    "print(' Train data shape:', np.shape(X_train),' Validation data shape:', np.shape(X_eval))\n",
    "\n",
    "plt.bar(labels, [zeros_count, ones_count,zeros_count_val,ones_count_val], color=['green', 'blue','green', 'blue'])\n",
    "\n",
    "for i, count in enumerate([zeros_count, ones_count,zeros_count_val,ones_count_val]):\n",
    "\n",
    "    plt.text(i, count + 0.1, str(count), ha='center', va='bottom')\n",
    "\n",
    "plt.title('Data Labels')\n",
    "plt.show()"
   ]
  },
  {
   "cell_type": "markdown",
   "metadata": {},
   "source": [
    "### PARAMETERS"
   ]
  },
  {
   "cell_type": "code",
   "execution_count": 18,
   "metadata": {},
   "outputs": [
    {
     "name": "stdout",
     "output_type": "stream",
     "text": [
      "LIBRARY MODELS:\n",
      " \n",
      "image_full\n",
      "image_conv\n",
      "image_conv_augmentation\n",
      "video_conv2D\n",
      "video_conv3D\n"
     ]
    }
   ],
   "source": [
    "print('LIBRARY MODELS:')\n",
    "print(' ')\n",
    "\n",
    "for model_name in CNN_lib.MODELS.values(): print(model_name)"
   ]
  },
  {
   "cell_type": "code",
   "execution_count": 19,
   "metadata": {},
   "outputs": [],
   "source": [
    "# -------- CNN PARAMS --------\n",
    "\n",
    "# -------- MODEL --------\n",
    "\n",
    "model_from_CNN_lib,mdl= False,'video_conv3D'\n",
    "\n",
    "opt='adam'\n",
    "lss='binary_crossentropy'\n",
    "\n",
    "# -------- TRAINNING --------\n",
    "\n",
    "epch=9\n"
   ]
  },
  {
   "cell_type": "markdown",
   "metadata": {},
   "source": [
    "### MODEL"
   ]
  },
  {
   "cell_type": "code",
   "execution_count": 20,
   "metadata": {},
   "outputs": [
    {
     "data": {
      "text/plain": [
       "3165"
      ]
     },
     "execution_count": 20,
     "metadata": {},
     "output_type": "execute_result"
    }
   ],
   "source": [
    "gc.collect()"
   ]
  },
  {
   "cell_type": "code",
   "execution_count": 21,
   "metadata": {},
   "outputs": [
    {
     "name": "stdout",
     "output_type": "stream",
     "text": [
      "WARNING:tensorflow:From c:\\PROJECTS\\emboendo\\.venv\\Lib\\site-packages\\keras\\src\\backend.py:873: The name tf.get_default_graph is deprecated. Please use tf.compat.v1.get_default_graph instead.\n",
      "\n",
      "Model: \"sequential\"\n",
      "_________________________________________________________________\n",
      " Layer (type)                Output Shape              Param #   \n",
      "=================================================================\n",
      " conv3d (Conv3D)             (None, 38, 158, 158, 16   448       \n",
      "                             )                                   \n",
      "                                                                 \n",
      " max_pooling3d (MaxPooling3  (None, 19, 79, 79, 16)    0         \n",
      " D)                                                              \n",
      "                                                                 \n",
      " conv3d_1 (Conv3D)           (None, 19, 77, 77, 32)    4640      \n",
      "                                                                 \n",
      " dropout (Dropout)           (None, 19, 77, 77, 32)    0         \n",
      "                                                                 \n",
      " max_pooling3d_1 (MaxPoolin  (None, 9, 38, 38, 32)     0         \n",
      " g3D)                                                            \n",
      "                                                                 \n",
      " conv3d_2 (Conv3D)           (None, 7, 36, 36, 32)     27680     \n",
      "                                                                 \n",
      " max_pooling3d_2 (MaxPoolin  (None, 3, 18, 18, 32)     0         \n",
      " g3D)                                                            \n",
      "                                                                 \n",
      " conv3d_3 (Conv3D)           (None, 3, 16, 16, 16)     4624      \n",
      "                                                                 \n",
      " flatten (Flatten)           (None, 12288)             0         \n",
      "                                                                 \n",
      " dropout_1 (Dropout)         (None, 12288)             0         \n",
      "                                                                 \n",
      " dense (Dense)               (None, 64)                786496    \n",
      "                                                                 \n",
      " dense_1 (Dense)             (None, 1)                 65        \n",
      "                                                                 \n",
      "=================================================================\n",
      "Total params: 823953 (3.14 MB)\n",
      "Trainable params: 823953 (3.14 MB)\n",
      "Non-trainable params: 0 (0.00 Byte)\n",
      "_________________________________________________________________\n"
     ]
    }
   ],
   "source": [
    "# MODEL \n",
    "\n",
    "if model_from_CNN_lib:\n",
    "  \n",
    "  if video_d: model = CNN_lib.lib_models(mdl,im_input_shp=(max_frm_n, HEIGHT, WIDTH, 1))\n",
    "  else: model = CNN_lib.lib_models(mdl,im_input_shp=(HEIGHT, WIDTH,1))\n",
    "\n",
    "else:\n",
    "\n",
    "  model = models.Sequential([\n",
    "          layers.Conv3D(filters=16, kernel_size=(3, 3, 3), activation='relu',input_shape=(max_frm_n, HEIGHT, WIDTH, 1)),\n",
    "          layers.MaxPooling3D(pool_size=(2, 2, 2)),\n",
    "          layers.Conv3D(filters=32, kernel_size=(1, 3, 3),  activation='relu'),\n",
    "          layers.Dropout(0.2),\n",
    "          layers.MaxPooling3D(pool_size=(2, 2, 2)),\n",
    "          layers.Conv3D(filters=32, kernel_size=(3, 3, 3),  activation='relu'),\n",
    "          layers.MaxPooling3D(pool_size=(2, 2, 2)),\n",
    "          layers.Conv3D(filters=16, kernel_size=(1, 3, 3),  activation='relu'),\n",
    "          layers.Flatten(),\n",
    "          layers.Dropout(0.2),\n",
    "          layers.Dense(64, activation='relu'),\n",
    "          layers.Dense(1,activation='sigmoid')\n",
    "          ])\n",
    "\n",
    "\n",
    "model.summary()"
   ]
  },
  {
   "cell_type": "code",
   "execution_count": 22,
   "metadata": {},
   "outputs": [
    {
     "name": "stdout",
     "output_type": "stream",
     "text": [
      "WARNING:tensorflow:From c:\\PROJECTS\\emboendo\\.venv\\Lib\\site-packages\\keras\\src\\optimizers\\__init__.py:309: The name tf.train.Optimizer is deprecated. Please use tf.compat.v1.train.Optimizer instead.\n",
      "\n"
     ]
    }
   ],
   "source": [
    "model.compile(optimizer=opt, loss=lss, metrics=['accuracy'])"
   ]
  },
  {
   "cell_type": "code",
   "execution_count": 23,
   "metadata": {},
   "outputs": [],
   "source": [
    "checkpoint = ModelCheckpoint(checkpoint_path, save_best_only=True, monitor='val_loss',   mode='min', verbose=1)            \n"
   ]
  },
  {
   "cell_type": "markdown",
   "metadata": {},
   "source": [
    "### TRAINNING"
   ]
  },
  {
   "cell_type": "code",
   "execution_count": 24,
   "metadata": {},
   "outputs": [
    {
     "name": "stdout",
     "output_type": "stream",
     "text": [
      "Epoch 1/9\n",
      "WARNING:tensorflow:From c:\\PROJECTS\\emboendo\\.venv\\Lib\\site-packages\\keras\\src\\utils\\tf_utils.py:492: The name tf.ragged.RaggedTensorValue is deprecated. Please use tf.compat.v1.ragged.RaggedTensorValue instead.\n",
      "\n",
      "WARNING:tensorflow:From c:\\PROJECTS\\emboendo\\.venv\\Lib\\site-packages\\keras\\src\\engine\\base_layer_utils.py:384: The name tf.executing_eagerly_outside_functions is deprecated. Please use tf.compat.v1.executing_eagerly_outside_functions instead.\n",
      "\n",
      "21/21 [==============================] - ETA: 0s - loss: 0.6846 - accuracy: 0.5895\n",
      "Epoch 1: val_loss improved from inf to 0.68331, saving model to C:/PROJECTS\\emboendo\\CNN\\python-machine-learning\\emboendo_ML\\embo_CNN_lab\\_static\\model_checkpoint.h5\n",
      "21/21 [==============================] - 52s 2s/step - loss: 0.6846 - accuracy: 0.5895 - val_loss: 0.6833 - val_accuracy: 0.5556\n",
      "Epoch 2/9\n"
     ]
    },
    {
     "name": "stderr",
     "output_type": "stream",
     "text": [
      "c:\\PROJECTS\\emboendo\\.venv\\Lib\\site-packages\\keras\\src\\engine\\training.py:3103: UserWarning: You are saving your model as an HDF5 file via `model.save()`. This file format is considered legacy. We recommend using instead the native Keras format, e.g. `model.save('my_model.keras')`.\n",
      "  saving_api.save_model(\n"
     ]
    },
    {
     "name": "stdout",
     "output_type": "stream",
     "text": [
      "21/21 [==============================] - ETA: 0s - loss: 0.6445 - accuracy: 0.6157\n",
      "Epoch 2: val_loss did not improve from 0.68331\n",
      "21/21 [==============================] - 43s 2s/step - loss: 0.6445 - accuracy: 0.6157 - val_loss: 0.6863 - val_accuracy: 0.5679\n",
      "Epoch 3/9\n",
      "16/21 [=====================>........] - ETA: 10s - loss: 0.5855 - accuracy: 0.6934"
     ]
    }
   ],
   "source": [
    "history =model.fit(X_train, Y_train, epochs=epch, validation_data=(X_eval,Y_eval),callbacks=[checkpoint])"
   ]
  },
  {
   "cell_type": "markdown",
   "metadata": {},
   "source": [
    "### EVALUATE MODEL"
   ]
  },
  {
   "cell_type": "code",
   "execution_count": null,
   "metadata": {},
   "outputs": [
    {
     "data": {
      "image/png": "[encoded data removed]",
      "text/plain": [
       "<Figure size 1400x800 with 2 Axes>"
      ]
     },
     "metadata": {},
     "output_type": "display_data"
    }
   ],
   "source": [
    "fg_size=(14,8)\n",
    "\n",
    "acc = history.history['accuracy']\n",
    "val_acc = history.history['val_accuracy']\n",
    "\n",
    "loss = history.history['loss']\n",
    "val_loss = history.history['val_loss']\n",
    "\n",
    "epochs_range = range(epch)\n",
    "\n",
    "plt.figure(figsize=fg_size)\n",
    "plt.subplot(1, 2, 1)\n",
    "plt.plot(epochs_range, acc, label='Training Accuracy')\n",
    "plt.plot(epochs_range, val_acc, label='Validation Accuracy')\n",
    "plt.legend(loc='lower right')\n",
    "plt.title('Training and Validation Accuracy')\n",
    "plt.xlabel('Epochs')  \n",
    "plt.ylabel('Accuracy')  \n",
    "\n",
    "plt.subplot(1, 2, 2)\n",
    "plt.plot(epochs_range[1:-1], loss[1:-1], label='Training Loss')\n",
    "plt.plot(epochs_range[1:-1], val_loss[1:-1], label='Validation Loss')\n",
    "plt.legend(loc='upper right')\n",
    "plt.title('Training and Validation Loss')\n",
    "plt.xlabel('Epochs')  \n",
    "plt.ylabel('Loss')  \n",
    "plt.show()"
   ]
  },
  {
   "cell_type": "code",
   "execution_count": null,
   "metadata": {},
   "outputs": [
    {
     "name": "stdout",
     "output_type": "stream",
     "text": [
      "6/6 - 2s - loss: 0.5947 - accuracy: 0.6790 - 2s/epoch - 391ms/step\n",
      "Loss: 0.5947468280792236 Accuracy: 0.6790123581886292\n"
     ]
    }
   ],
   "source": [
    "test_loss, test_accuracy = model.evaluate(X_eval,Y_eval,verbose=2)\n",
    "\n",
    "print(f'Loss: {test_loss}',f'Accuracy: {test_accuracy}')"
   ]
  },
  {
   "cell_type": "markdown",
   "metadata": {},
   "source": [
    "### BEST EPOCH"
   ]
  },
  {
   "cell_type": "code",
   "execution_count": null,
   "metadata": {},
   "outputs": [
    {
     "name": "stdout",
     "output_type": "stream",
     "text": [
      "6/6 - 2s - loss: 0.5920 - accuracy: 0.7037 - 2s/epoch - 401ms/step\n",
      "Loss: 0.592025101184845 Accuracy: 0.7037037014961243\n"
     ]
    }
   ],
   "source": [
    "model = load_model(checkpoint_path)\n",
    "test_loss, test_accuracy = model.evaluate(X_eval,Y_eval,verbose=2)\n",
    "print(f'Loss: {test_loss}',f'Accuracy: {test_accuracy}')"
   ]
  },
  {
   "cell_type": "code",
   "execution_count": null,
   "metadata": {},
   "outputs": [
    {
     "data": {
      "text/plain": [
       "{'NAME': 'video_conv3D',\n",
       " 'ACCURACY': 0.7037037014961243,\n",
       " 'LOSS': 0.592025101184845,\n",
       " 'HEIGHT': 160,\n",
       " 'WIDTH': 160}"
      ]
     },
     "execution_count": 72,
     "metadata": {},
     "output_type": "execute_result"
    }
   ],
   "source": [
    "performance_d={'NAME':mdl,\n",
    "               'ACCURACY':test_accuracy,\n",
    "               'LOSS':test_loss,\n",
    "               'HEIGHT':HEIGHT,\n",
    "               'WIDTH':WIDTH}\n",
    "\n",
    "performance_d"
   ]
  },
  {
   "cell_type": "markdown",
   "metadata": {},
   "source": [
    "# VALIDATION DATA"
   ]
  },
  {
   "cell_type": "code",
   "execution_count": null,
   "metadata": {},
   "outputs": [
    {
     "name": "stdout",
     "output_type": "stream",
     "text": [
      "6/6 [==============================] - 2s 367ms/step\n",
      "[[0.3767859 ]\n",
      " [0.35671753]\n",
      " [0.0657134 ]\n",
      " [0.17180063]\n",
      " [0.6144113 ]\n",
      " [0.20004727]\n",
      " [0.4282858 ]\n",
      " [0.35302025]\n",
      " [0.29671016]\n",
      " [0.18351324]\n",
      " [0.24463926]\n",
      " [0.40636   ]\n",
      " [0.40731803]\n",
      " [0.20896271]\n",
      " [0.5450688 ]\n",
      " [0.15743043]\n",
      " [0.48622406]\n",
      " [0.6590302 ]\n",
      " [0.2039886 ]\n",
      " [0.10163848]\n",
      " [0.44134974]\n",
      " [0.68597376]\n",
      " [0.68088895]\n",
      " [0.73223174]\n",
      " [0.5981034 ]\n",
      " [0.5601483 ]\n",
      " [0.7261682 ]\n",
      " [0.67125946]\n",
      " [0.18643153]\n",
      " [0.55971956]\n",
      " [0.20142458]\n",
      " [0.38107386]\n",
      " [0.68603665]\n",
      " [0.15361851]\n",
      " [0.16369109]\n",
      " [0.43776277]\n",
      " [0.14326173]\n",
      " [0.1596423 ]\n",
      " [0.39819932]\n",
      " [0.7142525 ]\n",
      " [0.5059691 ]\n",
      " [0.6742972 ]\n",
      " [0.4903404 ]\n",
      " [0.56756145]\n",
      " [0.66024494]\n",
      " [0.13070643]\n",
      " [0.52253103]\n",
      " [0.6890822 ]\n",
      " [0.24335305]\n",
      " [0.5228121 ]\n",
      " [0.0510905 ]\n",
      " [0.44687468]\n",
      " [0.5724154 ]\n",
      " [0.24137315]\n",
      " [0.5067374 ]\n",
      " [0.23268999]\n",
      " [0.3969388 ]\n",
      " [0.68122834]\n",
      " [0.26256296]\n",
      " [0.51056087]\n",
      " [0.30646247]\n",
      " [0.40415847]\n",
      " [0.4669551 ]\n",
      " [0.6771907 ]\n",
      " [0.2927091 ]\n",
      " [0.55555135]\n",
      " [0.52301276]\n",
      " [0.659592  ]\n",
      " [0.10447951]\n",
      " [0.5988005 ]\n",
      " [0.31947157]\n",
      " [0.16839638]\n",
      " [0.19594596]\n",
      " [0.686875  ]\n",
      " [0.67139786]\n",
      " [0.1228435 ]\n",
      " [0.436258  ]\n",
      " [0.02986605]\n",
      " [0.5170463 ]\n",
      " [0.14733495]\n",
      " [0.5209628 ]\n",
      " [0.36587685]\n",
      " [0.06576463]\n",
      " [0.4919638 ]\n",
      " [0.23771234]\n",
      " [0.35550433]\n",
      " [0.19921352]\n",
      " [0.25732112]\n",
      " [0.12710612]\n",
      " [0.22662313]\n",
      " [0.44022995]\n",
      " [0.6031912 ]\n",
      " [0.34193587]\n",
      " [0.6073402 ]\n",
      " [0.02733228]\n",
      " [0.4186238 ]\n",
      " [0.65727973]\n",
      " [0.15971355]\n",
      " [0.538522  ]\n",
      " [0.5784619 ]\n",
      " [0.42408264]\n",
      " [0.573615  ]\n",
      " [0.6611982 ]\n",
      " [0.65092456]\n",
      " [0.36742   ]\n",
      " [0.38694552]\n",
      " [0.27563754]\n",
      " [0.27631727]\n",
      " [0.33786133]\n",
      " [0.48764503]\n",
      " [0.25156224]\n",
      " [0.20227712]\n",
      " [0.14734524]\n",
      " [0.51580024]\n",
      " [0.22081679]\n",
      " [0.74450505]\n",
      " [0.41796649]\n",
      " [0.363396  ]\n",
      " [0.5894602 ]\n",
      " [0.42082494]\n",
      " [0.59923685]\n",
      " [0.5035219 ]\n",
      " [0.1779066 ]\n",
      " [0.59312886]\n",
      " [0.6579749 ]\n",
      " [0.10634853]\n",
      " [0.58443487]\n",
      " [0.12589344]\n",
      " [0.58189034]\n",
      " [0.35823986]\n",
      " [0.2232267 ]\n",
      " [0.19264585]\n",
      " [0.3932813 ]\n",
      " [0.33121055]\n",
      " [0.22555718]\n",
      " [0.03848114]\n",
      " [0.3876872 ]\n",
      " [0.51025236]\n",
      " [0.00528656]\n",
      " [0.29698378]\n",
      " [0.39531916]\n",
      " [0.18417445]\n",
      " [0.4141353 ]\n",
      " [0.1855769 ]\n",
      " [0.3745158 ]\n",
      " [0.5875699 ]\n",
      " [0.38702944]\n",
      " [0.05630536]\n",
      " [0.64109915]\n",
      " [0.34406748]\n",
      " [0.42015067]\n",
      " [0.6544838 ]\n",
      " [0.19559084]\n",
      " [0.62576723]\n",
      " [0.08044983]\n",
      " [0.6762219 ]\n",
      " [0.5510081 ]\n",
      " [0.16430882]\n",
      " [0.22602671]\n",
      " [0.48926613]\n",
      " [0.6753432 ]\n",
      " [0.48568538]]\n"
     ]
    }
   ],
   "source": [
    "predictions = model.predict(X_eval)\n",
    "print(predictions)\n",
    "\n"
   ]
  },
  {
   "cell_type": "markdown",
   "metadata": {},
   "source": [
    "## ROC CURVE"
   ]
  },
  {
   "cell_type": "code",
   "execution_count": null,
   "metadata": {},
   "outputs": [],
   "source": [
    "\n",
    "fpr_val, tpr_val, thresholds_val = roc_curve(Y_eval, predictions)\n",
    "\n",
    "roc_auc_false = auc(fpr_val, tpr_val)\n",
    "roc_auc_thresholds = auc(thresholds_val, tpr_val)"
   ]
  },
  {
   "cell_type": "code",
   "execution_count": null,
   "metadata": {},
   "outputs": [
    {
     "data": {
      "image/png": "[encoded data removed]",
      "text/plain": [
       "<Figure size 800x800 with 1 Axes>"
      ]
     },
     "metadata": {},
     "output_type": "display_data"
    }
   ],
   "source": [
    "plt.figure(figsize=(8, 8))\n",
    "\n",
    "plt.plot(fpr_val, tpr_val, color='darkorange', lw=2, label=f'AUC = {roc_auc_false:.2f}')\n",
    "plt.plot(thresholds_val, tpr_val, color='green', lw=2)\n",
    "plt.plot([0, 1], [0, 1], color='navy', lw=2, linestyle='--')\n",
    "plt.xlabel('False Positive Rate(orange) / threshold (green)')\n",
    "plt.ylabel('True Positive Rate')\n",
    "plt.title('ROC Curve Validation Data')\n",
    "plt.legend(loc='lower right')\n",
    "plt.show()"
   ]
  },
  {
   "cell_type": "markdown",
   "metadata": {},
   "source": [
    "#  FORECAST EVALUATION"
   ]
  },
  {
   "cell_type": "code",
   "execution_count": null,
   "metadata": {},
   "outputs": [],
   "source": [
    "predictions_raw=[]\n",
    "\n",
    "trsh=0.35\n",
    "\n",
    "for pred in predictions:\n",
    "\n",
    "    if pred < trsh:predictions_raw.append(0)\n",
    "    else:predictions_raw.append(1)\n",
    "\n",
    "predictions_raw=np.array(predictions_raw)\n"
   ]
  },
  {
   "cell_type": "code",
   "execution_count": null,
   "metadata": {},
   "outputs": [
    {
     "name": "stdout",
     "output_type": "stream",
     "text": [
      "Matriz de Confusión:\n",
      "[[52 40]\n",
      " [13 57]]\n",
      "Informe de Clasificación:\n",
      "              precision    recall  f1-score   support\n",
      "\n",
      "         0.0       0.80      0.57      0.66        92\n",
      "         1.0       0.59      0.81      0.68        70\n",
      "\n",
      "    accuracy                           0.67       162\n",
      "   macro avg       0.69      0.69      0.67       162\n",
      "weighted avg       0.71      0.67      0.67       162\n",
      "\n"
     ]
    }
   ],
   "source": [
    "conf_matrix = confusion_matrix(Y_eval, predictions_raw)\n",
    "\n",
    "print(\"Matriz de Confusión:\")\n",
    "print(conf_matrix)\n",
    "\n",
    "# Obtener el informe de clasificación\n",
    "classification_report_str = classification_report(Y_eval, predictions_raw)\n",
    "print(\"Informe de Clasificación:\")\n",
    "print(classification_report_str)\n",
    "\n"
   ]
  },
  {
   "cell_type": "code",
   "execution_count": null,
   "metadata": {},
   "outputs": [],
   "source": [
    "true_classes = Y_eval  \n",
    "\n",
    "correctly_classified_indices = np.where(predictions_raw == true_classes)[0]\n",
    "incorrectly_classified_indices = np.where(predictions_raw != true_classes)[0]\n",
    "\n",
    "correctly_classified_video_ids = [video_id for video_id in correctly_classified_indices]\n",
    "incorrectly_classified_video_ids = [video_id for video_id in incorrectly_classified_indices]\n",
    "\n",
    "num_zeros = np.count_nonzero(Y_eval == 0)\n",
    "num_ones = np.count_nonzero(Y_eval == 1)\n"
   ]
  },
  {
   "cell_type": "code",
   "execution_count": null,
   "metadata": {},
   "outputs": [
    {
     "name": "stdout",
     "output_type": "stream",
     "text": [
      "[1.0, 0.0, 0.0, 1.0, 0.0, 0.0, 1.0, 0.0, 1.0, 1.0, 0.0, 0.0, 1.0, 1.0, 1.0, 1.0, 1.0, 1.0, 0.0, 0.0, 1.0, 1.0, 0.0, 0.0, 0.0, 0.0, 1.0, 1.0, 1.0, 1.0, 1.0, 0.0, 1.0, 0.0, 0.0, 1.0, 1.0, 1.0, 0.0, 1.0, 1.0, 1.0, 0.0, 1.0, 0.0, 1.0, 0.0, 0.0, 1.0, 1.0, 0.0, 1.0, 0.0, 1.0, 0.0, 0.0, 0.0, 0.0, 1.0, 0.0, 1.0, 0.0, 1.0, 1.0, 1.0, 1.0, 1.0, 0.0, 0.0, 0.0, 1.0, 0.0, 0.0, 1.0, 0.0, 1.0, 1.0, 1.0, 1.0, 1.0, 1.0, 0.0, 0.0, 1.0, 0.0, 1.0, 0.0, 0.0, 0.0, 0.0, 0.0, 0.0, 0.0, 0.0, 1.0, 0.0, 1.0, 1.0, 1.0, 0.0, 1.0, 0.0, 1.0, 0.0, 0.0, 1.0, 1.0, 0.0, 1.0]\n"
     ]
    }
   ],
   "source": [
    "correct_labels_val = [Y_eval[i] for i in correctly_classified_indices]\n",
    "print(correct_labels_val)"
   ]
  },
  {
   "cell_type": "code",
   "execution_count": null,
   "metadata": {},
   "outputs": [
    {
     "name": "stdout",
     "output_type": "stream",
     "text": [
      "OK, 109\n",
      "BAD, 53\n",
      "Ratio forecast: 2.056603773584906\n",
      "Ratio labeling: 1.3142857142857143\n"
     ]
    }
   ],
   "source": [
    "\n",
    "print(f\"OK, {len(correctly_classified_video_ids)}\")\n",
    "print(f\"BAD, {len(incorrectly_classified_video_ids)}\")\n",
    "print(f'Ratio forecast: {len(correctly_classified_video_ids)/len(incorrectly_classified_video_ids)}')\n",
    "print(f'Ratio labeling: {max([num_ones,num_zeros])/min([num_ones,num_zeros])}')\n"
   ]
  },
  {
   "cell_type": "markdown",
   "metadata": {},
   "source": [
    "## SINGLE FORECAST"
   ]
  },
  {
   "cell_type": "code",
   "execution_count": null,
   "metadata": {},
   "outputs": [
    {
     "name": "stdout",
     "output_type": "stream",
     "text": [
      "[132, 633, 552, 669, 589] [0. 0. 1. 1. 0.]\n"
     ]
    }
   ],
   "source": [
    "rec_elm=['I1','I28','I70','109897_1','670615_10']\n",
    "idx_list=[]\n",
    "for element in rec_elm:\n",
    "    idx_list.append(recs.index(element))\n",
    "\n",
    "label_list=y_train[idx_list]\n",
    "print(idx_list,label_list)"
   ]
  },
  {
   "cell_type": "code",
   "execution_count": null,
   "metadata": {},
   "outputs": [
    {
     "name": "stdout",
     "output_type": "stream",
     "text": [
      "data lengh: 810 , idx validation start: 649 \n",
      " Record: ['I1', 'I28', 'I70', '109897_1', '670615_10'] , index: [132, 633, 552, 669, 589], real label: [0. 0. 1. 1. 0.]\n"
     ]
    }
   ],
   "source": [
    "idx_val=round((1-test_size)*len(y_train))+1\n",
    "print(f'data lengh: {len(y_train)} , idx validation start: {idx_val} ')\n",
    "print(f' Record: {rec_elm} , index: {idx_list}, real label: {label_list}')"
   ]
  },
  {
   "cell_type": "code",
   "execution_count": null,
   "metadata": {},
   "outputs": [
    {
     "name": "stdout",
     "output_type": "stream",
     "text": [
      "1/1 [==============================] - 0s 42ms/step\n"
     ]
    },
    {
     "data": {
      "text/plain": [
       "array([[0.44134966]], dtype=float32)"
      ]
     },
     "execution_count": 83,
     "metadata": {},
     "output_type": "execute_result"
    }
   ],
   "source": [
    "nuevo_video = np.expand_dims(X_eval[max(idx_list)-idx_val], axis=0)\n",
    "\n",
    "# Realizar la predicción\n",
    "prediccion = model.predict(nuevo_video)\n",
    "prediccion"
   ]
  }
 ],
 "metadata": {
  "kernelspec": {
   "display_name": ".venv",
   "language": "python",
   "name": "python3"
  },
  "language_info": {
   "codemirror_mode": {
    "name": "ipython",
    "version": 3
   },
   "file_extension": ".py",
   "mimetype": "text/x-python",
   "name": "python",
   "nbconvert_exporter": "python",
   "pygments_lexer": "ipython3",
   "version": "3.11.6"
  }
 },
 "nbformat": 4,
 "nbformat_minor": 2
}
