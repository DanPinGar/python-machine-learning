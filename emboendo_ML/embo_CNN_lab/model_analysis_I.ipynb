{
 "cells": [
  {
   "cell_type": "markdown",
   "metadata": {},
   "source": [
    "# LIBRARIES IMPORT"
   ]
  },
  {
   "cell_type": "code",
   "execution_count": 1,
   "metadata": {},
   "outputs": [],
   "source": [
    "# imports\n",
    "\n",
    "from fig_lib import *\n",
    "import CNN_lib\n",
    "import numpy as np\n",
    "import matplotlib.pyplot as plt\n",
    "\n",
    "from tensorflow import keras\n",
    "from tensorflow.keras import layers, models\n"
   ]
  },
  {
   "cell_type": "markdown",
   "metadata": {},
   "source": [
    "# DATA GENERATOR"
   ]
  },
  {
   "cell_type": "code",
   "execution_count": 2,
   "metadata": {},
   "outputs": [],
   "source": [
    "# -------- DATA PARAMS --------\n",
    "\n",
    "generate_new_data=True\n",
    "    \n",
    "n_recs_train,n_recs_eval=350,50\n",
    "height, width = 100, 100\n",
    "circles_filled=False\n",
    "color=255\n"
   ]
  },
  {
   "cell_type": "code",
   "execution_count": 3,
   "metadata": {},
   "outputs": [],
   "source": [
    "#input_d, eval_d\n",
    "\n",
    "if generate_new_data:\n",
    "\n",
    "    input_d=im_data_gen(height, width,n_recs_train,'I',cir_f=circles_filled,color=color)\n",
    "    eval_d=im_data_gen(height, width,n_recs_eval,'I',cir_f=circles_filled,color=color)"
   ]
  },
  {
   "cell_type": "code",
   "execution_count": 4,
   "metadata": {},
   "outputs": [
    {
     "name": "stdout",
     "output_type": "stream",
     "text": [
      "RECORD - LABEL - SHAPE\n",
      "I0 circle (100, 100) <class 'numpy.ndarray'>\n",
      "I1 line (100, 100) <class 'numpy.ndarray'>\n",
      "I2 circle (100, 100) <class 'numpy.ndarray'>\n",
      "I3 line (100, 100) <class 'numpy.ndarray'>\n",
      "I4 circle (100, 100) <class 'numpy.ndarray'>\n",
      "I5 line (100, 100) <class 'numpy.ndarray'>\n",
      "I6 circle (100, 100) <class 'numpy.ndarray'>\n",
      "I7 circle (100, 100) <class 'numpy.ndarray'>\n",
      "I8 line (100, 100) <class 'numpy.ndarray'>\n",
      "I9 circle (100, 100) <class 'numpy.ndarray'>\n",
      "I10 circle (100, 100) <class 'numpy.ndarray'>\n",
      "I11 circle (100, 100) <class 'numpy.ndarray'>\n",
      "I12 line (100, 100) <class 'numpy.ndarray'>\n",
      "I13 circle (100, 100) <class 'numpy.ndarray'>\n",
      "I14 line (100, 100) <class 'numpy.ndarray'>\n",
      "I15 line (100, 100) <class 'numpy.ndarray'>\n",
      "I16 circle (100, 100) <class 'numpy.ndarray'>\n",
      "I17 line (100, 100) <class 'numpy.ndarray'>\n",
      "I18 line (100, 100) <class 'numpy.ndarray'>\n",
      "I19 line (100, 100) <class 'numpy.ndarray'>\n",
      "I20 line (100, 100) <class 'numpy.ndarray'>\n",
      "I21 line (100, 100) <class 'numpy.ndarray'>\n",
      "I22 line (100, 100) <class 'numpy.ndarray'>\n",
      "I23 circle (100, 100) <class 'numpy.ndarray'>\n",
      "I24 circle (100, 100) <class 'numpy.ndarray'>\n",
      "I25 circle (100, 100) <class 'numpy.ndarray'>\n",
      "I26 circle (100, 100) <class 'numpy.ndarray'>\n",
      "I27 circle (100, 100) <class 'numpy.ndarray'>\n",
      "I28 line (100, 100) <class 'numpy.ndarray'>\n",
      "I29 circle (100, 100) <class 'numpy.ndarray'>\n",
      "I30 circle (100, 100) <class 'numpy.ndarray'>\n",
      "I31 line (100, 100) <class 'numpy.ndarray'>\n",
      "I32 line (100, 100) <class 'numpy.ndarray'>\n",
      "I33 line (100, 100) <class 'numpy.ndarray'>\n",
      "I34 line (100, 100) <class 'numpy.ndarray'>\n",
      "I35 circle (100, 100) <class 'numpy.ndarray'>\n",
      "I36 circle (100, 100) <class 'numpy.ndarray'>\n",
      "I37 circle (100, 100) <class 'numpy.ndarray'>\n",
      "I38 circle (100, 100) <class 'numpy.ndarray'>\n",
      "I39 line (100, 100) <class 'numpy.ndarray'>\n",
      "I40 line (100, 100) <class 'numpy.ndarray'>\n",
      "I41 line (100, 100) <class 'numpy.ndarray'>\n",
      "I42 line (100, 100) <class 'numpy.ndarray'>\n",
      "I43 circle (100, 100) <class 'numpy.ndarray'>\n",
      "I44 circle (100, 100) <class 'numpy.ndarray'>\n",
      "I45 circle (100, 100) <class 'numpy.ndarray'>\n",
      "I46 circle (100, 100) <class 'numpy.ndarray'>\n",
      "I47 line (100, 100) <class 'numpy.ndarray'>\n",
      "I48 circle (100, 100) <class 'numpy.ndarray'>\n",
      "I49 circle (100, 100) <class 'numpy.ndarray'>\n",
      "I50 circle (100, 100) <class 'numpy.ndarray'>\n",
      "I51 circle (100, 100) <class 'numpy.ndarray'>\n",
      "I52 circle (100, 100) <class 'numpy.ndarray'>\n",
      "I53 line (100, 100) <class 'numpy.ndarray'>\n",
      "I54 line (100, 100) <class 'numpy.ndarray'>\n",
      "I55 line (100, 100) <class 'numpy.ndarray'>\n",
      "I56 line (100, 100) <class 'numpy.ndarray'>\n",
      "I57 circle (100, 100) <class 'numpy.ndarray'>\n",
      "I58 circle (100, 100) <class 'numpy.ndarray'>\n",
      "I59 circle (100, 100) <class 'numpy.ndarray'>\n",
      "I60 line (100, 100) <class 'numpy.ndarray'>\n",
      "I61 circle (100, 100) <class 'numpy.ndarray'>\n",
      "I62 circle (100, 100) <class 'numpy.ndarray'>\n",
      "I63 circle (100, 100) <class 'numpy.ndarray'>\n",
      "I64 circle (100, 100) <class 'numpy.ndarray'>\n",
      "I65 line (100, 100) <class 'numpy.ndarray'>\n",
      "I66 circle (100, 100) <class 'numpy.ndarray'>\n",
      "I67 line (100, 100) <class 'numpy.ndarray'>\n",
      "I68 line (100, 100) <class 'numpy.ndarray'>\n",
      "I69 circle (100, 100) <class 'numpy.ndarray'>\n",
      "I70 circle (100, 100) <class 'numpy.ndarray'>\n",
      "I71 line (100, 100) <class 'numpy.ndarray'>\n",
      "I72 circle (100, 100) <class 'numpy.ndarray'>\n",
      "I73 line (100, 100) <class 'numpy.ndarray'>\n",
      "I74 line (100, 100) <class 'numpy.ndarray'>\n",
      "I75 circle (100, 100) <class 'numpy.ndarray'>\n",
      "I76 circle (100, 100) <class 'numpy.ndarray'>\n",
      "I77 line (100, 100) <class 'numpy.ndarray'>\n",
      "I78 line (100, 100) <class 'numpy.ndarray'>\n",
      "I79 line (100, 100) <class 'numpy.ndarray'>\n",
      "I80 line (100, 100) <class 'numpy.ndarray'>\n",
      "I81 line (100, 100) <class 'numpy.ndarray'>\n",
      "I82 line (100, 100) <class 'numpy.ndarray'>\n",
      "I83 line (100, 100) <class 'numpy.ndarray'>\n",
      "I84 line (100, 100) <class 'numpy.ndarray'>\n",
      "I85 line (100, 100) <class 'numpy.ndarray'>\n",
      "I86 line (100, 100) <class 'numpy.ndarray'>\n",
      "I87 circle (100, 100) <class 'numpy.ndarray'>\n",
      "I88 line (100, 100) <class 'numpy.ndarray'>\n",
      "I89 line (100, 100) <class 'numpy.ndarray'>\n",
      "I90 circle (100, 100) <class 'numpy.ndarray'>\n",
      "I91 line (100, 100) <class 'numpy.ndarray'>\n",
      "I92 circle (100, 100) <class 'numpy.ndarray'>\n",
      "I93 circle (100, 100) <class 'numpy.ndarray'>\n",
      "I94 circle (100, 100) <class 'numpy.ndarray'>\n",
      "I95 circle (100, 100) <class 'numpy.ndarray'>\n",
      "I96 circle (100, 100) <class 'numpy.ndarray'>\n",
      "I97 line (100, 100) <class 'numpy.ndarray'>\n",
      "I98 circle (100, 100) <class 'numpy.ndarray'>\n",
      "I99 line (100, 100) <class 'numpy.ndarray'>\n",
      "I100 line (100, 100) <class 'numpy.ndarray'>\n",
      "I101 line (100, 100) <class 'numpy.ndarray'>\n",
      "I102 circle (100, 100) <class 'numpy.ndarray'>\n",
      "I103 circle (100, 100) <class 'numpy.ndarray'>\n",
      "I104 line (100, 100) <class 'numpy.ndarray'>\n",
      "I105 circle (100, 100) <class 'numpy.ndarray'>\n",
      "I106 circle (100, 100) <class 'numpy.ndarray'>\n",
      "I107 line (100, 100) <class 'numpy.ndarray'>\n",
      "I108 circle (100, 100) <class 'numpy.ndarray'>\n",
      "I109 line (100, 100) <class 'numpy.ndarray'>\n",
      "I110 circle (100, 100) <class 'numpy.ndarray'>\n",
      "I111 line (100, 100) <class 'numpy.ndarray'>\n",
      "I112 line (100, 100) <class 'numpy.ndarray'>\n",
      "I113 line (100, 100) <class 'numpy.ndarray'>\n",
      "I114 line (100, 100) <class 'numpy.ndarray'>\n",
      "I115 line (100, 100) <class 'numpy.ndarray'>\n",
      "I116 line (100, 100) <class 'numpy.ndarray'>\n",
      "I117 line (100, 100) <class 'numpy.ndarray'>\n",
      "I118 circle (100, 100) <class 'numpy.ndarray'>\n",
      "I119 circle (100, 100) <class 'numpy.ndarray'>\n",
      "I120 circle (100, 100) <class 'numpy.ndarray'>\n",
      "I121 line (100, 100) <class 'numpy.ndarray'>\n",
      "I122 line (100, 100) <class 'numpy.ndarray'>\n",
      "I123 line (100, 100) <class 'numpy.ndarray'>\n",
      "I124 line (100, 100) <class 'numpy.ndarray'>\n",
      "I125 circle (100, 100) <class 'numpy.ndarray'>\n",
      "I126 circle (100, 100) <class 'numpy.ndarray'>\n",
      "I127 circle (100, 100) <class 'numpy.ndarray'>\n",
      "I128 circle (100, 100) <class 'numpy.ndarray'>\n",
      "I129 circle (100, 100) <class 'numpy.ndarray'>\n",
      "I130 circle (100, 100) <class 'numpy.ndarray'>\n",
      "I131 circle (100, 100) <class 'numpy.ndarray'>\n",
      "I132 line (100, 100) <class 'numpy.ndarray'>\n",
      "I133 circle (100, 100) <class 'numpy.ndarray'>\n",
      "I134 line (100, 100) <class 'numpy.ndarray'>\n",
      "I135 circle (100, 100) <class 'numpy.ndarray'>\n",
      "I136 line (100, 100) <class 'numpy.ndarray'>\n",
      "I137 line (100, 100) <class 'numpy.ndarray'>\n",
      "I138 line (100, 100) <class 'numpy.ndarray'>\n",
      "I139 line (100, 100) <class 'numpy.ndarray'>\n",
      "I140 line (100, 100) <class 'numpy.ndarray'>\n",
      "I141 line (100, 100) <class 'numpy.ndarray'>\n",
      "I142 circle (100, 100) <class 'numpy.ndarray'>\n",
      "I143 line (100, 100) <class 'numpy.ndarray'>\n",
      "I144 circle (100, 100) <class 'numpy.ndarray'>\n",
      "I145 circle (100, 100) <class 'numpy.ndarray'>\n",
      "I146 circle (100, 100) <class 'numpy.ndarray'>\n",
      "I147 circle (100, 100) <class 'numpy.ndarray'>\n",
      "I148 line (100, 100) <class 'numpy.ndarray'>\n",
      "I149 circle (100, 100) <class 'numpy.ndarray'>\n",
      "I150 line (100, 100) <class 'numpy.ndarray'>\n",
      "I151 line (100, 100) <class 'numpy.ndarray'>\n",
      "I152 line (100, 100) <class 'numpy.ndarray'>\n",
      "I153 circle (100, 100) <class 'numpy.ndarray'>\n",
      "I154 circle (100, 100) <class 'numpy.ndarray'>\n",
      "I155 line (100, 100) <class 'numpy.ndarray'>\n",
      "I156 line (100, 100) <class 'numpy.ndarray'>\n",
      "I157 line (100, 100) <class 'numpy.ndarray'>\n",
      "I158 line (100, 100) <class 'numpy.ndarray'>\n",
      "I159 circle (100, 100) <class 'numpy.ndarray'>\n",
      "I160 circle (100, 100) <class 'numpy.ndarray'>\n",
      "I161 line (100, 100) <class 'numpy.ndarray'>\n",
      "I162 circle (100, 100) <class 'numpy.ndarray'>\n",
      "I163 line (100, 100) <class 'numpy.ndarray'>\n",
      "I164 circle (100, 100) <class 'numpy.ndarray'>\n",
      "I165 line (100, 100) <class 'numpy.ndarray'>\n",
      "I166 circle (100, 100) <class 'numpy.ndarray'>\n",
      "I167 circle (100, 100) <class 'numpy.ndarray'>\n",
      "I168 circle (100, 100) <class 'numpy.ndarray'>\n",
      "I169 circle (100, 100) <class 'numpy.ndarray'>\n",
      "I170 circle (100, 100) <class 'numpy.ndarray'>\n",
      "I171 line (100, 100) <class 'numpy.ndarray'>\n",
      "I172 line (100, 100) <class 'numpy.ndarray'>\n",
      "I173 line (100, 100) <class 'numpy.ndarray'>\n",
      "I174 circle (100, 100) <class 'numpy.ndarray'>\n",
      "I175 circle (100, 100) <class 'numpy.ndarray'>\n",
      "I176 line (100, 100) <class 'numpy.ndarray'>\n",
      "I177 line (100, 100) <class 'numpy.ndarray'>\n",
      "I178 circle (100, 100) <class 'numpy.ndarray'>\n",
      "I179 line (100, 100) <class 'numpy.ndarray'>\n",
      "I180 circle (100, 100) <class 'numpy.ndarray'>\n",
      "I181 line (100, 100) <class 'numpy.ndarray'>\n",
      "I182 circle (100, 100) <class 'numpy.ndarray'>\n",
      "I183 line (100, 100) <class 'numpy.ndarray'>\n",
      "I184 line (100, 100) <class 'numpy.ndarray'>\n",
      "I185 line (100, 100) <class 'numpy.ndarray'>\n",
      "I186 circle (100, 100) <class 'numpy.ndarray'>\n",
      "I187 circle (100, 100) <class 'numpy.ndarray'>\n",
      "I188 circle (100, 100) <class 'numpy.ndarray'>\n",
      "I189 circle (100, 100) <class 'numpy.ndarray'>\n",
      "I190 circle (100, 100) <class 'numpy.ndarray'>\n",
      "I191 line (100, 100) <class 'numpy.ndarray'>\n",
      "I192 line (100, 100) <class 'numpy.ndarray'>\n",
      "I193 circle (100, 100) <class 'numpy.ndarray'>\n",
      "I194 circle (100, 100) <class 'numpy.ndarray'>\n",
      "I195 circle (100, 100) <class 'numpy.ndarray'>\n",
      "I196 circle (100, 100) <class 'numpy.ndarray'>\n",
      "I197 circle (100, 100) <class 'numpy.ndarray'>\n",
      "I198 line (100, 100) <class 'numpy.ndarray'>\n",
      "I199 line (100, 100) <class 'numpy.ndarray'>\n",
      "I200 line (100, 100) <class 'numpy.ndarray'>\n",
      "I201 circle (100, 100) <class 'numpy.ndarray'>\n",
      "I202 line (100, 100) <class 'numpy.ndarray'>\n",
      "I203 line (100, 100) <class 'numpy.ndarray'>\n",
      "I204 line (100, 100) <class 'numpy.ndarray'>\n",
      "I205 line (100, 100) <class 'numpy.ndarray'>\n",
      "I206 circle (100, 100) <class 'numpy.ndarray'>\n",
      "I207 line (100, 100) <class 'numpy.ndarray'>\n",
      "I208 line (100, 100) <class 'numpy.ndarray'>\n",
      "I209 line (100, 100) <class 'numpy.ndarray'>\n",
      "I210 circle (100, 100) <class 'numpy.ndarray'>\n",
      "I211 line (100, 100) <class 'numpy.ndarray'>\n",
      "I212 line (100, 100) <class 'numpy.ndarray'>\n",
      "I213 line (100, 100) <class 'numpy.ndarray'>\n",
      "I214 line (100, 100) <class 'numpy.ndarray'>\n",
      "I215 line (100, 100) <class 'numpy.ndarray'>\n",
      "I216 line (100, 100) <class 'numpy.ndarray'>\n",
      "I217 line (100, 100) <class 'numpy.ndarray'>\n",
      "I218 circle (100, 100) <class 'numpy.ndarray'>\n",
      "I219 circle (100, 100) <class 'numpy.ndarray'>\n",
      "I220 line (100, 100) <class 'numpy.ndarray'>\n",
      "I221 line (100, 100) <class 'numpy.ndarray'>\n",
      "I222 line (100, 100) <class 'numpy.ndarray'>\n",
      "I223 line (100, 100) <class 'numpy.ndarray'>\n",
      "I224 circle (100, 100) <class 'numpy.ndarray'>\n",
      "I225 line (100, 100) <class 'numpy.ndarray'>\n",
      "I226 line (100, 100) <class 'numpy.ndarray'>\n",
      "I227 circle (100, 100) <class 'numpy.ndarray'>\n",
      "I228 line (100, 100) <class 'numpy.ndarray'>\n",
      "I229 circle (100, 100) <class 'numpy.ndarray'>\n",
      "I230 line (100, 100) <class 'numpy.ndarray'>\n",
      "I231 circle (100, 100) <class 'numpy.ndarray'>\n",
      "I232 line (100, 100) <class 'numpy.ndarray'>\n",
      "I233 line (100, 100) <class 'numpy.ndarray'>\n",
      "I234 line (100, 100) <class 'numpy.ndarray'>\n",
      "I235 circle (100, 100) <class 'numpy.ndarray'>\n",
      "I236 line (100, 100) <class 'numpy.ndarray'>\n",
      "I237 line (100, 100) <class 'numpy.ndarray'>\n",
      "I238 circle (100, 100) <class 'numpy.ndarray'>\n",
      "I239 line (100, 100) <class 'numpy.ndarray'>\n",
      "I240 circle (100, 100) <class 'numpy.ndarray'>\n",
      "I241 circle (100, 100) <class 'numpy.ndarray'>\n",
      "I242 circle (100, 100) <class 'numpy.ndarray'>\n",
      "I243 line (100, 100) <class 'numpy.ndarray'>\n",
      "I244 circle (100, 100) <class 'numpy.ndarray'>\n",
      "I245 line (100, 100) <class 'numpy.ndarray'>\n",
      "I246 line (100, 100) <class 'numpy.ndarray'>\n",
      "I247 line (100, 100) <class 'numpy.ndarray'>\n",
      "I248 circle (100, 100) <class 'numpy.ndarray'>\n",
      "I249 circle (100, 100) <class 'numpy.ndarray'>\n",
      "I250 circle (100, 100) <class 'numpy.ndarray'>\n",
      "I251 circle (100, 100) <class 'numpy.ndarray'>\n",
      "I252 circle (100, 100) <class 'numpy.ndarray'>\n",
      "I253 circle (100, 100) <class 'numpy.ndarray'>\n",
      "I254 circle (100, 100) <class 'numpy.ndarray'>\n",
      "I255 circle (100, 100) <class 'numpy.ndarray'>\n",
      "I256 circle (100, 100) <class 'numpy.ndarray'>\n",
      "I257 circle (100, 100) <class 'numpy.ndarray'>\n",
      "I258 circle (100, 100) <class 'numpy.ndarray'>\n",
      "I259 circle (100, 100) <class 'numpy.ndarray'>\n",
      "I260 circle (100, 100) <class 'numpy.ndarray'>\n",
      "I261 line (100, 100) <class 'numpy.ndarray'>\n",
      "I262 circle (100, 100) <class 'numpy.ndarray'>\n",
      "I263 circle (100, 100) <class 'numpy.ndarray'>\n",
      "I264 line (100, 100) <class 'numpy.ndarray'>\n",
      "I265 line (100, 100) <class 'numpy.ndarray'>\n",
      "I266 circle (100, 100) <class 'numpy.ndarray'>\n",
      "I267 circle (100, 100) <class 'numpy.ndarray'>\n",
      "I268 circle (100, 100) <class 'numpy.ndarray'>\n",
      "I269 line (100, 100) <class 'numpy.ndarray'>\n",
      "I270 line (100, 100) <class 'numpy.ndarray'>\n",
      "I271 circle (100, 100) <class 'numpy.ndarray'>\n",
      "I272 line (100, 100) <class 'numpy.ndarray'>\n",
      "I273 line (100, 100) <class 'numpy.ndarray'>\n",
      "I274 circle (100, 100) <class 'numpy.ndarray'>\n",
      "I275 line (100, 100) <class 'numpy.ndarray'>\n",
      "I276 circle (100, 100) <class 'numpy.ndarray'>\n",
      "I277 circle (100, 100) <class 'numpy.ndarray'>\n",
      "I278 circle (100, 100) <class 'numpy.ndarray'>\n",
      "I279 circle (100, 100) <class 'numpy.ndarray'>\n",
      "I280 line (100, 100) <class 'numpy.ndarray'>\n",
      "I281 circle (100, 100) <class 'numpy.ndarray'>\n",
      "I282 circle (100, 100) <class 'numpy.ndarray'>\n",
      "I283 line (100, 100) <class 'numpy.ndarray'>\n",
      "I284 circle (100, 100) <class 'numpy.ndarray'>\n",
      "I285 circle (100, 100) <class 'numpy.ndarray'>\n",
      "I286 line (100, 100) <class 'numpy.ndarray'>\n",
      "I287 line (100, 100) <class 'numpy.ndarray'>\n",
      "I288 line (100, 100) <class 'numpy.ndarray'>\n",
      "I289 line (100, 100) <class 'numpy.ndarray'>\n",
      "I290 line (100, 100) <class 'numpy.ndarray'>\n",
      "I291 circle (100, 100) <class 'numpy.ndarray'>\n",
      "I292 circle (100, 100) <class 'numpy.ndarray'>\n",
      "I293 circle (100, 100) <class 'numpy.ndarray'>\n",
      "I294 circle (100, 100) <class 'numpy.ndarray'>\n",
      "I295 line (100, 100) <class 'numpy.ndarray'>\n",
      "I296 line (100, 100) <class 'numpy.ndarray'>\n",
      "I297 line (100, 100) <class 'numpy.ndarray'>\n",
      "I298 line (100, 100) <class 'numpy.ndarray'>\n",
      "I299 circle (100, 100) <class 'numpy.ndarray'>\n",
      "I300 circle (100, 100) <class 'numpy.ndarray'>\n",
      "I301 circle (100, 100) <class 'numpy.ndarray'>\n",
      "I302 line (100, 100) <class 'numpy.ndarray'>\n",
      "I303 circle (100, 100) <class 'numpy.ndarray'>\n",
      "I304 line (100, 100) <class 'numpy.ndarray'>\n",
      "I305 circle (100, 100) <class 'numpy.ndarray'>\n",
      "I306 line (100, 100) <class 'numpy.ndarray'>\n",
      "I307 circle (100, 100) <class 'numpy.ndarray'>\n",
      "I308 circle (100, 100) <class 'numpy.ndarray'>\n",
      "I309 line (100, 100) <class 'numpy.ndarray'>\n",
      "I310 circle (100, 100) <class 'numpy.ndarray'>\n",
      "I311 circle (100, 100) <class 'numpy.ndarray'>\n",
      "I312 circle (100, 100) <class 'numpy.ndarray'>\n",
      "I313 circle (100, 100) <class 'numpy.ndarray'>\n",
      "I314 line (100, 100) <class 'numpy.ndarray'>\n",
      "I315 circle (100, 100) <class 'numpy.ndarray'>\n",
      "I316 line (100, 100) <class 'numpy.ndarray'>\n",
      "I317 line (100, 100) <class 'numpy.ndarray'>\n",
      "I318 circle (100, 100) <class 'numpy.ndarray'>\n",
      "I319 circle (100, 100) <class 'numpy.ndarray'>\n",
      "I320 circle (100, 100) <class 'numpy.ndarray'>\n",
      "I321 circle (100, 100) <class 'numpy.ndarray'>\n",
      "I322 line (100, 100) <class 'numpy.ndarray'>\n",
      "I323 line (100, 100) <class 'numpy.ndarray'>\n",
      "I324 circle (100, 100) <class 'numpy.ndarray'>\n",
      "I325 circle (100, 100) <class 'numpy.ndarray'>\n",
      "I326 circle (100, 100) <class 'numpy.ndarray'>\n",
      "I327 circle (100, 100) <class 'numpy.ndarray'>\n",
      "I328 circle (100, 100) <class 'numpy.ndarray'>\n",
      "I329 line (100, 100) <class 'numpy.ndarray'>\n",
      "I330 line (100, 100) <class 'numpy.ndarray'>\n",
      "I331 circle (100, 100) <class 'numpy.ndarray'>\n",
      "I332 circle (100, 100) <class 'numpy.ndarray'>\n",
      "I333 line (100, 100) <class 'numpy.ndarray'>\n",
      "I334 line (100, 100) <class 'numpy.ndarray'>\n",
      "I335 circle (100, 100) <class 'numpy.ndarray'>\n",
      "I336 line (100, 100) <class 'numpy.ndarray'>\n",
      "I337 line (100, 100) <class 'numpy.ndarray'>\n",
      "I338 line (100, 100) <class 'numpy.ndarray'>\n",
      "I339 circle (100, 100) <class 'numpy.ndarray'>\n",
      "I340 circle (100, 100) <class 'numpy.ndarray'>\n",
      "I341 line (100, 100) <class 'numpy.ndarray'>\n",
      "I342 line (100, 100) <class 'numpy.ndarray'>\n",
      "I343 line (100, 100) <class 'numpy.ndarray'>\n",
      "I344 circle (100, 100) <class 'numpy.ndarray'>\n",
      "I345 line (100, 100) <class 'numpy.ndarray'>\n",
      "I346 circle (100, 100) <class 'numpy.ndarray'>\n",
      "I347 line (100, 100) <class 'numpy.ndarray'>\n",
      "I348 line (100, 100) <class 'numpy.ndarray'>\n",
      "I349 line (100, 100) <class 'numpy.ndarray'>\n"
     ]
    }
   ],
   "source": [
    "print('RECORD - LABEL - SHAPE')\n",
    "\n",
    "if generate_new_data:\n",
    "    \n",
    "    for R in input_d.keys():\n",
    "        print(R,input_d[R]['label'],np.shape(input_d[R]['image']),type(input_d[R]['image']))"
   ]
  },
  {
   "cell_type": "code",
   "execution_count": 5,
   "metadata": {},
   "outputs": [
    {
     "name": "stdout",
     "output_type": "stream",
     "text": [
      "line\n"
     ]
    },
    {
     "data": {
      "image/png": "[encoded data removed]",
      "text/plain": [
       "<Figure size 640x480 with 1 Axes>"
      ]
     },
     "metadata": {},
     "output_type": "display_data"
    }
   ],
   "source": [
    "d_plt_check,rec_check=True,'I1'\n",
    "\n",
    "if generate_new_data:\n",
    "    \n",
    "    d_plt_check,rec_check=True,'I1'\n",
    "    print(input_d[rec_check]['label'])\n",
    "\n",
    "    if d_plt_check:\n",
    "\n",
    "        imagen = input_d[rec_check]['image']\n",
    "\n",
    "        plt.imshow(imagen, cmap='gray')\n",
    "        plt.axis('off')\n",
    "        plt.show()\n"
   ]
  },
  {
   "cell_type": "markdown",
   "metadata": {},
   "source": [
    "# CNN"
   ]
  },
  {
   "cell_type": "markdown",
   "metadata": {},
   "source": [
    "### PARAMETERS"
   ]
  },
  {
   "cell_type": "code",
   "execution_count": 6,
   "metadata": {},
   "outputs": [],
   "source": [
    "# -------- CNN PARAMS --------\n",
    "\n",
    "# -------- MODEL --------\n",
    "\n",
    "model_from_CNN_lib,mdl= False,'image_full_bin'\n",
    "\n",
    "opt='adam'\n",
    "lss='binary_crossentropy'\n",
    "\n",
    "# -------- TRAINNING --------\n",
    "\n",
    "epch=5\n"
   ]
  },
  {
   "cell_type": "markdown",
   "metadata": {},
   "source": [
    "### GENERATE TRAIN DATA"
   ]
  },
  {
   "cell_type": "code",
   "execution_count": 7,
   "metadata": {},
   "outputs": [
    {
     "name": "stdout",
     "output_type": "stream",
     "text": [
      "Train data: 350 Evaluation data: 50\n"
     ]
    }
   ],
   "source": [
    "# X_train,Y_train,X_eval,Y_eval\n",
    "\n",
    "X_train,Y_train =CNN_lib.cnn_data_bin_gen(input_d,zero='circle', one= 'line')\n",
    "X_eval,Y_eval = CNN_lib.cnn_data_bin_gen(eval_d,zero='circle', one= 'line')\n",
    "\n",
    "print('Train data:',len(Y_train),'Evaluation data:',len(Y_eval))"
   ]
  },
  {
   "cell_type": "code",
   "execution_count": 8,
   "metadata": {},
   "outputs": [
    {
     "name": "stdout",
     "output_type": "stream",
     "text": [
      " Train data shape: (350, 100, 100)\n"
     ]
    },
    {
     "data": {
      "image/png": "[encoded data removed]",
      "text/plain": [
       "<Figure size 640x480 with 1 Axes>"
      ]
     },
     "metadata": {},
     "output_type": "display_data"
    }
   ],
   "source": [
    "# check data\n",
    "\n",
    "zeros_count = np.sum(Y_train == 0)\n",
    "ones_count = np.sum(Y_train == 1)\n",
    "\n",
    "labels = ['Circles', 'Lines']\n",
    "print(' Train data shape:', np.shape(X_train))\n",
    "\n",
    "plt.bar(labels, [zeros_count, ones_count], color=['red', 'blue'])\n",
    "\n",
    "for i, count in enumerate([zeros_count, ones_count]):\n",
    "    plt.text(i, count + 0.1, str(count), ha='center', va='bottom')\n",
    "\n",
    "plt.title('Train Labels')\n",
    "plt.show()"
   ]
  },
  {
   "cell_type": "markdown",
   "metadata": {},
   "source": [
    "### MODEL"
   ]
  },
  {
   "cell_type": "code",
   "execution_count": 9,
   "metadata": {},
   "outputs": [
    {
     "name": "stdout",
     "output_type": "stream",
     "text": [
      "Model: \"sequential_1\"\n",
      "_________________________________________________________________\n",
      " Layer (type)                Output Shape              Param #   \n",
      "=================================================================\n",
      " sequential (Sequential)     (None, 100, 100, 1)       0         \n",
      "                                                                 \n",
      " rescaling (Rescaling)       (None, 100, 100, 1)       0         \n",
      "                                                                 \n",
      " conv2d (Conv2D)             (None, 98, 98, 32)        320       \n",
      "                                                                 \n",
      " max_pooling2d (MaxPooling2  (None, 49, 49, 32)        0         \n",
      " D)                                                              \n",
      "                                                                 \n",
      " conv2d_1 (Conv2D)           (None, 47, 47, 64)        18496     \n",
      "                                                                 \n",
      " max_pooling2d_1 (MaxPoolin  (None, 23, 23, 64)        0         \n",
      " g2D)                                                            \n",
      "                                                                 \n",
      " conv2d_2 (Conv2D)           (None, 21, 21, 64)        36928     \n",
      "                                                                 \n",
      " max_pooling2d_2 (MaxPoolin  (None, 10, 10, 64)        0         \n",
      " g2D)                                                            \n",
      "                                                                 \n",
      " dropout (Dropout)           (None, 10, 10, 64)        0         \n",
      "                                                                 \n",
      " flatten (Flatten)           (None, 6400)              0         \n",
      "                                                                 \n",
      " dense (Dense)               (None, 64)                409664    \n",
      "                                                                 \n",
      " dense_1 (Dense)             (None, 1)                 65        \n",
      "                                                                 \n",
      "=================================================================\n",
      "Total params: 465473 (1.78 MB)\n",
      "Trainable params: 465473 (1.78 MB)\n",
      "Non-trainable params: 0 (0.00 Byte)\n",
      "_________________________________________________________________\n"
     ]
    }
   ],
   "source": [
    "# MODEL \n",
    "\n",
    "if model_from_CNN_lib:\n",
    "  \n",
    "  model=CNN_lib.lib_models(mdl,im_input_shp=(height, width))\n",
    "\n",
    "else:\n",
    "\n",
    "\n",
    "  data_augmentation = keras.Sequential([\n",
    "                      layers.RandomFlip(\"horizontal\",input_shape=(height, width, 1)),\n",
    "                      layers.RandomRotation(0.1),\n",
    "                      layers.RandomZoom(0.1),])\n",
    "                            \n",
    "  model = models.Sequential([\n",
    "                            data_augmentation,\n",
    "                            layers.Rescaling(1./255),\n",
    "                            layers.Conv2D(32, (3, 3), activation='relu'),\n",
    "                            layers.MaxPooling2D((2, 2)),\n",
    "                            layers.Conv2D(64, (3, 3), activation='relu'),\n",
    "                            layers.MaxPooling2D((2, 2)),\n",
    "                            layers.Conv2D(64, (3, 3), activation='relu'),\n",
    "                            layers.MaxPooling2D((2, 2)),\n",
    "                            layers.Dropout(0.2),\n",
    "                            layers.Flatten(),\n",
    "                            layers.Dense(64, activation='relu'),\n",
    "                            layers.Dense(1, activation='sigmoid'),\n",
    "                            ])\n",
    "\n",
    "  \n",
    "model.summary()"
   ]
  },
  {
   "cell_type": "code",
   "execution_count": 10,
   "metadata": {},
   "outputs": [],
   "source": [
    "model.compile(optimizer=opt, loss=lss, metrics=['accuracy'])"
   ]
  },
  {
   "cell_type": "markdown",
   "metadata": {},
   "source": [
    "### TRAINNING"
   ]
  },
  {
   "cell_type": "code",
   "execution_count": 11,
   "metadata": {},
   "outputs": [
    {
     "name": "stdout",
     "output_type": "stream",
     "text": [
      "Epoch 1/5\n",
      "11/11 [==============================] - 3s 137ms/step - loss: 0.5948 - accuracy: 0.6571 - val_loss: 0.3712 - val_accuracy: 0.8600\n",
      "Epoch 2/5\n",
      "11/11 [==============================] - 1s 122ms/step - loss: 0.4020 - accuracy: 0.8200 - val_loss: 0.2996 - val_accuracy: 0.8600\n",
      "Epoch 3/5\n",
      "11/11 [==============================] - 1s 117ms/step - loss: 0.4058 - accuracy: 0.8400 - val_loss: 0.3161 - val_accuracy: 0.8600\n",
      "Epoch 4/5\n",
      "11/11 [==============================] - 1s 120ms/step - loss: 0.3083 - accuracy: 0.8514 - val_loss: 0.2660 - val_accuracy: 0.9000\n",
      "Epoch 5/5\n",
      "11/11 [==============================] - 1s 119ms/step - loss: 0.2221 - accuracy: 0.9200 - val_loss: 0.3087 - val_accuracy: 0.8800\n"
     ]
    }
   ],
   "source": [
    "history =model.fit(X_train, Y_train, epochs=epch, validation_data=(X_eval,Y_eval))"
   ]
  },
  {
   "cell_type": "markdown",
   "metadata": {},
   "source": [
    "### EVALUATE MODEL"
   ]
  },
  {
   "cell_type": "code",
   "execution_count": 12,
   "metadata": {},
   "outputs": [
    {
     "data": {
      "image/png": "[encoded data removed]",
      "text/plain": [
       "<Figure size 1400x800 with 2 Axes>"
      ]
     },
     "metadata": {},
     "output_type": "display_data"
    }
   ],
   "source": [
    "fg_size=(14,8)\n",
    "\n",
    "acc = history.history['accuracy']\n",
    "val_acc = history.history['val_accuracy']\n",
    "\n",
    "loss = history.history['loss']\n",
    "val_loss = history.history['val_loss']\n",
    "\n",
    "epochs_range = range(epch)\n",
    "\n",
    "plt.figure(figsize=fg_size)\n",
    "plt.subplot(1, 2, 1)\n",
    "plt.plot(epochs_range, acc, label='Training Accuracy')\n",
    "plt.plot(epochs_range, val_acc, label='Validation Accuracy')\n",
    "plt.legend(loc='lower right')\n",
    "plt.title('Training and Validation Accuracy')\n",
    "plt.xlabel('Epochs')  \n",
    "plt.ylabel('Accuracy')  \n",
    "\n",
    "plt.subplot(1, 2, 2)\n",
    "plt.plot(epochs_range, loss, label='Training Loss')\n",
    "plt.plot(epochs_range, val_loss, label='Validation Loss')\n",
    "plt.legend(loc='upper right')\n",
    "plt.title('Training and Validation Loss')\n",
    "plt.xlabel('Epochs')  \n",
    "plt.ylabel('Loss')  \n",
    "plt.show()"
   ]
  },
  {
   "cell_type": "code",
   "execution_count": 13,
   "metadata": {},
   "outputs": [
    {
     "name": "stdout",
     "output_type": "stream",
     "text": [
      "2/2 - 0s - loss: 0.3087 - accuracy: 0.8800 - 62ms/epoch - 31ms/step\n",
      "Loss: 0.3087339997291565 Accuracy: 0.8799999952316284\n"
     ]
    }
   ],
   "source": [
    "test_loss, test_accuracy = model.evaluate(X_eval,Y_eval,verbose=2)\n",
    "\n",
    "print(f'Loss: {test_loss}',f'Accuracy: {test_accuracy}')"
   ]
  },
  {
   "cell_type": "markdown",
   "metadata": {},
   "source": [
    "### FORECAST"
   ]
  },
  {
   "cell_type": "markdown",
   "metadata": {},
   "source": [
    "GENERATE RANDOM IMAGE"
   ]
  },
  {
   "cell_type": "code",
   "execution_count": 120,
   "metadata": {},
   "outputs": [],
   "source": [
    "# generate random im\n",
    "\n",
    "n_rdm=np.random.rand()\n",
    "\n",
    "if n_rdm>=0.5:image,label=line_im(height=height, width=width,thickness=(1,3),color=color)\n",
    "else:image,label=circle_im(height=height, width=width,thickness=(1,3),color=color,filled=circles_filled)\n"
   ]
  },
  {
   "cell_type": "code",
   "execution_count": 121,
   "metadata": {},
   "outputs": [
    {
     "name": "stdout",
     "output_type": "stream",
     "text": [
      "1/1 - 0s - 18ms/epoch - 18ms/step\n"
     ]
    },
    {
     "name": "stdout",
     "output_type": "stream",
     "text": [
      "Real: line ----> Forecast: line\n",
      "Percentage: 99.68000054359436 %\n",
      " \n"
     ]
    },
    {
     "data": {
      "image/png": "[encoded data removed]",
      "text/plain": [
       "<Figure size 640x480 with 1 Axes>"
      ]
     },
     "metadata": {},
     "output_type": "display_data"
    }
   ],
   "source": [
    "# Forecast\n",
    "\n",
    "pred = model.predict(np.expand_dims(image, axis=0),verbose=2)\n",
    "CNN_lib.bin_forecast(pred,label=label,up_frc='line',down_frc='circle')\n",
    "\n",
    "plt.imshow(image, cmap='gray')\n",
    "plt.axis('off')\n",
    "plt.show()\n"
   ]
  }
 ],
 "metadata": {
  "kernelspec": {
   "display_name": ".venv",
   "language": "python",
   "name": "python3"
  },
  "language_info": {
   "codemirror_mode": {
    "name": "ipython",
    "version": 3
   },
   "file_extension": ".py",
   "mimetype": "text/x-python",
   "name": "python",
   "nbconvert_exporter": "python",
   "pygments_lexer": "ipython3",
   "version": "3.11.6"
  }
 },
 "nbformat": 4,
 "nbformat_minor": 2
}
