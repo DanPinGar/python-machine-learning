{
 "cells": [
  {
   "cell_type": "code",
   "execution_count": null,
   "metadata": {},
   "outputs": [],
   "source": [
    "import CNN_lib\n",
    "import CNN_utilities\n",
    "import fig_lib \n",
    "import CNN_machine\n",
    "\n",
    "import numpy as np\n",
    "import pickle\n",
    "\n",
    "import matplotlib.pyplot as plt\n",
    "\n",
    "from sklearn.model_selection import train_test_split\n",
    "from sklearn.metrics import confusion_matrix, classification_report"
   ]
  },
  {
   "cell_type": "markdown",
   "metadata": {},
   "source": [
    "# GENERAL PARAMETERS"
   ]
  },
  {
   "cell_type": "code",
   "execution_count": null,
   "metadata": {},
   "outputs": [],
   "source": [
    "\n",
    "checkpoint_path = \"C:/PROJECTS\\emboendo\\CNN\\python-machine-learning\\emboendo_ML\\embo_CNN_lab\\_static/checkpoints\"\n",
    "pkl_train_p='C:\\PROJECTS\\emboendo\\CNN/pikles/processed_train_d.pkl'  \n",
    "\n",
    "number_data_ls = [i for i in range(48, 530, 32)]\n",
    "check_points_p = [checkpoint_path+'_'+str(n)+'.h5' for n in number_data_ls]\n",
    "models_perf_d = {'model'+'_'+str(n):{} for n in number_data_ls}\n",
    "\n",
    "test_size = 0.2\n",
    "epochs = 7\n",
    "\n",
    "print(len(number_data_ls),number_data_ls)\n",
    "print(models_perf_d)\n"
   ]
  },
  {
   "cell_type": "markdown",
   "metadata": {},
   "source": [
    "## DATA LOAD"
   ]
  },
  {
   "cell_type": "code",
   "execution_count": null,
   "metadata": {},
   "outputs": [],
   "source": [
    "with open(pkl_train_p, 'rb') as pikle_file:\n",
    "    save_trains= pickle.load(pikle_file)\n",
    "\n",
    "Xx_train,Yy_train,rcs =  save_trains[0],save_trains[1],save_trains[2]\n",
    "max_frm_n, HEIGHT, WIDTH=np.shape(Xx_train)[1],np.shape(Xx_train)[2],np.shape(Xx_train)[3]\n",
    "input_shape=(max_frm_n, HEIGHT, WIDTH, 1)"
   ]
  },
  {
   "cell_type": "markdown",
   "metadata": {},
   "source": [
    "## MAIN DATA SHUFFLE"
   ]
  },
  {
   "cell_type": "code",
   "execution_count": null,
   "metadata": {},
   "outputs": [],
   "source": [
    "Xx_train,Yy_train,recs=CNN_lib.shuffle(Xx_train,Yy_train,rcs)"
   ]
  },
  {
   "cell_type": "markdown",
   "metadata": {},
   "source": [
    "## DATA SPLIT"
   ]
  },
  {
   "cell_type": "code",
   "execution_count": null,
   "metadata": {},
   "outputs": [],
   "source": [
    "test_size=0.2\n",
    "X_train_spl, X_eval_spl, Y_train_spl, Y_eval_spl = train_test_split(Xx_train, Yy_train, test_size=test_size, shuffle=False) #,random_state=42)\n",
    "\n",
    "recs_train =recs[0:len(Y_train_spl)]\n",
    "recs_eval =recs[len(Y_train_spl)::]"
   ]
  },
  {
   "cell_type": "markdown",
   "metadata": {},
   "source": [
    "## DATA AUGMENTATION"
   ]
  },
  {
   "cell_type": "code",
   "execution_count": null,
   "metadata": {},
   "outputs": [],
   "source": [
    "nf1_ls,nf0_ls,nc1_ls,nc0_ls,nb1_ls,nb0_ls= [],[],[],[],[],[]\n",
    "\n",
    "for nn in number_data_ls:\n",
    "\n",
    "    zeros_count = np.sum(Y_train_spl[0:nn] == 0)\n",
    "    ones_count= np.sum(Y_train_spl[0:nn] == 1)\n",
    "\n",
    "    n_flip_1=1\n",
    "    n_flip_0=0.07\n",
    "\n",
    "    nf1_ls.append(round(n_flip_1*ones_count))\n",
    "    nf0_ls.append(round(n_flip_0*zeros_count))\n",
    "\n",
    "    n_contr_1=0.4\n",
    "    n_contr_0=0.03\n",
    "\n",
    "    nc1_ls.append(round(n_contr_1*ones_count))\n",
    "    nc0_ls.append(round(n_contr_0*zeros_count))\n",
    "\n",
    "    n_bright_1=0.4\n",
    "    n_bright_0=0.04\n",
    "\n",
    "    nb1_ls.append(round(n_bright_1*ones_count))\n",
    "    nb0_ls.append(round(n_bright_0*zeros_count))\n"
   ]
  },
  {
   "cell_type": "code",
   "execution_count": null,
   "metadata": {},
   "outputs": [],
   "source": [
    "X_train , Y_train = [] , []\n",
    "\n",
    "for nn,nf1,nf0,nc1,nc0,nb1,nb0 in zip(number_data_ls,nf1_ls,nf0_ls,nc1_ls,nc0_ls,nb1_ls,nb0_ls):\n",
    "\n",
    "    print('Samples:',nn,',Flip 0:',nf0, ',Flip 1:',nf1,',Contr 0:',nc0,',Contr 1:',nc1,',Bright 0:',nb0,',Bright 1:',nb1)\n",
    "\n",
    "    \n",
    "    Flip_X_1,Flip_Y_1,Flip_recs_1=CNN_lib.main_aug_f(nf1,X_train_spl[0:nn],Y_train_spl[0:nn],recs[0:nn],label=1,typ='Flip')\n",
    "    Flip_X_0,Flip_Y_0,Flip_recs_0=CNN_lib.main_aug_f(nf0,X_train_spl[0:nn],Y_train_spl[0:nn],recs[0:nn],label=0,typ='Flip')\n",
    "\n",
    "    Cntr_X_1,Cntr_Y_1,Cntr_recs_1=CNN_lib.main_aug_f(nc1,X_train_spl[0:nn],Y_train_spl[0:nn],recs[0:nn],label=1,typ='Contrast')\n",
    "    Cntr_X_0,Cntr_Y_0,Cntr_recs_0=CNN_lib.main_aug_f(nc0,X_train_spl[0:nn],Y_train_spl[0:nn],recs[0:nn],label=0,typ='Contrast')\n",
    "\n",
    "    Bgr_X_1,Bgr_Y_1,Bgr_recs_1=CNN_lib.main_aug_f(nb1,X_train_spl[0:nn],Y_train_spl[0:nn],recs[0:nn],label=1,typ='Brightness')\n",
    "    Bgr_X_0,Bgr_Y_0,Bgr_recs_0=CNN_lib.main_aug_f(nb0,X_train_spl[0:nn],Y_train_spl[0:nn],recs[0:nn],label=0,typ='Brightness')\n",
    "\n",
    "    X_train_n = np.concatenate((X_train_spl[0:nn], Flip_X_1,Flip_X_0,Cntr_X_1,Cntr_X_0,Bgr_X_1,Bgr_X_0), axis=0)\n",
    "    Y_train_n = np.concatenate((Y_train_spl[0:nn], Flip_Y_1, Flip_Y_0,Cntr_Y_1,Cntr_Y_0,Bgr_Y_1,Bgr_Y_0))\n",
    "    \n",
    "    recs_n = recs_train[0:nn]+Flip_recs_1+Flip_recs_0+Cntr_recs_1+Cntr_recs_0+Bgr_recs_1+Bgr_recs_0\n",
    "\n",
    "    X_train.append(X_train_n)\n",
    "    Y_train.append(Y_train_n)"
   ]
  },
  {
   "cell_type": "code",
   "execution_count": null,
   "metadata": {},
   "outputs": [],
   "source": [
    "\n",
    "for xx, yy,nn in zip(X_train , Y_train,number_data_ls): print('Data:',nn,'X train shape:',xx.shape, 'Y train shape:',yy.shape )\n",
    "    "
   ]
  },
  {
   "cell_type": "markdown",
   "metadata": {},
   "source": [
    "# CNN"
   ]
  },
  {
   "cell_type": "code",
   "execution_count": null,
   "metadata": {},
   "outputs": [],
   "source": [
    "models=[CNN_machine.Gen_Model(input_shape,pp) for pp in check_points_p]"
   ]
  },
  {
   "cell_type": "code",
   "execution_count": null,
   "metadata": {},
   "outputs": [],
   "source": [
    "ii=1\n",
    "print(' ')\n",
    "for mdl,X,Y in zip(models,X_train,Y_train):\n",
    "    \n",
    "    print(f'-----------------{ii}-----------------')\n",
    "    mdl.train_model(X,Y,X_eval_spl,Y_eval_spl, epochs)\n",
    "    print('-----------------------------------')\n",
    "    print(' ')\n",
    "    ii+=1"
   ]
  },
  {
   "cell_type": "code",
   "execution_count": null,
   "metadata": {},
   "outputs": [],
   "source": [
    "#for mdl in models:CNN_lib.plot_train_eval(mdl.history,epochs)"
   ]
  },
  {
   "cell_type": "code",
   "execution_count": null,
   "metadata": {},
   "outputs": [],
   "source": [
    "for mdl in models: CNN_lib.plot_roc_curve(mdl.fpr_val,mdl.tpr_val,mdl.roc_auc)"
   ]
  },
  {
   "cell_type": "code",
   "execution_count": null,
   "metadata": {},
   "outputs": [],
   "source": [
    "AUC_ls=[mdl.roc_auc for mdl in models]\n",
    "number_points=[mdl.tr_pnt for mdl in models]\n",
    "\n",
    "plt.plot(number_points, AUC_ls, marker='o', linestyle='-', color='b', label='AUC')\n",
    "plt.xlabel('SAMPLES')\n",
    "plt.ylabel('AUC')\n",
    "plt.title('AUC VS SAMPLES')\n",
    "plt.show()"
   ]
  }
 ],
 "metadata": {
  "kernelspec": {
   "display_name": ".venv",
   "language": "python",
   "name": "python3"
  },
  "language_info": {
   "codemirror_mode": {
    "name": "ipython",
    "version": 3
   },
   "file_extension": ".py",
   "mimetype": "text/x-python",
   "name": "python",
   "nbconvert_exporter": "python",
   "pygments_lexer": "ipython3",
   "version": "3.11.7"
  }
 },
 "nbformat": 4,
 "nbformat_minor": 2
}
