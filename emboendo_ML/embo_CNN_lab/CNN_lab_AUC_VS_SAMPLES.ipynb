{
 "cells": [
  {
   "cell_type": "code",
   "execution_count": null,
   "metadata": {},
   "outputs": [],
   "source": [
    "import CNN_lib\n",
    "import CNN_utilities\n",
    "import fig_lib \n",
    "import CNN_machine\n",
    "\n",
    "import numpy as np\n",
    "import pickle\n",
    "import json\n",
    "\n",
    "import matplotlib.pyplot as plt\n",
    "\n",
    "from sklearn.model_selection import train_test_split\n",
    "from sklearn.metrics import confusion_matrix, classification_report"
   ]
  },
  {
   "cell_type": "markdown",
   "metadata": {},
   "source": [
    "# SETTINGS"
   ]
  },
  {
   "cell_type": "code",
   "execution_count": null,
   "metadata": {},
   "outputs": [],
   "source": [
    "trains_n=5\n",
    "\n",
    "data_split='rnd_patients'                                # 'rnd_recs' 'rnd_patients'\n",
    "\n",
    "checking_on=False\n",
    "t_btw_frm=0.05\n",
    "check_record_1= '670615_19'\n",
    "check_record_2= 'ROT_670615_19'"
   ]
  },
  {
   "cell_type": "code",
   "execution_count": null,
   "metadata": {},
   "outputs": [],
   "source": [
    "#number_data_ls = [i for i in range(48, 530, 32)]\n",
    "number_data_ls = [i for i in range(48, 530, 170)]\n",
    "models_d = {'model'+'_'+str(n):{'path':None,'name':None,'samples':n} for n in number_data_ls}\n",
    "\n",
    "epochs = 4\n",
    "\n",
    "models_d"
   ]
  },
  {
   "cell_type": "markdown",
   "metadata": {},
   "source": [
    "### DATA SPLIT"
   ]
  },
  {
   "cell_type": "code",
   "execution_count": null,
   "metadata": {},
   "outputs": [],
   "source": [
    "if data_split == 'rnd_recs': test_size=0.2           \n",
    "\n",
    "elif data_split == 'rnd_patients': patiens_split =[12,6]"
   ]
  },
  {
   "cell_type": "markdown",
   "metadata": {},
   "source": [
    "### DATA AUGMENTATION"
   ]
  },
  {
   "cell_type": "code",
   "execution_count": null,
   "metadata": {},
   "outputs": [],
   "source": [
    "n_flip_1,n_flip_0=0.7 , 0.07\n",
    "\n",
    "n_rot_1,n_rot_0=0.7 , 0.07\n",
    "\n",
    "n_contr_1,n_contr_0=0.4 , 0.04\n",
    "\n",
    "n_bright_1,n_bright_0=0.4 , 0.04\n",
    "\n",
    "aug_params={'f1':n_flip_1,'f0':n_flip_0,'r1':n_rot_1,'r0':n_rot_0,'c1':n_contr_1,'c0':n_contr_0,'b1':n_bright_1,'b0':n_bright_0}"
   ]
  },
  {
   "cell_type": "markdown",
   "metadata": {},
   "source": [
    "### PATHS"
   ]
  },
  {
   "cell_type": "code",
   "execution_count": null,
   "metadata": {},
   "outputs": [],
   "source": [
    "checkpoint_path = \"C:/PROJECTS\\emboendo\\CNN\\python-machine-learning\\emboendo_ML\\embo_CNN_lab\\_static/AUC_VS_SAMPLES_CHECKPOINTS/chP\"\n",
    "pkl_train_p='C:\\PROJECTS\\emboendo\\CNN/pikles/processed_train_d.pkl'  \n",
    "\n",
    "for n in number_data_ls:\n",
    "    \n",
    "    models_d['model'+'_'+str(n)]['path']=checkpoint_path+'_'+str(n)\n",
    "    models_d['model'+'_'+str(n)]['name']='MODEL'+ ' ' + str(n)\n",
    "\n",
    "check_points_p = [checkpoint_path+'_'+str(n)+'.h5' for n in range(trains_n)]\n",
    "\n",
    "if data_split == 'rnd_patients': json_fix_sq_p='C:\\PROJECTS\\emboendo\\dicom_viewer\\_static\\Jsons\\points_fix_d.json'"
   ]
  },
  {
   "cell_type": "markdown",
   "metadata": {},
   "source": [
    "# GENERATE TRAIN DATA"
   ]
  },
  {
   "cell_type": "code",
   "execution_count": null,
   "metadata": {},
   "outputs": [],
   "source": [
    "if data_split == 'rnd_patients':\n",
    "\n",
    "    with open(json_fix_sq_p, 'r') as json_file:\n",
    "        json_d = json.load(json_file)\n",
    "\n",
    "    patients_d_df =  CNN_utilities.gen_patients_d_df(json_d)"
   ]
  },
  {
   "cell_type": "code",
   "execution_count": null,
   "metadata": {},
   "outputs": [],
   "source": [
    "with open(pkl_train_p, 'rb') as pikle_file:\n",
    "\n",
    "    save_trains= pickle.load(pikle_file)\n",
    "\n",
    "x_train,y_train,rcs =  save_trains[0],save_trains[1],save_trains[2]\n",
    "\n",
    "max_frm_n, HEIGHT, WIDTH=np.shape(x_train)[1],np.shape(x_train)[2],np.shape(x_train)[3]\n",
    "input_shape=(max_frm_n, HEIGHT, WIDTH, 1)"
   ]
  },
  {
   "cell_type": "markdown",
   "metadata": {},
   "source": [
    "## MAIN DATA SHUFFLE"
   ]
  },
  {
   "cell_type": "code",
   "execution_count": null,
   "metadata": {},
   "outputs": [],
   "source": [
    "X_train,Y_train,recs=CNN_lib.shuffle(x_train,y_train,rcs)"
   ]
  },
  {
   "cell_type": "markdown",
   "metadata": {},
   "source": [
    "# CNN"
   ]
  },
  {
   "cell_type": "code",
   "execution_count": null,
   "metadata": {},
   "outputs": [],
   "source": [
    "models=[CNN_machine.Gen_Model(aug_params,patients_d_df,name=values['name'],path=values['path'],input_shape=input_shape,samples=values['samples']) for values in models_d.values()]"
   ]
  },
  {
   "cell_type": "code",
   "execution_count": null,
   "metadata": {},
   "outputs": [],
   "source": [
    "for mdl in models:\n",
    "    \n",
    "    print(f'---------------------------------- ---------------------------------- ---------- ---------------------------------- ----------------------------------')\n",
    "    print(f'---------------------------------- ---------------------------------- {mdl.name} ---------------------------------- ----------------------------------')\n",
    "    print(f'---------------------------------- ---------------------------------- ---------- ---------------------------------- ----------------------------------')\n",
    "    print(' ')\n",
    "\n",
    "    mdl.train_model(X_train,Y_train,recs, epochs,trains_n,patiens_split)\n",
    "\n",
    "    print(' ')\n",
    "    print(' ')"
   ]
  },
  {
   "cell_type": "code",
   "execution_count": null,
   "metadata": {},
   "outputs": [],
   "source": [
    "#for mdl in models:CNN_lib.plot_train_eval(mdl.history,epochs)"
   ]
  },
  {
   "cell_type": "code",
   "execution_count": null,
   "metadata": {},
   "outputs": [],
   "source": [
    "#for mdl in models: CNN_lib.plot_roc_curve(mdl.fpr_val,mdl.tpr_val,mdl.roc_auc)"
   ]
  },
  {
   "cell_type": "code",
   "execution_count": null,
   "metadata": {},
   "outputs": [],
   "source": [
    "for mdl in models:CNN_lib.list_plot(mdl.roc_aucs,title=mdl.name,ylabel='AUCS')"
   ]
  },
  {
   "cell_type": "code",
   "execution_count": null,
   "metadata": {},
   "outputs": [],
   "source": [
    "AUC_ls=[np.mean(mdl.roc_aucs) for mdl in models]\n",
    "number_points=[mdl.samples for mdl in models]\n",
    "\n",
    "\n",
    "\n",
    "CNN_lib.simple_plot(number_points,AUC_ls,title='MEAN AUC VS SAMPLES',xlabel='SAMPLES',ylabel='MEAN AUC')"
   ]
  }
 ],
 "metadata": {
  "kernelspec": {
   "display_name": ".venv",
   "language": "python",
   "name": "python3"
  },
  "language_info": {
   "codemirror_mode": {
    "name": "ipython",
    "version": 3
   },
   "file_extension": ".py",
   "mimetype": "text/x-python",
   "name": "python",
   "nbconvert_exporter": "python",
   "pygments_lexer": "ipython3",
   "version": "3.11.7"
  }
 },
 "nbformat": 4,
 "nbformat_minor": 2
}
