{
 "cells": [
  {
   "cell_type": "markdown",
   "metadata": {},
   "source": [
    "# KERNEL CLEAN"
   ]
  },
  {
   "cell_type": "code",
   "execution_count": 1,
   "metadata": {},
   "outputs": [],
   "source": [
    "%reset -f -s\n",
    "\n",
    "import gc"
   ]
  },
  {
   "cell_type": "markdown",
   "metadata": {},
   "source": [
    "# LIBRARIES IMPORT"
   ]
  },
  {
   "cell_type": "code",
   "execution_count": 2,
   "metadata": {},
   "outputs": [
    {
     "name": "stdout",
     "output_type": "stream",
     "text": [
      "WARNING:tensorflow:From c:\\PROJECTS\\emboendo\\.venv\\Lib\\site-packages\\keras\\src\\losses.py:2976: The name tf.losses.sparse_softmax_cross_entropy is deprecated. Please use tf.compat.v1.losses.sparse_softmax_cross_entropy instead.\n",
      "\n"
     ]
    }
   ],
   "source": [
    "# imports\n",
    "\n",
    "import CNN_lib\n",
    "import CNN_utilities\n",
    "import fig_lib \n",
    "\n",
    "import numpy as np\n",
    "import matplotlib.pyplot as plt\n",
    "import pickle\n",
    "\n",
    "from tensorflow.keras import layers, models\n",
    "from tensorflow.keras.callbacks import ModelCheckpoint\n",
    "from tensorflow.keras.models import load_model\n",
    "\n",
    "\n",
    "from sklearn.model_selection import train_test_split\n",
    "from sklearn.metrics import roc_curve, auc\n",
    "from sklearn.metrics import confusion_matrix, classification_report\n"
   ]
  },
  {
   "cell_type": "code",
   "execution_count": 3,
   "metadata": {},
   "outputs": [],
   "source": [
    "d_type='processed'     # 'processed', 'synthetic'\n",
    "video_d=True            # Video = True , Image = False \n",
    "test_data,number_data_points= False,500\n",
    "\n",
    "t_btw_frm=0.05\n",
    "\n",
    "checking_on=False\n",
    "\n",
    "data_augmentation= True\n",
    "\n",
    "checkpoint_path = \"C:/PROJECTS\\emboendo\\CNN\\python-machine-learning\\emboendo_ML\\embo_CNN_lab\\_static/model_checkpoint.h5\"\n",
    "\n",
    "if d_type=='processed' : pkl_train_p='C:\\PROJECTS\\emboendo\\CNN/pikles/processed_train_d.pkl'  \n",
    "elif d_type=='synthetic' : pkl_train_p='C:\\PROJECTS\\emboendo\\CNN/pikles/synthetic_train_d.pkl'   \n",
    "     "
   ]
  },
  {
   "cell_type": "markdown",
   "metadata": {},
   "source": [
    "# CNN"
   ]
  },
  {
   "cell_type": "markdown",
   "metadata": {},
   "source": [
    "### GENERATE TRAIN DATA"
   ]
  },
  {
   "cell_type": "code",
   "execution_count": 4,
   "metadata": {},
   "outputs": [],
   "source": [
    "# X_train,Y_train\n",
    "\n",
    "with open(pkl_train_p, 'rb') as pikle_file:\n",
    "\n",
    "    save_trains= pickle.load(pikle_file)\n",
    "\n",
    "x_train,y_train,rcs =  save_trains[0],save_trains[1],save_trains[2]\n",
    "\n",
    "max_frm_n, HEIGHT, WIDTH=np.shape(x_train)[1],np.shape(x_train)[2],np.shape(x_train)[3]\n"
   ]
  },
  {
   "cell_type": "markdown",
   "metadata": {},
   "source": [
    "### CHECK 1"
   ]
  },
  {
   "cell_type": "code",
   "execution_count": 5,
   "metadata": {},
   "outputs": [],
   "source": [
    "if checking_on:\n",
    "\n",
    "    for x,y,r in zip(x_train,y_train,rcs):\n",
    "        print(r,int(y),np.shape(x),type(x))"
   ]
  },
  {
   "cell_type": "code",
   "execution_count": 6,
   "metadata": {},
   "outputs": [],
   "source": [
    "if checking_on:\n",
    "\n",
    "    rec_elm='I70'\n",
    "    idx=rcs.index(rec_elm)\n",
    "    y_train[idx]"
   ]
  },
  {
   "cell_type": "code",
   "execution_count": 7,
   "metadata": {},
   "outputs": [],
   "source": [
    "if checking_on:fig_lib.vid_show(x_train[idx],t_btw_frm=t_btw_frm)"
   ]
  },
  {
   "cell_type": "code",
   "execution_count": 8,
   "metadata": {},
   "outputs": [],
   "source": [
    "if test_data:\n",
    "\n",
    "    total_data_points=len(y_train)\n",
    "    test_len=total_data_points-number_data_points\n",
    "    \n",
    "    Xx_train=x_train[0:number_data_points]\n",
    "    Yy_train=y_train[0:number_data_points]\n",
    "    rcs=rcs[0:number_data_points]\n",
    "\n",
    "else:\n",
    "\n",
    "    Xx_train=x_train\n",
    "    Yy_train=y_train\n"
   ]
  },
  {
   "cell_type": "markdown",
   "metadata": {},
   "source": [
    "## DATA SHUFFLE 1"
   ]
  },
  {
   "cell_type": "code",
   "execution_count": 9,
   "metadata": {},
   "outputs": [],
   "source": [
    "idx_permut = np.random.permutation(len(Xx_train))\n",
    "Xx_train,Yy_train=Xx_train[idx_permut],Yy_train[idx_permut]\n",
    "recs=list(np.take(rcs, idx_permut))\n"
   ]
  },
  {
   "cell_type": "markdown",
   "metadata": {},
   "source": [
    "### CHECK 2"
   ]
  },
  {
   "cell_type": "code",
   "execution_count": 10,
   "metadata": {},
   "outputs": [],
   "source": [
    "if checking_on:\n",
    "\n",
    "    rec_elm='AUG_I70'\n",
    "    idx=recs.index(rec_elm)\n",
    "    print(idx,Yy_train[idx])"
   ]
  },
  {
   "cell_type": "code",
   "execution_count": 11,
   "metadata": {},
   "outputs": [],
   "source": [
    "if checking_on:fig_lib.vid_show(Xx_train[idx],t_btw_frm=t_btw_frm)"
   ]
  },
  {
   "cell_type": "markdown",
   "metadata": {},
   "source": [
    "### DATA SPLIT"
   ]
  },
  {
   "cell_type": "code",
   "execution_count": 18,
   "metadata": {},
   "outputs": [
    {
     "name": "stdout",
     "output_type": "stream",
     "text": [
      "Train data: 528 Evaluation data: 132\n"
     ]
    }
   ],
   "source": [
    "test_size=0.2\n",
    "\n",
    "X_train_spl, X_eval_spl, Y_train_spl, Y_eval_spl = train_test_split(Xx_train, Yy_train, test_size=test_size, shuffle=False) #,random_state=42)\n",
    "\n",
    "print('Train data:',len(Y_train_spl),'Evaluation data:',len(Y_eval_spl))\n",
    "if test_data:print('Test_len:',test_len)"
   ]
  },
  {
   "cell_type": "code",
   "execution_count": 19,
   "metadata": {},
   "outputs": [
    {
     "name": "stdout",
     "output_type": "stream",
     "text": [
      " Train data shape: (528, 40, 160, 160, 1)  Validation data shape: (132, 40, 160, 160, 1)\n"
     ]
    },
    {
     "data": {
      "image/png": "[encoded data removed]",
      "text/plain": [
       "<Figure size 640x480 with 1 Axes>"
      ]
     },
     "metadata": {},
     "output_type": "display_data"
    }
   ],
   "source": [
    "# check data\n",
    "\n",
    "zeros_count = np.sum(Y_train_spl == 0)\n",
    "ones_count = np.sum(Y_train_spl == 1)\n",
    "zeros_count_val = np.sum(Y_eval_spl == 0)\n",
    "ones_count_val = np.sum(Y_eval_spl == 1)\n",
    "\n",
    "labels = ['0 Train', '1 Train','0 Validation', '1 Validation']\n",
    "print(' Train data shape:', np.shape(X_train_spl),' Validation data shape:', np.shape(X_eval_spl))\n",
    "\n",
    "plt.bar(labels, [zeros_count, ones_count,zeros_count_val,ones_count_val], color=['green', 'blue','green', 'blue'])\n",
    "\n",
    "for i, count in enumerate([zeros_count, ones_count,zeros_count_val,ones_count_val]):\n",
    "\n",
    "    plt.text(i, count + 0.1, str(count), ha='center', va='bottom')\n",
    "\n",
    "plt.title('Data Labels Before Augmentation')\n",
    "plt.show()"
   ]
  },
  {
   "cell_type": "markdown",
   "metadata": {},
   "source": [
    "# DATA AUGMENTATION"
   ]
  },
  {
   "cell_type": "code",
   "execution_count": 20,
   "metadata": {},
   "outputs": [],
   "source": [
    "if data_augmentation:\n",
    "    \n",
    "    number_train_aug_1=120\n",
    "    number_train_aug_0=20\n",
    "\n",
    "    number_validation_aug_1=10\n",
    "    number_validation_aug_0=4"
   ]
  },
  {
   "cell_type": "code",
   "execution_count": 21,
   "metadata": {},
   "outputs": [],
   "source": [
    "#video = tf.image.random_brightness(video, max_delta=0.9)    # OK\n",
    "#video = tf.image.random_contrast(video, lower=0.5, upper=10)   # OK\n",
    "\n",
    "if data_augmentation:\n",
    "\n",
    "    aug_X_train_1,aug_Y_train_1,aug_train_recs_1=CNN_lib.main_aug_f(number_train_aug_1,X_train_spl,Y_train_spl,recs,label=1)\n",
    "    aug_X_train_0,aug_Y_train_0,aug_train_recs_0=CNN_lib.main_aug_f(number_train_aug_0,X_train_spl,Y_train_spl,recs,label=0)\n",
    "\n",
    "    aug_X_eval_1,aug_Y_eval_1,aug_eval_recs_1=CNN_lib.main_aug_f(number_validation_aug_1,X_eval_spl,Y_eval_spl,recs,label=1)\n",
    "    aug_X_eval_0,aug_Y_eval_0,aug_eval_recs_0=CNN_lib.main_aug_f(number_validation_aug_0,X_eval_spl,Y_eval_spl,recs,label=0)"
   ]
  },
  {
   "cell_type": "code",
   "execution_count": 22,
   "metadata": {},
   "outputs": [
    {
     "name": "stdout",
     "output_type": "stream",
     "text": [
      "(132, 40, 160, 160, 1) (132,)\n",
      "(668, 40, 160, 160, 1) (668,)\n",
      "(272, 40, 160, 160, 1) (146,)\n"
     ]
    }
   ],
   "source": [
    "if data_augmentation:\n",
    "\n",
    "    X_train_spl = np.concatenate((X_train_spl, aug_X_train_1,aug_X_train_0), axis=0)\n",
    "    Y_train_spl = np.concatenate((Y_train_spl, aug_Y_train_1, aug_Y_train_0))\n",
    "    \n",
    "    X_eval_spl = np.concatenate((X_eval_spl, aug_X_eval_1,aug_X_eval_0), axis=0)\n",
    "    Y_eval_spl = np.concatenate((Y_eval_spl, aug_Y_eval_1, aug_Y_eval_0))\n",
    "    \n",
    "    recs = recs+aug_train_recs_1+aug_train_recs_0+aug_eval_recs_1+aug_eval_recs_0\n",
    "\n",
    "    print(X_train_spl.shape,Y_train_spl.shape)\n",
    "    print(X_eval_spl.shape,Y_eval_spl.shape)\n"
   ]
  },
  {
   "cell_type": "markdown",
   "metadata": {},
   "source": [
    "### DATA SHUFFLE 2"
   ]
  },
  {
   "cell_type": "code",
   "execution_count": 23,
   "metadata": {},
   "outputs": [
    {
     "ename": "IndexError",
     "evalue": "index 214 is out of bounds for axis 0 with size 146",
     "output_type": "error",
     "traceback": [
      "\u001b[1;31m---------------------------------------------------------------------------\u001b[0m",
      "\u001b[1;31mIndexError\u001b[0m                                Traceback (most recent call last)",
      "Cell \u001b[1;32mIn[23], line 7\u001b[0m\n\u001b[0;32m      4\u001b[0m     final_recs\u001b[38;5;241m=\u001b[39mrecs\n\u001b[0;32m      6\u001b[0m     X_train,Y_train\u001b[38;5;241m=\u001b[39mCNN_lib\u001b[38;5;241m.\u001b[39mshuffle(X_train_spl,Y_train_spl)\n\u001b[1;32m----> 7\u001b[0m     X_eval,Y_eval\u001b[38;5;241m=\u001b[39m\u001b[43mCNN_lib\u001b[49m\u001b[38;5;241;43m.\u001b[39;49m\u001b[43mshuffle\u001b[49m\u001b[43m(\u001b[49m\u001b[43mX_eval_spl\u001b[49m\u001b[43m,\u001b[49m\u001b[43mY_eval_spl\u001b[49m\u001b[43m)\u001b[49m\n\u001b[0;32m      9\u001b[0m \u001b[38;5;28;01melse\u001b[39;00m:\n\u001b[0;32m     11\u001b[0m     Y_train \u001b[38;5;241m=\u001b[39m Y_train_spl\n",
      "File \u001b[1;32mc:\\PROJECTS\\emboendo\\CNN\\python-machine-learning\\emboendo_ML\\embo_CNN_lab\\CNN_lib.py:27\u001b[0m, in \u001b[0;36mshuffle\u001b[1;34m(x, y, r)\u001b[0m\n\u001b[0;32m     24\u001b[0m \u001b[38;5;28;01mdef\u001b[39;00m \u001b[38;5;21mshuffle\u001b[39m(x,y,r\u001b[38;5;241m=\u001b[39m\u001b[38;5;28;01mNone\u001b[39;00m):\n\u001b[0;32m     26\u001b[0m     idx \u001b[38;5;241m=\u001b[39m np\u001b[38;5;241m.\u001b[39mrandom\u001b[38;5;241m.\u001b[39mpermutation(\u001b[38;5;28mlen\u001b[39m(x))\n\u001b[1;32m---> 27\u001b[0m     xx,yy\u001b[38;5;241m=\u001b[39m\u001b[43my\u001b[49m\u001b[43m[\u001b[49m\u001b[43midx\u001b[49m\u001b[43m]\u001b[49m,y[idx]\n\u001b[0;32m     28\u001b[0m     \u001b[38;5;66;03m#rr=list(np.take(r, idx))\u001b[39;00m\n\u001b[0;32m     30\u001b[0m     \u001b[38;5;28;01mreturn\u001b[39;00m xx,yy\n",
      "\u001b[1;31mIndexError\u001b[0m: index 214 is out of bounds for axis 0 with size 146"
     ]
    }
   ],
   "source": [
    "if data_augmentation:\n",
    "\n",
    "    \n",
    "    final_recs=recs\n",
    "\n",
    "    X_train,Y_train=CNN_lib.shuffle(X_train_spl,Y_train_spl)\n",
    "    X_eval,Y_eval=CNN_lib.shuffle(X_eval_spl,Y_eval_spl)\n",
    "    \n",
    "else:\n",
    "\n",
    "    Y_train = Y_train_spl\n",
    "    X_train = X_train_spl\n",
    "    X_eval=X_eval_spl\n",
    "    Y_eval=Y_eval_spl\n",
    "    final_recs = recs"
   ]
  },
  {
   "cell_type": "code",
   "execution_count": null,
   "metadata": {},
   "outputs": [],
   "source": [
    "# check data\n",
    "if data_augmentation:\n",
    "\n",
    "    zeros_count = np.sum(Y_train == 0)\n",
    "    ones_count = np.sum(Y_train == 1)\n",
    "    zeros_count_val = np.sum(Y_eval == 0)\n",
    "    ones_count_val = np.sum(Y_eval == 1)\n",
    "\n",
    "    labels = ['0 Train', '1 Train','0 Validation', '1 Validation']\n",
    "    print(' Train data shape:', np.shape(X_train),' Validation data shape:', np.shape(X_eval))\n",
    "\n",
    "    plt.bar(labels, [zeros_count, ones_count,zeros_count_val,ones_count_val], color=['red', 'blue','red', 'blue'])\n",
    "\n",
    "    for i, count in enumerate([zeros_count, ones_count,zeros_count_val,ones_count_val]):\n",
    "\n",
    "        plt.text(i, count + 0.1, str(count), ha='center', va='bottom')\n",
    "\n",
    "    plt.title('Data Labels After Augmentation')\n",
    "    plt.show()"
   ]
  },
  {
   "cell_type": "markdown",
   "metadata": {},
   "source": [
    "#  CNN"
   ]
  },
  {
   "cell_type": "code",
   "execution_count": null,
   "metadata": {},
   "outputs": [],
   "source": [
    "print('LIBRARY MODELS:')\n",
    "print(' ')\n",
    "\n",
    "for model_name in CNN_lib.MODELS.values(): print(model_name)"
   ]
  },
  {
   "cell_type": "code",
   "execution_count": null,
   "metadata": {},
   "outputs": [],
   "source": [
    "# -------- CNN PARAMS --------\n",
    "\n",
    "# -------- MODEL --------\n",
    "\n",
    "model_from_CNN_lib,mdl= False,'video_conv3D'\n",
    "\n",
    "opt='adam'\n",
    "lss='binary_crossentropy'\n",
    "\n",
    "# -------- TRAINNING --------\n",
    "\n",
    "epch=9\n"
   ]
  },
  {
   "cell_type": "markdown",
   "metadata": {},
   "source": [
    "### MODEL"
   ]
  },
  {
   "cell_type": "code",
   "execution_count": null,
   "metadata": {},
   "outputs": [],
   "source": [
    "gc.collect()"
   ]
  },
  {
   "cell_type": "code",
   "execution_count": null,
   "metadata": {},
   "outputs": [],
   "source": [
    "# MODEL \n",
    "\n",
    "if model_from_CNN_lib:\n",
    "  \n",
    "  if video_d: model = CNN_lib.lib_models(mdl,im_input_shp=(max_frm_n, HEIGHT, WIDTH, 1))\n",
    "  else: model = CNN_lib.lib_models(mdl,im_input_shp=(HEIGHT, WIDTH,1))\n",
    "\n",
    "else:\n",
    "\n",
    "  model = models.Sequential([\n",
    "          layers.Conv3D(filters=16, kernel_size=(3, 3, 3), activation='relu',input_shape=(max_frm_n, HEIGHT, WIDTH, 1)),\n",
    "          layers.MaxPooling3D(pool_size=(2, 2, 2)),\n",
    "          layers.Conv3D(filters=32, kernel_size=(1, 3, 3),  activation='relu'),\n",
    "          layers.Dropout(0.2),\n",
    "          layers.MaxPooling3D(pool_size=(2, 2, 2)),\n",
    "          layers.Conv3D(filters=32, kernel_size=(3, 3, 3),  activation='relu'),\n",
    "          layers.MaxPooling3D(pool_size=(2, 2, 2)),\n",
    "          layers.Conv3D(filters=16, kernel_size=(1, 3, 3),  activation='relu'),\n",
    "          layers.Flatten(),\n",
    "          layers.Dropout(0.2),\n",
    "          layers.Dense(64, activation='relu'),\n",
    "          layers.Dense(1,activation='sigmoid')\n",
    "          ])\n",
    "\n",
    "\n",
    "model.summary()"
   ]
  },
  {
   "cell_type": "code",
   "execution_count": null,
   "metadata": {},
   "outputs": [],
   "source": [
    "model.compile(optimizer=opt, loss=lss, metrics=['accuracy'])"
   ]
  },
  {
   "cell_type": "code",
   "execution_count": null,
   "metadata": {},
   "outputs": [],
   "source": [
    "checkpoint = ModelCheckpoint(checkpoint_path, save_best_only=True, monitor='val_loss',   mode='min', verbose=1)            \n"
   ]
  },
  {
   "cell_type": "markdown",
   "metadata": {},
   "source": [
    "### TRAINNING"
   ]
  },
  {
   "cell_type": "code",
   "execution_count": null,
   "metadata": {},
   "outputs": [],
   "source": [
    "history =model.fit(X_train, Y_train, epochs=epch, validation_data=(X_eval,Y_eval),callbacks=[checkpoint])"
   ]
  },
  {
   "cell_type": "markdown",
   "metadata": {},
   "source": [
    "### EVALUATE MODEL"
   ]
  },
  {
   "cell_type": "code",
   "execution_count": null,
   "metadata": {},
   "outputs": [],
   "source": [
    "fg_size=(14,8)\n",
    "\n",
    "acc = history.history['accuracy']\n",
    "val_acc = history.history['val_accuracy']\n",
    "\n",
    "loss = history.history['loss']\n",
    "val_loss = history.history['val_loss']\n",
    "\n",
    "epochs_range = range(epch)\n",
    "\n",
    "plt.figure(figsize=fg_size)\n",
    "plt.subplot(1, 2, 1)\n",
    "plt.plot(epochs_range, acc, label='Training Accuracy')\n",
    "plt.plot(epochs_range, val_acc, label='Validation Accuracy')\n",
    "plt.legend(loc='lower right')\n",
    "plt.title('Training and Validation Accuracy')\n",
    "plt.xlabel('Epochs')  \n",
    "plt.ylabel('Accuracy')  \n",
    "\n",
    "plt.subplot(1, 2, 2)\n",
    "plt.plot(epochs_range[1:-1], loss[1:-1], label='Training Loss')\n",
    "plt.plot(epochs_range[1:-1], val_loss[1:-1], label='Validation Loss')\n",
    "plt.legend(loc='upper right')\n",
    "plt.title('Training and Validation Loss')\n",
    "plt.xlabel('Epochs')  \n",
    "plt.ylabel('Loss')  \n",
    "plt.show()"
   ]
  },
  {
   "cell_type": "code",
   "execution_count": null,
   "metadata": {},
   "outputs": [],
   "source": [
    "test_loss, test_accuracy = model.evaluate(X_eval,Y_eval,verbose=2)\n",
    "\n",
    "print(f'Loss: {test_loss}',f'Accuracy: {test_accuracy}')"
   ]
  },
  {
   "cell_type": "markdown",
   "metadata": {},
   "source": [
    "### BEST EPOCH"
   ]
  },
  {
   "cell_type": "code",
   "execution_count": null,
   "metadata": {},
   "outputs": [],
   "source": [
    "model = load_model(checkpoint_path)\n",
    "test_loss, test_accuracy = model.evaluate(X_eval,Y_eval,verbose=2)\n",
    "print(f'Loss: {test_loss}',f'Accuracy: {test_accuracy}')"
   ]
  },
  {
   "cell_type": "code",
   "execution_count": null,
   "metadata": {},
   "outputs": [],
   "source": [
    "performance_d={'NAME':mdl,\n",
    "               'ACCURACY':test_accuracy,\n",
    "               'LOSS':test_loss,\n",
    "               'HEIGHT':HEIGHT,\n",
    "               'WIDTH':WIDTH}\n",
    "\n",
    "performance_d"
   ]
  },
  {
   "cell_type": "markdown",
   "metadata": {},
   "source": [
    "# VALIDATION DATA"
   ]
  },
  {
   "cell_type": "code",
   "execution_count": null,
   "metadata": {},
   "outputs": [],
   "source": [
    "predictions = model.predict(X_eval)\n",
    "print(predictions)\n",
    "\n"
   ]
  },
  {
   "cell_type": "markdown",
   "metadata": {},
   "source": [
    "## ROC CURVE"
   ]
  },
  {
   "cell_type": "code",
   "execution_count": null,
   "metadata": {},
   "outputs": [],
   "source": [
    "\n",
    "fpr_val, tpr_val, thresholds_val = roc_curve(Y_eval, predictions)\n",
    "\n",
    "roc_auc_false = auc(fpr_val, tpr_val)\n",
    "roc_auc_thresholds = auc(thresholds_val, tpr_val)"
   ]
  },
  {
   "cell_type": "code",
   "execution_count": null,
   "metadata": {},
   "outputs": [],
   "source": [
    "plt.figure(figsize=(8, 8))\n",
    "\n",
    "plt.plot(fpr_val, tpr_val, color='darkorange', lw=2, label=f'AUC = {roc_auc_false:.2f}')\n",
    "plt.plot(thresholds_val, tpr_val, color='green', lw=2)\n",
    "plt.plot([0, 1], [0, 1], color='navy', lw=2, linestyle='--')\n",
    "plt.xlabel('False Positive Rate(orange) / threshold (green)')\n",
    "plt.ylabel('True Positive Rate')\n",
    "plt.title('ROC Curve Validation Data')\n",
    "plt.legend(loc='lower right')\n",
    "plt.show()"
   ]
  },
  {
   "cell_type": "markdown",
   "metadata": {},
   "source": [
    "#  FORECAST EVALUATION"
   ]
  },
  {
   "cell_type": "code",
   "execution_count": null,
   "metadata": {},
   "outputs": [],
   "source": [
    "predictions_raw=[]\n",
    "\n",
    "trsh=0.35\n",
    "\n",
    "for pred in predictions:\n",
    "\n",
    "    if pred < trsh:predictions_raw.append(0)\n",
    "    else:predictions_raw.append(1)\n",
    "\n",
    "predictions_raw=np.array(predictions_raw)\n"
   ]
  },
  {
   "cell_type": "code",
   "execution_count": null,
   "metadata": {},
   "outputs": [],
   "source": [
    "conf_matrix = confusion_matrix(Y_eval, predictions_raw)\n",
    "\n",
    "print(\"Matriz de Confusión:\")\n",
    "print(conf_matrix)\n",
    "\n",
    "# Obtener el informe de clasificación\n",
    "classification_report_str = classification_report(Y_eval, predictions_raw)\n",
    "print(\"Informe de Clasificación:\")\n",
    "print(classification_report_str)\n",
    "\n"
   ]
  },
  {
   "cell_type": "code",
   "execution_count": null,
   "metadata": {},
   "outputs": [],
   "source": [
    "true_classes = Y_eval  \n",
    "\n",
    "correctly_classified_indices = np.where(predictions_raw == true_classes)[0]\n",
    "incorrectly_classified_indices = np.where(predictions_raw != true_classes)[0]\n",
    "\n",
    "correctly_classified_video_ids = [video_id for video_id in correctly_classified_indices]\n",
    "incorrectly_classified_video_ids = [video_id for video_id in incorrectly_classified_indices]\n",
    "\n",
    "num_zeros = np.count_nonzero(Y_eval == 0)\n",
    "num_ones = np.count_nonzero(Y_eval == 1)\n"
   ]
  },
  {
   "cell_type": "code",
   "execution_count": null,
   "metadata": {},
   "outputs": [],
   "source": [
    "correct_labels_val = [Y_eval[i] for i in correctly_classified_indices]\n",
    "print(correct_labels_val)"
   ]
  },
  {
   "cell_type": "code",
   "execution_count": null,
   "metadata": {},
   "outputs": [],
   "source": [
    "\n",
    "print(f\"OK, {len(correctly_classified_video_ids)}\")\n",
    "print(f\"BAD, {len(incorrectly_classified_video_ids)}\")\n",
    "print(f'Ratio forecast: {len(correctly_classified_video_ids)/len(incorrectly_classified_video_ids)}')\n",
    "print(f'Ratio labeling: {max([num_ones,num_zeros])/min([num_ones,num_zeros])}')\n"
   ]
  },
  {
   "cell_type": "markdown",
   "metadata": {},
   "source": [
    "## SINGLE FORECAST"
   ]
  },
  {
   "cell_type": "code",
   "execution_count": null,
   "metadata": {},
   "outputs": [],
   "source": [
    "rec_elm=['I1','I28','I70','109897_1','670615_10']\n",
    "idx_list=[]\n",
    "for element in rec_elm:\n",
    "    idx_list.append(final_recs.index(element))\n",
    "\n",
    "label_list=y_train[idx_list]\n",
    "print(idx_list,label_list)"
   ]
  },
  {
   "cell_type": "code",
   "execution_count": null,
   "metadata": {},
   "outputs": [],
   "source": [
    "idx_val=round((1-test_size)*len(y_train))+1\n",
    "print(f'data lengh: {len(y_train)} , idx validation start: {idx_val} ')\n",
    "print(f' Record: {rec_elm} , index: {idx_list}, real label: {label_list}')"
   ]
  },
  {
   "cell_type": "code",
   "execution_count": null,
   "metadata": {},
   "outputs": [],
   "source": [
    "nuevo_video = np.expand_dims(X_eval[max(idx_list)-idx_val], axis=0)\n",
    "\n",
    "# Realizar la predicción\n",
    "prediccion = model.predict(nuevo_video)\n",
    "prediccion"
   ]
  }
 ],
 "metadata": {
  "kernelspec": {
   "display_name": ".venv",
   "language": "python",
   "name": "python3"
  },
  "language_info": {
   "codemirror_mode": {
    "name": "ipython",
    "version": 3
   },
   "file_extension": ".py",
   "mimetype": "text/x-python",
   "name": "python",
   "nbconvert_exporter": "python",
   "pygments_lexer": "ipython3",
   "version": "3.11.6"
  }
 },
 "nbformat": 4,
 "nbformat_minor": 2
}
