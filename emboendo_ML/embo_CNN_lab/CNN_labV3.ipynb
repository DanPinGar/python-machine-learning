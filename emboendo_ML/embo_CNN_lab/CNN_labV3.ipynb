{
 "cells": [
  {
   "cell_type": "markdown",
   "metadata": {},
   "source": [
    "# KERNEL CLEAN"
   ]
  },
  {
   "cell_type": "code",
   "execution_count": 1,
   "metadata": {},
   "outputs": [],
   "source": [
    "%reset -f -s\n",
    "\n",
    "import gc"
   ]
  },
  {
   "cell_type": "markdown",
   "metadata": {},
   "source": [
    "# LIBRARIES IMPORT"
   ]
  },
  {
   "cell_type": "code",
   "execution_count": 2,
   "metadata": {},
   "outputs": [
    {
     "name": "stdout",
     "output_type": "stream",
     "text": [
      "WARNING:tensorflow:From c:\\PROJECTS\\EMBOENDO\\.venv\\Lib\\site-packages\\keras\\src\\losses.py:2976: The name tf.losses.sparse_softmax_cross_entropy is deprecated. Please use tf.compat.v1.losses.sparse_softmax_cross_entropy instead.\n",
      "\n"
     ]
    }
   ],
   "source": [
    "# imports\n",
    "\n",
    "import CNN_lib\n",
    "import CNN_utilities\n",
    "import fig_lib \n",
    "\n",
    "import numpy as np\n",
    "import matplotlib.pyplot as plt\n",
    "import pickle\n",
    "\n",
    "from tensorflow.keras import layers, models\n",
    "from tensorflow.keras.callbacks import ModelCheckpoint\n",
    "from tensorflow.keras.models import load_model\n",
    "\n",
    "\n",
    "from sklearn.model_selection import train_test_split\n",
    "from sklearn.metrics import roc_curve, auc\n",
    "from sklearn.metrics import confusion_matrix, classification_report\n"
   ]
  },
  {
   "cell_type": "code",
   "execution_count": 3,
   "metadata": {},
   "outputs": [],
   "source": [
    "d_type='processed'     # 'processed', 'synthetic'\n",
    "video_d=True            # Video = True , Image = False \n",
    "test_data,number_data_points= False,500\n",
    "\n",
    "t_btw_frm=0.05\n",
    "\n",
    "checking_on=False\n",
    "\n",
    "data_augmentation= True\n",
    "\n",
    "checkpoint_path = \"C:/PROJECTS\\emboendo\\CNN\\python-machine-learning\\emboendo_ML\\embo_CNN_lab\\_static/model_checkpoint.h5\"\n",
    "\n",
    "if d_type=='processed' : pkl_train_p='C:\\PROJECTS\\emboendo\\CNN/pikles/processed_train_d.pkl'  \n",
    "elif d_type=='synthetic' : pkl_train_p='C:\\PROJECTS\\emboendo\\CNN/pikles/synthetic_train_d.pkl'   \n",
    "     "
   ]
  },
  {
   "cell_type": "markdown",
   "metadata": {},
   "source": [
    "# CNN"
   ]
  },
  {
   "cell_type": "markdown",
   "metadata": {},
   "source": [
    "### GENERATE TRAIN DATA"
   ]
  },
  {
   "cell_type": "code",
   "execution_count": 4,
   "metadata": {},
   "outputs": [],
   "source": [
    "# X_train,Y_train\n",
    "\n",
    "with open(pkl_train_p, 'rb') as pikle_file:\n",
    "\n",
    "    save_trains= pickle.load(pikle_file)\n",
    "\n",
    "x_train,y_train,rcs =  save_trains[0],save_trains[1],save_trains[2]\n",
    "\n",
    "max_frm_n, HEIGHT, WIDTH=np.shape(x_train)[1],np.shape(x_train)[2],np.shape(x_train)[3]\n"
   ]
  },
  {
   "cell_type": "markdown",
   "metadata": {},
   "source": [
    "### CHECK 1"
   ]
  },
  {
   "cell_type": "code",
   "execution_count": 5,
   "metadata": {},
   "outputs": [],
   "source": [
    "if checking_on:\n",
    "\n",
    "    for x,y,r in zip(x_train,y_train,rcs):\n",
    "        print(r,int(y),np.shape(x),type(x))"
   ]
  },
  {
   "cell_type": "code",
   "execution_count": 6,
   "metadata": {},
   "outputs": [],
   "source": [
    "if checking_on:\n",
    "\n",
    "    rec_elm='I70'\n",
    "    idx=rcs.index(rec_elm)\n",
    "    print(y_train[idx])"
   ]
  },
  {
   "cell_type": "code",
   "execution_count": 7,
   "metadata": {},
   "outputs": [],
   "source": [
    "if checking_on:fig_lib.vid_show(x_train[idx],t_btw_frm=t_btw_frm)"
   ]
  },
  {
   "cell_type": "code",
   "execution_count": 8,
   "metadata": {},
   "outputs": [],
   "source": [
    "if test_data:\n",
    "\n",
    "    total_data_points=len(y_train)\n",
    "    test_len=total_data_points-number_data_points\n",
    "    \n",
    "    Xx_train=x_train[0:number_data_points]\n",
    "    Yy_train=y_train[0:number_data_points]\n",
    "    rcs=rcs[0:number_data_points]\n",
    "\n",
    "else:\n",
    "\n",
    "    Xx_train=x_train\n",
    "    Yy_train=y_train\n"
   ]
  },
  {
   "cell_type": "markdown",
   "metadata": {},
   "source": [
    "## DATA SHUFFLE 1"
   ]
  },
  {
   "cell_type": "code",
   "execution_count": 9,
   "metadata": {},
   "outputs": [],
   "source": [
    "Xx_train,Yy_train,recs=CNN_lib.shuffle(Xx_train,Yy_train,rcs)"
   ]
  },
  {
   "cell_type": "markdown",
   "metadata": {},
   "source": [
    "### CHECK 2"
   ]
  },
  {
   "cell_type": "code",
   "execution_count": 10,
   "metadata": {},
   "outputs": [],
   "source": [
    "if checking_on:\n",
    "\n",
    "    for x,y,r in zip(Xx_train,Yy_train,recs):\n",
    "        print(r,int(y),np.shape(x),type(x))"
   ]
  },
  {
   "cell_type": "code",
   "execution_count": 11,
   "metadata": {},
   "outputs": [],
   "source": [
    "if checking_on:\n",
    "\n",
    "    rec_elm='I54'\n",
    "    idx=recs.index(rec_elm)\n",
    "    print(idx,Yy_train[idx])"
   ]
  },
  {
   "cell_type": "code",
   "execution_count": 12,
   "metadata": {},
   "outputs": [],
   "source": [
    "if checking_on:fig_lib.vid_show(Xx_train[idx],t_btw_frm=t_btw_frm)"
   ]
  },
  {
   "cell_type": "markdown",
   "metadata": {},
   "source": [
    "### DATA SPLIT"
   ]
  },
  {
   "cell_type": "code",
   "execution_count": 13,
   "metadata": {},
   "outputs": [
    {
     "name": "stdout",
     "output_type": "stream",
     "text": [
      "Train data: 528 Evaluation data: 132\n"
     ]
    }
   ],
   "source": [
    "test_size=0.2\n",
    "\n",
    "X_train_spl, X_eval_spl, Y_train_spl, Y_eval_spl = train_test_split(Xx_train, Yy_train, test_size=test_size, shuffle=False) #,random_state=42)\n",
    "\n",
    "recs_train =recs[0:len(Y_train_spl)]\n",
    "recs_eval =recs[len(Y_train_spl)::]\n",
    "\n",
    "print('Train data:',len(Y_train_spl),'Evaluation data:',len(Y_eval_spl))\n",
    "\n",
    "if test_data:print('Test_len:',test_len)"
   ]
  },
  {
   "cell_type": "code",
   "execution_count": 14,
   "metadata": {},
   "outputs": [],
   "source": [
    "if checking_on:\n",
    "\n",
    "    rec_elm='I921'\n",
    "    idx=recs_train.index(rec_elm)\n",
    "    print(idx,Y_train_spl[idx])\n"
   ]
  },
  {
   "cell_type": "code",
   "execution_count": 15,
   "metadata": {},
   "outputs": [],
   "source": [
    "if checking_on:fig_lib.vid_show(X_train_spl[idx],t_btw_frm=t_btw_frm)"
   ]
  },
  {
   "cell_type": "code",
   "execution_count": 16,
   "metadata": {},
   "outputs": [
    {
     "name": "stdout",
     "output_type": "stream",
     "text": [
      " Train data shape: (528, 40, 160, 160, 1)  Validation data shape: (132, 40, 160, 160, 1)\n"
     ]
    },
    {
     "data": {
      "image/png": "[encoded data removed]",
      "text/plain": [
       "<Figure size 640x480 with 1 Axes>"
      ]
     },
     "metadata": {},
     "output_type": "display_data"
    }
   ],
   "source": [
    "# check data\n",
    "\n",
    "zeros_count = np.sum(Y_train_spl == 0)\n",
    "ones_count = np.sum(Y_train_spl == 1)\n",
    "zeros_count_val = np.sum(Y_eval_spl == 0)\n",
    "ones_count_val = np.sum(Y_eval_spl == 1)\n",
    "\n",
    "print(' Train data shape:', np.shape(X_train_spl),' Validation data shape:', np.shape(X_eval_spl))\n",
    "\n",
    "CNN_lib.data_bars_plot(zeros_count,ones_count,zeros_count_val,ones_count_val)"
   ]
  },
  {
   "cell_type": "markdown",
   "metadata": {},
   "source": [
    "# DATA AUGMENTATION"
   ]
  },
  {
   "cell_type": "code",
   "execution_count": 17,
   "metadata": {},
   "outputs": [
    {
     "name": "stdout",
     "output_type": "stream",
     "text": [
      "Flip 1: 142, 0: 27\n",
      "Contrast 1: 43, 0: 12\n",
      "brightness 1: 43, 0: 12\n"
     ]
    }
   ],
   "source": [
    "if data_augmentation:\n",
    "    \n",
    "    n_flip_1=1\n",
    "    n_flip_0=0.07\n",
    "\n",
    "    nf1 = round(n_flip_1*ones_count)\n",
    "    nf0 = round(n_flip_0*zeros_count)\n",
    "\n",
    "    print(f'Flip 1: {nf1}, 0: {nf0}')\n",
    "\n",
    "    n_contr_1=0.3\n",
    "    n_contr_0=0.03\n",
    "\n",
    "    nc1 = round(n_contr_1*ones_count)\n",
    "    nc0 = round(n_contr_0*zeros_count)\n",
    "\n",
    "    print(f'Contrast 1: {nc1}, 0: {nc0}')\n",
    "\n",
    "    n_bright_1=0.3\n",
    "    n_bright_0=0.03\n",
    "\n",
    "    nb1 = round(n_bright_1*ones_count)\n",
    "    nb0 = round(n_bright_0*zeros_count)\n",
    "\n",
    "    print(f'brightness 1: {nb1}, 0: {nb0}')\n",
    "\n"
   ]
  },
  {
   "cell_type": "code",
   "execution_count": 18,
   "metadata": {},
   "outputs": [],
   "source": [
    "\n",
    "if data_augmentation:\n",
    "\n",
    "    Flip_X_1,Flip_Y_1,Flip_recs_1=CNN_lib.main_aug_f(nf1,X_train_spl,Y_train_spl,recs,label=1,typ='Flip')\n",
    "    Flip_X_0,Flip_Y_0,Flip_recs_0=CNN_lib.main_aug_f(nf0,X_train_spl,Y_train_spl,recs,label=0,typ='Flip')\n",
    "\n",
    "    Cntr_X_1,Cntr_Y_1,Cntr_recs_1=CNN_lib.main_aug_f(nc1,X_train_spl,Y_train_spl,recs,label=1,typ='Contrast')\n",
    "    Cntr_X_0,Cntr_Y_0,Cntr_recs_0=CNN_lib.main_aug_f(nc0,X_train_spl,Y_train_spl,recs,label=0,typ='Contrast')\n",
    "\n",
    "    Bgr_X_1,Bgr_Y_1,Bgr_recs_1=CNN_lib.main_aug_f(nb1,X_train_spl,Y_train_spl,recs,label=1,typ='Brightness')\n",
    "    Bgr_X_0,Bgr_Y_0,Bgr_recs_0=CNN_lib.main_aug_f(nb0,X_train_spl,Y_train_spl,recs,label=0,typ='Brightness')\n"
   ]
  },
  {
   "cell_type": "code",
   "execution_count": 19,
   "metadata": {},
   "outputs": [
    {
     "name": "stdout",
     "output_type": "stream",
     "text": [
      "(807, 40, 160, 160, 1) (807,)\n",
      "(132, 40, 160, 160, 1) (132,)\n"
     ]
    }
   ],
   "source": [
    "if data_augmentation:\n",
    "\n",
    "    X_train_spl = np.concatenate((X_train_spl, Flip_X_1,Flip_X_0,Cntr_X_1,Cntr_X_0,Bgr_X_1,Bgr_X_0), axis=0)\n",
    "    Y_train_spl = np.concatenate((Y_train_spl, Flip_Y_1, Flip_Y_0,Cntr_Y_1,Cntr_Y_0,Bgr_Y_1,Bgr_Y_0))\n",
    "    \n",
    "    recs_train = recs_train+Flip_recs_1+Flip_recs_0+Cntr_recs_1+Cntr_recs_0+Bgr_recs_1+Bgr_recs_0\n",
    "\n",
    "    print(X_train_spl.shape,Y_train_spl.shape)\n",
    "    print(X_eval_spl.shape,Y_eval_spl.shape)\n"
   ]
  },
  {
   "cell_type": "markdown",
   "metadata": {},
   "source": [
    "### DATA SHUFFLE 2"
   ]
  },
  {
   "cell_type": "code",
   "execution_count": 20,
   "metadata": {},
   "outputs": [],
   "source": [
    "if data_augmentation: X_train,Y_train,recs_train_f=CNN_lib.shuffle(X_train_spl,Y_train_spl,recs_train)\n",
    "else: X_train,Y_train,recs_train_f = X_train_spl,Y_train_spl,recs_train\n",
    "\n",
    "X_eval=X_eval_spl\n",
    "Y_eval=Y_eval_spl"
   ]
  },
  {
   "cell_type": "code",
   "execution_count": 21,
   "metadata": {},
   "outputs": [
    {
     "data": {
      "image/png": "[encoded data removed]",
      "text/plain": [
       "<Figure size 640x480 with 1 Axes>"
      ]
     },
     "metadata": {},
     "output_type": "display_data"
    }
   ],
   "source": [
    "# check data\n",
    "if data_augmentation:\n",
    "\n",
    "    zeros_count = np.sum(Y_train == 0)\n",
    "    ones_count = np.sum(Y_train == 1)\n",
    "    zeros_count_val = np.sum(Y_eval == 0)\n",
    "    ones_count_val = np.sum(Y_eval == 1)\n",
    "\n",
    "    CNN_lib.data_bars_plot(zeros_count,ones_count,zeros_count_val,ones_count_val)"
   ]
  },
  {
   "cell_type": "markdown",
   "metadata": {},
   "source": [
    "### CHECK 3"
   ]
  },
  {
   "cell_type": "code",
   "execution_count": 22,
   "metadata": {},
   "outputs": [],
   "source": [
    "if checking_on:\n",
    "\n",
    "    for x,y,r in zip(X_train,Y_train,recs_train_f):\n",
    "        print(r,int(y),np.shape(x),type(x))\n",
    "        "
   ]
  },
  {
   "cell_type": "code",
   "execution_count": 23,
   "metadata": {},
   "outputs": [],
   "source": [
    "\n",
    "if checking_on:\n",
    "\n",
    "    rec_elm='I180'\n",
    "    idx=recs_train_f.index(rec_elm)\n",
    "    print(idx,Y_train[idx])"
   ]
  },
  {
   "cell_type": "code",
   "execution_count": 24,
   "metadata": {},
   "outputs": [],
   "source": [
    "if checking_on:fig_lib.vid_show(X_train[idx],t_btw_frm=t_btw_frm)"
   ]
  },
  {
   "cell_type": "markdown",
   "metadata": {},
   "source": [
    "#  CNN"
   ]
  },
  {
   "cell_type": "code",
   "execution_count": 25,
   "metadata": {},
   "outputs": [
    {
     "name": "stdout",
     "output_type": "stream",
     "text": [
      "LIBRARY MODELS:\n",
      " \n",
      "image_full\n",
      "image_conv\n",
      "image_conv_augmentation\n",
      "video_conv2D\n",
      "video_conv3D\n",
      "conv3D_2D+1\n"
     ]
    }
   ],
   "source": [
    "print('LIBRARY MODELS:')\n",
    "print(' ')\n",
    "\n",
    "for model_name in CNN_lib.MODELS.values(): print(model_name)"
   ]
  },
  {
   "cell_type": "code",
   "execution_count": 26,
   "metadata": {},
   "outputs": [],
   "source": [
    "# -------- CNN PARAMS --------\n",
    "\n",
    "# -------- MODEL --------\n",
    "\n",
    "model_from_CNN_lib,mdl= False,'video_conv3D'\n",
    "\n",
    "opt='adam'\n",
    "lss='binary_crossentropy'\n",
    "\n",
    "# -------- TRAINNING --------\n",
    "\n",
    "epochs=9\n"
   ]
  },
  {
   "cell_type": "markdown",
   "metadata": {},
   "source": [
    "### MODEL"
   ]
  },
  {
   "cell_type": "code",
   "execution_count": 27,
   "metadata": {},
   "outputs": [
    {
     "data": {
      "text/plain": [
       "5893"
      ]
     },
     "execution_count": 27,
     "metadata": {},
     "output_type": "execute_result"
    }
   ],
   "source": [
    "gc.collect()"
   ]
  },
  {
   "cell_type": "code",
   "execution_count": 28,
   "metadata": {},
   "outputs": [
    {
     "name": "stdout",
     "output_type": "stream",
     "text": [
      "WARNING:tensorflow:From c:\\PROJECTS\\EMBOENDO\\.venv\\Lib\\site-packages\\keras\\src\\backend.py:873: The name tf.get_default_graph is deprecated. Please use tf.compat.v1.get_default_graph instead.\n",
      "\n",
      "Model: \"sequential\"\n",
      "_________________________________________________________________\n",
      " Layer (type)                Output Shape              Param #   \n",
      "=================================================================\n",
      " conv3d (Conv3D)             (None, 38, 158, 160, 16   160       \n",
      "                             )                                   \n",
      "                                                                 \n",
      " max_pooling3d (MaxPooling3  (None, 19, 79, 80, 16)    0         \n",
      " D)                                                              \n",
      "                                                                 \n",
      " conv3d_1 (Conv3D)           (None, 17, 77, 80, 32)    4640      \n",
      "                                                                 \n",
      " max_pooling3d_1 (MaxPoolin  (None, 8, 38, 40, 32)     0         \n",
      " g3D)                                                            \n",
      "                                                                 \n",
      " conv3d_2 (Conv3D)           (None, 6, 36, 40, 32)     9248      \n",
      "                                                                 \n",
      " max_pooling3d_2 (MaxPoolin  (None, 3, 18, 20, 32)     0         \n",
      " g3D)                                                            \n",
      "                                                                 \n",
      " conv3d_3 (Conv3D)           (None, 3, 18, 16, 16)     2576      \n",
      "                                                                 \n",
      " flatten (Flatten)           (None, 13824)             0         \n",
      "                                                                 \n",
      " dropout (Dropout)           (None, 13824)             0         \n",
      "                                                                 \n",
      " dense (Dense)               (None, 64)                884800    \n",
      "                                                                 \n",
      " dense_1 (Dense)             (None, 1)                 65        \n",
      "                                                                 \n",
      "=================================================================\n",
      "Total params: 901489 (3.44 MB)\n",
      "Trainable params: 901489 (3.44 MB)\n",
      "Non-trainable params: 0 (0.00 Byte)\n",
      "_________________________________________________________________\n"
     ]
    }
   ],
   "source": [
    "# MODEL \n",
    "\n",
    "if model_from_CNN_lib:\n",
    "  \n",
    "  if video_d: model = CNN_lib.lib_models(mdl,im_input_shp=(max_frm_n, HEIGHT, WIDTH, 1))\n",
    "  else: model = CNN_lib.lib_models(mdl,im_input_shp=(HEIGHT, WIDTH,1))\n",
    "\n",
    "else:\n",
    "\n",
    "  model = models.Sequential([\n",
    "          layers.Conv3D(filters=16, kernel_size=(3, 3, 1), activation='relu',input_shape=(max_frm_n, HEIGHT, WIDTH, 1)),\n",
    "          layers.MaxPooling3D(pool_size=(2, 2, 2)),\n",
    "          layers.Conv3D(filters=32, kernel_size=(3, 3, 1),  activation='relu'),\n",
    "          layers.MaxPooling3D(pool_size=(2, 2, 2)),\n",
    "          layers.Conv3D(filters=32, kernel_size=(3, 3, 1),  activation='relu'),\n",
    "          layers.MaxPooling3D(pool_size=(2, 2, 2)),\n",
    "          layers.Conv3D(filters=16, kernel_size=(1, 1, 5),  activation='relu'),\n",
    "          layers.Flatten(),\n",
    "          layers.Dropout(0.2),\n",
    "          layers.Dense(64, activation='relu'),\n",
    "          layers.Dense(1,activation='sigmoid')\n",
    "          ])\n",
    "\n",
    "\n",
    "model.summary()"
   ]
  },
  {
   "cell_type": "code",
   "execution_count": 29,
   "metadata": {},
   "outputs": [
    {
     "name": "stdout",
     "output_type": "stream",
     "text": [
      "WARNING:tensorflow:From c:\\PROJECTS\\EMBOENDO\\.venv\\Lib\\site-packages\\keras\\src\\optimizers\\__init__.py:309: The name tf.train.Optimizer is deprecated. Please use tf.compat.v1.train.Optimizer instead.\n",
      "\n"
     ]
    }
   ],
   "source": [
    "model.compile(optimizer=opt, loss=lss, metrics=['accuracy'])"
   ]
  },
  {
   "cell_type": "code",
   "execution_count": 30,
   "metadata": {},
   "outputs": [],
   "source": [
    "checkpoint = ModelCheckpoint(checkpoint_path, save_best_only=True, monitor='val_loss',   mode='min', verbose=1)"
   ]
  },
  {
   "cell_type": "markdown",
   "metadata": {},
   "source": [
    "### TRAINNING"
   ]
  },
  {
   "cell_type": "code",
   "execution_count": 31,
   "metadata": {},
   "outputs": [
    {
     "name": "stdout",
     "output_type": "stream",
     "text": [
      "Epoch 1/9\n",
      "WARNING:tensorflow:From c:\\PROJECTS\\EMBOENDO\\.venv\\Lib\\site-packages\\keras\\src\\utils\\tf_utils.py:492: The name tf.ragged.RaggedTensorValue is deprecated. Please use tf.compat.v1.ragged.RaggedTensorValue instead.\n",
      "\n",
      "WARNING:tensorflow:From c:\\PROJECTS\\EMBOENDO\\.venv\\Lib\\site-packages\\keras\\src\\engine\\base_layer_utils.py:384: The name tf.executing_eagerly_outside_functions is deprecated. Please use tf.compat.v1.executing_eagerly_outside_functions instead.\n",
      "\n",
      "26/26 [==============================] - ETA: 0s - loss: 0.6879 - accuracy: 0.5700\n",
      "Epoch 1: val_loss improved from inf to 0.71782, saving model to C:/PROJECTS\\emboendo\\CNN\\python-machine-learning\\emboendo_ML\\embo_CNN_lab\\_static\\model_checkpoint.h5\n",
      "26/26 [==============================] - 14s 509ms/step - loss: 0.6879 - accuracy: 0.5700 - val_loss: 0.7178 - val_accuracy: 0.4697\n",
      "Epoch 2/9\n"
     ]
    },
    {
     "name": "stderr",
     "output_type": "stream",
     "text": [
      "c:\\PROJECTS\\EMBOENDO\\.venv\\Lib\\site-packages\\keras\\src\\engine\\training.py:3103: UserWarning: You are saving your model as an HDF5 file via `model.save()`. This file format is considered legacy. We recommend using instead the native Keras format, e.g. `model.save('my_model.keras')`.\n",
      "  saving_api.save_model(\n"
     ]
    },
    {
     "name": "stdout",
     "output_type": "stream",
     "text": [
      "26/26 [==============================] - ETA: 0s - loss: 0.6437 - accuracy: 0.6245\n",
      "Epoch 2: val_loss improved from 0.71782 to 0.65170, saving model to C:/PROJECTS\\emboendo\\CNN\\python-machine-learning\\emboendo_ML\\embo_CNN_lab\\_static\\model_checkpoint.h5\n",
      "26/26 [==============================] - 13s 507ms/step - loss: 0.6437 - accuracy: 0.6245 - val_loss: 0.6517 - val_accuracy: 0.5985\n",
      "Epoch 3/9\n",
      "26/26 [==============================] - ETA: 0s - loss: 0.5837 - accuracy: 0.7051\n",
      "Epoch 3: val_loss improved from 0.65170 to 0.55202, saving model to C:/PROJECTS\\emboendo\\CNN\\python-machine-learning\\emboendo_ML\\embo_CNN_lab\\_static\\model_checkpoint.h5\n",
      "26/26 [==============================] - 13s 510ms/step - loss: 0.5837 - accuracy: 0.7051 - val_loss: 0.5520 - val_accuracy: 0.7348\n",
      "Epoch 4/9\n",
      "26/26 [==============================] - ETA: 0s - loss: 0.5455 - accuracy: 0.7385\n",
      "Epoch 4: val_loss improved from 0.55202 to 0.55158, saving model to C:/PROJECTS\\emboendo\\CNN\\python-machine-learning\\emboendo_ML\\embo_CNN_lab\\_static\\model_checkpoint.h5\n",
      "26/26 [==============================] - 13s 502ms/step - loss: 0.5455 - accuracy: 0.7385 - val_loss: 0.5516 - val_accuracy: 0.7121\n",
      "Epoch 5/9\n",
      "26/26 [==============================] - ETA: 0s - loss: 0.4656 - accuracy: 0.7856\n",
      "Epoch 5: val_loss improved from 0.55158 to 0.52531, saving model to C:/PROJECTS\\emboendo\\CNN\\python-machine-learning\\emboendo_ML\\embo_CNN_lab\\_static\\model_checkpoint.h5\n",
      "26/26 [==============================] - 13s 497ms/step - loss: 0.4656 - accuracy: 0.7856 - val_loss: 0.5253 - val_accuracy: 0.7652\n",
      "Epoch 6/9\n",
      "26/26 [==============================] - ETA: 0s - loss: 0.3693 - accuracy: 0.8625\n",
      "Epoch 6: val_loss improved from 0.52531 to 0.49999, saving model to C:/PROJECTS\\emboendo\\CNN\\python-machine-learning\\emboendo_ML\\embo_CNN_lab\\_static\\model_checkpoint.h5\n",
      "26/26 [==============================] - 13s 496ms/step - loss: 0.3693 - accuracy: 0.8625 - val_loss: 0.5000 - val_accuracy: 0.8030\n",
      "Epoch 7/9\n",
      "26/26 [==============================] - ETA: 0s - loss: 0.3083 - accuracy: 0.8711\n",
      "Epoch 7: val_loss did not improve from 0.49999\n",
      "26/26 [==============================] - 13s 495ms/step - loss: 0.3083 - accuracy: 0.8711 - val_loss: 0.6874 - val_accuracy: 0.6212\n",
      "Epoch 8/9\n",
      "26/26 [==============================] - ETA: 0s - loss: 0.2081 - accuracy: 0.9157\n",
      "Epoch 8: val_loss did not improve from 0.49999\n",
      "26/26 [==============================] - 13s 497ms/step - loss: 0.2081 - accuracy: 0.9157 - val_loss: 0.5725 - val_accuracy: 0.7879\n",
      "Epoch 9/9\n",
      "26/26 [==============================] - ETA: 0s - loss: 0.1331 - accuracy: 0.9504\n",
      "Epoch 9: val_loss did not improve from 0.49999\n",
      "26/26 [==============================] - 13s 494ms/step - loss: 0.1331 - accuracy: 0.9504 - val_loss: 0.6273 - val_accuracy: 0.7803\n"
     ]
    }
   ],
   "source": [
    "history =model.fit(X_train, Y_train, epochs=epochs, validation_data=(X_eval,Y_eval),callbacks=[checkpoint])"
   ]
  },
  {
   "cell_type": "markdown",
   "metadata": {},
   "source": [
    "### EVALUATE MODEL"
   ]
  },
  {
   "cell_type": "code",
   "execution_count": 32,
   "metadata": {},
   "outputs": [
    {
     "data": {
      "image/png": "[encoded data removed]",
      "text/plain": [
       "<Figure size 1400x800 with 2 Axes>"
      ]
     },
     "metadata": {},
     "output_type": "display_data"
    }
   ],
   "source": [
    "CNN_lib.plot_train_eval(history,epochs)"
   ]
  },
  {
   "cell_type": "code",
   "execution_count": 33,
   "metadata": {},
   "outputs": [
    {
     "name": "stdout",
     "output_type": "stream",
     "text": [
      "5/5 - 1s - loss: 0.6273 - accuracy: 0.7803 - 584ms/epoch - 117ms/step\n",
      "Loss: 0.6272915601730347 Accuracy: 0.7803030014038086\n"
     ]
    }
   ],
   "source": [
    "test_loss, test_accuracy = model.evaluate(X_eval,Y_eval,verbose=2)\n",
    "\n",
    "print(f'Loss: {test_loss}',f'Accuracy: {test_accuracy}')"
   ]
  },
  {
   "cell_type": "markdown",
   "metadata": {},
   "source": [
    "### BEST EPOCH"
   ]
  },
  {
   "cell_type": "code",
   "execution_count": 34,
   "metadata": {},
   "outputs": [
    {
     "name": "stdout",
     "output_type": "stream",
     "text": [
      "5/5 - 1s - loss: 0.5000 - accuracy: 0.8030 - 652ms/epoch - 130ms/step\n",
      "Loss: 0.4999937117099762 Accuracy: 0.8030303120613098\n"
     ]
    }
   ],
   "source": [
    "model = load_model(checkpoint_path)\n",
    "test_loss, test_accuracy = model.evaluate(X_eval,Y_eval,verbose=2)\n",
    "print(f'Loss: {test_loss}',f'Accuracy: {test_accuracy}')"
   ]
  },
  {
   "cell_type": "code",
   "execution_count": 35,
   "metadata": {},
   "outputs": [
    {
     "data": {
      "text/plain": [
       "{'NAME': 'video_conv3D',\n",
       " 'ACCURACY': 0.8030303120613098,\n",
       " 'LOSS': 0.4999937117099762,\n",
       " 'HEIGHT': 160,\n",
       " 'WIDTH': 160}"
      ]
     },
     "execution_count": 35,
     "metadata": {},
     "output_type": "execute_result"
    }
   ],
   "source": [
    "performance_d={'NAME':mdl,\n",
    "               'ACCURACY':test_accuracy,\n",
    "               'LOSS':test_loss,\n",
    "               'HEIGHT':HEIGHT,\n",
    "               'WIDTH':WIDTH}\n",
    "\n",
    "performance_d"
   ]
  },
  {
   "cell_type": "markdown",
   "metadata": {},
   "source": [
    "# VALIDATION DATA"
   ]
  },
  {
   "cell_type": "code",
   "execution_count": 36,
   "metadata": {},
   "outputs": [
    {
     "name": "stdout",
     "output_type": "stream",
     "text": [
      "5/5 [==============================] - 1s 104ms/step\n"
     ]
    }
   ],
   "source": [
    "predictions = model.predict(X_eval)\n",
    "#print(predictions)\n"
   ]
  },
  {
   "cell_type": "markdown",
   "metadata": {},
   "source": [
    "## ROC CURVE"
   ]
  },
  {
   "cell_type": "code",
   "execution_count": 37,
   "metadata": {},
   "outputs": [
    {
     "data": {
      "image/png": "[encoded data removed]",
      "text/plain": [
       "<Figure size 800x800 with 1 Axes>"
      ]
     },
     "metadata": {},
     "output_type": "display_data"
    }
   ],
   "source": [
    "fpr_val, tpr_val, thresholds_val = roc_curve(Y_eval, predictions)\n",
    "roc_auc_false = auc(fpr_val, tpr_val)\n",
    "\n",
    "CNN_lib.plot_roc_curve(fpr_val,tpr_val,roc_auc_false)"
   ]
  },
  {
   "cell_type": "code",
   "execution_count": 38,
   "metadata": {},
   "outputs": [
    {
     "data": {
      "text/plain": [
       "\"plt.figure(figsize=(8, 8))\\n\\nplt.plot(thresholds_val,tpr_val, color='darkorange', lw=2, label='TRUE POSSITIVE')\\nplt.plot(thresholds_val,fpr_val, color='blue', lw=2, label=f'FALSE pOSSITIVE')\\nplt.xlabel('Threshold (green)')\\nplt.ylabel('True/Negative Positive Rate')\\nplt.title('threshold')\\nplt.legend()\\nplt.show()\""
      ]
     },
     "execution_count": 38,
     "metadata": {},
     "output_type": "execute_result"
    }
   ],
   "source": [
    "\n",
    "\n",
    "\"\"\"plt.figure(figsize=(8, 8))\n",
    "\n",
    "plt.plot(thresholds_val,tpr_val, color='darkorange', lw=2, label='TRUE POSSITIVE')\n",
    "plt.plot(thresholds_val,fpr_val, color='blue', lw=2, label=f'FALSE pOSSITIVE')\n",
    "plt.xlabel('Threshold (green)')\n",
    "plt.ylabel('True/Negative Positive Rate')\n",
    "plt.title('threshold')\n",
    "plt.legend()\n",
    "plt.show()\"\"\""
   ]
  },
  {
   "cell_type": "markdown",
   "metadata": {},
   "source": [
    "#  FORECAST EVALUATION"
   ]
  },
  {
   "cell_type": "code",
   "execution_count": 39,
   "metadata": {},
   "outputs": [],
   "source": [
    "predictions_raw=[]\n",
    "\n",
    "trsh=0.35\n",
    "\n",
    "for pred in predictions:\n",
    "\n",
    "    if pred < trsh:predictions_raw.append(0)\n",
    "    else:predictions_raw.append(1)\n",
    "\n",
    "predictions_raw=np.array(predictions_raw)\n"
   ]
  },
  {
   "cell_type": "code",
   "execution_count": 40,
   "metadata": {},
   "outputs": [
    {
     "name": "stdout",
     "output_type": "stream",
     "text": [
      "Matriz de Confusión:\n",
      "[[76 23]\n",
      " [16 17]]\n",
      "Informe de Clasificación:\n",
      "              precision    recall  f1-score   support\n",
      "\n",
      "           0       0.83      0.77      0.80        99\n",
      "           1       0.42      0.52      0.47        33\n",
      "\n",
      "    accuracy                           0.70       132\n",
      "   macro avg       0.63      0.64      0.63       132\n",
      "weighted avg       0.73      0.70      0.71       132\n",
      "\n"
     ]
    }
   ],
   "source": [
    "conf_matrix = confusion_matrix(Y_eval, predictions_raw)\n",
    "\n",
    "print(\"Matriz de Confusión:\")\n",
    "print(conf_matrix)\n",
    "\n",
    "# Obtener el informe de clasificación\n",
    "classification_report_str = classification_report(Y_eval, predictions_raw)\n",
    "print(\"Informe de Clasificación:\")\n",
    "print(classification_report_str)\n",
    "\n"
   ]
  },
  {
   "cell_type": "code",
   "execution_count": 41,
   "metadata": {},
   "outputs": [],
   "source": [
    "true_classes = Y_eval  \n",
    "\n",
    "correctly_classified_indices = np.where(predictions_raw == true_classes)[0]\n",
    "incorrectly_classified_indices = np.where(predictions_raw != true_classes)[0]\n",
    "\n",
    "correctly_classified_video_ids = [video_id for video_id in correctly_classified_indices]\n",
    "incorrectly_classified_video_ids = [video_id for video_id in incorrectly_classified_indices]\n",
    "\n",
    "num_zeros = np.count_nonzero(Y_eval == 0)\n",
    "num_ones = np.count_nonzero(Y_eval == 1)\n"
   ]
  },
  {
   "cell_type": "code",
   "execution_count": 42,
   "metadata": {},
   "outputs": [
    {
     "name": "stdout",
     "output_type": "stream",
     "text": [
      "[0, 0, 1, 0, 0, 0, 0, 0, 1, 1, 0, 0, 0, 0, 1, 1, 1, 0, 1, 0, 0, 0, 0, 0, 0, 0, 0, 0, 0, 0, 0, 0, 0, 0, 0, 0, 0, 0, 0, 0, 0, 0, 0, 1, 0, 0, 0, 0, 0, 0, 0, 0, 0, 0, 1, 0, 0, 0, 1, 1, 0, 0, 1, 0, 0, 0, 0, 0, 0, 0, 0, 0, 1, 0, 0, 0, 0, 0, 0, 0, 0, 1, 0, 1, 0, 0, 1, 0, 1, 0, 0, 0, 0]\n"
     ]
    }
   ],
   "source": [
    "correct_labels_val = [Y_eval[i] for i in correctly_classified_indices]\n",
    "\n",
    "print(correct_labels_val)"
   ]
  },
  {
   "cell_type": "code",
   "execution_count": 43,
   "metadata": {},
   "outputs": [
    {
     "name": "stdout",
     "output_type": "stream",
     "text": [
      "OK, 93\n",
      "BAD, 39\n",
      "Ratio forecast: 2.3846153846153846\n",
      "Ratio labeling: 3.0\n"
     ]
    }
   ],
   "source": [
    "\n",
    "print(f\"OK, {len(correctly_classified_video_ids)}\")\n",
    "print(f\"BAD, {len(incorrectly_classified_video_ids)}\")\n",
    "print(f'Ratio forecast: {len(correctly_classified_video_ids)/len(incorrectly_classified_video_ids)}')\n",
    "print(f'Ratio labeling: {max([num_ones,num_zeros])/min([num_ones,num_zeros])}')\n"
   ]
  },
  {
   "cell_type": "markdown",
   "metadata": {},
   "source": [
    "## SINGLE FORECAST"
   ]
  },
  {
   "cell_type": "code",
   "execution_count": 44,
   "metadata": {},
   "outputs": [
    {
     "name": "stdout",
     "output_type": "stream",
     "text": [
      "['I646', 'I872', 'I384', '656335_3', 'I801', '660022_2', 'I999', 'I266', '380772_1', '670615_6', 'I1067', 'I899', '656335_5', 'I782', 'I837', 'I93', '385597_17', '673676_8', '224436_7', 'I473', 'I302', 'I542', '660022_7', 'I218', 'I1143', 'I1027', 'I180', '651399_4', '547169_1', '670615_20', 'I1145', '673676_26', 'I200', 'I327', 'I391', 'I1045', '224436_17', '109897_6', 'I1224', 'I1098', 'I1', 'I980', 'I1228', 'I164', '6272_11', 'I39', '178572_8', 'I265', 'I64', 'I1055', 'I381', 'I624', 'I102', 'I803', '178572_1', 'I696', '656335_8', 'I610', 'I1120', 'I1100', 'I1118', 'I51', '670615_8', 'I94', '539258_4', '673676_18', 'I252', 'I996', '646778_8', 'I116', 'I902', '673676_21', 'I439', '6272_5', 'I669', '673676_23', 'I57', '224436_12', '656960_3', '380772_9', '646778_27', 'I968', 'I1272', 'I465', 'I299', 'I1025', 'I914', 'I159', 'I818', 'I213', 'I737', '651399_7', 'I87', 'I1119', '224436_9', 'I986', '6272_6', '224436_16', 'I712', '673676_2', 'I1209', 'I723', 'I215', 'I238', 'I820', 'I1022', 'I65', 'I636', 'I1073', '547169_9', 'I697', '178572_4', '660022_1', 'I1192', 'I732', 'I925', 'I806', 'I1153', 'I58', '385597_6', 'I131', 'I1266', 'I1150', 'I1096', '539258_2', '512291_2', 'I1018', 'I1218', '670615_9', 'I541', '6272_16', 'I656']\n"
     ]
    }
   ],
   "source": [
    "\n",
    "print(recs_eval)\n"
   ]
  },
  {
   "cell_type": "code",
   "execution_count": 45,
   "metadata": {},
   "outputs": [
    {
     "ename": "ValueError",
     "evalue": "'I765' is not in list",
     "output_type": "error",
     "traceback": [
      "\u001b[1;31m---------------------------------------------------------------------------\u001b[0m",
      "\u001b[1;31mValueError\u001b[0m                                Traceback (most recent call last)",
      "Cell \u001b[1;32mIn[45], line 2\u001b[0m\n\u001b[0;32m      1\u001b[0m rec_elm\u001b[38;5;241m=\u001b[39m\u001b[38;5;124m'\u001b[39m\u001b[38;5;124mI765\u001b[39m\u001b[38;5;124m'\u001b[39m\n\u001b[1;32m----> 2\u001b[0m idx\u001b[38;5;241m=\u001b[39m\u001b[43mrecs_eval\u001b[49m\u001b[38;5;241;43m.\u001b[39;49m\u001b[43mindex\u001b[49m\u001b[43m(\u001b[49m\u001b[43mrec_elm\u001b[49m\u001b[43m)\u001b[49m\n\u001b[0;32m      5\u001b[0m \u001b[38;5;28mprint\u001b[39m(\u001b[38;5;124mf\u001b[39m\u001b[38;5;124m'\u001b[39m\u001b[38;5;124m Record: \u001b[39m\u001b[38;5;132;01m{\u001b[39;00mrec_elm\u001b[38;5;132;01m}\u001b[39;00m\u001b[38;5;124m , index: \u001b[39m\u001b[38;5;132;01m{\u001b[39;00midx\u001b[38;5;132;01m}\u001b[39;00m\u001b[38;5;124m, real label: \u001b[39m\u001b[38;5;132;01m{\u001b[39;00mY_eval_spl[idx]\u001b[38;5;132;01m}\u001b[39;00m\u001b[38;5;124m'\u001b[39m)\n",
      "\u001b[1;31mValueError\u001b[0m: 'I765' is not in list"
     ]
    }
   ],
   "source": [
    "\n",
    "rec_elm='I765'\n",
    "idx=recs_eval.index(rec_elm)\n",
    "\n",
    "\n",
    "print(f' Record: {rec_elm} , index: {idx}, real label: {Y_eval_spl[idx]}')"
   ]
  },
  {
   "cell_type": "code",
   "execution_count": null,
   "metadata": {},
   "outputs": [],
   "source": [
    "if checking_on:fig_lib.vid_show(X_eval[idx],t_btw_frm=t_btw_frm)"
   ]
  },
  {
   "cell_type": "code",
   "execution_count": null,
   "metadata": {},
   "outputs": [],
   "source": [
    "nuevo_video = np.expand_dims(X_eval[idx], axis=0)\n",
    "\n",
    "# Realizar la predicción\n",
    "prediccion = model.predict(nuevo_video)\n",
    "prediccion"
   ]
  }
 ],
 "metadata": {
  "kernelspec": {
   "display_name": ".venv",
   "language": "python",
   "name": "python3"
  },
  "language_info": {
   "codemirror_mode": {
    "name": "ipython",
    "version": 3
   },
   "file_extension": ".py",
   "mimetype": "text/x-python",
   "name": "python",
   "nbconvert_exporter": "python",
   "pygments_lexer": "ipython3",
   "version": "3.11.7"
  }
 },
 "nbformat": 4,
 "nbformat_minor": 2
}
