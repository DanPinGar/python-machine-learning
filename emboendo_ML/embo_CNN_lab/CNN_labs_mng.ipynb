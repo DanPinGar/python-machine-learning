{
 "cells": [
  {
   "cell_type": "code",
   "execution_count": null,
   "metadata": {},
   "outputs": [],
   "source": [
    "import CNN_lib\n",
    "import CNN_utilities\n",
    "import fig_lib \n",
    "import CNN_machine\n",
    "\n",
    "import numpy as np\n",
    "import pickle\n",
    "\n",
    "import matplotlib.pyplot as plt\n",
    "\n",
    "from sklearn.model_selection import train_test_split\n",
    "from sklearn.metrics import confusion_matrix, classification_report"
   ]
  },
  {
   "cell_type": "markdown",
   "metadata": {},
   "source": [
    "# GENERAL PARAMETERS"
   ]
  },
  {
   "cell_type": "code",
   "execution_count": null,
   "metadata": {},
   "outputs": [],
   "source": [
    "\n",
    "checkpoint_path = \"C:/PROJECTS\\emboendo\\CNN\\python-machine-learning\\emboendo_ML\\embo_CNN_lab\\_static/checkpoints.h5\"\n",
    "pkl_train_p='C:\\PROJECTS\\emboendo\\CNN/pikles/processed_train_d.pkl'  \n",
    "\n",
    "number_data_ls= [i for i in range(70, 530, 51)]\n",
    "#number_data_ls= [i for i in range(70, 530, 400)]\n",
    "check_points_p = [checkpoint_path+'_'+str(n)+'.h5' for n in number_data_ls]\n",
    "models_perf_d={'model'+'_'+str(n):{} for n in number_data_ls}\n",
    "\n",
    "test_size=0.2\n",
    "epochs=9\n",
    "\n",
    "print(len(number_data_ls),number_data_ls)\n",
    "print(models_perf_d)\n"
   ]
  },
  {
   "cell_type": "markdown",
   "metadata": {},
   "source": [
    "## DATA LOAD"
   ]
  },
  {
   "cell_type": "code",
   "execution_count": null,
   "metadata": {},
   "outputs": [],
   "source": [
    "with open(pkl_train_p, 'rb') as pikle_file:\n",
    "    save_trains= pickle.load(pikle_file)\n",
    "\n",
    "Xx_train,Yy_train,rcs =  save_trains[0],save_trains[1],save_trains[2]\n",
    "max_frm_n, HEIGHT, WIDTH=np.shape(Xx_train)[1],np.shape(Xx_train)[2],np.shape(Xx_train)[3]\n",
    "input_shape=(max_frm_n, HEIGHT, WIDTH, 1)"
   ]
  },
  {
   "cell_type": "markdown",
   "metadata": {},
   "source": [
    "## MAIN DATA SHUFFLE"
   ]
  },
  {
   "cell_type": "code",
   "execution_count": null,
   "metadata": {},
   "outputs": [],
   "source": [
    "Xx_train,Yy_train,recs=CNN_lib.shuffle(Xx_train,Yy_train,rcs)"
   ]
  },
  {
   "cell_type": "markdown",
   "metadata": {},
   "source": [
    "## DATA SPLIT"
   ]
  },
  {
   "cell_type": "code",
   "execution_count": null,
   "metadata": {},
   "outputs": [],
   "source": [
    "test_size=0.2\n",
    "X_train_spl, X_eval_spl, Y_train_spl, Y_eval_spl = train_test_split(Xx_train, Yy_train, test_size=test_size, shuffle=False) #,random_state=42)\n",
    "\n",
    "recs_train =recs[0:len(Y_train_spl)]\n",
    "recs_eval =recs[len(Y_train_spl)::]"
   ]
  },
  {
   "cell_type": "markdown",
   "metadata": {},
   "source": [
    "## DATA AUGMENTATION"
   ]
  },
  {
   "cell_type": "code",
   "execution_count": null,
   "metadata": {},
   "outputs": [],
   "source": [
    "number_flip_aug_1,number_flip_aug_0 = [],[]\n",
    "\n",
    "for nn in number_data_ls:\n",
    "\n",
    "    zeros_count = np.sum(Y_train_spl[0:nn] == 0)\n",
    "    number_flip_aug_0.append(round(zeros_count*0.07))\n",
    "    \n",
    "    ones_count= np.sum(Y_train_spl[0:nn] == 1)\n",
    "    number_flip_aug_1.append(ones_count)\n",
    "\n",
    "    print('data:',nn,'zeros:',zeros_count, '--> 7 % :',round(zeros_count*0.07),'ones:',ones_count)"
   ]
  },
  {
   "cell_type": "code",
   "execution_count": null,
   "metadata": {},
   "outputs": [],
   "source": [
    "X_train , Y_train = [] , []\n",
    "\n",
    "for nn,aug_1,aug_0 in zip(number_data_ls,number_flip_aug_1,number_flip_aug_0):\n",
    "\n",
    "    aug_X_train_1,aug_Y_train_1,aug_train_recs_1=CNN_lib.main_aug_f(aug_1,X_train_spl[0:nn],Y_train_spl[0:nn],recs[0:nn],label=1)\n",
    "    aug_X_train_0,aug_Y_train_0,aug_train_recs_0=CNN_lib.main_aug_f(aug_0,X_train_spl[0:nn],Y_train_spl[0:nn],recs[0:nn],label=0)\n",
    "\n",
    "    X_train_n = np.concatenate((X_train_spl[0:nn], aug_X_train_1,aug_X_train_0), axis=0)\n",
    "    Y_train_n = np.concatenate((Y_train_spl[0:nn], aug_Y_train_1, aug_Y_train_0))\n",
    "\n",
    "    recs_n = recs_train[0:nn]+aug_train_recs_1+aug_train_recs_0\n",
    "\n",
    "    X_train.append(X_train_n)\n",
    "    Y_train.append(Y_train_n)\n",
    "     "
   ]
  },
  {
   "cell_type": "markdown",
   "metadata": {},
   "source": [
    "# CNN"
   ]
  },
  {
   "cell_type": "code",
   "execution_count": null,
   "metadata": {},
   "outputs": [],
   "source": [
    "models=[CNN_machine.Gen_Model(input_shape,pp,nn) for nn,pp in zip(number_data_ls,check_points_p)]"
   ]
  },
  {
   "cell_type": "code",
   "execution_count": null,
   "metadata": {},
   "outputs": [],
   "source": [
    "for mdl,X,Y in zip(models,X_train,Y_train):mdl.train_model(X,Y,X_eval_spl,Y_eval_spl, epochs)"
   ]
  },
  {
   "cell_type": "code",
   "execution_count": null,
   "metadata": {},
   "outputs": [],
   "source": [
    "#for mdl in models:CNN_lib.plot_train_eval(mdl.history,epochs)"
   ]
  },
  {
   "cell_type": "code",
   "execution_count": null,
   "metadata": {},
   "outputs": [],
   "source": [
    "for mdl in models: CNN_lib.plot_roc_curve(mdl.fpr_val,mdl.tpr_val,mdl.roc_auc)"
   ]
  },
  {
   "cell_type": "code",
   "execution_count": null,
   "metadata": {},
   "outputs": [],
   "source": [
    "AUC_ls=[mdl.roc_auc for mdl in models]\n",
    "number_points=[mdl.tr_pnt for mdl in models]\n",
    "\n",
    "plt.plot(number_points, AUC_ls, marker='o', linestyle='-', color='b', label='AUC')\n",
    "plt.xlabel('Número de Puntos')\n",
    "plt.ylabel('AUC')\n",
    "plt.title('AUC en función del Número de Puntos')\n",
    "plt.show()"
   ]
  }
 ],
 "metadata": {
  "kernelspec": {
   "display_name": ".venv",
   "language": "python",
   "name": "python3"
  },
  "language_info": {
   "codemirror_mode": {
    "name": "ipython",
    "version": 3
   },
   "file_extension": ".py",
   "mimetype": "text/x-python",
   "name": "python",
   "nbconvert_exporter": "python",
   "pygments_lexer": "ipython3",
   "version": "3.11.7"
  }
 },
 "nbformat": 4,
 "nbformat_minor": 2
}
