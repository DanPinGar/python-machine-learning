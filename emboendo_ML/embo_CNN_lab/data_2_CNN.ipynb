{
 "cells": [
  {
   "cell_type": "markdown",
   "metadata": {},
   "source": [
    "# CNN LAB"
   ]
  },
  {
   "cell_type": "markdown",
   "metadata": {},
   "source": [
    "### LIBRARIES IMPORT"
   ]
  },
  {
   "cell_type": "code",
   "execution_count": 1,
   "metadata": {},
   "outputs": [],
   "source": [
    "# imports\n",
    "\n",
    "import fig_lib \n",
    "import CNN_lib\n",
    "import CNN_utilities\n",
    "import numpy as np\n",
    "import matplotlib.pyplot as plt\n",
    "import time\n",
    "import pandas as pd\n",
    "import pickle\n",
    "import json\n"
   ]
  },
  {
   "cell_type": "code",
   "execution_count": 2,
   "metadata": {},
   "outputs": [],
   "source": [
    "init_time = time.time()"
   ]
  },
  {
   "cell_type": "markdown",
   "metadata": {},
   "source": [
    "# GENERAL PARAMETERS"
   ]
  },
  {
   "cell_type": "code",
   "execution_count": 3,
   "metadata": {},
   "outputs": [],
   "source": [
    "\n",
    "generate_new_peakle=True\n",
    "max_frames_allowed=40\n",
    "\n",
    "checking_on=False\n",
    "\n",
    "json_fix_sq_p='C:\\PROJECTS\\emboendo\\dicom_viewer\\_static\\Jsons\\points_fix_d.json'\n",
    "pkl_d_p = 'C:\\PROJECTS\\emboendo\\CNN/pikles/input_d_processed.pkl'\n",
    "pkl_train_p='C:\\PROJECTS\\emboendo\\CNN\\pikles/processed_train_d.pkl'   \n"
   ]
  },
  {
   "cell_type": "markdown",
   "metadata": {},
   "source": [
    "# DATA LOAD"
   ]
  },
  {
   "cell_type": "markdown",
   "metadata": {},
   "source": [
    "### PROCESSED IMAGES"
   ]
  },
  {
   "cell_type": "code",
   "execution_count": 4,
   "metadata": {},
   "outputs": [],
   "source": [
    "\n",
    "with open(json_fix_sq_p, 'r') as json_file:\n",
    "    json_d = json.load(json_file)\n",
    "    \n"
   ]
  },
  {
   "cell_type": "code",
   "execution_count": 5,
   "metadata": {},
   "outputs": [
    {
     "data": {
      "text/html": [
       "<div>\n",
       "<style scoped>\n",
       "    .dataframe tbody tr th:only-of-type {\n",
       "        vertical-align: middle;\n",
       "    }\n",
       "\n",
       "    .dataframe tbody tr th {\n",
       "        vertical-align: top;\n",
       "    }\n",
       "\n",
       "    .dataframe thead th {\n",
       "        text-align: right;\n",
       "    }\n",
       "</style>\n",
       "<table border=\"1\" class=\"dataframe\">\n",
       "  <thead>\n",
       "    <tr style=\"text-align: right;\">\n",
       "      <th></th>\n",
       "      <th>PatientID</th>\n",
       "      <th>Sex</th>\n",
       "      <th>Age</th>\n",
       "      <th>S.E.</th>\n",
       "      <th>M.A.</th>\n",
       "      <th>A.C.V.</th>\n",
       "      <th>label</th>\n",
       "      <th>recs_crop</th>\n",
       "    </tr>\n",
       "  </thead>\n",
       "  <tbody>\n",
       "    <tr>\n",
       "      <th>0</th>\n",
       "      <td>62</td>\n",
       "      <td>0</td>\n",
       "      <td>67</td>\n",
       "      <td>0</td>\n",
       "      <td>0</td>\n",
       "      <td>0</td>\n",
       "      <td>0</td>\n",
       "      <td>[I1, I11, I2, I9]</td>\n",
       "    </tr>\n",
       "    <tr>\n",
       "      <th>1</th>\n",
       "      <td>76</td>\n",
       "      <td>1</td>\n",
       "      <td>72</td>\n",
       "      <td>0</td>\n",
       "      <td>0</td>\n",
       "      <td>0</td>\n",
       "      <td>0</td>\n",
       "      <td>[I28, I33, I38, I39, I40, I42, I44, I45, I47, ...</td>\n",
       "    </tr>\n",
       "    <tr>\n",
       "      <th>2</th>\n",
       "      <td>93</td>\n",
       "      <td>0</td>\n",
       "      <td>78</td>\n",
       "      <td>0</td>\n",
       "      <td>0</td>\n",
       "      <td>0</td>\n",
       "      <td>0</td>\n",
       "      <td>[I51, I53, I54, I56, I57, I58, I61, I63, I64, ...</td>\n",
       "    </tr>\n",
       "    <tr>\n",
       "      <th>3</th>\n",
       "      <td>103</td>\n",
       "      <td>0</td>\n",
       "      <td>82</td>\n",
       "      <td>1</td>\n",
       "      <td>0</td>\n",
       "      <td>0</td>\n",
       "      <td>1</td>\n",
       "      <td>[I70, I71, I72, I73]</td>\n",
       "    </tr>\n",
       "    <tr>\n",
       "      <th>4</th>\n",
       "      <td>105</td>\n",
       "      <td>1</td>\n",
       "      <td>57</td>\n",
       "      <td>1</td>\n",
       "      <td>0</td>\n",
       "      <td>0</td>\n",
       "      <td>1</td>\n",
       "      <td>[I101, I102, I103, I86, I87, I89, I90, I91, I9...</td>\n",
       "    </tr>\n",
       "    <tr>\n",
       "      <th>...</th>\n",
       "      <td>...</td>\n",
       "      <td>...</td>\n",
       "      <td>...</td>\n",
       "      <td>...</td>\n",
       "      <td>...</td>\n",
       "      <td>...</td>\n",
       "      <td>...</td>\n",
       "      <td>...</td>\n",
       "    </tr>\n",
       "    <tr>\n",
       "      <th>82</th>\n",
       "      <td>109897</td>\n",
       "      <td>1</td>\n",
       "      <td>79</td>\n",
       "      <td>0</td>\n",
       "      <td>0</td>\n",
       "      <td>0</td>\n",
       "      <td>0</td>\n",
       "      <td>[109897_1, 109897_2, 109897_3, 109897_4, 10989...</td>\n",
       "    </tr>\n",
       "    <tr>\n",
       "      <th>83</th>\n",
       "      <td>669183</td>\n",
       "      <td>1</td>\n",
       "      <td>78</td>\n",
       "      <td>0</td>\n",
       "      <td>0</td>\n",
       "      <td>1</td>\n",
       "      <td>1</td>\n",
       "      <td>[669183_1, 669183_10, 669183_2, 669183_3, 6691...</td>\n",
       "    </tr>\n",
       "    <tr>\n",
       "      <th>84</th>\n",
       "      <td>670615</td>\n",
       "      <td>1</td>\n",
       "      <td>80</td>\n",
       "      <td>1</td>\n",
       "      <td>0</td>\n",
       "      <td>2</td>\n",
       "      <td>1</td>\n",
       "      <td>[670615_10, 670615_13, 670615_14, 670615_15, 6...</td>\n",
       "    </tr>\n",
       "    <tr>\n",
       "      <th>85</th>\n",
       "      <td>224436</td>\n",
       "      <td>1</td>\n",
       "      <td>77</td>\n",
       "      <td>0</td>\n",
       "      <td>0</td>\n",
       "      <td>0</td>\n",
       "      <td>0</td>\n",
       "      <td>[224436_1, 224436_10, 224436_11, 224436_12, 22...</td>\n",
       "    </tr>\n",
       "    <tr>\n",
       "      <th>86</th>\n",
       "      <td>673676</td>\n",
       "      <td>1</td>\n",
       "      <td>55</td>\n",
       "      <td>0</td>\n",
       "      <td>0</td>\n",
       "      <td>0</td>\n",
       "      <td>0</td>\n",
       "      <td>[673676_1, 673676_10, 673676_12, 673676_13, 67...</td>\n",
       "    </tr>\n",
       "  </tbody>\n",
       "</table>\n",
       "<p>87 rows × 8 columns</p>\n",
       "</div>"
      ],
      "text/plain": [
       "    PatientID  Sex  Age  S.E.  M.A.  A.C.V.  label  \\\n",
       "0          62    0   67     0     0       0      0   \n",
       "1          76    1   72     0     0       0      0   \n",
       "2          93    0   78     0     0       0      0   \n",
       "3         103    0   82     1     0       0      1   \n",
       "4         105    1   57     1     0       0      1   \n",
       "..        ...  ...  ...   ...   ...     ...    ...   \n",
       "82     109897    1   79     0     0       0      0   \n",
       "83     669183    1   78     0     0       1      1   \n",
       "84     670615    1   80     1     0       2      1   \n",
       "85     224436    1   77     0     0       0      0   \n",
       "86     673676    1   55     0     0       0      0   \n",
       "\n",
       "                                            recs_crop  \n",
       "0                                   [I1, I11, I2, I9]  \n",
       "1   [I28, I33, I38, I39, I40, I42, I44, I45, I47, ...  \n",
       "2   [I51, I53, I54, I56, I57, I58, I61, I63, I64, ...  \n",
       "3                                [I70, I71, I72, I73]  \n",
       "4   [I101, I102, I103, I86, I87, I89, I90, I91, I9...  \n",
       "..                                                ...  \n",
       "82  [109897_1, 109897_2, 109897_3, 109897_4, 10989...  \n",
       "83  [669183_1, 669183_10, 669183_2, 669183_3, 6691...  \n",
       "84  [670615_10, 670615_13, 670615_14, 670615_15, 6...  \n",
       "85  [224436_1, 224436_10, 224436_11, 224436_12, 22...  \n",
       "86  [673676_1, 673676_10, 673676_12, 673676_13, 67...  \n",
       "\n",
       "[87 rows x 8 columns]"
      ]
     },
     "metadata": {},
     "output_type": "display_data"
    }
   ],
   "source": [
    "\n",
    "patients_recs_d_df=CNN_utilities.main_d_df()\n",
    "patients_labels_d_df=CNN_utilities.labels_df()\n",
    "patients_d_df=pd.merge( patients_labels_d_df,patients_recs_d_df, on='PatientID')\n",
    "\n",
    "def find_recs(row):\n",
    "\n",
    "    rec_true = [record for record in row['Records'] if record in list(json_d.keys())]\n",
    "\n",
    "    return pd.Series({'recs_crop': rec_true})\n",
    "\n",
    "new_col = patients_d_df.apply(find_recs, axis=1)\n",
    "patients_d_df = pd.concat([patients_d_df, new_col], axis=1)\n",
    "patients_d_df=patients_d_df.drop('Records', axis=1)\n",
    "patients_d_df =  patients_d_df[patients_d_df['recs_crop'].apply(lambda x: x != [])]\n",
    "\n",
    "display(patients_d_df)\n"
   ]
  },
  {
   "cell_type": "code",
   "execution_count": 6,
   "metadata": {},
   "outputs": [
    {
     "name": "stdout",
     "output_type": "stream",
     "text": [
      "- PATIENTS: 87 ,PATIENT LABEL 0: 63, PATIENT LABEL 1: 24\n",
      "- RECORDS: 660 , RECORDS LABEL 0: 485, RECORDS LABEL 1:175\n",
      "- RATIO LABEL 0: 7.7, RATIO LABEL 1: 7.29\n"
     ]
    }
   ],
   "source": [
    "  \n",
    "tot_recs=sum(len(records) for records in patients_d_df['recs_crop'])\n",
    "filtered_df_0,filtered_df_1 = patients_d_df[patients_d_df['label'] == 0],patients_d_df[patients_d_df['label'] == 1]\n",
    "label_0,label_1 = sum(len(records) for records in filtered_df_0['recs_crop']),sum(len(records) for records in filtered_df_1['recs_crop'])\n",
    "\n",
    "print(f'- PATIENTS: {patients_d_df.shape[0]} ,PATIENT LABEL 0: {sum(patients_d_df[\"label\"]==0)}, PATIENT LABEL 1: {sum(patients_d_df[\"label\"]==1)}')\n",
    "print( f'- RECORDS: {tot_recs} , RECORDS LABEL 0: {label_0}, RECORDS LABEL 1:{label_1}')\n",
    "print(f'- RATIO LABEL 0: {np.round(label_0/sum(patients_d_df[\"label\"]==0),decimals=2)}, RATIO LABEL 1: {np.round(label_1/sum(patients_d_df[\"label\"]==1),decimals=2)}')\n"
   ]
  },
  {
   "cell_type": "code",
   "execution_count": 7,
   "metadata": {},
   "outputs": [],
   "source": [
    "if generate_new_peakle:\n",
    "    \n",
    "    input_d={}    \n",
    "\n",
    "    for label,ii in zip(patients_d_df['label'],patients_d_df['recs_crop']):\n",
    "        \n",
    "        for rec in ii:\n",
    "\n",
    "            input_d[rec]={'label':label}\n",
    "            vd_ls=[]\n",
    "\n",
    "            for i in range(len(json_d[rec])):\n",
    "                \n",
    "                if i== max_frames_allowed: break\n",
    "                \n",
    "                else:\n",
    "                    try:\n",
    "                        image_8bit=np.load(json_d[rec][str(i)]['cropped_image'])\n",
    "                        #print(rec,label,i, np.shape(image_8bit))\n",
    "                        width=np.shape(image_8bit)[0]\n",
    "                        height = np.shape(image_8bit)[1]\n",
    "                        vd_ls.append(image_8bit)\n",
    "                    except:pass\n",
    "                \n",
    "            input_d[rec]['image']=np.array(vd_ls)\n",
    "            input_d[rec]['dimHW']= [height,width]   \n",
    "    \n",
    "    with open(pkl_d_p, 'wb') as pikle_file:\n",
    "        \n",
    "        pickle.dump(input_d, pikle_file)\n",
    "\n",
    "else: \n",
    "\n",
    "    with open(pkl_d_p, 'rb') as pikle_file:\n",
    "        input_d = pickle.load(pikle_file)"
   ]
  },
  {
   "cell_type": "markdown",
   "metadata": {},
   "source": [
    "# CHECK DATA"
   ]
  },
  {
   "cell_type": "code",
   "execution_count": 8,
   "metadata": {},
   "outputs": [],
   "source": [
    "if checking_on:\n",
    "    print('RECORD - LABEL - SHAPE')\n",
    "\n",
    "    #if d_type== 'synthetic':\n",
    "        \n",
    "    for R in input_d.keys():\n",
    "        print(R,input_d[R]['label'],np.shape(input_d[R]['image']),type(input_d[R]['image']))"
   ]
  },
  {
   "cell_type": "code",
   "execution_count": 9,
   "metadata": {},
   "outputs": [],
   "source": [
    "if checking_on:\n",
    "\n",
    "    rec_check='I70'\n",
    "    t_btw_frm=0.05\n",
    "    print(input_d[rec_check]['label'])\n"
   ]
  },
  {
   "cell_type": "code",
   "execution_count": 10,
   "metadata": {},
   "outputs": [],
   "source": [
    "# check video\n",
    "\n",
    "if checking_on:fig_lib.vid_show(input_d[rec_check]['image'],t_btw_frm=t_btw_frm)"
   ]
  },
  {
   "cell_type": "markdown",
   "metadata": {},
   "source": [
    "# GENERATE TRAIN DATA"
   ]
  },
  {
   "cell_type": "code",
   "execution_count": 11,
   "metadata": {},
   "outputs": [],
   "source": [
    "# X_train,Y_train\n",
    "\n",
    "X_train,Y_train,max_frm_n,HEIGHT, WIDTH =CNN_lib.vid_d_bin_gen(input_d, zero=0, one= 1,pad_type='loop',im_pad_type='center')\n",
    "recs=list(input_d.keys())\n"
   ]
  },
  {
   "cell_type": "markdown",
   "metadata": {},
   "source": [
    "### SAVE DATA"
   ]
  },
  {
   "cell_type": "code",
   "execution_count": 12,
   "metadata": {},
   "outputs": [],
   "source": [
    "save_trains=[X_train,Y_train,recs]\n",
    "with open(pkl_train_p, 'wb') as pikle_file:\n",
    "        \n",
    "        pickle.dump(save_trains, pikle_file)\n"
   ]
  },
  {
   "cell_type": "code",
   "execution_count": 13,
   "metadata": {},
   "outputs": [
    {
     "name": "stdout",
     "output_type": "stream",
     "text": [
      "Tiempo transcurrido: 71.95358681678772 segundos\n"
     ]
    }
   ],
   "source": [
    "end_time = time.time()\n",
    "\n",
    "process_time = end_time - init_time\n",
    "print(f\"Tiempo transcurrido: {process_time} segundos\")"
   ]
  },
  {
   "cell_type": "markdown",
   "metadata": {},
   "source": [
    "### CHECK SAVED DATA"
   ]
  },
  {
   "cell_type": "code",
   "execution_count": 14,
   "metadata": {},
   "outputs": [],
   "source": [
    "with open(pkl_train_p, 'rb') as pikle_file:\n",
    "\n",
    "    save_trains= pickle.load(pikle_file)\n",
    "\n",
    "x_train,y_train =  save_trains[0],save_trains[1]\n",
    "rcs=save_trains[2]"
   ]
  },
  {
   "cell_type": "code",
   "execution_count": 15,
   "metadata": {},
   "outputs": [
    {
     "name": "stdout",
     "output_type": "stream",
     "text": [
      "<class 'numpy.ndarray'> <class 'numpy.ndarray'> <class 'list'>\n",
      "(660, 40, 160, 160, 1) (660,) 660\n",
      "1.0\n"
     ]
    }
   ],
   "source": [
    "print(type(x_train),type(y_train),type(recs))\n",
    "print(x_train.shape,y_train.shape,len(recs))\n",
    "print(np.max(x_train))"
   ]
  },
  {
   "cell_type": "code",
   "execution_count": 16,
   "metadata": {},
   "outputs": [],
   "source": [
    "if checking_on: \n",
    "       \n",
    "    for x,y,r in zip(x_train,y_train,rcs):\n",
    "        print(r,int(y),np.shape(x),type(x))"
   ]
  },
  {
   "cell_type": "code",
   "execution_count": 17,
   "metadata": {},
   "outputs": [],
   "source": [
    "if checking_on:\n",
    "\n",
    "    rec_elm='I70'\n",
    "    idx=rcs.index(rec_elm)\n",
    "    Y_train[idx]"
   ]
  },
  {
   "cell_type": "code",
   "execution_count": 18,
   "metadata": {},
   "outputs": [],
   "source": [
    "if checking_on:fig_lib.vid_show(X_train[idx],t_btw_frm=t_btw_frm)"
   ]
  }
 ],
 "metadata": {
  "kernelspec": {
   "display_name": ".venv",
   "language": "python",
   "name": "python3"
  },
  "language_info": {
   "codemirror_mode": {
    "name": "ipython",
    "version": 3
   },
   "file_extension": ".py",
   "mimetype": "text/x-python",
   "name": "python",
   "nbconvert_exporter": "python",
   "pygments_lexer": "ipython3",
   "version": "3.11.7"
  }
 },
 "nbformat": 4,
 "nbformat_minor": 2
}
