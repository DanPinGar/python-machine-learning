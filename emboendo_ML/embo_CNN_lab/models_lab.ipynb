{
 "cells": [
  {
   "cell_type": "markdown",
   "metadata": {},
   "source": [
    "# LIBRARIES IMPORT"
   ]
  },
  {
   "cell_type": "code",
   "execution_count": 57,
   "metadata": {},
   "outputs": [],
   "source": [
    "# imports\n",
    "\n",
    "import fig_lib \n",
    "import CNN_lib\n",
    "import numpy as np\n",
    "import matplotlib.pyplot as plt\n",
    "import time\n",
    "\n",
    "from tensorflow import keras\n",
    "from tensorflow.keras import layers, models\n"
   ]
  },
  {
   "cell_type": "markdown",
   "metadata": {},
   "source": [
    "# DATA GENERATOR"
   ]
  },
  {
   "cell_type": "code",
   "execution_count": 58,
   "metadata": {},
   "outputs": [],
   "source": [
    "# -------- DATA PARAMS --------\n",
    "\n",
    "generate_new_data=True\n",
    "video_d=True                            # Video = True , Image = False \n",
    "    \n",
    "n_recs_train,n_recs_eval=300,80\n",
    "HEIGHT, WIDTH = 100, 100\n",
    "circles_filled=False\n",
    "color=255\n",
    "\n",
    "# -------- Video ---------\n",
    "\n",
    "n_frames=[10,12]    # [min,max]\n",
    "t_btw_frm=0.2"
   ]
  },
  {
   "cell_type": "code",
   "execution_count": 59,
   "metadata": {},
   "outputs": [],
   "source": [
    "#input_d, eval_d\n",
    "\n",
    "if generate_new_data:\n",
    "\n",
    "    if video_d:\n",
    "        \n",
    "        input_d=fig_lib.vid_data_gen(HEIGHT, WIDTH,n_recs_train,n_frames,'I',cir_f=circles_filled,color=color)\n",
    "        eval_d=fig_lib.vid_data_gen(HEIGHT, WIDTH,n_recs_eval,n_frames,'I',cir_f=circles_filled,color=color)\n",
    "\n",
    "    else:\n",
    "\n",
    "        input_d=fig_lib.im_data_gen(HEIGHT, WIDTH,n_recs_train,'I',cir_f=circles_filled,color=color)\n",
    "        eval_d=fig_lib.im_data_gen(HEIGHT, WIDTH,n_recs_eval,'I',cir_f=circles_filled,color=color)"
   ]
  },
  {
   "cell_type": "code",
   "execution_count": 60,
   "metadata": {},
   "outputs": [
    {
     "name": "stdout",
     "output_type": "stream",
     "text": [
      "RECORD - LABEL - SHAPE\n",
      "I0 line (12, 100, 100) <class 'numpy.ndarray'>\n",
      "I1 circle (12, 100, 100) <class 'numpy.ndarray'>\n",
      "I2 line (10, 100, 100) <class 'numpy.ndarray'>\n",
      "I3 line (12, 100, 100) <class 'numpy.ndarray'>\n",
      "I4 line (10, 100, 100) <class 'numpy.ndarray'>\n",
      "I5 line (10, 100, 100) <class 'numpy.ndarray'>\n",
      "I6 line (11, 100, 100) <class 'numpy.ndarray'>\n",
      "I7 line (10, 100, 100) <class 'numpy.ndarray'>\n",
      "I8 circle (11, 100, 100) <class 'numpy.ndarray'>\n",
      "I9 line (12, 100, 100) <class 'numpy.ndarray'>\n",
      "I10 circle (12, 100, 100) <class 'numpy.ndarray'>\n",
      "I11 circle (12, 100, 100) <class 'numpy.ndarray'>\n",
      "I12 line (12, 100, 100) <class 'numpy.ndarray'>\n",
      "I13 line (11, 100, 100) <class 'numpy.ndarray'>\n",
      "I14 line (12, 100, 100) <class 'numpy.ndarray'>\n",
      "I15 line (11, 100, 100) <class 'numpy.ndarray'>\n",
      "I16 circle (10, 100, 100) <class 'numpy.ndarray'>\n",
      "I17 line (12, 100, 100) <class 'numpy.ndarray'>\n",
      "I18 line (10, 100, 100) <class 'numpy.ndarray'>\n",
      "I19 circle (11, 100, 100) <class 'numpy.ndarray'>\n",
      "I20 circle (11, 100, 100) <class 'numpy.ndarray'>\n",
      "I21 line (12, 100, 100) <class 'numpy.ndarray'>\n",
      "I22 line (11, 100, 100) <class 'numpy.ndarray'>\n",
      "I23 circle (11, 100, 100) <class 'numpy.ndarray'>\n",
      "I24 line (12, 100, 100) <class 'numpy.ndarray'>\n",
      "I25 circle (10, 100, 100) <class 'numpy.ndarray'>\n",
      "I26 line (10, 100, 100) <class 'numpy.ndarray'>\n",
      "I27 circle (12, 100, 100) <class 'numpy.ndarray'>\n",
      "I28 line (11, 100, 100) <class 'numpy.ndarray'>\n",
      "I29 line (11, 100, 100) <class 'numpy.ndarray'>\n",
      "I30 circle (10, 100, 100) <class 'numpy.ndarray'>\n",
      "I31 line (11, 100, 100) <class 'numpy.ndarray'>\n",
      "I32 line (11, 100, 100) <class 'numpy.ndarray'>\n",
      "I33 circle (11, 100, 100) <class 'numpy.ndarray'>\n",
      "I34 circle (11, 100, 100) <class 'numpy.ndarray'>\n",
      "I35 line (11, 100, 100) <class 'numpy.ndarray'>\n",
      "I36 circle (10, 100, 100) <class 'numpy.ndarray'>\n",
      "I37 circle (10, 100, 100) <class 'numpy.ndarray'>\n",
      "I38 circle (10, 100, 100) <class 'numpy.ndarray'>\n",
      "I39 circle (12, 100, 100) <class 'numpy.ndarray'>\n",
      "I40 line (11, 100, 100) <class 'numpy.ndarray'>\n",
      "I41 line (10, 100, 100) <class 'numpy.ndarray'>\n",
      "I42 circle (12, 100, 100) <class 'numpy.ndarray'>\n",
      "I43 line (12, 100, 100) <class 'numpy.ndarray'>\n",
      "I44 line (11, 100, 100) <class 'numpy.ndarray'>\n",
      "I45 line (10, 100, 100) <class 'numpy.ndarray'>\n",
      "I46 line (11, 100, 100) <class 'numpy.ndarray'>\n",
      "I47 circle (12, 100, 100) <class 'numpy.ndarray'>\n",
      "I48 line (10, 100, 100) <class 'numpy.ndarray'>\n",
      "I49 line (11, 100, 100) <class 'numpy.ndarray'>\n",
      "I50 line (11, 100, 100) <class 'numpy.ndarray'>\n",
      "I51 line (12, 100, 100) <class 'numpy.ndarray'>\n",
      "I52 circle (12, 100, 100) <class 'numpy.ndarray'>\n",
      "I53 circle (11, 100, 100) <class 'numpy.ndarray'>\n",
      "I54 line (10, 100, 100) <class 'numpy.ndarray'>\n",
      "I55 circle (11, 100, 100) <class 'numpy.ndarray'>\n",
      "I56 circle (12, 100, 100) <class 'numpy.ndarray'>\n",
      "I57 line (11, 100, 100) <class 'numpy.ndarray'>\n",
      "I58 line (11, 100, 100) <class 'numpy.ndarray'>\n",
      "I59 circle (12, 100, 100) <class 'numpy.ndarray'>\n",
      "I60 line (11, 100, 100) <class 'numpy.ndarray'>\n",
      "I61 line (12, 100, 100) <class 'numpy.ndarray'>\n",
      "I62 circle (10, 100, 100) <class 'numpy.ndarray'>\n",
      "I63 line (10, 100, 100) <class 'numpy.ndarray'>\n",
      "I64 line (12, 100, 100) <class 'numpy.ndarray'>\n",
      "I65 line (11, 100, 100) <class 'numpy.ndarray'>\n",
      "I66 circle (10, 100, 100) <class 'numpy.ndarray'>\n",
      "I67 line (11, 100, 100) <class 'numpy.ndarray'>\n",
      "I68 circle (12, 100, 100) <class 'numpy.ndarray'>\n",
      "I69 circle (10, 100, 100) <class 'numpy.ndarray'>\n",
      "I70 circle (11, 100, 100) <class 'numpy.ndarray'>\n",
      "I71 line (12, 100, 100) <class 'numpy.ndarray'>\n",
      "I72 circle (11, 100, 100) <class 'numpy.ndarray'>\n",
      "I73 circle (11, 100, 100) <class 'numpy.ndarray'>\n",
      "I74 circle (12, 100, 100) <class 'numpy.ndarray'>\n",
      "I75 line (10, 100, 100) <class 'numpy.ndarray'>\n",
      "I76 line (12, 100, 100) <class 'numpy.ndarray'>\n",
      "I77 line (10, 100, 100) <class 'numpy.ndarray'>\n",
      "I78 line (12, 100, 100) <class 'numpy.ndarray'>\n",
      "I79 line (10, 100, 100) <class 'numpy.ndarray'>\n",
      "I80 circle (10, 100, 100) <class 'numpy.ndarray'>\n",
      "I81 circle (11, 100, 100) <class 'numpy.ndarray'>\n",
      "I82 circle (11, 100, 100) <class 'numpy.ndarray'>\n",
      "I83 line (12, 100, 100) <class 'numpy.ndarray'>\n",
      "I84 line (12, 100, 100) <class 'numpy.ndarray'>\n",
      "I85 line (10, 100, 100) <class 'numpy.ndarray'>\n",
      "I86 line (10, 100, 100) <class 'numpy.ndarray'>\n",
      "I87 line (10, 100, 100) <class 'numpy.ndarray'>\n",
      "I88 line (11, 100, 100) <class 'numpy.ndarray'>\n",
      "I89 circle (10, 100, 100) <class 'numpy.ndarray'>\n",
      "I90 line (10, 100, 100) <class 'numpy.ndarray'>\n",
      "I91 circle (12, 100, 100) <class 'numpy.ndarray'>\n",
      "I92 line (11, 100, 100) <class 'numpy.ndarray'>\n",
      "I93 line (11, 100, 100) <class 'numpy.ndarray'>\n",
      "I94 line (10, 100, 100) <class 'numpy.ndarray'>\n",
      "I95 line (10, 100, 100) <class 'numpy.ndarray'>\n",
      "I96 circle (12, 100, 100) <class 'numpy.ndarray'>\n",
      "I97 circle (10, 100, 100) <class 'numpy.ndarray'>\n",
      "I98 line (11, 100, 100) <class 'numpy.ndarray'>\n",
      "I99 line (10, 100, 100) <class 'numpy.ndarray'>\n",
      "I100 line (11, 100, 100) <class 'numpy.ndarray'>\n",
      "I101 line (11, 100, 100) <class 'numpy.ndarray'>\n",
      "I102 line (11, 100, 100) <class 'numpy.ndarray'>\n",
      "I103 line (12, 100, 100) <class 'numpy.ndarray'>\n",
      "I104 circle (11, 100, 100) <class 'numpy.ndarray'>\n",
      "I105 circle (12, 100, 100) <class 'numpy.ndarray'>\n",
      "I106 circle (11, 100, 100) <class 'numpy.ndarray'>\n",
      "I107 circle (11, 100, 100) <class 'numpy.ndarray'>\n",
      "I108 circle (12, 100, 100) <class 'numpy.ndarray'>\n",
      "I109 circle (12, 100, 100) <class 'numpy.ndarray'>\n",
      "I110 circle (10, 100, 100) <class 'numpy.ndarray'>\n",
      "I111 circle (11, 100, 100) <class 'numpy.ndarray'>\n",
      "I112 circle (11, 100, 100) <class 'numpy.ndarray'>\n",
      "I113 circle (11, 100, 100) <class 'numpy.ndarray'>\n",
      "I114 circle (12, 100, 100) <class 'numpy.ndarray'>\n",
      "I115 circle (12, 100, 100) <class 'numpy.ndarray'>\n",
      "I116 line (10, 100, 100) <class 'numpy.ndarray'>\n",
      "I117 circle (12, 100, 100) <class 'numpy.ndarray'>\n",
      "I118 line (11, 100, 100) <class 'numpy.ndarray'>\n",
      "I119 circle (10, 100, 100) <class 'numpy.ndarray'>\n",
      "I120 circle (10, 100, 100) <class 'numpy.ndarray'>\n",
      "I121 line (10, 100, 100) <class 'numpy.ndarray'>\n",
      "I122 line (12, 100, 100) <class 'numpy.ndarray'>\n",
      "I123 circle (12, 100, 100) <class 'numpy.ndarray'>\n",
      "I124 circle (11, 100, 100) <class 'numpy.ndarray'>\n",
      "I125 line (11, 100, 100) <class 'numpy.ndarray'>\n",
      "I126 circle (10, 100, 100) <class 'numpy.ndarray'>\n",
      "I127 line (11, 100, 100) <class 'numpy.ndarray'>\n",
      "I128 line (12, 100, 100) <class 'numpy.ndarray'>\n",
      "I129 line (10, 100, 100) <class 'numpy.ndarray'>\n",
      "I130 line (10, 100, 100) <class 'numpy.ndarray'>\n",
      "I131 line (12, 100, 100) <class 'numpy.ndarray'>\n",
      "I132 line (10, 100, 100) <class 'numpy.ndarray'>\n",
      "I133 circle (11, 100, 100) <class 'numpy.ndarray'>\n",
      "I134 line (11, 100, 100) <class 'numpy.ndarray'>\n",
      "I135 line (10, 100, 100) <class 'numpy.ndarray'>\n",
      "I136 line (12, 100, 100) <class 'numpy.ndarray'>\n",
      "I137 circle (10, 100, 100) <class 'numpy.ndarray'>\n",
      "I138 circle (12, 100, 100) <class 'numpy.ndarray'>\n",
      "I139 circle (10, 100, 100) <class 'numpy.ndarray'>\n",
      "I140 circle (11, 100, 100) <class 'numpy.ndarray'>\n",
      "I141 circle (12, 100, 100) <class 'numpy.ndarray'>\n",
      "I142 circle (11, 100, 100) <class 'numpy.ndarray'>\n",
      "I143 circle (11, 100, 100) <class 'numpy.ndarray'>\n",
      "I144 line (10, 100, 100) <class 'numpy.ndarray'>\n",
      "I145 line (10, 100, 100) <class 'numpy.ndarray'>\n",
      "I146 circle (10, 100, 100) <class 'numpy.ndarray'>\n",
      "I147 circle (12, 100, 100) <class 'numpy.ndarray'>\n",
      "I148 line (12, 100, 100) <class 'numpy.ndarray'>\n",
      "I149 line (12, 100, 100) <class 'numpy.ndarray'>\n",
      "I150 circle (11, 100, 100) <class 'numpy.ndarray'>\n",
      "I151 circle (11, 100, 100) <class 'numpy.ndarray'>\n",
      "I152 line (11, 100, 100) <class 'numpy.ndarray'>\n",
      "I153 line (10, 100, 100) <class 'numpy.ndarray'>\n",
      "I154 circle (12, 100, 100) <class 'numpy.ndarray'>\n",
      "I155 line (12, 100, 100) <class 'numpy.ndarray'>\n",
      "I156 line (11, 100, 100) <class 'numpy.ndarray'>\n",
      "I157 line (12, 100, 100) <class 'numpy.ndarray'>\n",
      "I158 circle (12, 100, 100) <class 'numpy.ndarray'>\n",
      "I159 line (12, 100, 100) <class 'numpy.ndarray'>\n",
      "I160 circle (11, 100, 100) <class 'numpy.ndarray'>\n",
      "I161 line (12, 100, 100) <class 'numpy.ndarray'>\n",
      "I162 line (10, 100, 100) <class 'numpy.ndarray'>\n",
      "I163 line (12, 100, 100) <class 'numpy.ndarray'>\n",
      "I164 circle (10, 100, 100) <class 'numpy.ndarray'>\n",
      "I165 circle (10, 100, 100) <class 'numpy.ndarray'>\n",
      "I166 line (10, 100, 100) <class 'numpy.ndarray'>\n",
      "I167 line (10, 100, 100) <class 'numpy.ndarray'>\n",
      "I168 line (12, 100, 100) <class 'numpy.ndarray'>\n",
      "I169 circle (12, 100, 100) <class 'numpy.ndarray'>\n",
      "I170 line (10, 100, 100) <class 'numpy.ndarray'>\n",
      "I171 circle (12, 100, 100) <class 'numpy.ndarray'>\n",
      "I172 circle (12, 100, 100) <class 'numpy.ndarray'>\n",
      "I173 line (11, 100, 100) <class 'numpy.ndarray'>\n",
      "I174 circle (11, 100, 100) <class 'numpy.ndarray'>\n",
      "I175 line (12, 100, 100) <class 'numpy.ndarray'>\n",
      "I176 line (11, 100, 100) <class 'numpy.ndarray'>\n",
      "I177 circle (10, 100, 100) <class 'numpy.ndarray'>\n",
      "I178 line (11, 100, 100) <class 'numpy.ndarray'>\n",
      "I179 line (11, 100, 100) <class 'numpy.ndarray'>\n",
      "I180 circle (12, 100, 100) <class 'numpy.ndarray'>\n",
      "I181 line (11, 100, 100) <class 'numpy.ndarray'>\n",
      "I182 line (11, 100, 100) <class 'numpy.ndarray'>\n",
      "I183 line (12, 100, 100) <class 'numpy.ndarray'>\n",
      "I184 line (12, 100, 100) <class 'numpy.ndarray'>\n",
      "I185 circle (10, 100, 100) <class 'numpy.ndarray'>\n",
      "I186 circle (10, 100, 100) <class 'numpy.ndarray'>\n",
      "I187 line (12, 100, 100) <class 'numpy.ndarray'>\n",
      "I188 line (11, 100, 100) <class 'numpy.ndarray'>\n",
      "I189 line (11, 100, 100) <class 'numpy.ndarray'>\n",
      "I190 line (12, 100, 100) <class 'numpy.ndarray'>\n",
      "I191 circle (10, 100, 100) <class 'numpy.ndarray'>\n",
      "I192 line (11, 100, 100) <class 'numpy.ndarray'>\n",
      "I193 line (11, 100, 100) <class 'numpy.ndarray'>\n",
      "I194 line (11, 100, 100) <class 'numpy.ndarray'>\n",
      "I195 line (12, 100, 100) <class 'numpy.ndarray'>\n",
      "I196 circle (10, 100, 100) <class 'numpy.ndarray'>\n",
      "I197 circle (10, 100, 100) <class 'numpy.ndarray'>\n",
      "I198 circle (12, 100, 100) <class 'numpy.ndarray'>\n",
      "I199 line (11, 100, 100) <class 'numpy.ndarray'>\n",
      "I200 circle (10, 100, 100) <class 'numpy.ndarray'>\n",
      "I201 line (11, 100, 100) <class 'numpy.ndarray'>\n",
      "I202 circle (10, 100, 100) <class 'numpy.ndarray'>\n",
      "I203 line (11, 100, 100) <class 'numpy.ndarray'>\n",
      "I204 circle (11, 100, 100) <class 'numpy.ndarray'>\n",
      "I205 circle (10, 100, 100) <class 'numpy.ndarray'>\n",
      "I206 circle (10, 100, 100) <class 'numpy.ndarray'>\n",
      "I207 line (11, 100, 100) <class 'numpy.ndarray'>\n",
      "I208 circle (12, 100, 100) <class 'numpy.ndarray'>\n",
      "I209 line (11, 100, 100) <class 'numpy.ndarray'>\n",
      "I210 circle (12, 100, 100) <class 'numpy.ndarray'>\n",
      "I211 line (10, 100, 100) <class 'numpy.ndarray'>\n",
      "I212 line (11, 100, 100) <class 'numpy.ndarray'>\n",
      "I213 line (10, 100, 100) <class 'numpy.ndarray'>\n",
      "I214 circle (12, 100, 100) <class 'numpy.ndarray'>\n",
      "I215 line (12, 100, 100) <class 'numpy.ndarray'>\n",
      "I216 line (10, 100, 100) <class 'numpy.ndarray'>\n",
      "I217 circle (10, 100, 100) <class 'numpy.ndarray'>\n",
      "I218 circle (11, 100, 100) <class 'numpy.ndarray'>\n",
      "I219 circle (10, 100, 100) <class 'numpy.ndarray'>\n",
      "I220 circle (12, 100, 100) <class 'numpy.ndarray'>\n",
      "I221 line (10, 100, 100) <class 'numpy.ndarray'>\n",
      "I222 line (12, 100, 100) <class 'numpy.ndarray'>\n",
      "I223 circle (11, 100, 100) <class 'numpy.ndarray'>\n",
      "I224 line (11, 100, 100) <class 'numpy.ndarray'>\n",
      "I225 circle (10, 100, 100) <class 'numpy.ndarray'>\n",
      "I226 line (10, 100, 100) <class 'numpy.ndarray'>\n",
      "I227 circle (10, 100, 100) <class 'numpy.ndarray'>\n",
      "I228 line (11, 100, 100) <class 'numpy.ndarray'>\n",
      "I229 circle (10, 100, 100) <class 'numpy.ndarray'>\n",
      "I230 line (12, 100, 100) <class 'numpy.ndarray'>\n",
      "I231 line (12, 100, 100) <class 'numpy.ndarray'>\n",
      "I232 circle (10, 100, 100) <class 'numpy.ndarray'>\n",
      "I233 circle (10, 100, 100) <class 'numpy.ndarray'>\n",
      "I234 line (12, 100, 100) <class 'numpy.ndarray'>\n",
      "I235 circle (11, 100, 100) <class 'numpy.ndarray'>\n",
      "I236 line (11, 100, 100) <class 'numpy.ndarray'>\n",
      "I237 line (11, 100, 100) <class 'numpy.ndarray'>\n",
      "I238 circle (11, 100, 100) <class 'numpy.ndarray'>\n",
      "I239 circle (10, 100, 100) <class 'numpy.ndarray'>\n",
      "I240 circle (11, 100, 100) <class 'numpy.ndarray'>\n",
      "I241 line (12, 100, 100) <class 'numpy.ndarray'>\n",
      "I242 circle (10, 100, 100) <class 'numpy.ndarray'>\n",
      "I243 circle (12, 100, 100) <class 'numpy.ndarray'>\n",
      "I244 circle (10, 100, 100) <class 'numpy.ndarray'>\n",
      "I245 circle (11, 100, 100) <class 'numpy.ndarray'>\n",
      "I246 line (11, 100, 100) <class 'numpy.ndarray'>\n",
      "I247 line (11, 100, 100) <class 'numpy.ndarray'>\n",
      "I248 circle (12, 100, 100) <class 'numpy.ndarray'>\n",
      "I249 line (12, 100, 100) <class 'numpy.ndarray'>\n",
      "I250 line (12, 100, 100) <class 'numpy.ndarray'>\n",
      "I251 circle (11, 100, 100) <class 'numpy.ndarray'>\n",
      "I252 line (12, 100, 100) <class 'numpy.ndarray'>\n",
      "I253 circle (10, 100, 100) <class 'numpy.ndarray'>\n",
      "I254 circle (11, 100, 100) <class 'numpy.ndarray'>\n",
      "I255 circle (11, 100, 100) <class 'numpy.ndarray'>\n",
      "I256 line (12, 100, 100) <class 'numpy.ndarray'>\n",
      "I257 line (10, 100, 100) <class 'numpy.ndarray'>\n",
      "I258 line (11, 100, 100) <class 'numpy.ndarray'>\n",
      "I259 circle (10, 100, 100) <class 'numpy.ndarray'>\n",
      "I260 circle (10, 100, 100) <class 'numpy.ndarray'>\n",
      "I261 line (10, 100, 100) <class 'numpy.ndarray'>\n",
      "I262 line (12, 100, 100) <class 'numpy.ndarray'>\n",
      "I263 circle (12, 100, 100) <class 'numpy.ndarray'>\n",
      "I264 circle (12, 100, 100) <class 'numpy.ndarray'>\n",
      "I265 circle (12, 100, 100) <class 'numpy.ndarray'>\n",
      "I266 circle (11, 100, 100) <class 'numpy.ndarray'>\n",
      "I267 line (12, 100, 100) <class 'numpy.ndarray'>\n",
      "I268 circle (11, 100, 100) <class 'numpy.ndarray'>\n",
      "I269 line (11, 100, 100) <class 'numpy.ndarray'>\n",
      "I270 line (10, 100, 100) <class 'numpy.ndarray'>\n",
      "I271 circle (12, 100, 100) <class 'numpy.ndarray'>\n",
      "I272 circle (10, 100, 100) <class 'numpy.ndarray'>\n",
      "I273 circle (12, 100, 100) <class 'numpy.ndarray'>\n",
      "I274 circle (12, 100, 100) <class 'numpy.ndarray'>\n",
      "I275 circle (10, 100, 100) <class 'numpy.ndarray'>\n",
      "I276 circle (10, 100, 100) <class 'numpy.ndarray'>\n",
      "I277 line (12, 100, 100) <class 'numpy.ndarray'>\n",
      "I278 circle (11, 100, 100) <class 'numpy.ndarray'>\n",
      "I279 line (10, 100, 100) <class 'numpy.ndarray'>\n",
      "I280 line (11, 100, 100) <class 'numpy.ndarray'>\n",
      "I281 line (11, 100, 100) <class 'numpy.ndarray'>\n",
      "I282 circle (10, 100, 100) <class 'numpy.ndarray'>\n",
      "I283 line (10, 100, 100) <class 'numpy.ndarray'>\n",
      "I284 line (10, 100, 100) <class 'numpy.ndarray'>\n",
      "I285 line (10, 100, 100) <class 'numpy.ndarray'>\n",
      "I286 circle (12, 100, 100) <class 'numpy.ndarray'>\n",
      "I287 circle (10, 100, 100) <class 'numpy.ndarray'>\n",
      "I288 circle (10, 100, 100) <class 'numpy.ndarray'>\n",
      "I289 line (10, 100, 100) <class 'numpy.ndarray'>\n",
      "I290 circle (11, 100, 100) <class 'numpy.ndarray'>\n",
      "I291 line (10, 100, 100) <class 'numpy.ndarray'>\n",
      "I292 line (12, 100, 100) <class 'numpy.ndarray'>\n",
      "I293 line (11, 100, 100) <class 'numpy.ndarray'>\n",
      "I294 line (11, 100, 100) <class 'numpy.ndarray'>\n",
      "I295 line (11, 100, 100) <class 'numpy.ndarray'>\n",
      "I296 line (10, 100, 100) <class 'numpy.ndarray'>\n",
      "I297 circle (10, 100, 100) <class 'numpy.ndarray'>\n",
      "I298 line (12, 100, 100) <class 'numpy.ndarray'>\n",
      "I299 line (11, 100, 100) <class 'numpy.ndarray'>\n"
     ]
    }
   ],
   "source": [
    "print('RECORD - LABEL - SHAPE')\n",
    "\n",
    "if generate_new_data:\n",
    "    \n",
    "    for R in input_d.keys():\n",
    "        print(R,input_d[R]['label'],np.shape(input_d[R]['image']),type(input_d[R]['image']))"
   ]
  },
  {
   "cell_type": "code",
   "execution_count": 61,
   "metadata": {},
   "outputs": [
    {
     "name": "stdout",
     "output_type": "stream",
     "text": [
      "circle\n"
     ]
    }
   ],
   "source": [
    "d_plt_check,rec_check=True,'I1'\n",
    "print(input_d[rec_check]['label'])\n"
   ]
  },
  {
   "cell_type": "code",
   "execution_count": 62,
   "metadata": {},
   "outputs": [
    {
     "data": {
      "image/png": "[encoded data removed]",
      "text/plain": [
       "<Figure size 640x480 with 1 Axes>"
      ]
     },
     "metadata": {},
     "output_type": "display_data"
    }
   ],
   "source": [
    "# check video\n",
    "\n",
    "if generate_new_data:\n",
    "\n",
    "    if d_plt_check:\n",
    "\n",
    "        if video_d:fig_lib.vid_show(input_d[rec_check]['image'],t_btw_frm=t_btw_frm)\n",
    "        else:fig_lib.im_show(input_d[rec_check]['image'])\n",
    "\n"
   ]
  },
  {
   "cell_type": "markdown",
   "metadata": {},
   "source": [
    "# CNN"
   ]
  },
  {
   "cell_type": "markdown",
   "metadata": {},
   "source": [
    "### GENERATE TRAIN DATA"
   ]
  },
  {
   "cell_type": "code",
   "execution_count": 63,
   "metadata": {},
   "outputs": [
    {
     "name": "stdout",
     "output_type": "stream",
     "text": [
      "Train data: 300 Evaluation data: 80\n"
     ]
    }
   ],
   "source": [
    "# X_train,Y_train,X_eval,Y_eval\n",
    "\n",
    "if video_d:\n",
    "    \n",
    "    X_train,Y_train,max_frm_n =CNN_lib.vid_d_bin_gen(input_d,HEIGHT, WIDTH, zero='circle', one= 'line')\n",
    "    X_eval,Y_eval,max_frm_n_eval =CNN_lib.vid_d_bin_gen(eval_d,HEIGHT, WIDTH, zero='circle', one= 'line')\n",
    "\n",
    "else:\n",
    "\n",
    "    X_train,Y_train =CNN_lib.im_d_bin_gen(input_d,zero='circle', one= 'line')\n",
    "    X_eval,Y_eval = CNN_lib.im_d_bin_gen(eval_d,zero='circle', one= 'line')\n",
    "\n",
    "print('Train data:',len(Y_train),'Evaluation data:',len(Y_eval))"
   ]
  },
  {
   "cell_type": "code",
   "execution_count": 64,
   "metadata": {},
   "outputs": [
    {
     "name": "stdout",
     "output_type": "stream",
     "text": [
      " Train data shape: (300, 12, 100, 100, 1)  Validation data shape: (80, 12, 100, 100, 1)\n"
     ]
    },
    {
     "data": {
      "image/png": "[encoded data removed]",
      "text/plain": [
       "<Figure size 640x480 with 1 Axes>"
      ]
     },
     "metadata": {},
     "output_type": "display_data"
    }
   ],
   "source": [
    "# check data\n",
    "\n",
    "zeros_count = np.sum(Y_train == 0)\n",
    "ones_count = np.sum(Y_train == 1)\n",
    "zeros_count_val = np.sum(Y_eval == 0)\n",
    "ones_count_val = np.sum(Y_eval == 1)\n",
    "\n",
    "labels = ['Circles Train', 'Lines Train','Circles Validation', 'Lines Validation']\n",
    "print(' Train data shape:', np.shape(X_train),' Validation data shape:', np.shape(X_eval))\n",
    "\n",
    "plt.bar(labels, [zeros_count, ones_count,zeros_count_val,ones_count_val], color=['green', 'blue','green', 'blue'])\n",
    "\n",
    "for i, count in enumerate([zeros_count, ones_count,zeros_count_val,ones_count_val]):\n",
    "\n",
    "    plt.text(i, count + 0.1, str(count), ha='center', va='bottom')\n",
    "\n",
    "plt.title('Data Labels')\n",
    "plt.show()"
   ]
  },
  {
   "cell_type": "markdown",
   "metadata": {},
   "source": [
    "### PARAMETERS"
   ]
  },
  {
   "cell_type": "code",
   "execution_count": 65,
   "metadata": {},
   "outputs": [
    {
     "name": "stdout",
     "output_type": "stream",
     "text": [
      "LIBRARY MODELS:\n",
      " \n",
      "image_full\n",
      "image_conv\n",
      "image_conv_augmentation\n",
      "video_conv2D\n",
      "video_\n"
     ]
    }
   ],
   "source": [
    "print('LIBRARY MODELS:')\n",
    "print(' ')\n",
    "\n",
    "for model_name in CNN_lib.MODELS.values(): print(model_name)"
   ]
  },
  {
   "cell_type": "code",
   "execution_count": 66,
   "metadata": {},
   "outputs": [],
   "source": [
    "# -------- CNN PARAMS --------\n",
    "\n",
    "# -------- MODEL --------\n",
    "\n",
    "model_from_CNN_lib,mdl= False,'video_conv2D'\n",
    "\n",
    "opt='adam'\n",
    "lss='binary_crossentropy'\n",
    "\n",
    "# -------- TRAINNING --------\n",
    "\n",
    "epch=10\n"
   ]
  },
  {
   "cell_type": "markdown",
   "metadata": {},
   "source": [
    "### MODEL"
   ]
  },
  {
   "cell_type": "code",
   "execution_count": 67,
   "metadata": {},
   "outputs": [
    {
     "name": "stdout",
     "output_type": "stream",
     "text": [
      "Model: \"sequential_2\"\n",
      "_________________________________________________________________\n",
      " Layer (type)                Output Shape              Param #   \n",
      "=================================================================\n",
      " conv3d_8 (Conv3D)           (None, 10, 98, 98, 16)    448       \n",
      "                                                                 \n",
      " max_pooling3d_7 (MaxPoolin  (None, 5, 49, 49, 16)     0         \n",
      " g3D)                                                            \n",
      "                                                                 \n",
      " conv3d_9 (Conv3D)           (None, 5, 47, 47, 32)     4640      \n",
      "                                                                 \n",
      " max_pooling3d_8 (MaxPoolin  (None, 2, 23, 23, 32)     0         \n",
      " g3D)                                                            \n",
      "                                                                 \n",
      " conv3d_10 (Conv3D)          (None, 2, 21, 21, 32)     9248      \n",
      "                                                                 \n",
      " max_pooling3d_9 (MaxPoolin  (None, 1, 10, 10, 32)     0         \n",
      " g3D)                                                            \n",
      "                                                                 \n",
      " conv3d_11 (Conv3D)          (None, 1, 8, 8, 64)       18496     \n",
      "                                                                 \n",
      " flatten_2 (Flatten)         (None, 4096)              0         \n",
      "                                                                 \n",
      " dense_4 (Dense)             (None, 64)                262208    \n",
      "                                                                 \n",
      " dense_5 (Dense)             (None, 1)                 65        \n",
      "                                                                 \n",
      "=================================================================\n",
      "Total params: 295105 (1.13 MB)\n",
      "Trainable params: 295105 (1.13 MB)\n",
      "Non-trainable params: 0 (0.00 Byte)\n",
      "_________________________________________________________________\n"
     ]
    }
   ],
   "source": [
    "# MODEL \n",
    "\n",
    "if model_from_CNN_lib:\n",
    "  \n",
    "  if video_d: model = CNN_lib.lib_models(mdl,im_input_shp=(max_frm_n, HEIGHT, WIDTH, 1))\n",
    "  else: model = CNN_lib.lib_models(mdl,im_input_shp=(HEIGHT, WIDTH,1))\n",
    "\n",
    "else:\n",
    "\n",
    "  model = models.Sequential([\n",
    "          layers.Conv3D(filters=16, kernel_size=(3, 3, 3), activation='relu',input_shape=(max_frm_n, HEIGHT, WIDTH, 1)),\n",
    "          layers.MaxPooling3D(pool_size=(2, 2, 2)),\n",
    "          layers.Conv3D(filters=32, kernel_size=(1, 3, 3),  activation='relu'),\n",
    "          layers.MaxPooling3D(pool_size=(2, 2, 2)),\n",
    "          layers.Conv3D(filters=32, kernel_size=(1, 3, 3),  activation='relu'),\n",
    "          layers.MaxPooling3D(pool_size=(2, 2, 2)),\n",
    "          layers.Conv3D(filters=64, kernel_size=(1, 3, 3),  activation='relu'),\n",
    "          layers.Flatten(),\n",
    "          layers.Dense(64, activation='relu'),\n",
    "          layers.Dense(1,activation='sigmoid')\n",
    "          ])\n",
    "\n",
    "\n",
    "model.summary()"
   ]
  },
  {
   "cell_type": "code",
   "execution_count": 68,
   "metadata": {},
   "outputs": [],
   "source": [
    "model.compile(optimizer=opt, loss=lss, metrics=['accuracy'])"
   ]
  },
  {
   "cell_type": "markdown",
   "metadata": {},
   "source": [
    "### TRAINNING"
   ]
  },
  {
   "cell_type": "code",
   "execution_count": 69,
   "metadata": {},
   "outputs": [
    {
     "name": "stdout",
     "output_type": "stream",
     "text": [
      "Epoch 1/10\n",
      "10/10 [==============================] - 51s 5s/step - loss: 3.3833 - accuracy: 0.6667 - val_loss: 0.7144 - val_accuracy: 0.7500\n",
      "Epoch 2/10\n",
      "10/10 [==============================] - 50s 5s/step - loss: 0.4459 - accuracy: 0.8033 - val_loss: 0.3855 - val_accuracy: 0.8500\n",
      "Epoch 3/10\n",
      "10/10 [==============================] - 50s 5s/step - loss: 0.2551 - accuracy: 0.9167 - val_loss: 0.2515 - val_accuracy: 0.8875\n",
      "Epoch 4/10\n",
      "10/10 [==============================] - 49s 5s/step - loss: 0.1167 - accuracy: 0.9633 - val_loss: 0.1248 - val_accuracy: 0.9500\n",
      "Epoch 5/10\n",
      "10/10 [==============================] - 48s 5s/step - loss: 0.0452 - accuracy: 0.9933 - val_loss: 0.1121 - val_accuracy: 0.9625\n",
      "Epoch 6/10\n",
      "10/10 [==============================] - 49s 5s/step - loss: 0.0208 - accuracy: 1.0000 - val_loss: 0.0760 - val_accuracy: 0.9625\n",
      "Epoch 7/10\n",
      "10/10 [==============================] - 49s 5s/step - loss: 0.0078 - accuracy: 1.0000 - val_loss: 0.1353 - val_accuracy: 0.9500\n",
      "Epoch 8/10\n",
      "10/10 [==============================] - 49s 5s/step - loss: 0.0036 - accuracy: 1.0000 - val_loss: 0.0817 - val_accuracy: 0.9625\n",
      "Epoch 9/10\n",
      "10/10 [==============================] - 48s 5s/step - loss: 0.0022 - accuracy: 1.0000 - val_loss: 0.0709 - val_accuracy: 0.9625\n",
      "Epoch 10/10\n",
      "10/10 [==============================] - 49s 5s/step - loss: 0.0014 - accuracy: 1.0000 - val_loss: 0.0835 - val_accuracy: 0.9625\n"
     ]
    }
   ],
   "source": [
    "t_in=time.time()\n",
    "history =model.fit(X_train, Y_train, epochs=epch, validation_data=(X_eval,Y_eval))\n",
    "t_train=time.time()-t_in"
   ]
  },
  {
   "cell_type": "markdown",
   "metadata": {},
   "source": [
    "### EVALUATE MODEL"
   ]
  },
  {
   "cell_type": "code",
   "execution_count": 70,
   "metadata": {},
   "outputs": [
    {
     "data": {
      "image/png": "[encoded data removed]",
      "text/plain": [
       "<Figure size 1400x800 with 2 Axes>"
      ]
     },
     "metadata": {},
     "output_type": "display_data"
    }
   ],
   "source": [
    "fg_size=(14,8)\n",
    "\n",
    "acc = history.history['accuracy']\n",
    "val_acc = history.history['val_accuracy']\n",
    "\n",
    "loss = history.history['loss']\n",
    "val_loss = history.history['val_loss']\n",
    "\n",
    "epochs_range = range(epch)\n",
    "\n",
    "plt.figure(figsize=fg_size)\n",
    "plt.subplot(1, 2, 1)\n",
    "plt.plot(epochs_range, acc, label='Training Accuracy')\n",
    "plt.plot(epochs_range, val_acc, label='Validation Accuracy')\n",
    "plt.legend(loc='lower right')\n",
    "plt.title('Training and Validation Accuracy')\n",
    "plt.xlabel('Epochs')  \n",
    "plt.ylabel('Accuracy')  \n",
    "\n",
    "plt.subplot(1, 2, 2)\n",
    "plt.plot(epochs_range, loss, label='Training Loss')\n",
    "plt.plot(epochs_range, val_loss, label='Validation Loss')\n",
    "plt.legend(loc='upper right')\n",
    "plt.title('Training and Validation Loss')\n",
    "plt.xlabel('Epochs')  \n",
    "plt.ylabel('Loss')  \n",
    "plt.show()"
   ]
  },
  {
   "cell_type": "code",
   "execution_count": 71,
   "metadata": {},
   "outputs": [
    {
     "name": "stdout",
     "output_type": "stream",
     "text": [
      "3/3 - 1s - loss: 0.0835 - accuracy: 0.9625 - 816ms/epoch - 272ms/step\n",
      "Loss: 0.0834956020116806 Accuracy: 0.9624999761581421\n"
     ]
    }
   ],
   "source": [
    "test_loss, test_accuracy = model.evaluate(X_eval,Y_eval,verbose=2)\n",
    "\n",
    "print(f'Loss: {test_loss}',f'Accuracy: {test_accuracy}')"
   ]
  },
  {
   "cell_type": "code",
   "execution_count": null,
   "metadata": {},
   "outputs": [],
   "source": [
    "performance_d={'NAME':mdl,\n",
    "               'ACCURACY':test_accuracy,\n",
    "               'LOSS':test_loss,\n",
    "               'VIDEO':video_d,\n",
    "               'TRAIN SAMPLES':n_recs_train,\n",
    "               'VALIDATION SAMPLES':n_recs_eval,\n",
    "               'TRAINNING TIME':t_train,\n",
    "               'EPOCHS':epch,\n",
    "               'FRAMES RANGE':n_frames,\n",
    "               'HEIGHT':HEIGHT,\n",
    "               'WIDTH':WIDTH}\n",
    "\n",
    "performance_d"
   ]
  },
  {
   "cell_type": "markdown",
   "metadata": {},
   "source": [
    "### FORECAST"
   ]
  },
  {
   "cell_type": "markdown",
   "metadata": {},
   "source": [
    "GENERATE RANDOM IMAGE"
   ]
  },
  {
   "cell_type": "code",
   "execution_count": 98,
   "metadata": {},
   "outputs": [],
   "source": [
    "# generate random im\n",
    "\n",
    "n_rdm=np.random.rand()\n",
    "\n",
    "if video_d:\n",
    "    \n",
    "    vd_ls=[]\n",
    "    N_frames=np.random.randint(n_frames[0],n_frames[1]+1)\n",
    "\n",
    "    if n_rdm>=0.5:\n",
    "\n",
    "        p1=[np.random.randint(0, WIDTH-1),np.random.randint(0, HEIGHT-1)]\n",
    "        p2=[np.random.randint(0, WIDTH-1),np.random.randint(0, HEIGHT-1)]\n",
    "\n",
    "        for _ in range(N_frames):\n",
    "\n",
    "            vd_ls.append(fig_lib.line_im(p1,p2,height=HEIGHT, width=WIDTH,thickness=(1,3),color=color))\n",
    "            p1[0]+= np.random.randint(-int(WIDTH*0.02), int(WIDTH*0.02))\n",
    "            p2[0]+=np.random.randint(-int(WIDTH*0.06), int(WIDTH*0.06))\n",
    "            p1[1]+= np.random.randint(-int(HEIGHT*0.02), int(HEIGHT*0.02))\n",
    "            p2[1]+=np.random.randint(-int(HEIGHT*0.06), int(HEIGHT*0.06))\n",
    "\n",
    "        label='Line'\n",
    "        \n",
    "\n",
    "    else:\n",
    "\n",
    "        center= [np.random.randint(int(0+WIDTH*0.3), int(WIDTH - WIDTH*0.3)),np.random.randint(int(0+HEIGHT*0.3), int(HEIGHT-HEIGHT*0.3))]\n",
    "        radio = np.random.randint(12, 17)\n",
    "\n",
    "        for _ in range(N_frames):\n",
    "        \n",
    "            vd_ls.append(fig_lib.circle_im(center,radio,height=HEIGHT, width=WIDTH,thickness=(1,3),color=color,filled=circles_filled))\n",
    "            center[0]+= np.random.randint(-int(WIDTH*0.03), int(WIDTH*0.03))\n",
    "            center[1]+= np.random.randint(-int(HEIGHT*0.03), int(HEIGHT*0.03))\n",
    "            radio += np.random.randint(-int(HEIGHT*0.01), int(HEIGHT*0.02))\n",
    "\n",
    "        label ='circle'\n",
    "\n",
    "    video=np.array(vd_ls)\n",
    "    image = video[:, :, :, np.newaxis]\n",
    "    frames_actual = image.shape[0]\n",
    "    if frames_actual < max_frm_n:\n",
    "        \n",
    "        padding = np.zeros((max_frm_n - frames_actual, HEIGHT, WIDTH, 1))\n",
    "        image = np.concatenate([image, padding], axis=0)\n",
    "\n",
    "else:\n",
    "\n",
    "    if n_rdm>=0.5:\n",
    "\n",
    "        p1=[np.random.randint(0, WIDTH-1),np.random.randint(0, HEIGHT-1)]\n",
    "        p2=[np.random.randint(0, WIDTH-1),np.random.randint(0, HEIGHT-1)]\n",
    "        image=fig_lib.line_im(p1,p2,height=HEIGHT, width=WIDTH,thickness=(1,3),color=color)\n",
    "        label='Line'\n",
    "\n",
    "    else:\n",
    "        \n",
    "        center= [np.random.randint(int(0+WIDTH*0.3), int(WIDTH - WIDTH*0.3)),np.random.randint(int(0+HEIGHT*0.3), int(HEIGHT-HEIGHT*0.3))]\n",
    "        radio = np.random.randint(12, 17)\n",
    "        image=fig_lib.circle_im(center,radio,height=HEIGHT, width=WIDTH,thickness=(1,3),color=color,filled=circles_filled)\n",
    "        label= 'circle'"
   ]
  },
  {
   "cell_type": "code",
   "execution_count": 99,
   "metadata": {},
   "outputs": [
    {
     "name": "stdout",
     "output_type": "stream",
     "text": [
      "1/1 - 0s - 26ms/epoch - 26ms/step\n",
      "Real: circle ----> Forecast: circle\n",
      "Percentage: 100.0 %\n",
      " \n"
     ]
    }
   ],
   "source": [
    "# Forecast\n",
    "\n",
    "pred = model.predict(np.expand_dims(image, axis=0),verbose=2)\n",
    "CNN_lib.bin_forecast(pred,label=label,up_frc='line',down_frc='circle')\n"
   ]
  },
  {
   "cell_type": "code",
   "execution_count": 100,
   "metadata": {},
   "outputs": [
    {
     "data": {
      "image/png": "[encoded data removed]",
      "text/plain": [
       "<Figure size 640x480 with 1 Axes>"
      ]
     },
     "metadata": {},
     "output_type": "display_data"
    }
   ],
   "source": [
    "# show\n",
    "\n",
    "if video_d:fig_lib.vid_show(video)\n",
    "else:fig_lib.im_show(image)"
   ]
  }
 ],
 "metadata": {
  "kernelspec": {
   "display_name": ".venv",
   "language": "python",
   "name": "python3"
  },
  "language_info": {
   "codemirror_mode": {
    "name": "ipython",
    "version": 3
   },
   "file_extension": ".py",
   "mimetype": "text/x-python",
   "name": "python",
   "nbconvert_exporter": "python",
   "pygments_lexer": "ipython3",
   "version": "3.11.6"
  }
 },
 "nbformat": 4,
 "nbformat_minor": 2
}
