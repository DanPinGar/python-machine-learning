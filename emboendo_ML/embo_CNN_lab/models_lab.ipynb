{
 "cells": [
  {
   "cell_type": "markdown",
   "metadata": {},
   "source": [
    "# LIBRARIES IMPORT"
   ]
  },
  {
   "cell_type": "code",
   "execution_count": 21,
   "metadata": {},
   "outputs": [],
   "source": [
    "# imports\n",
    "\n",
    "import fig_lib \n",
    "import CNN_lib\n",
    "import numpy as np\n",
    "import matplotlib.pyplot as plt\n",
    "\n",
    "from tensorflow import keras\n",
    "from tensorflow.keras import layers, models\n"
   ]
  },
  {
   "cell_type": "markdown",
   "metadata": {},
   "source": [
    "# DATA GENERATOR"
   ]
  },
  {
   "cell_type": "code",
   "execution_count": 22,
   "metadata": {},
   "outputs": [],
   "source": [
    "# -------- DATA PARAMS --------\n",
    "\n",
    "generate_new_data=True\n",
    "    \n",
    "n_recs_train,n_recs_eval=350,50\n",
    "height, width = 100, 100\n",
    "circles_filled=False\n",
    "color=255\n"
   ]
  },
  {
   "cell_type": "code",
   "execution_count": 23,
   "metadata": {},
   "outputs": [],
   "source": [
    "#input_d, eval_d\n",
    "\n",
    "if generate_new_data:\n",
    "\n",
    "    input_d=fig_lib.im_data_gen(height, width,n_recs_train,'I',cir_f=circles_filled,color=color)\n",
    "    eval_d=fig_lib.im_data_gen(height, width,n_recs_eval,'I',cir_f=circles_filled,color=color)"
   ]
  },
  {
   "cell_type": "code",
   "execution_count": 24,
   "metadata": {},
   "outputs": [
    {
     "name": "stdout",
     "output_type": "stream",
     "text": [
      "RECORD - LABEL - SHAPE\n",
      "I0 line (100, 100) <class 'numpy.ndarray'>\n",
      "I1 circle (100, 100) <class 'numpy.ndarray'>\n",
      "I2 line (100, 100) <class 'numpy.ndarray'>\n",
      "I3 circle (100, 100) <class 'numpy.ndarray'>\n",
      "I4 circle (100, 100) <class 'numpy.ndarray'>\n",
      "I5 circle (100, 100) <class 'numpy.ndarray'>\n",
      "I6 circle (100, 100) <class 'numpy.ndarray'>\n",
      "I7 circle (100, 100) <class 'numpy.ndarray'>\n",
      "I8 circle (100, 100) <class 'numpy.ndarray'>\n",
      "I9 circle (100, 100) <class 'numpy.ndarray'>\n",
      "I10 circle (100, 100) <class 'numpy.ndarray'>\n",
      "I11 line (100, 100) <class 'numpy.ndarray'>\n",
      "I12 circle (100, 100) <class 'numpy.ndarray'>\n",
      "I13 circle (100, 100) <class 'numpy.ndarray'>\n",
      "I14 circle (100, 100) <class 'numpy.ndarray'>\n",
      "I15 circle (100, 100) <class 'numpy.ndarray'>\n",
      "I16 line (100, 100) <class 'numpy.ndarray'>\n",
      "I17 circle (100, 100) <class 'numpy.ndarray'>\n",
      "I18 circle (100, 100) <class 'numpy.ndarray'>\n",
      "I19 circle (100, 100) <class 'numpy.ndarray'>\n",
      "I20 line (100, 100) <class 'numpy.ndarray'>\n",
      "I21 line (100, 100) <class 'numpy.ndarray'>\n",
      "I22 line (100, 100) <class 'numpy.ndarray'>\n",
      "I23 line (100, 100) <class 'numpy.ndarray'>\n",
      "I24 circle (100, 100) <class 'numpy.ndarray'>\n",
      "I25 line (100, 100) <class 'numpy.ndarray'>\n",
      "I26 circle (100, 100) <class 'numpy.ndarray'>\n",
      "I27 circle (100, 100) <class 'numpy.ndarray'>\n",
      "I28 circle (100, 100) <class 'numpy.ndarray'>\n",
      "I29 line (100, 100) <class 'numpy.ndarray'>\n",
      "I30 line (100, 100) <class 'numpy.ndarray'>\n",
      "I31 line (100, 100) <class 'numpy.ndarray'>\n",
      "I32 line (100, 100) <class 'numpy.ndarray'>\n",
      "I33 line (100, 100) <class 'numpy.ndarray'>\n",
      "I34 line (100, 100) <class 'numpy.ndarray'>\n",
      "I35 circle (100, 100) <class 'numpy.ndarray'>\n",
      "I36 line (100, 100) <class 'numpy.ndarray'>\n",
      "I37 line (100, 100) <class 'numpy.ndarray'>\n",
      "I38 line (100, 100) <class 'numpy.ndarray'>\n",
      "I39 circle (100, 100) <class 'numpy.ndarray'>\n",
      "I40 line (100, 100) <class 'numpy.ndarray'>\n",
      "I41 line (100, 100) <class 'numpy.ndarray'>\n",
      "I42 circle (100, 100) <class 'numpy.ndarray'>\n",
      "I43 line (100, 100) <class 'numpy.ndarray'>\n",
      "I44 circle (100, 100) <class 'numpy.ndarray'>\n",
      "I45 line (100, 100) <class 'numpy.ndarray'>\n",
      "I46 line (100, 100) <class 'numpy.ndarray'>\n",
      "I47 circle (100, 100) <class 'numpy.ndarray'>\n",
      "I48 line (100, 100) <class 'numpy.ndarray'>\n",
      "I49 circle (100, 100) <class 'numpy.ndarray'>\n",
      "I50 line (100, 100) <class 'numpy.ndarray'>\n",
      "I51 circle (100, 100) <class 'numpy.ndarray'>\n",
      "I52 line (100, 100) <class 'numpy.ndarray'>\n",
      "I53 circle (100, 100) <class 'numpy.ndarray'>\n",
      "I54 line (100, 100) <class 'numpy.ndarray'>\n",
      "I55 line (100, 100) <class 'numpy.ndarray'>\n",
      "I56 line (100, 100) <class 'numpy.ndarray'>\n",
      "I57 line (100, 100) <class 'numpy.ndarray'>\n",
      "I58 line (100, 100) <class 'numpy.ndarray'>\n",
      "I59 line (100, 100) <class 'numpy.ndarray'>\n",
      "I60 circle (100, 100) <class 'numpy.ndarray'>\n",
      "I61 circle (100, 100) <class 'numpy.ndarray'>\n",
      "I62 circle (100, 100) <class 'numpy.ndarray'>\n",
      "I63 line (100, 100) <class 'numpy.ndarray'>\n",
      "I64 line (100, 100) <class 'numpy.ndarray'>\n",
      "I65 circle (100, 100) <class 'numpy.ndarray'>\n",
      "I66 circle (100, 100) <class 'numpy.ndarray'>\n",
      "I67 circle (100, 100) <class 'numpy.ndarray'>\n",
      "I68 circle (100, 100) <class 'numpy.ndarray'>\n",
      "I69 circle (100, 100) <class 'numpy.ndarray'>\n",
      "I70 circle (100, 100) <class 'numpy.ndarray'>\n",
      "I71 line (100, 100) <class 'numpy.ndarray'>\n",
      "I72 circle (100, 100) <class 'numpy.ndarray'>\n",
      "I73 circle (100, 100) <class 'numpy.ndarray'>\n",
      "I74 line (100, 100) <class 'numpy.ndarray'>\n",
      "I75 line (100, 100) <class 'numpy.ndarray'>\n",
      "I76 circle (100, 100) <class 'numpy.ndarray'>\n",
      "I77 circle (100, 100) <class 'numpy.ndarray'>\n",
      "I78 line (100, 100) <class 'numpy.ndarray'>\n",
      "I79 circle (100, 100) <class 'numpy.ndarray'>\n",
      "I80 circle (100, 100) <class 'numpy.ndarray'>\n",
      "I81 circle (100, 100) <class 'numpy.ndarray'>\n",
      "I82 circle (100, 100) <class 'numpy.ndarray'>\n",
      "I83 line (100, 100) <class 'numpy.ndarray'>\n",
      "I84 circle (100, 100) <class 'numpy.ndarray'>\n",
      "I85 circle (100, 100) <class 'numpy.ndarray'>\n",
      "I86 circle (100, 100) <class 'numpy.ndarray'>\n",
      "I87 circle (100, 100) <class 'numpy.ndarray'>\n",
      "I88 line (100, 100) <class 'numpy.ndarray'>\n",
      "I89 line (100, 100) <class 'numpy.ndarray'>\n",
      "I90 line (100, 100) <class 'numpy.ndarray'>\n",
      "I91 line (100, 100) <class 'numpy.ndarray'>\n",
      "I92 circle (100, 100) <class 'numpy.ndarray'>\n",
      "I93 circle (100, 100) <class 'numpy.ndarray'>\n",
      "I94 circle (100, 100) <class 'numpy.ndarray'>\n",
      "I95 line (100, 100) <class 'numpy.ndarray'>\n",
      "I96 line (100, 100) <class 'numpy.ndarray'>\n",
      "I97 circle (100, 100) <class 'numpy.ndarray'>\n",
      "I98 circle (100, 100) <class 'numpy.ndarray'>\n",
      "I99 circle (100, 100) <class 'numpy.ndarray'>\n",
      "I100 circle (100, 100) <class 'numpy.ndarray'>\n",
      "I101 circle (100, 100) <class 'numpy.ndarray'>\n",
      "I102 line (100, 100) <class 'numpy.ndarray'>\n",
      "I103 circle (100, 100) <class 'numpy.ndarray'>\n",
      "I104 line (100, 100) <class 'numpy.ndarray'>\n",
      "I105 line (100, 100) <class 'numpy.ndarray'>\n",
      "I106 line (100, 100) <class 'numpy.ndarray'>\n",
      "I107 circle (100, 100) <class 'numpy.ndarray'>\n",
      "I108 circle (100, 100) <class 'numpy.ndarray'>\n",
      "I109 line (100, 100) <class 'numpy.ndarray'>\n",
      "I110 circle (100, 100) <class 'numpy.ndarray'>\n",
      "I111 line (100, 100) <class 'numpy.ndarray'>\n",
      "I112 circle (100, 100) <class 'numpy.ndarray'>\n",
      "I113 line (100, 100) <class 'numpy.ndarray'>\n",
      "I114 line (100, 100) <class 'numpy.ndarray'>\n",
      "I115 line (100, 100) <class 'numpy.ndarray'>\n",
      "I116 circle (100, 100) <class 'numpy.ndarray'>\n",
      "I117 line (100, 100) <class 'numpy.ndarray'>\n",
      "I118 line (100, 100) <class 'numpy.ndarray'>\n",
      "I119 line (100, 100) <class 'numpy.ndarray'>\n",
      "I120 circle (100, 100) <class 'numpy.ndarray'>\n",
      "I121 circle (100, 100) <class 'numpy.ndarray'>\n",
      "I122 line (100, 100) <class 'numpy.ndarray'>\n",
      "I123 line (100, 100) <class 'numpy.ndarray'>\n",
      "I124 circle (100, 100) <class 'numpy.ndarray'>\n",
      "I125 line (100, 100) <class 'numpy.ndarray'>\n",
      "I126 circle (100, 100) <class 'numpy.ndarray'>\n",
      "I127 line (100, 100) <class 'numpy.ndarray'>\n",
      "I128 circle (100, 100) <class 'numpy.ndarray'>\n",
      "I129 circle (100, 100) <class 'numpy.ndarray'>\n",
      "I130 circle (100, 100) <class 'numpy.ndarray'>\n",
      "I131 circle (100, 100) <class 'numpy.ndarray'>\n",
      "I132 line (100, 100) <class 'numpy.ndarray'>\n",
      "I133 line (100, 100) <class 'numpy.ndarray'>\n",
      "I134 circle (100, 100) <class 'numpy.ndarray'>\n",
      "I135 circle (100, 100) <class 'numpy.ndarray'>\n",
      "I136 circle (100, 100) <class 'numpy.ndarray'>\n",
      "I137 line (100, 100) <class 'numpy.ndarray'>\n",
      "I138 line (100, 100) <class 'numpy.ndarray'>\n",
      "I139 line (100, 100) <class 'numpy.ndarray'>\n",
      "I140 circle (100, 100) <class 'numpy.ndarray'>\n",
      "I141 circle (100, 100) <class 'numpy.ndarray'>\n",
      "I142 circle (100, 100) <class 'numpy.ndarray'>\n",
      "I143 line (100, 100) <class 'numpy.ndarray'>\n",
      "I144 circle (100, 100) <class 'numpy.ndarray'>\n",
      "I145 circle (100, 100) <class 'numpy.ndarray'>\n",
      "I146 circle (100, 100) <class 'numpy.ndarray'>\n",
      "I147 line (100, 100) <class 'numpy.ndarray'>\n",
      "I148 line (100, 100) <class 'numpy.ndarray'>\n",
      "I149 circle (100, 100) <class 'numpy.ndarray'>\n",
      "I150 circle (100, 100) <class 'numpy.ndarray'>\n",
      "I151 line (100, 100) <class 'numpy.ndarray'>\n",
      "I152 circle (100, 100) <class 'numpy.ndarray'>\n",
      "I153 line (100, 100) <class 'numpy.ndarray'>\n",
      "I154 circle (100, 100) <class 'numpy.ndarray'>\n",
      "I155 circle (100, 100) <class 'numpy.ndarray'>\n",
      "I156 line (100, 100) <class 'numpy.ndarray'>\n",
      "I157 line (100, 100) <class 'numpy.ndarray'>\n",
      "I158 line (100, 100) <class 'numpy.ndarray'>\n",
      "I159 circle (100, 100) <class 'numpy.ndarray'>\n",
      "I160 circle (100, 100) <class 'numpy.ndarray'>\n",
      "I161 circle (100, 100) <class 'numpy.ndarray'>\n",
      "I162 circle (100, 100) <class 'numpy.ndarray'>\n",
      "I163 line (100, 100) <class 'numpy.ndarray'>\n",
      "I164 line (100, 100) <class 'numpy.ndarray'>\n",
      "I165 circle (100, 100) <class 'numpy.ndarray'>\n",
      "I166 line (100, 100) <class 'numpy.ndarray'>\n",
      "I167 circle (100, 100) <class 'numpy.ndarray'>\n",
      "I168 circle (100, 100) <class 'numpy.ndarray'>\n",
      "I169 line (100, 100) <class 'numpy.ndarray'>\n",
      "I170 circle (100, 100) <class 'numpy.ndarray'>\n",
      "I171 circle (100, 100) <class 'numpy.ndarray'>\n",
      "I172 circle (100, 100) <class 'numpy.ndarray'>\n",
      "I173 line (100, 100) <class 'numpy.ndarray'>\n",
      "I174 line (100, 100) <class 'numpy.ndarray'>\n",
      "I175 line (100, 100) <class 'numpy.ndarray'>\n",
      "I176 line (100, 100) <class 'numpy.ndarray'>\n",
      "I177 circle (100, 100) <class 'numpy.ndarray'>\n",
      "I178 circle (100, 100) <class 'numpy.ndarray'>\n",
      "I179 circle (100, 100) <class 'numpy.ndarray'>\n",
      "I180 line (100, 100) <class 'numpy.ndarray'>\n",
      "I181 line (100, 100) <class 'numpy.ndarray'>\n",
      "I182 circle (100, 100) <class 'numpy.ndarray'>\n",
      "I183 circle (100, 100) <class 'numpy.ndarray'>\n",
      "I184 line (100, 100) <class 'numpy.ndarray'>\n",
      "I185 circle (100, 100) <class 'numpy.ndarray'>\n",
      "I186 circle (100, 100) <class 'numpy.ndarray'>\n",
      "I187 line (100, 100) <class 'numpy.ndarray'>\n",
      "I188 line (100, 100) <class 'numpy.ndarray'>\n",
      "I189 circle (100, 100) <class 'numpy.ndarray'>\n",
      "I190 line (100, 100) <class 'numpy.ndarray'>\n",
      "I191 circle (100, 100) <class 'numpy.ndarray'>\n",
      "I192 line (100, 100) <class 'numpy.ndarray'>\n",
      "I193 line (100, 100) <class 'numpy.ndarray'>\n",
      "I194 circle (100, 100) <class 'numpy.ndarray'>\n",
      "I195 circle (100, 100) <class 'numpy.ndarray'>\n",
      "I196 circle (100, 100) <class 'numpy.ndarray'>\n",
      "I197 line (100, 100) <class 'numpy.ndarray'>\n",
      "I198 line (100, 100) <class 'numpy.ndarray'>\n",
      "I199 line (100, 100) <class 'numpy.ndarray'>\n",
      "I200 circle (100, 100) <class 'numpy.ndarray'>\n",
      "I201 line (100, 100) <class 'numpy.ndarray'>\n",
      "I202 circle (100, 100) <class 'numpy.ndarray'>\n",
      "I203 circle (100, 100) <class 'numpy.ndarray'>\n",
      "I204 line (100, 100) <class 'numpy.ndarray'>\n",
      "I205 circle (100, 100) <class 'numpy.ndarray'>\n",
      "I206 circle (100, 100) <class 'numpy.ndarray'>\n",
      "I207 circle (100, 100) <class 'numpy.ndarray'>\n",
      "I208 line (100, 100) <class 'numpy.ndarray'>\n",
      "I209 line (100, 100) <class 'numpy.ndarray'>\n",
      "I210 line (100, 100) <class 'numpy.ndarray'>\n",
      "I211 line (100, 100) <class 'numpy.ndarray'>\n",
      "I212 line (100, 100) <class 'numpy.ndarray'>\n",
      "I213 circle (100, 100) <class 'numpy.ndarray'>\n",
      "I214 circle (100, 100) <class 'numpy.ndarray'>\n",
      "I215 circle (100, 100) <class 'numpy.ndarray'>\n",
      "I216 line (100, 100) <class 'numpy.ndarray'>\n",
      "I217 circle (100, 100) <class 'numpy.ndarray'>\n",
      "I218 line (100, 100) <class 'numpy.ndarray'>\n",
      "I219 line (100, 100) <class 'numpy.ndarray'>\n",
      "I220 line (100, 100) <class 'numpy.ndarray'>\n",
      "I221 circle (100, 100) <class 'numpy.ndarray'>\n",
      "I222 circle (100, 100) <class 'numpy.ndarray'>\n",
      "I223 circle (100, 100) <class 'numpy.ndarray'>\n",
      "I224 line (100, 100) <class 'numpy.ndarray'>\n",
      "I225 circle (100, 100) <class 'numpy.ndarray'>\n",
      "I226 line (100, 100) <class 'numpy.ndarray'>\n",
      "I227 line (100, 100) <class 'numpy.ndarray'>\n",
      "I228 circle (100, 100) <class 'numpy.ndarray'>\n",
      "I229 line (100, 100) <class 'numpy.ndarray'>\n",
      "I230 line (100, 100) <class 'numpy.ndarray'>\n",
      "I231 line (100, 100) <class 'numpy.ndarray'>\n",
      "I232 circle (100, 100) <class 'numpy.ndarray'>\n",
      "I233 line (100, 100) <class 'numpy.ndarray'>\n",
      "I234 circle (100, 100) <class 'numpy.ndarray'>\n",
      "I235 line (100, 100) <class 'numpy.ndarray'>\n",
      "I236 circle (100, 100) <class 'numpy.ndarray'>\n",
      "I237 line (100, 100) <class 'numpy.ndarray'>\n",
      "I238 line (100, 100) <class 'numpy.ndarray'>\n",
      "I239 line (100, 100) <class 'numpy.ndarray'>\n",
      "I240 line (100, 100) <class 'numpy.ndarray'>\n",
      "I241 line (100, 100) <class 'numpy.ndarray'>\n",
      "I242 circle (100, 100) <class 'numpy.ndarray'>\n",
      "I243 circle (100, 100) <class 'numpy.ndarray'>\n",
      "I244 circle (100, 100) <class 'numpy.ndarray'>\n",
      "I245 line (100, 100) <class 'numpy.ndarray'>\n",
      "I246 line (100, 100) <class 'numpy.ndarray'>\n",
      "I247 circle (100, 100) <class 'numpy.ndarray'>\n",
      "I248 circle (100, 100) <class 'numpy.ndarray'>\n",
      "I249 line (100, 100) <class 'numpy.ndarray'>\n",
      "I250 line (100, 100) <class 'numpy.ndarray'>\n",
      "I251 line (100, 100) <class 'numpy.ndarray'>\n",
      "I252 circle (100, 100) <class 'numpy.ndarray'>\n",
      "I253 circle (100, 100) <class 'numpy.ndarray'>\n",
      "I254 circle (100, 100) <class 'numpy.ndarray'>\n",
      "I255 line (100, 100) <class 'numpy.ndarray'>\n",
      "I256 line (100, 100) <class 'numpy.ndarray'>\n",
      "I257 line (100, 100) <class 'numpy.ndarray'>\n",
      "I258 line (100, 100) <class 'numpy.ndarray'>\n",
      "I259 line (100, 100) <class 'numpy.ndarray'>\n",
      "I260 circle (100, 100) <class 'numpy.ndarray'>\n",
      "I261 circle (100, 100) <class 'numpy.ndarray'>\n",
      "I262 line (100, 100) <class 'numpy.ndarray'>\n",
      "I263 line (100, 100) <class 'numpy.ndarray'>\n",
      "I264 circle (100, 100) <class 'numpy.ndarray'>\n",
      "I265 line (100, 100) <class 'numpy.ndarray'>\n",
      "I266 circle (100, 100) <class 'numpy.ndarray'>\n",
      "I267 circle (100, 100) <class 'numpy.ndarray'>\n",
      "I268 circle (100, 100) <class 'numpy.ndarray'>\n",
      "I269 line (100, 100) <class 'numpy.ndarray'>\n",
      "I270 line (100, 100) <class 'numpy.ndarray'>\n",
      "I271 line (100, 100) <class 'numpy.ndarray'>\n",
      "I272 line (100, 100) <class 'numpy.ndarray'>\n",
      "I273 circle (100, 100) <class 'numpy.ndarray'>\n",
      "I274 line (100, 100) <class 'numpy.ndarray'>\n",
      "I275 line (100, 100) <class 'numpy.ndarray'>\n",
      "I276 line (100, 100) <class 'numpy.ndarray'>\n",
      "I277 line (100, 100) <class 'numpy.ndarray'>\n",
      "I278 line (100, 100) <class 'numpy.ndarray'>\n",
      "I279 line (100, 100) <class 'numpy.ndarray'>\n",
      "I280 circle (100, 100) <class 'numpy.ndarray'>\n",
      "I281 line (100, 100) <class 'numpy.ndarray'>\n",
      "I282 circle (100, 100) <class 'numpy.ndarray'>\n",
      "I283 line (100, 100) <class 'numpy.ndarray'>\n",
      "I284 line (100, 100) <class 'numpy.ndarray'>\n",
      "I285 circle (100, 100) <class 'numpy.ndarray'>\n",
      "I286 line (100, 100) <class 'numpy.ndarray'>\n",
      "I287 circle (100, 100) <class 'numpy.ndarray'>\n",
      "I288 circle (100, 100) <class 'numpy.ndarray'>\n",
      "I289 circle (100, 100) <class 'numpy.ndarray'>\n",
      "I290 circle (100, 100) <class 'numpy.ndarray'>\n",
      "I291 circle (100, 100) <class 'numpy.ndarray'>\n",
      "I292 line (100, 100) <class 'numpy.ndarray'>\n",
      "I293 circle (100, 100) <class 'numpy.ndarray'>\n",
      "I294 circle (100, 100) <class 'numpy.ndarray'>\n",
      "I295 circle (100, 100) <class 'numpy.ndarray'>\n",
      "I296 circle (100, 100) <class 'numpy.ndarray'>\n",
      "I297 circle (100, 100) <class 'numpy.ndarray'>\n",
      "I298 line (100, 100) <class 'numpy.ndarray'>\n",
      "I299 line (100, 100) <class 'numpy.ndarray'>\n",
      "I300 circle (100, 100) <class 'numpy.ndarray'>\n",
      "I301 line (100, 100) <class 'numpy.ndarray'>\n",
      "I302 circle (100, 100) <class 'numpy.ndarray'>\n",
      "I303 circle (100, 100) <class 'numpy.ndarray'>\n",
      "I304 circle (100, 100) <class 'numpy.ndarray'>\n",
      "I305 line (100, 100) <class 'numpy.ndarray'>\n",
      "I306 circle (100, 100) <class 'numpy.ndarray'>\n",
      "I307 circle (100, 100) <class 'numpy.ndarray'>\n",
      "I308 line (100, 100) <class 'numpy.ndarray'>\n",
      "I309 circle (100, 100) <class 'numpy.ndarray'>\n",
      "I310 line (100, 100) <class 'numpy.ndarray'>\n",
      "I311 circle (100, 100) <class 'numpy.ndarray'>\n",
      "I312 line (100, 100) <class 'numpy.ndarray'>\n",
      "I313 line (100, 100) <class 'numpy.ndarray'>\n",
      "I314 line (100, 100) <class 'numpy.ndarray'>\n",
      "I315 line (100, 100) <class 'numpy.ndarray'>\n",
      "I316 line (100, 100) <class 'numpy.ndarray'>\n",
      "I317 circle (100, 100) <class 'numpy.ndarray'>\n",
      "I318 circle (100, 100) <class 'numpy.ndarray'>\n",
      "I319 line (100, 100) <class 'numpy.ndarray'>\n",
      "I320 circle (100, 100) <class 'numpy.ndarray'>\n",
      "I321 circle (100, 100) <class 'numpy.ndarray'>\n",
      "I322 line (100, 100) <class 'numpy.ndarray'>\n",
      "I323 circle (100, 100) <class 'numpy.ndarray'>\n",
      "I324 circle (100, 100) <class 'numpy.ndarray'>\n",
      "I325 line (100, 100) <class 'numpy.ndarray'>\n",
      "I326 circle (100, 100) <class 'numpy.ndarray'>\n",
      "I327 line (100, 100) <class 'numpy.ndarray'>\n",
      "I328 line (100, 100) <class 'numpy.ndarray'>\n",
      "I329 line (100, 100) <class 'numpy.ndarray'>\n",
      "I330 circle (100, 100) <class 'numpy.ndarray'>\n",
      "I331 circle (100, 100) <class 'numpy.ndarray'>\n",
      "I332 circle (100, 100) <class 'numpy.ndarray'>\n",
      "I333 line (100, 100) <class 'numpy.ndarray'>\n",
      "I334 circle (100, 100) <class 'numpy.ndarray'>\n",
      "I335 circle (100, 100) <class 'numpy.ndarray'>\n",
      "I336 line (100, 100) <class 'numpy.ndarray'>\n",
      "I337 line (100, 100) <class 'numpy.ndarray'>\n",
      "I338 line (100, 100) <class 'numpy.ndarray'>\n",
      "I339 circle (100, 100) <class 'numpy.ndarray'>\n",
      "I340 circle (100, 100) <class 'numpy.ndarray'>\n",
      "I341 circle (100, 100) <class 'numpy.ndarray'>\n",
      "I342 circle (100, 100) <class 'numpy.ndarray'>\n",
      "I343 circle (100, 100) <class 'numpy.ndarray'>\n",
      "I344 line (100, 100) <class 'numpy.ndarray'>\n",
      "I345 circle (100, 100) <class 'numpy.ndarray'>\n",
      "I346 circle (100, 100) <class 'numpy.ndarray'>\n",
      "I347 line (100, 100) <class 'numpy.ndarray'>\n",
      "I348 line (100, 100) <class 'numpy.ndarray'>\n",
      "I349 circle (100, 100) <class 'numpy.ndarray'>\n"
     ]
    }
   ],
   "source": [
    "print('RECORD - LABEL - SHAPE')\n",
    "\n",
    "if generate_new_data:\n",
    "    \n",
    "    for R in input_d.keys():\n",
    "        print(R,input_d[R]['label'],np.shape(input_d[R]['image']),type(input_d[R]['image']))"
   ]
  },
  {
   "cell_type": "code",
   "execution_count": 25,
   "metadata": {},
   "outputs": [
    {
     "name": "stdout",
     "output_type": "stream",
     "text": [
      "circle\n"
     ]
    },
    {
     "data": {
      "image/png": "[encoded data removed]",
      "text/plain": [
       "<Figure size 640x480 with 1 Axes>"
      ]
     },
     "metadata": {},
     "output_type": "display_data"
    }
   ],
   "source": [
    "d_plt_check,rec_check=True,'I1'\n",
    "\n",
    "if generate_new_data:\n",
    "    \n",
    "    d_plt_check,rec_check=True,'I1'\n",
    "    print(input_d[rec_check]['label'])\n",
    "\n",
    "    if d_plt_check:\n",
    "\n",
    "        imagen = input_d[rec_check]['image']\n",
    "\n",
    "        plt.imshow(imagen, cmap='gray')\n",
    "        plt.axis('off')\n",
    "        plt.show()\n"
   ]
  },
  {
   "cell_type": "markdown",
   "metadata": {},
   "source": [
    "# CNN"
   ]
  },
  {
   "cell_type": "markdown",
   "metadata": {},
   "source": [
    "### PARAMETERS"
   ]
  },
  {
   "cell_type": "code",
   "execution_count": 37,
   "metadata": {},
   "outputs": [
    {
     "name": "stdout",
     "output_type": "stream",
     "text": [
      "LIBRARY MODELS:\n",
      " \n",
      "image_full_bin\n",
      "image_conv_bin\n",
      "image_conv_bin_augmentation\n"
     ]
    }
   ],
   "source": [
    "print('LIBRARY MODELS:')\n",
    "print(' ')\n",
    "\n",
    "for model_name in CNN_lib.MODELS.values(): print(model_name)"
   ]
  },
  {
   "cell_type": "code",
   "execution_count": 27,
   "metadata": {},
   "outputs": [],
   "source": [
    "# -------- CNN PARAMS --------\n",
    "\n",
    "# -------- MODEL --------\n",
    "\n",
    "model_from_CNN_lib,mdl= False,'image_full_bin'\n",
    "\n",
    "opt='adam'\n",
    "lss='binary_crossentropy'\n",
    "\n",
    "# -------- TRAINNING --------\n",
    "\n",
    "epch=5\n"
   ]
  },
  {
   "cell_type": "markdown",
   "metadata": {},
   "source": [
    "### GENERATE TRAIN DATA"
   ]
  },
  {
   "cell_type": "code",
   "execution_count": 28,
   "metadata": {},
   "outputs": [
    {
     "name": "stdout",
     "output_type": "stream",
     "text": [
      "Train data: 350 Evaluation data: 50\n"
     ]
    }
   ],
   "source": [
    "# X_train,Y_train,X_eval,Y_eval\n",
    "\n",
    "X_train,Y_train =CNN_lib.cnn_data_bin_gen(input_d,zero='circle', one= 'line')\n",
    "X_eval,Y_eval = CNN_lib.cnn_data_bin_gen(eval_d,zero='circle', one= 'line')\n",
    "\n",
    "print('Train data:',len(Y_train),'Evaluation data:',len(Y_eval))"
   ]
  },
  {
   "cell_type": "code",
   "execution_count": 29,
   "metadata": {},
   "outputs": [
    {
     "name": "stdout",
     "output_type": "stream",
     "text": [
      " Train data shape: (350, 100, 100)\n"
     ]
    },
    {
     "data": {
      "image/png": "[encoded data removed]",
      "text/plain": [
       "<Figure size 640x480 with 1 Axes>"
      ]
     },
     "metadata": {},
     "output_type": "display_data"
    }
   ],
   "source": [
    "# check data\n",
    "\n",
    "zeros_count = np.sum(Y_train == 0)\n",
    "ones_count = np.sum(Y_train == 1)\n",
    "\n",
    "labels = ['Circles', 'Lines']\n",
    "print(' Train data shape:', np.shape(X_train))\n",
    "\n",
    "plt.bar(labels, [zeros_count, ones_count], color=['red', 'blue'])\n",
    "\n",
    "for i, count in enumerate([zeros_count, ones_count]):\n",
    "    plt.text(i, count + 0.1, str(count), ha='center', va='bottom')\n",
    "\n",
    "plt.title('Train Labels')\n",
    "plt.show()"
   ]
  },
  {
   "cell_type": "markdown",
   "metadata": {},
   "source": [
    "### MODEL"
   ]
  },
  {
   "cell_type": "code",
   "execution_count": 30,
   "metadata": {},
   "outputs": [
    {
     "name": "stdout",
     "output_type": "stream",
     "text": [
      "Model: \"sequential_3\"\n",
      "_________________________________________________________________\n",
      " Layer (type)                Output Shape              Param #   \n",
      "=================================================================\n",
      " sequential_2 (Sequential)   (None, 100, 100, 1)       0         \n",
      "                                                                 \n",
      " rescaling_1 (Rescaling)     (None, 100, 100, 1)       0         \n",
      "                                                                 \n",
      " conv2d_3 (Conv2D)           (None, 98, 98, 32)        320       \n",
      "                                                                 \n",
      " max_pooling2d_3 (MaxPoolin  (None, 49, 49, 32)        0         \n",
      " g2D)                                                            \n",
      "                                                                 \n",
      " conv2d_4 (Conv2D)           (None, 47, 47, 64)        18496     \n",
      "                                                                 \n",
      " max_pooling2d_4 (MaxPoolin  (None, 23, 23, 64)        0         \n",
      " g2D)                                                            \n",
      "                                                                 \n",
      " conv2d_5 (Conv2D)           (None, 21, 21, 64)        36928     \n",
      "                                                                 \n",
      " max_pooling2d_5 (MaxPoolin  (None, 10, 10, 64)        0         \n",
      " g2D)                                                            \n",
      "                                                                 \n",
      " dropout_1 (Dropout)         (None, 10, 10, 64)        0         \n",
      "                                                                 \n",
      " flatten_1 (Flatten)         (None, 6400)              0         \n",
      "                                                                 \n",
      " dense_2 (Dense)             (None, 64)                409664    \n",
      "                                                                 \n",
      " dense_3 (Dense)             (None, 1)                 65        \n",
      "                                                                 \n",
      "=================================================================\n",
      "Total params: 465473 (1.78 MB)\n",
      "Trainable params: 465473 (1.78 MB)\n",
      "Non-trainable params: 0 (0.00 Byte)\n",
      "_________________________________________________________________\n"
     ]
    }
   ],
   "source": [
    "# MODEL \n",
    "\n",
    "if model_from_CNN_lib:\n",
    "  \n",
    "  model=CNN_lib.lib_models(mdl,im_input_shp=(height, width))\n",
    "\n",
    "else:\n",
    "\n",
    "\n",
    "  data_augmentation = keras.Sequential([\n",
    "                      layers.RandomFlip(\"horizontal\",input_shape=(height, width, 1)),\n",
    "                      layers.RandomRotation(0.1),\n",
    "                      layers.RandomZoom(0.1),])\n",
    "                            \n",
    "  model = models.Sequential([\n",
    "                            data_augmentation,\n",
    "                            layers.Rescaling(1./255),\n",
    "                            layers.Conv2D(32, (3, 3), activation='relu'),\n",
    "                            layers.MaxPooling2D((2, 2)),\n",
    "                            layers.Conv2D(64, (3, 3), activation='relu'),\n",
    "                            layers.MaxPooling2D((2, 2)),\n",
    "                            layers.Conv2D(64, (3, 3), activation='relu'),\n",
    "                            layers.MaxPooling2D((2, 2)),\n",
    "                            layers.Dropout(0.2),\n",
    "                            layers.Flatten(),\n",
    "                            layers.Dense(64, activation='relu'),\n",
    "                            layers.Dense(1, activation='sigmoid'),\n",
    "                            ])\n",
    "\n",
    "  \n",
    "model.summary()"
   ]
  },
  {
   "cell_type": "code",
   "execution_count": 31,
   "metadata": {},
   "outputs": [],
   "source": [
    "model.compile(optimizer=opt, loss=lss, metrics=['accuracy'])"
   ]
  },
  {
   "cell_type": "markdown",
   "metadata": {},
   "source": [
    "### TRAINNING"
   ]
  },
  {
   "cell_type": "code",
   "execution_count": 32,
   "metadata": {},
   "outputs": [
    {
     "name": "stdout",
     "output_type": "stream",
     "text": [
      "Epoch 1/5\n",
      "11/11 [==============================] - 3s 138ms/step - loss: 0.6254 - accuracy: 0.6486 - val_loss: 0.4782 - val_accuracy: 0.7600\n",
      "Epoch 2/5\n",
      "11/11 [==============================] - 1s 122ms/step - loss: 0.5072 - accuracy: 0.7829 - val_loss: 0.3192 - val_accuracy: 0.8400\n",
      "Epoch 3/5\n",
      "11/11 [==============================] - 1s 123ms/step - loss: 0.4257 - accuracy: 0.8000 - val_loss: 0.2820 - val_accuracy: 0.8600\n",
      "Epoch 4/5\n",
      "11/11 [==============================] - 1s 126ms/step - loss: 0.3387 - accuracy: 0.8457 - val_loss: 0.2798 - val_accuracy: 0.8800\n",
      "Epoch 5/5\n",
      "11/11 [==============================] - 1s 123ms/step - loss: 0.3390 - accuracy: 0.8657 - val_loss: 0.2337 - val_accuracy: 0.8800\n"
     ]
    }
   ],
   "source": [
    "history =model.fit(X_train, Y_train, epochs=epch, validation_data=(X_eval,Y_eval))"
   ]
  },
  {
   "cell_type": "markdown",
   "metadata": {},
   "source": [
    "### EVALUATE MODEL"
   ]
  },
  {
   "cell_type": "code",
   "execution_count": 33,
   "metadata": {},
   "outputs": [
    {
     "data": {
      "image/png": "[encoded data removed]",
      "text/plain": [
       "<Figure size 1400x800 with 2 Axes>"
      ]
     },
     "metadata": {},
     "output_type": "display_data"
    }
   ],
   "source": [
    "fg_size=(14,8)\n",
    "\n",
    "acc = history.history['accuracy']\n",
    "val_acc = history.history['val_accuracy']\n",
    "\n",
    "loss = history.history['loss']\n",
    "val_loss = history.history['val_loss']\n",
    "\n",
    "epochs_range = range(epch)\n",
    "\n",
    "plt.figure(figsize=fg_size)\n",
    "plt.subplot(1, 2, 1)\n",
    "plt.plot(epochs_range, acc, label='Training Accuracy')\n",
    "plt.plot(epochs_range, val_acc, label='Validation Accuracy')\n",
    "plt.legend(loc='lower right')\n",
    "plt.title('Training and Validation Accuracy')\n",
    "plt.xlabel('Epochs')  \n",
    "plt.ylabel('Accuracy')  \n",
    "\n",
    "plt.subplot(1, 2, 2)\n",
    "plt.plot(epochs_range, loss, label='Training Loss')\n",
    "plt.plot(epochs_range, val_loss, label='Validation Loss')\n",
    "plt.legend(loc='upper right')\n",
    "plt.title('Training and Validation Loss')\n",
    "plt.xlabel('Epochs')  \n",
    "plt.ylabel('Loss')  \n",
    "plt.show()"
   ]
  },
  {
   "cell_type": "code",
   "execution_count": 34,
   "metadata": {},
   "outputs": [
    {
     "name": "stdout",
     "output_type": "stream",
     "text": [
      "2/2 - 0s - loss: 0.2337 - accuracy: 0.8800 - 49ms/epoch - 25ms/step\n",
      "Loss: 0.23368534445762634 Accuracy: 0.8799999952316284\n"
     ]
    }
   ],
   "source": [
    "test_loss, test_accuracy = model.evaluate(X_eval,Y_eval,verbose=2)\n",
    "\n",
    "print(f'Loss: {test_loss}',f'Accuracy: {test_accuracy}')"
   ]
  },
  {
   "cell_type": "markdown",
   "metadata": {},
   "source": [
    "### FORECAST"
   ]
  },
  {
   "cell_type": "markdown",
   "metadata": {},
   "source": [
    "GENERATE RANDOM IMAGE"
   ]
  },
  {
   "cell_type": "code",
   "execution_count": 35,
   "metadata": {},
   "outputs": [],
   "source": [
    "# generate random im\n",
    "\n",
    "n_rdm=np.random.rand()\n",
    "\n",
    "if n_rdm>=0.5:image,label=fig_lib.line_im(height=height, width=width,thickness=(1,3),color=color)\n",
    "else:image,label=fig_lib.circle_im(height=height, width=width,thickness=(1,3),color=color,filled=circles_filled)\n"
   ]
  },
  {
   "cell_type": "code",
   "execution_count": 36,
   "metadata": {},
   "outputs": [
    {
     "name": "stdout",
     "output_type": "stream",
     "text": [
      "1/1 - 0s - 65ms/epoch - 65ms/step\n",
      "Real: line ----> Forecast: line\n",
      "Percentage: 98.47999811172485 %\n",
      " \n"
     ]
    },
    {
     "data": {
      "image/png": "[encoded data removed]",
      "text/plain": [
       "<Figure size 640x480 with 1 Axes>"
      ]
     },
     "metadata": {},
     "output_type": "display_data"
    }
   ],
   "source": [
    "# Forecast\n",
    "\n",
    "pred = model.predict(np.expand_dims(image, axis=0),verbose=2)\n",
    "CNN_lib.bin_forecast(pred,label=label,up_frc='line',down_frc='circle')\n",
    "\n",
    "plt.imshow(image, cmap='gray')\n",
    "plt.axis('off')\n",
    "plt.show()\n"
   ]
  }
 ],
 "metadata": {
  "kernelspec": {
   "display_name": ".venv",
   "language": "python",
   "name": "python3"
  },
  "language_info": {
   "codemirror_mode": {
    "name": "ipython",
    "version": 3
   },
   "file_extension": ".py",
   "mimetype": "text/x-python",
   "name": "python",
   "nbconvert_exporter": "python",
   "pygments_lexer": "ipython3",
   "version": "3.11.6"
  }
 },
 "nbformat": 4,
 "nbformat_minor": 2
}
