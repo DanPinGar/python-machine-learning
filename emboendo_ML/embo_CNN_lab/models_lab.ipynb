{
 "cells": [
  {
   "cell_type": "markdown",
   "metadata": {},
   "source": [
    "# LIBRARIES IMPORT"
   ]
  },
  {
   "cell_type": "code",
   "execution_count": 1,
   "metadata": {},
   "outputs": [],
   "source": [
    "# imports\n",
    "\n",
    "import fig_lib \n",
    "import CNN_lib\n",
    "import numpy as np\n",
    "import matplotlib.pyplot as plt\n",
    "\n",
    "from tensorflow import keras\n",
    "from tensorflow.keras import layers, models\n"
   ]
  },
  {
   "cell_type": "markdown",
   "metadata": {},
   "source": [
    "# DATA GENERATOR"
   ]
  },
  {
   "cell_type": "code",
   "execution_count": 2,
   "metadata": {},
   "outputs": [],
   "source": [
    "# -------- DATA PARAMS --------\n",
    "\n",
    "generate_new_data=True\n",
    "video_d=True                            # Video = True , Image = False \n",
    "    \n",
    "n_recs_train,n_recs_eval=350,50\n",
    "height, width = 100, 100\n",
    "circles_filled=False\n",
    "color=255\n",
    "\n",
    "# -------- Video ---------\n",
    "\n",
    "n_frames=[10,15]    # [min,max]\n",
    "t_btw_frm=0.2"
   ]
  },
  {
   "cell_type": "code",
   "execution_count": 3,
   "metadata": {},
   "outputs": [],
   "source": [
    "#input_d, eval_d\n",
    "\n",
    "if generate_new_data:\n",
    "\n",
    "    if video_d:\n",
    "        \n",
    "        input_d=fig_lib.vid_data_gen(height, width,n_recs_train,n_frames,'I',cir_f=circles_filled,color=color)\n",
    "        eval_d=fig_lib.vid_data_gen(height, width,n_recs_eval,n_frames,'I',cir_f=circles_filled,color=color)\n",
    "\n",
    "    else:\n",
    "\n",
    "        input_d=fig_lib.im_data_gen(height, width,n_recs_train,'I',cir_f=circles_filled,color=color)\n",
    "        eval_d=fig_lib.im_data_gen(height, width,n_recs_eval,'I',cir_f=circles_filled,color=color)"
   ]
  },
  {
   "cell_type": "code",
   "execution_count": 4,
   "metadata": {},
   "outputs": [
    {
     "name": "stdout",
     "output_type": "stream",
     "text": [
      "RECORD - LABEL - SHAPE\n",
      "I0 line (10, 100, 100) <class 'numpy.ndarray'>\n",
      "I1 line (15, 100, 100) <class 'numpy.ndarray'>\n",
      "I2 circle (10, 100, 100) <class 'numpy.ndarray'>\n",
      "I3 circle (13, 100, 100) <class 'numpy.ndarray'>\n",
      "I4 circle (15, 100, 100) <class 'numpy.ndarray'>\n",
      "I5 line (12, 100, 100) <class 'numpy.ndarray'>\n",
      "I6 circle (15, 100, 100) <class 'numpy.ndarray'>\n",
      "I7 circle (14, 100, 100) <class 'numpy.ndarray'>\n",
      "I8 circle (15, 100, 100) <class 'numpy.ndarray'>\n",
      "I9 line (15, 100, 100) <class 'numpy.ndarray'>\n",
      "I10 circle (12, 100, 100) <class 'numpy.ndarray'>\n",
      "I11 circle (11, 100, 100) <class 'numpy.ndarray'>\n",
      "I12 line (10, 100, 100) <class 'numpy.ndarray'>\n",
      "I13 circle (10, 100, 100) <class 'numpy.ndarray'>\n",
      "I14 line (11, 100, 100) <class 'numpy.ndarray'>\n",
      "I15 line (14, 100, 100) <class 'numpy.ndarray'>\n",
      "I16 circle (13, 100, 100) <class 'numpy.ndarray'>\n",
      "I17 line (15, 100, 100) <class 'numpy.ndarray'>\n",
      "I18 circle (10, 100, 100) <class 'numpy.ndarray'>\n",
      "I19 circle (10, 100, 100) <class 'numpy.ndarray'>\n",
      "I20 line (13, 100, 100) <class 'numpy.ndarray'>\n",
      "I21 line (14, 100, 100) <class 'numpy.ndarray'>\n",
      "I22 line (14, 100, 100) <class 'numpy.ndarray'>\n",
      "I23 line (10, 100, 100) <class 'numpy.ndarray'>\n",
      "I24 circle (12, 100, 100) <class 'numpy.ndarray'>\n",
      "I25 line (14, 100, 100) <class 'numpy.ndarray'>\n",
      "I26 line (11, 100, 100) <class 'numpy.ndarray'>\n",
      "I27 circle (14, 100, 100) <class 'numpy.ndarray'>\n",
      "I28 line (13, 100, 100) <class 'numpy.ndarray'>\n",
      "I29 line (13, 100, 100) <class 'numpy.ndarray'>\n",
      "I30 line (15, 100, 100) <class 'numpy.ndarray'>\n",
      "I31 circle (11, 100, 100) <class 'numpy.ndarray'>\n",
      "I32 line (13, 100, 100) <class 'numpy.ndarray'>\n",
      "I33 line (13, 100, 100) <class 'numpy.ndarray'>\n",
      "I34 line (13, 100, 100) <class 'numpy.ndarray'>\n",
      "I35 circle (13, 100, 100) <class 'numpy.ndarray'>\n",
      "I36 circle (15, 100, 100) <class 'numpy.ndarray'>\n",
      "I37 line (10, 100, 100) <class 'numpy.ndarray'>\n",
      "I38 line (13, 100, 100) <class 'numpy.ndarray'>\n",
      "I39 circle (12, 100, 100) <class 'numpy.ndarray'>\n",
      "I40 circle (12, 100, 100) <class 'numpy.ndarray'>\n",
      "I41 line (11, 100, 100) <class 'numpy.ndarray'>\n",
      "I42 line (11, 100, 100) <class 'numpy.ndarray'>\n",
      "I43 line (12, 100, 100) <class 'numpy.ndarray'>\n",
      "I44 line (14, 100, 100) <class 'numpy.ndarray'>\n",
      "I45 line (15, 100, 100) <class 'numpy.ndarray'>\n",
      "I46 circle (15, 100, 100) <class 'numpy.ndarray'>\n",
      "I47 circle (13, 100, 100) <class 'numpy.ndarray'>\n",
      "I48 line (14, 100, 100) <class 'numpy.ndarray'>\n",
      "I49 circle (12, 100, 100) <class 'numpy.ndarray'>\n",
      "I50 line (13, 100, 100) <class 'numpy.ndarray'>\n",
      "I51 line (11, 100, 100) <class 'numpy.ndarray'>\n",
      "I52 line (14, 100, 100) <class 'numpy.ndarray'>\n",
      "I53 line (12, 100, 100) <class 'numpy.ndarray'>\n",
      "I54 line (13, 100, 100) <class 'numpy.ndarray'>\n",
      "I55 line (15, 100, 100) <class 'numpy.ndarray'>\n",
      "I56 circle (10, 100, 100) <class 'numpy.ndarray'>\n",
      "I57 circle (11, 100, 100) <class 'numpy.ndarray'>\n",
      "I58 line (10, 100, 100) <class 'numpy.ndarray'>\n",
      "I59 line (12, 100, 100) <class 'numpy.ndarray'>\n",
      "I60 line (10, 100, 100) <class 'numpy.ndarray'>\n",
      "I61 line (15, 100, 100) <class 'numpy.ndarray'>\n",
      "I62 line (10, 100, 100) <class 'numpy.ndarray'>\n",
      "I63 line (14, 100, 100) <class 'numpy.ndarray'>\n",
      "I64 circle (15, 100, 100) <class 'numpy.ndarray'>\n",
      "I65 line (13, 100, 100) <class 'numpy.ndarray'>\n",
      "I66 line (13, 100, 100) <class 'numpy.ndarray'>\n",
      "I67 circle (14, 100, 100) <class 'numpy.ndarray'>\n",
      "I68 line (10, 100, 100) <class 'numpy.ndarray'>\n",
      "I69 line (11, 100, 100) <class 'numpy.ndarray'>\n",
      "I70 line (10, 100, 100) <class 'numpy.ndarray'>\n",
      "I71 circle (13, 100, 100) <class 'numpy.ndarray'>\n",
      "I72 line (10, 100, 100) <class 'numpy.ndarray'>\n",
      "I73 line (15, 100, 100) <class 'numpy.ndarray'>\n",
      "I74 line (15, 100, 100) <class 'numpy.ndarray'>\n",
      "I75 circle (13, 100, 100) <class 'numpy.ndarray'>\n",
      "I76 circle (10, 100, 100) <class 'numpy.ndarray'>\n",
      "I77 line (15, 100, 100) <class 'numpy.ndarray'>\n",
      "I78 line (13, 100, 100) <class 'numpy.ndarray'>\n",
      "I79 circle (14, 100, 100) <class 'numpy.ndarray'>\n",
      "I80 circle (14, 100, 100) <class 'numpy.ndarray'>\n",
      "I81 line (15, 100, 100) <class 'numpy.ndarray'>\n",
      "I82 line (10, 100, 100) <class 'numpy.ndarray'>\n",
      "I83 circle (13, 100, 100) <class 'numpy.ndarray'>\n",
      "I84 circle (11, 100, 100) <class 'numpy.ndarray'>\n",
      "I85 line (13, 100, 100) <class 'numpy.ndarray'>\n",
      "I86 circle (14, 100, 100) <class 'numpy.ndarray'>\n",
      "I87 line (14, 100, 100) <class 'numpy.ndarray'>\n",
      "I88 circle (12, 100, 100) <class 'numpy.ndarray'>\n",
      "I89 line (14, 100, 100) <class 'numpy.ndarray'>\n",
      "I90 line (12, 100, 100) <class 'numpy.ndarray'>\n",
      "I91 line (10, 100, 100) <class 'numpy.ndarray'>\n",
      "I92 line (12, 100, 100) <class 'numpy.ndarray'>\n",
      "I93 circle (10, 100, 100) <class 'numpy.ndarray'>\n",
      "I94 line (12, 100, 100) <class 'numpy.ndarray'>\n",
      "I95 line (12, 100, 100) <class 'numpy.ndarray'>\n",
      "I96 circle (11, 100, 100) <class 'numpy.ndarray'>\n",
      "I97 line (10, 100, 100) <class 'numpy.ndarray'>\n",
      "I98 circle (11, 100, 100) <class 'numpy.ndarray'>\n",
      "I99 circle (13, 100, 100) <class 'numpy.ndarray'>\n",
      "I100 line (12, 100, 100) <class 'numpy.ndarray'>\n",
      "I101 circle (12, 100, 100) <class 'numpy.ndarray'>\n",
      "I102 line (10, 100, 100) <class 'numpy.ndarray'>\n",
      "I103 line (12, 100, 100) <class 'numpy.ndarray'>\n",
      "I104 circle (15, 100, 100) <class 'numpy.ndarray'>\n",
      "I105 circle (10, 100, 100) <class 'numpy.ndarray'>\n",
      "I106 circle (10, 100, 100) <class 'numpy.ndarray'>\n",
      "I107 circle (11, 100, 100) <class 'numpy.ndarray'>\n",
      "I108 line (14, 100, 100) <class 'numpy.ndarray'>\n",
      "I109 circle (10, 100, 100) <class 'numpy.ndarray'>\n",
      "I110 line (11, 100, 100) <class 'numpy.ndarray'>\n",
      "I111 circle (10, 100, 100) <class 'numpy.ndarray'>\n",
      "I112 circle (13, 100, 100) <class 'numpy.ndarray'>\n",
      "I113 circle (11, 100, 100) <class 'numpy.ndarray'>\n",
      "I114 circle (12, 100, 100) <class 'numpy.ndarray'>\n",
      "I115 circle (14, 100, 100) <class 'numpy.ndarray'>\n",
      "I116 circle (12, 100, 100) <class 'numpy.ndarray'>\n",
      "I117 circle (10, 100, 100) <class 'numpy.ndarray'>\n",
      "I118 line (11, 100, 100) <class 'numpy.ndarray'>\n",
      "I119 circle (13, 100, 100) <class 'numpy.ndarray'>\n",
      "I120 circle (13, 100, 100) <class 'numpy.ndarray'>\n",
      "I121 circle (14, 100, 100) <class 'numpy.ndarray'>\n",
      "I122 line (15, 100, 100) <class 'numpy.ndarray'>\n",
      "I123 line (11, 100, 100) <class 'numpy.ndarray'>\n",
      "I124 line (15, 100, 100) <class 'numpy.ndarray'>\n",
      "I125 line (13, 100, 100) <class 'numpy.ndarray'>\n",
      "I126 circle (12, 100, 100) <class 'numpy.ndarray'>\n",
      "I127 line (13, 100, 100) <class 'numpy.ndarray'>\n",
      "I128 line (14, 100, 100) <class 'numpy.ndarray'>\n",
      "I129 circle (14, 100, 100) <class 'numpy.ndarray'>\n",
      "I130 line (11, 100, 100) <class 'numpy.ndarray'>\n",
      "I131 line (12, 100, 100) <class 'numpy.ndarray'>\n",
      "I132 circle (13, 100, 100) <class 'numpy.ndarray'>\n",
      "I133 line (15, 100, 100) <class 'numpy.ndarray'>\n",
      "I134 line (13, 100, 100) <class 'numpy.ndarray'>\n",
      "I135 circle (13, 100, 100) <class 'numpy.ndarray'>\n",
      "I136 line (10, 100, 100) <class 'numpy.ndarray'>\n",
      "I137 circle (12, 100, 100) <class 'numpy.ndarray'>\n",
      "I138 line (13, 100, 100) <class 'numpy.ndarray'>\n",
      "I139 circle (11, 100, 100) <class 'numpy.ndarray'>\n",
      "I140 circle (13, 100, 100) <class 'numpy.ndarray'>\n",
      "I141 circle (15, 100, 100) <class 'numpy.ndarray'>\n",
      "I142 circle (12, 100, 100) <class 'numpy.ndarray'>\n",
      "I143 circle (10, 100, 100) <class 'numpy.ndarray'>\n",
      "I144 circle (10, 100, 100) <class 'numpy.ndarray'>\n",
      "I145 line (15, 100, 100) <class 'numpy.ndarray'>\n",
      "I146 line (13, 100, 100) <class 'numpy.ndarray'>\n",
      "I147 line (11, 100, 100) <class 'numpy.ndarray'>\n",
      "I148 circle (11, 100, 100) <class 'numpy.ndarray'>\n",
      "I149 line (15, 100, 100) <class 'numpy.ndarray'>\n",
      "I150 circle (14, 100, 100) <class 'numpy.ndarray'>\n",
      "I151 circle (15, 100, 100) <class 'numpy.ndarray'>\n",
      "I152 circle (12, 100, 100) <class 'numpy.ndarray'>\n",
      "I153 circle (10, 100, 100) <class 'numpy.ndarray'>\n",
      "I154 circle (11, 100, 100) <class 'numpy.ndarray'>\n",
      "I155 circle (10, 100, 100) <class 'numpy.ndarray'>\n",
      "I156 circle (10, 100, 100) <class 'numpy.ndarray'>\n",
      "I157 line (13, 100, 100) <class 'numpy.ndarray'>\n",
      "I158 line (14, 100, 100) <class 'numpy.ndarray'>\n",
      "I159 circle (15, 100, 100) <class 'numpy.ndarray'>\n",
      "I160 line (12, 100, 100) <class 'numpy.ndarray'>\n",
      "I161 circle (15, 100, 100) <class 'numpy.ndarray'>\n",
      "I162 circle (11, 100, 100) <class 'numpy.ndarray'>\n",
      "I163 circle (14, 100, 100) <class 'numpy.ndarray'>\n",
      "I164 circle (10, 100, 100) <class 'numpy.ndarray'>\n",
      "I165 line (10, 100, 100) <class 'numpy.ndarray'>\n",
      "I166 circle (14, 100, 100) <class 'numpy.ndarray'>\n",
      "I167 line (15, 100, 100) <class 'numpy.ndarray'>\n",
      "I168 circle (15, 100, 100) <class 'numpy.ndarray'>\n",
      "I169 circle (15, 100, 100) <class 'numpy.ndarray'>\n",
      "I170 circle (11, 100, 100) <class 'numpy.ndarray'>\n",
      "I171 line (13, 100, 100) <class 'numpy.ndarray'>\n",
      "I172 circle (15, 100, 100) <class 'numpy.ndarray'>\n",
      "I173 circle (10, 100, 100) <class 'numpy.ndarray'>\n",
      "I174 circle (14, 100, 100) <class 'numpy.ndarray'>\n",
      "I175 circle (12, 100, 100) <class 'numpy.ndarray'>\n",
      "I176 circle (11, 100, 100) <class 'numpy.ndarray'>\n",
      "I177 line (12, 100, 100) <class 'numpy.ndarray'>\n",
      "I178 line (13, 100, 100) <class 'numpy.ndarray'>\n",
      "I179 circle (11, 100, 100) <class 'numpy.ndarray'>\n",
      "I180 circle (13, 100, 100) <class 'numpy.ndarray'>\n",
      "I181 circle (12, 100, 100) <class 'numpy.ndarray'>\n",
      "I182 line (13, 100, 100) <class 'numpy.ndarray'>\n",
      "I183 circle (13, 100, 100) <class 'numpy.ndarray'>\n",
      "I184 circle (14, 100, 100) <class 'numpy.ndarray'>\n",
      "I185 line (11, 100, 100) <class 'numpy.ndarray'>\n",
      "I186 circle (11, 100, 100) <class 'numpy.ndarray'>\n",
      "I187 line (11, 100, 100) <class 'numpy.ndarray'>\n",
      "I188 line (11, 100, 100) <class 'numpy.ndarray'>\n",
      "I189 circle (12, 100, 100) <class 'numpy.ndarray'>\n",
      "I190 line (13, 100, 100) <class 'numpy.ndarray'>\n",
      "I191 circle (11, 100, 100) <class 'numpy.ndarray'>\n",
      "I192 circle (10, 100, 100) <class 'numpy.ndarray'>\n",
      "I193 line (12, 100, 100) <class 'numpy.ndarray'>\n",
      "I194 circle (11, 100, 100) <class 'numpy.ndarray'>\n",
      "I195 line (14, 100, 100) <class 'numpy.ndarray'>\n",
      "I196 line (14, 100, 100) <class 'numpy.ndarray'>\n",
      "I197 circle (15, 100, 100) <class 'numpy.ndarray'>\n",
      "I198 line (14, 100, 100) <class 'numpy.ndarray'>\n",
      "I199 line (14, 100, 100) <class 'numpy.ndarray'>\n",
      "I200 circle (10, 100, 100) <class 'numpy.ndarray'>\n",
      "I201 circle (10, 100, 100) <class 'numpy.ndarray'>\n",
      "I202 circle (13, 100, 100) <class 'numpy.ndarray'>\n",
      "I203 line (12, 100, 100) <class 'numpy.ndarray'>\n",
      "I204 circle (14, 100, 100) <class 'numpy.ndarray'>\n",
      "I205 line (10, 100, 100) <class 'numpy.ndarray'>\n",
      "I206 line (12, 100, 100) <class 'numpy.ndarray'>\n",
      "I207 line (11, 100, 100) <class 'numpy.ndarray'>\n",
      "I208 circle (10, 100, 100) <class 'numpy.ndarray'>\n",
      "I209 circle (15, 100, 100) <class 'numpy.ndarray'>\n",
      "I210 circle (13, 100, 100) <class 'numpy.ndarray'>\n",
      "I211 circle (11, 100, 100) <class 'numpy.ndarray'>\n",
      "I212 circle (10, 100, 100) <class 'numpy.ndarray'>\n",
      "I213 circle (14, 100, 100) <class 'numpy.ndarray'>\n",
      "I214 line (15, 100, 100) <class 'numpy.ndarray'>\n",
      "I215 circle (12, 100, 100) <class 'numpy.ndarray'>\n",
      "I216 circle (15, 100, 100) <class 'numpy.ndarray'>\n",
      "I217 circle (11, 100, 100) <class 'numpy.ndarray'>\n",
      "I218 circle (12, 100, 100) <class 'numpy.ndarray'>\n",
      "I219 circle (12, 100, 100) <class 'numpy.ndarray'>\n",
      "I220 line (13, 100, 100) <class 'numpy.ndarray'>\n",
      "I221 circle (12, 100, 100) <class 'numpy.ndarray'>\n",
      "I222 line (13, 100, 100) <class 'numpy.ndarray'>\n",
      "I223 line (13, 100, 100) <class 'numpy.ndarray'>\n",
      "I224 circle (10, 100, 100) <class 'numpy.ndarray'>\n",
      "I225 circle (10, 100, 100) <class 'numpy.ndarray'>\n",
      "I226 line (11, 100, 100) <class 'numpy.ndarray'>\n",
      "I227 line (11, 100, 100) <class 'numpy.ndarray'>\n",
      "I228 circle (14, 100, 100) <class 'numpy.ndarray'>\n",
      "I229 circle (14, 100, 100) <class 'numpy.ndarray'>\n",
      "I230 circle (12, 100, 100) <class 'numpy.ndarray'>\n",
      "I231 line (10, 100, 100) <class 'numpy.ndarray'>\n",
      "I232 line (15, 100, 100) <class 'numpy.ndarray'>\n",
      "I233 circle (12, 100, 100) <class 'numpy.ndarray'>\n",
      "I234 circle (15, 100, 100) <class 'numpy.ndarray'>\n",
      "I235 circle (10, 100, 100) <class 'numpy.ndarray'>\n",
      "I236 circle (14, 100, 100) <class 'numpy.ndarray'>\n",
      "I237 line (14, 100, 100) <class 'numpy.ndarray'>\n",
      "I238 line (13, 100, 100) <class 'numpy.ndarray'>\n",
      "I239 circle (11, 100, 100) <class 'numpy.ndarray'>\n",
      "I240 line (12, 100, 100) <class 'numpy.ndarray'>\n",
      "I241 circle (14, 100, 100) <class 'numpy.ndarray'>\n",
      "I242 line (10, 100, 100) <class 'numpy.ndarray'>\n",
      "I243 line (10, 100, 100) <class 'numpy.ndarray'>\n",
      "I244 circle (15, 100, 100) <class 'numpy.ndarray'>\n",
      "I245 circle (14, 100, 100) <class 'numpy.ndarray'>\n",
      "I246 circle (12, 100, 100) <class 'numpy.ndarray'>\n",
      "I247 line (13, 100, 100) <class 'numpy.ndarray'>\n",
      "I248 circle (15, 100, 100) <class 'numpy.ndarray'>\n",
      "I249 circle (14, 100, 100) <class 'numpy.ndarray'>\n",
      "I250 line (10, 100, 100) <class 'numpy.ndarray'>\n",
      "I251 line (15, 100, 100) <class 'numpy.ndarray'>\n",
      "I252 circle (15, 100, 100) <class 'numpy.ndarray'>\n",
      "I253 line (13, 100, 100) <class 'numpy.ndarray'>\n",
      "I254 circle (15, 100, 100) <class 'numpy.ndarray'>\n",
      "I255 line (11, 100, 100) <class 'numpy.ndarray'>\n",
      "I256 line (14, 100, 100) <class 'numpy.ndarray'>\n",
      "I257 line (13, 100, 100) <class 'numpy.ndarray'>\n",
      "I258 line (12, 100, 100) <class 'numpy.ndarray'>\n",
      "I259 line (11, 100, 100) <class 'numpy.ndarray'>\n",
      "I260 line (11, 100, 100) <class 'numpy.ndarray'>\n",
      "I261 circle (10, 100, 100) <class 'numpy.ndarray'>\n",
      "I262 circle (11, 100, 100) <class 'numpy.ndarray'>\n",
      "I263 circle (15, 100, 100) <class 'numpy.ndarray'>\n",
      "I264 circle (12, 100, 100) <class 'numpy.ndarray'>\n",
      "I265 circle (10, 100, 100) <class 'numpy.ndarray'>\n",
      "I266 circle (15, 100, 100) <class 'numpy.ndarray'>\n",
      "I267 line (13, 100, 100) <class 'numpy.ndarray'>\n",
      "I268 line (15, 100, 100) <class 'numpy.ndarray'>\n",
      "I269 circle (12, 100, 100) <class 'numpy.ndarray'>\n",
      "I270 circle (11, 100, 100) <class 'numpy.ndarray'>\n",
      "I271 line (10, 100, 100) <class 'numpy.ndarray'>\n",
      "I272 circle (14, 100, 100) <class 'numpy.ndarray'>\n",
      "I273 circle (15, 100, 100) <class 'numpy.ndarray'>\n",
      "I274 circle (11, 100, 100) <class 'numpy.ndarray'>\n",
      "I275 line (11, 100, 100) <class 'numpy.ndarray'>\n",
      "I276 circle (14, 100, 100) <class 'numpy.ndarray'>\n",
      "I277 circle (13, 100, 100) <class 'numpy.ndarray'>\n",
      "I278 line (11, 100, 100) <class 'numpy.ndarray'>\n",
      "I279 line (10, 100, 100) <class 'numpy.ndarray'>\n",
      "I280 circle (13, 100, 100) <class 'numpy.ndarray'>\n",
      "I281 circle (12, 100, 100) <class 'numpy.ndarray'>\n",
      "I282 line (12, 100, 100) <class 'numpy.ndarray'>\n",
      "I283 circle (14, 100, 100) <class 'numpy.ndarray'>\n",
      "I284 line (15, 100, 100) <class 'numpy.ndarray'>\n",
      "I285 line (15, 100, 100) <class 'numpy.ndarray'>\n",
      "I286 line (15, 100, 100) <class 'numpy.ndarray'>\n",
      "I287 circle (11, 100, 100) <class 'numpy.ndarray'>\n",
      "I288 line (14, 100, 100) <class 'numpy.ndarray'>\n",
      "I289 line (13, 100, 100) <class 'numpy.ndarray'>\n",
      "I290 line (12, 100, 100) <class 'numpy.ndarray'>\n",
      "I291 circle (14, 100, 100) <class 'numpy.ndarray'>\n",
      "I292 line (10, 100, 100) <class 'numpy.ndarray'>\n",
      "I293 circle (12, 100, 100) <class 'numpy.ndarray'>\n",
      "I294 line (15, 100, 100) <class 'numpy.ndarray'>\n",
      "I295 circle (10, 100, 100) <class 'numpy.ndarray'>\n",
      "I296 line (14, 100, 100) <class 'numpy.ndarray'>\n",
      "I297 circle (10, 100, 100) <class 'numpy.ndarray'>\n",
      "I298 line (15, 100, 100) <class 'numpy.ndarray'>\n",
      "I299 line (13, 100, 100) <class 'numpy.ndarray'>\n",
      "I300 line (15, 100, 100) <class 'numpy.ndarray'>\n",
      "I301 line (12, 100, 100) <class 'numpy.ndarray'>\n",
      "I302 line (11, 100, 100) <class 'numpy.ndarray'>\n",
      "I303 circle (12, 100, 100) <class 'numpy.ndarray'>\n",
      "I304 line (11, 100, 100) <class 'numpy.ndarray'>\n",
      "I305 line (12, 100, 100) <class 'numpy.ndarray'>\n",
      "I306 line (14, 100, 100) <class 'numpy.ndarray'>\n",
      "I307 circle (15, 100, 100) <class 'numpy.ndarray'>\n",
      "I308 line (13, 100, 100) <class 'numpy.ndarray'>\n",
      "I309 circle (14, 100, 100) <class 'numpy.ndarray'>\n",
      "I310 circle (12, 100, 100) <class 'numpy.ndarray'>\n",
      "I311 line (14, 100, 100) <class 'numpy.ndarray'>\n",
      "I312 circle (11, 100, 100) <class 'numpy.ndarray'>\n",
      "I313 circle (14, 100, 100) <class 'numpy.ndarray'>\n",
      "I314 line (11, 100, 100) <class 'numpy.ndarray'>\n",
      "I315 circle (10, 100, 100) <class 'numpy.ndarray'>\n",
      "I316 circle (11, 100, 100) <class 'numpy.ndarray'>\n",
      "I317 circle (14, 100, 100) <class 'numpy.ndarray'>\n",
      "I318 line (12, 100, 100) <class 'numpy.ndarray'>\n",
      "I319 line (11, 100, 100) <class 'numpy.ndarray'>\n",
      "I320 line (11, 100, 100) <class 'numpy.ndarray'>\n",
      "I321 line (15, 100, 100) <class 'numpy.ndarray'>\n",
      "I322 circle (12, 100, 100) <class 'numpy.ndarray'>\n",
      "I323 line (11, 100, 100) <class 'numpy.ndarray'>\n",
      "I324 line (14, 100, 100) <class 'numpy.ndarray'>\n",
      "I325 circle (15, 100, 100) <class 'numpy.ndarray'>\n",
      "I326 line (15, 100, 100) <class 'numpy.ndarray'>\n",
      "I327 circle (12, 100, 100) <class 'numpy.ndarray'>\n",
      "I328 circle (15, 100, 100) <class 'numpy.ndarray'>\n",
      "I329 line (10, 100, 100) <class 'numpy.ndarray'>\n",
      "I330 line (15, 100, 100) <class 'numpy.ndarray'>\n",
      "I331 line (14, 100, 100) <class 'numpy.ndarray'>\n",
      "I332 line (15, 100, 100) <class 'numpy.ndarray'>\n",
      "I333 line (10, 100, 100) <class 'numpy.ndarray'>\n",
      "I334 line (14, 100, 100) <class 'numpy.ndarray'>\n",
      "I335 line (13, 100, 100) <class 'numpy.ndarray'>\n",
      "I336 line (11, 100, 100) <class 'numpy.ndarray'>\n",
      "I337 line (12, 100, 100) <class 'numpy.ndarray'>\n",
      "I338 circle (13, 100, 100) <class 'numpy.ndarray'>\n",
      "I339 line (15, 100, 100) <class 'numpy.ndarray'>\n",
      "I340 line (13, 100, 100) <class 'numpy.ndarray'>\n",
      "I341 line (12, 100, 100) <class 'numpy.ndarray'>\n",
      "I342 circle (12, 100, 100) <class 'numpy.ndarray'>\n",
      "I343 circle (11, 100, 100) <class 'numpy.ndarray'>\n",
      "I344 circle (12, 100, 100) <class 'numpy.ndarray'>\n",
      "I345 circle (10, 100, 100) <class 'numpy.ndarray'>\n",
      "I346 circle (15, 100, 100) <class 'numpy.ndarray'>\n",
      "I347 circle (13, 100, 100) <class 'numpy.ndarray'>\n",
      "I348 line (13, 100, 100) <class 'numpy.ndarray'>\n",
      "I349 circle (14, 100, 100) <class 'numpy.ndarray'>\n"
     ]
    }
   ],
   "source": [
    "print('RECORD - LABEL - SHAPE')\n",
    "\n",
    "if generate_new_data:\n",
    "    \n",
    "    for R in input_d.keys():\n",
    "        print(R,input_d[R]['label'],np.shape(input_d[R]['image']),type(input_d[R]['image']))"
   ]
  },
  {
   "cell_type": "code",
   "execution_count": 5,
   "metadata": {},
   "outputs": [
    {
     "data": {
      "image/png": "[encoded data removed]",
      "text/plain": [
       "<Figure size 640x480 with 1 Axes>"
      ]
     },
     "metadata": {},
     "output_type": "display_data"
    }
   ],
   "source": [
    "d_plt_check,rec_check=True,'I1'\n",
    "print(input_d[rec_check]['label'])\n",
    "\n",
    "if generate_new_data:\n",
    "\n",
    "    if d_plt_check:\n",
    "\n",
    "        if video_d:fig_lib.vid_show(input_d[rec_check]['image'],t_btw_frm=t_btw_frm)\n",
    "        else:fig_lib.im_show(input_d[rec_check]['image'])\n"
   ]
  },
  {
   "cell_type": "markdown",
   "metadata": {},
   "source": [
    "# CNN"
   ]
  },
  {
   "cell_type": "markdown",
   "metadata": {},
   "source": [
    "### PARAMETERS"
   ]
  },
  {
   "cell_type": "code",
   "execution_count": 6,
   "metadata": {},
   "outputs": [
    {
     "name": "stdout",
     "output_type": "stream",
     "text": [
      "LIBRARY MODELS:\n",
      " \n",
      "image_full_bin\n",
      "image_conv_bin\n",
      "image_conv_bin_augmentation\n",
      "video_\n"
     ]
    }
   ],
   "source": [
    "print('LIBRARY MODELS:')\n",
    "print(' ')\n",
    "\n",
    "for model_name in CNN_lib.MODELS.values(): print(model_name)"
   ]
  },
  {
   "cell_type": "code",
   "execution_count": 7,
   "metadata": {},
   "outputs": [],
   "source": [
    "# -------- CNN PARAMS --------\n",
    "\n",
    "# -------- MODEL --------\n",
    "\n",
    "model_from_CNN_lib,mdl= False,'image_full_bin'\n",
    "\n",
    "opt='adam'\n",
    "lss='binary_crossentropy'\n",
    "\n",
    "# -------- TRAINNING --------\n",
    "\n",
    "epch=5\n"
   ]
  },
  {
   "cell_type": "markdown",
   "metadata": {},
   "source": [
    "### GENERATE TRAIN DATA"
   ]
  },
  {
   "cell_type": "code",
   "execution_count": 8,
   "metadata": {},
   "outputs": [
    {
     "name": "stdout",
     "output_type": "stream",
     "text": [
      "Train data: 350 Evaluation data: 50\n"
     ]
    }
   ],
   "source": [
    "# X_train,Y_train,X_eval,Y_eval\n",
    "\n",
    "if video_d:\n",
    "    \n",
    "    X_train,Y_train,max_frm_n =CNN_lib.vid_d_bin_gen(input_d,height, width, zero='circle', one= 'line')\n",
    "    X_eval,Y_eval,max_frm_n_eval =CNN_lib.vid_d_bin_gen(eval_d,height, width, zero='circle', one= 'line')\n",
    "\n",
    "else:\n",
    "\n",
    "    X_train,Y_train =CNN_lib.im_d_bin_gen(input_d,zero='circle', one= 'line')\n",
    "    X_eval,Y_eval = CNN_lib.im_d_bin_gen(eval_d,zero='circle', one= 'line')\n",
    "\n",
    "print('Train data:',len(Y_train),'Evaluation data:',len(Y_eval))"
   ]
  },
  {
   "cell_type": "code",
   "execution_count": 9,
   "metadata": {},
   "outputs": [
    {
     "name": "stdout",
     "output_type": "stream",
     "text": [
      " Train data shape: (350, 15, 100, 100, 1)  Validation data shape: (50, 15, 100, 100, 1)\n"
     ]
    },
    {
     "data": {
      "image/png": "[encoded data removed]",
      "text/plain": [
       "<Figure size 640x480 with 1 Axes>"
      ]
     },
     "metadata": {},
     "output_type": "display_data"
    }
   ],
   "source": [
    "# check data\n",
    "\n",
    "zeros_count = np.sum(Y_train == 0)\n",
    "ones_count = np.sum(Y_train == 1)\n",
    "zeros_count_val = np.sum(Y_eval == 0)\n",
    "ones_count_val = np.sum(Y_eval == 1)\n",
    "\n",
    "labels = ['Circles Train', 'Lines Train','Circles Validation', 'Lines Validation']\n",
    "print(' Train data shape:', np.shape(X_train),' Validation data shape:', np.shape(X_eval))\n",
    "\n",
    "plt.bar(labels, [zeros_count, ones_count,zeros_count_val,ones_count_val], color=['green', 'blue','green', 'blue'])\n",
    "\n",
    "for i, count in enumerate([zeros_count, ones_count,zeros_count_val,ones_count_val]):\n",
    "\n",
    "    plt.text(i, count + 0.1, str(count), ha='center', va='bottom')\n",
    "\n",
    "plt.title('Data Labels')\n",
    "plt.show()"
   ]
  },
  {
   "cell_type": "markdown",
   "metadata": {},
   "source": [
    "### MODEL"
   ]
  },
  {
   "cell_type": "code",
   "execution_count": 10,
   "metadata": {},
   "outputs": [
    {
     "name": "stdout",
     "output_type": "stream",
     "text": [
      "Model: \"sequential\"\n",
      "_________________________________________________________________\n",
      " Layer (type)                Output Shape              Param #   \n",
      "=================================================================\n",
      " time_distributed (TimeDist  (None, 15, 98, 98, 16)    160       \n",
      " ributed)                                                        \n",
      "                                                                 \n",
      " time_distributed_1 (TimeDi  (None, 15, 49, 49, 16)    0         \n",
      " stributed)                                                      \n",
      "                                                                 \n",
      " time_distributed_2 (TimeDi  (None, 15, 47, 47, 16)    2320      \n",
      " stributed)                                                      \n",
      "                                                                 \n",
      " time_distributed_3 (TimeDi  (None, 15, 23, 23, 16)    0         \n",
      " stributed)                                                      \n",
      "                                                                 \n",
      " time_distributed_4 (TimeDi  (None, 15, 8464)          0         \n",
      " stributed)                                                      \n",
      "                                                                 \n",
      " lstm (LSTM)                 (None, 16)                542784    \n",
      "                                                                 \n",
      " dense (Dense)               (None, 1)                 17        \n",
      "                                                                 \n",
      "=================================================================\n",
      "Total params: 545281 (2.08 MB)\n",
      "Trainable params: 545281 (2.08 MB)\n",
      "Non-trainable params: 0 (0.00 Byte)\n",
      "_________________________________________________________________\n"
     ]
    }
   ],
   "source": [
    "# MODEL \n",
    "\n",
    "if model_from_CNN_lib:\n",
    "  \n",
    "  model=CNN_lib.lib_models(mdl,im_input_shp=(height, width))\n",
    "\n",
    "else:\n",
    "\n",
    "  model = models.Sequential([layers.TimeDistributed(layers.Conv2D(16, (3, 3), activation='relu'), input_shape=(max_frm_n, height, width, 1)),\n",
    "                             layers.TimeDistributed(layers.MaxPooling2D((2, 2))),\n",
    "                             layers.TimeDistributed(layers.Conv2D(16, (3, 3), activation='relu')),\n",
    "                             layers.TimeDistributed(layers.MaxPooling2D((2, 2))),\n",
    "                             layers.TimeDistributed(layers.Flatten()),\n",
    "                             layers.LSTM(16),\n",
    "                             layers.Dense(1, activation='sigmoid'),\n",
    "                              ])\n",
    "\n",
    "model.summary()"
   ]
  },
  {
   "cell_type": "code",
   "execution_count": 11,
   "metadata": {},
   "outputs": [],
   "source": [
    "model.compile(optimizer=opt, loss=lss, metrics=['accuracy'])"
   ]
  },
  {
   "cell_type": "markdown",
   "metadata": {},
   "source": [
    "### TRAINNING"
   ]
  },
  {
   "cell_type": "code",
   "execution_count": 12,
   "metadata": {},
   "outputs": [
    {
     "name": "stdout",
     "output_type": "stream",
     "text": [
      "Epoch 1/5\n",
      "11/11 [==============================] - 9s 667ms/step - loss: 0.5950 - accuracy: 0.6914 - val_loss: 0.5268 - val_accuracy: 0.7000\n",
      "Epoch 2/5\n",
      "11/11 [==============================] - 7s 617ms/step - loss: 0.4437 - accuracy: 0.8543 - val_loss: 0.4481 - val_accuracy: 0.8200\n",
      "Epoch 3/5\n",
      "11/11 [==============================] - 7s 621ms/step - loss: 0.3658 - accuracy: 0.9000 - val_loss: 0.4279 - val_accuracy: 0.7800\n",
      "Epoch 4/5\n",
      "11/11 [==============================] - 7s 631ms/step - loss: 0.2840 - accuracy: 0.9086 - val_loss: 0.3823 - val_accuracy: 0.8800\n",
      "Epoch 5/5\n",
      "11/11 [==============================] - 7s 623ms/step - loss: 0.2278 - accuracy: 0.9200 - val_loss: 0.3796 - val_accuracy: 0.8400\n"
     ]
    }
   ],
   "source": [
    "history =model.fit(X_train, Y_train, epochs=epch, validation_data=(X_eval,Y_eval))"
   ]
  },
  {
   "cell_type": "markdown",
   "metadata": {},
   "source": [
    "### EVALUATE MODEL"
   ]
  },
  {
   "cell_type": "code",
   "execution_count": 13,
   "metadata": {},
   "outputs": [
    {
     "data": {
      "image/png": "[encoded data removed]",
      "text/plain": [
       "<Figure size 1400x800 with 2 Axes>"
      ]
     },
     "metadata": {},
     "output_type": "display_data"
    }
   ],
   "source": [
    "fg_size=(14,8)\n",
    "\n",
    "acc = history.history['accuracy']\n",
    "val_acc = history.history['val_accuracy']\n",
    "\n",
    "loss = history.history['loss']\n",
    "val_loss = history.history['val_loss']\n",
    "\n",
    "epochs_range = range(epch)\n",
    "\n",
    "plt.figure(figsize=fg_size)\n",
    "plt.subplot(1, 2, 1)\n",
    "plt.plot(epochs_range, acc, label='Training Accuracy')\n",
    "plt.plot(epochs_range, val_acc, label='Validation Accuracy')\n",
    "plt.legend(loc='lower right')\n",
    "plt.title('Training and Validation Accuracy')\n",
    "plt.xlabel('Epochs')  \n",
    "plt.ylabel('Accuracy')  \n",
    "\n",
    "plt.subplot(1, 2, 2)\n",
    "plt.plot(epochs_range, loss, label='Training Loss')\n",
    "plt.plot(epochs_range, val_loss, label='Validation Loss')\n",
    "plt.legend(loc='upper right')\n",
    "plt.title('Training and Validation Loss')\n",
    "plt.xlabel('Epochs')  \n",
    "plt.ylabel('Loss')  \n",
    "plt.show()"
   ]
  },
  {
   "cell_type": "code",
   "execution_count": 14,
   "metadata": {},
   "outputs": [
    {
     "name": "stdout",
     "output_type": "stream",
     "text": [
      "2/2 - 0s - loss: 0.3796 - accuracy: 0.8400 - 213ms/epoch - 107ms/step\n",
      "Loss: 0.37956950068473816 Accuracy: 0.8399999737739563\n"
     ]
    }
   ],
   "source": [
    "test_loss, test_accuracy = model.evaluate(X_eval,Y_eval,verbose=2)\n",
    "\n",
    "print(f'Loss: {test_loss}',f'Accuracy: {test_accuracy}')"
   ]
  },
  {
   "cell_type": "markdown",
   "metadata": {},
   "source": [
    "### FORECAST"
   ]
  },
  {
   "cell_type": "markdown",
   "metadata": {},
   "source": [
    "GENERATE RANDOM IMAGE"
   ]
  },
  {
   "cell_type": "code",
   "execution_count": 94,
   "metadata": {},
   "outputs": [],
   "source": [
    "# generate random im\n",
    "\n",
    "n_rdm=np.random.rand()\n",
    "\n",
    "if video_d:\n",
    "    \n",
    "    vd_ls=[]\n",
    "    N_frames=np.random.randint(n_frames[0],n_frames[1]+1)\n",
    "\n",
    "    if n_rdm>=0.5:\n",
    "\n",
    "        p1=[np.random.randint(0, width-1),np.random.randint(0, height-1)]\n",
    "        p2=[np.random.randint(0, width-1),np.random.randint(0, height-1)]\n",
    "\n",
    "        for _ in range(N_frames):\n",
    "\n",
    "            vd_ls.append(fig_lib.line_im(p1,p2,height=height, width=width,thickness=(1,3),color=color))\n",
    "            p1[0]+= np.random.randint(-int(width*0.02), int(width*0.02))\n",
    "            p2[0]+=np.random.randint(-int(width*0.06), int(width*0.06))\n",
    "            p1[1]+= np.random.randint(-int(height*0.02), int(height*0.02))\n",
    "            p2[1]+=np.random.randint(-int(height*0.06), int(height*0.06))\n",
    "\n",
    "        label='Line'\n",
    "        \n",
    "\n",
    "    else:\n",
    "\n",
    "        center= [np.random.randint(int(0+width*0.3), int(width - width*0.3)),np.random.randint(int(0+height*0.3), int(height-height*0.3))]\n",
    "        radio = np.random.randint(12, 17)\n",
    "\n",
    "        for _ in range(N_frames):\n",
    "        \n",
    "            vd_ls.append(fig_lib.circle_im(center,radio,height=height, width=width,thickness=(1,3),color=color,filled=circles_filled))\n",
    "            center[0]+= np.random.randint(-int(width*0.03), int(width*0.03))\n",
    "            center[1]+= np.random.randint(-int(height*0.03), int(height*0.03))\n",
    "            radio += np.random.randint(-int(height*0.01), int(height*0.02))\n",
    "\n",
    "        label ='circle'\n",
    "\n",
    "    video=np.array(vd_ls)\n",
    "    image = video[:, :, :, np.newaxis]\n",
    "    frames_actual = image.shape[0]\n",
    "    if frames_actual < max_frm_n:\n",
    "        \n",
    "        padding = np.zeros((max_frm_n - frames_actual, height, width, 1))\n",
    "        image = np.concatenate([image, padding], axis=0)\n",
    "\n",
    "else:\n",
    "\n",
    "    if n_rdm>=0.5:\n",
    "\n",
    "        p1=[np.random.randint(0, width-1),np.random.randint(0, height-1)]\n",
    "        p2=[np.random.randint(0, width-1),np.random.randint(0, height-1)]\n",
    "        image=fig_lib.line_im(p1,p2,height=height, width=width,thickness=(1,3),color=color)\n",
    "        label='Line'\n",
    "\n",
    "    else:\n",
    "        \n",
    "        center= [np.random.randint(int(0+width*0.3), int(width - width*0.3)),np.random.randint(int(0+height*0.3), int(height-height*0.3))]\n",
    "        radio = np.random.randint(12, 17)\n",
    "        image=fig_lib.circle_im(center,radio,height=height, width=width,thickness=(1,3),color=color,filled=circles_filled)\n",
    "        label= 'circle'"
   ]
  },
  {
   "cell_type": "code",
   "execution_count": 95,
   "metadata": {},
   "outputs": [
    {
     "name": "stdout",
     "output_type": "stream",
     "text": [
      "1/1 - 0s - 23ms/epoch - 23ms/step\n"
     ]
    },
    {
     "name": "stdout",
     "output_type": "stream",
     "text": [
      "Real: Line ----> Forecast: line\n",
      "Percentage: 62.02999949455261 %\n",
      " \n"
     ]
    }
   ],
   "source": [
    "# Forecast\n",
    "\n",
    "pred = model.predict(np.expand_dims(image, axis=0),verbose=2)\n",
    "CNN_lib.bin_forecast(pred,label=label,up_frc='line',down_frc='circle')\n"
   ]
  },
  {
   "cell_type": "code",
   "execution_count": 96,
   "metadata": {},
   "outputs": [
    {
     "data": {
      "image/png": "[encoded data removed]",
      "text/plain": [
       "<Figure size 640x480 with 1 Axes>"
      ]
     },
     "metadata": {},
     "output_type": "display_data"
    }
   ],
   "source": [
    "# show\n",
    "\n",
    "if video_d:fig_lib.vid_show(video)\n",
    "else:fig_lib.im_show(image)"
   ]
  }
 ],
 "metadata": {
  "kernelspec": {
   "display_name": ".venv",
   "language": "python",
   "name": "python3"
  },
  "language_info": {
   "codemirror_mode": {
    "name": "ipython",
    "version": 3
   },
   "file_extension": ".py",
   "mimetype": "text/x-python",
   "name": "python",
   "nbconvert_exporter": "python",
   "pygments_lexer": "ipython3",
   "version": "3.11.6"
  }
 },
 "nbformat": 4,
 "nbformat_minor": 2
}
