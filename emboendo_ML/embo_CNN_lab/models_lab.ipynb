{
 "cells": [
  {
   "cell_type": "markdown",
   "metadata": {},
   "source": [
    "# LIBRARIES IMPORT"
   ]
  },
  {
   "cell_type": "code",
   "execution_count": 1,
   "metadata": {},
   "outputs": [],
   "source": [
    "# imports\n",
    "\n",
    "import fig_lib \n",
    "import CNN_lib\n",
    "import numpy as np\n",
    "import matplotlib.pyplot as plt\n",
    "\n",
    "from tensorflow import keras\n",
    "from tensorflow.keras import layers, models\n"
   ]
  },
  {
   "cell_type": "markdown",
   "metadata": {},
   "source": [
    "# DATA GENERATOR"
   ]
  },
  {
   "cell_type": "code",
   "execution_count": 2,
   "metadata": {},
   "outputs": [],
   "source": [
    "# -------- DATA PARAMS --------\n",
    "\n",
    "generate_new_data=True\n",
    "video_d=True                            # Video = True , Image = False \n",
    "    \n",
    "n_recs_train,n_recs_eval=350,50\n",
    "height, width = 100, 100\n",
    "circles_filled=False\n",
    "color=255\n",
    "\n",
    "# -------- Video ---------\n",
    "\n",
    "n_frames=[5,10]    # [min,max]\n",
    "t_btw_frm=0.2"
   ]
  },
  {
   "cell_type": "code",
   "execution_count": 4,
   "metadata": {},
   "outputs": [],
   "source": [
    "#input_d, eval_d\n",
    "\n",
    "if generate_new_data:\n",
    "\n",
    "    if video_d:\n",
    "        \n",
    "        input_d=fig_lib.vid_data_gen(height, width,n_recs_train,n_frames,'I',cir_f=circles_filled,color=color)\n",
    "        eval_d=fig_lib.vid_data_gen(height, width,n_recs_eval,n_frames,'I',cir_f=circles_filled,color=color)\n",
    "\n",
    "    else:\n",
    "\n",
    "        input_d=fig_lib.im_data_gen(height, width,n_recs_train,'I',cir_f=circles_filled,color=color)\n",
    "        eval_d=fig_lib.im_data_gen(height, width,n_recs_eval,'I',cir_f=circles_filled,color=color)"
   ]
  },
  {
   "cell_type": "code",
   "execution_count": 5,
   "metadata": {},
   "outputs": [
    {
     "name": "stdout",
     "output_type": "stream",
     "text": [
      "RECORD - LABEL - SHAPE\n",
      "I0 line (8, 100, 100) <class 'numpy.ndarray'>\n",
      "I1 line (8, 100, 100) <class 'numpy.ndarray'>\n",
      "I2 circle (8, 100, 100) <class 'numpy.ndarray'>\n",
      "I3 line (8, 100, 100) <class 'numpy.ndarray'>\n",
      "I4 circle (8, 100, 100) <class 'numpy.ndarray'>\n",
      "I5 line (5, 100, 100) <class 'numpy.ndarray'>\n",
      "I6 circle (8, 100, 100) <class 'numpy.ndarray'>\n",
      "I7 circle (5, 100, 100) <class 'numpy.ndarray'>\n",
      "I8 circle (9, 100, 100) <class 'numpy.ndarray'>\n",
      "I9 line (9, 100, 100) <class 'numpy.ndarray'>\n",
      "I10 circle (7, 100, 100) <class 'numpy.ndarray'>\n",
      "I11 line (5, 100, 100) <class 'numpy.ndarray'>\n",
      "I12 line (5, 100, 100) <class 'numpy.ndarray'>\n",
      "I13 circle (5, 100, 100) <class 'numpy.ndarray'>\n",
      "I14 circle (8, 100, 100) <class 'numpy.ndarray'>\n",
      "I15 circle (6, 100, 100) <class 'numpy.ndarray'>\n",
      "I16 circle (9, 100, 100) <class 'numpy.ndarray'>\n",
      "I17 line (7, 100, 100) <class 'numpy.ndarray'>\n",
      "I18 line (9, 100, 100) <class 'numpy.ndarray'>\n",
      "I19 circle (7, 100, 100) <class 'numpy.ndarray'>\n",
      "I20 line (9, 100, 100) <class 'numpy.ndarray'>\n",
      "I21 circle (5, 100, 100) <class 'numpy.ndarray'>\n",
      "I22 circle (8, 100, 100) <class 'numpy.ndarray'>\n",
      "I23 circle (6, 100, 100) <class 'numpy.ndarray'>\n",
      "I24 circle (5, 100, 100) <class 'numpy.ndarray'>\n",
      "I25 line (6, 100, 100) <class 'numpy.ndarray'>\n",
      "I26 line (5, 100, 100) <class 'numpy.ndarray'>\n",
      "I27 circle (8, 100, 100) <class 'numpy.ndarray'>\n",
      "I28 circle (9, 100, 100) <class 'numpy.ndarray'>\n",
      "I29 line (7, 100, 100) <class 'numpy.ndarray'>\n",
      "I30 circle (5, 100, 100) <class 'numpy.ndarray'>\n",
      "I31 circle (8, 100, 100) <class 'numpy.ndarray'>\n",
      "I32 line (9, 100, 100) <class 'numpy.ndarray'>\n",
      "I33 line (9, 100, 100) <class 'numpy.ndarray'>\n",
      "I34 circle (8, 100, 100) <class 'numpy.ndarray'>\n",
      "I35 circle (6, 100, 100) <class 'numpy.ndarray'>\n",
      "I36 line (5, 100, 100) <class 'numpy.ndarray'>\n",
      "I37 line (7, 100, 100) <class 'numpy.ndarray'>\n",
      "I38 circle (6, 100, 100) <class 'numpy.ndarray'>\n",
      "I39 line (6, 100, 100) <class 'numpy.ndarray'>\n",
      "I40 circle (5, 100, 100) <class 'numpy.ndarray'>\n",
      "I41 circle (5, 100, 100) <class 'numpy.ndarray'>\n",
      "I42 circle (5, 100, 100) <class 'numpy.ndarray'>\n",
      "I43 line (8, 100, 100) <class 'numpy.ndarray'>\n",
      "I44 line (7, 100, 100) <class 'numpy.ndarray'>\n",
      "I45 circle (8, 100, 100) <class 'numpy.ndarray'>\n",
      "I46 circle (7, 100, 100) <class 'numpy.ndarray'>\n",
      "I47 circle (9, 100, 100) <class 'numpy.ndarray'>\n",
      "I48 circle (7, 100, 100) <class 'numpy.ndarray'>\n",
      "I49 circle (6, 100, 100) <class 'numpy.ndarray'>\n",
      "I50 line (5, 100, 100) <class 'numpy.ndarray'>\n",
      "I51 circle (6, 100, 100) <class 'numpy.ndarray'>\n",
      "I52 circle (7, 100, 100) <class 'numpy.ndarray'>\n",
      "I53 line (8, 100, 100) <class 'numpy.ndarray'>\n",
      "I54 line (7, 100, 100) <class 'numpy.ndarray'>\n",
      "I55 circle (7, 100, 100) <class 'numpy.ndarray'>\n",
      "I56 line (7, 100, 100) <class 'numpy.ndarray'>\n",
      "I57 line (9, 100, 100) <class 'numpy.ndarray'>\n",
      "I58 circle (7, 100, 100) <class 'numpy.ndarray'>\n",
      "I59 circle (9, 100, 100) <class 'numpy.ndarray'>\n",
      "I60 circle (9, 100, 100) <class 'numpy.ndarray'>\n",
      "I61 circle (7, 100, 100) <class 'numpy.ndarray'>\n",
      "I62 line (5, 100, 100) <class 'numpy.ndarray'>\n",
      "I63 circle (8, 100, 100) <class 'numpy.ndarray'>\n",
      "I64 line (8, 100, 100) <class 'numpy.ndarray'>\n",
      "I65 circle (7, 100, 100) <class 'numpy.ndarray'>\n",
      "I66 circle (6, 100, 100) <class 'numpy.ndarray'>\n",
      "I67 circle (8, 100, 100) <class 'numpy.ndarray'>\n",
      "I68 line (9, 100, 100) <class 'numpy.ndarray'>\n",
      "I69 circle (7, 100, 100) <class 'numpy.ndarray'>\n",
      "I70 circle (5, 100, 100) <class 'numpy.ndarray'>\n",
      "I71 circle (6, 100, 100) <class 'numpy.ndarray'>\n",
      "I72 line (5, 100, 100) <class 'numpy.ndarray'>\n",
      "I73 circle (6, 100, 100) <class 'numpy.ndarray'>\n",
      "I74 line (8, 100, 100) <class 'numpy.ndarray'>\n",
      "I75 circle (8, 100, 100) <class 'numpy.ndarray'>\n",
      "I76 circle (9, 100, 100) <class 'numpy.ndarray'>\n",
      "I77 circle (9, 100, 100) <class 'numpy.ndarray'>\n",
      "I78 circle (7, 100, 100) <class 'numpy.ndarray'>\n",
      "I79 line (9, 100, 100) <class 'numpy.ndarray'>\n",
      "I80 line (6, 100, 100) <class 'numpy.ndarray'>\n",
      "I81 circle (7, 100, 100) <class 'numpy.ndarray'>\n",
      "I82 circle (6, 100, 100) <class 'numpy.ndarray'>\n",
      "I83 line (9, 100, 100) <class 'numpy.ndarray'>\n",
      "I84 line (5, 100, 100) <class 'numpy.ndarray'>\n",
      "I85 circle (9, 100, 100) <class 'numpy.ndarray'>\n",
      "I86 line (9, 100, 100) <class 'numpy.ndarray'>\n",
      "I87 circle (5, 100, 100) <class 'numpy.ndarray'>\n",
      "I88 line (6, 100, 100) <class 'numpy.ndarray'>\n",
      "I89 line (9, 100, 100) <class 'numpy.ndarray'>\n",
      "I90 circle (6, 100, 100) <class 'numpy.ndarray'>\n",
      "I91 circle (6, 100, 100) <class 'numpy.ndarray'>\n",
      "I92 circle (5, 100, 100) <class 'numpy.ndarray'>\n",
      "I93 circle (7, 100, 100) <class 'numpy.ndarray'>\n",
      "I94 line (9, 100, 100) <class 'numpy.ndarray'>\n",
      "I95 circle (5, 100, 100) <class 'numpy.ndarray'>\n",
      "I96 circle (7, 100, 100) <class 'numpy.ndarray'>\n",
      "I97 line (7, 100, 100) <class 'numpy.ndarray'>\n",
      "I98 circle (5, 100, 100) <class 'numpy.ndarray'>\n",
      "I99 line (5, 100, 100) <class 'numpy.ndarray'>\n",
      "I100 circle (6, 100, 100) <class 'numpy.ndarray'>\n",
      "I101 circle (6, 100, 100) <class 'numpy.ndarray'>\n",
      "I102 line (7, 100, 100) <class 'numpy.ndarray'>\n",
      "I103 line (5, 100, 100) <class 'numpy.ndarray'>\n",
      "I104 line (9, 100, 100) <class 'numpy.ndarray'>\n",
      "I105 line (8, 100, 100) <class 'numpy.ndarray'>\n",
      "I106 circle (8, 100, 100) <class 'numpy.ndarray'>\n",
      "I107 circle (8, 100, 100) <class 'numpy.ndarray'>\n",
      "I108 line (8, 100, 100) <class 'numpy.ndarray'>\n",
      "I109 circle (9, 100, 100) <class 'numpy.ndarray'>\n",
      "I110 line (9, 100, 100) <class 'numpy.ndarray'>\n",
      "I111 circle (5, 100, 100) <class 'numpy.ndarray'>\n",
      "I112 circle (8, 100, 100) <class 'numpy.ndarray'>\n",
      "I113 circle (9, 100, 100) <class 'numpy.ndarray'>\n",
      "I114 line (8, 100, 100) <class 'numpy.ndarray'>\n",
      "I115 line (7, 100, 100) <class 'numpy.ndarray'>\n",
      "I116 line (8, 100, 100) <class 'numpy.ndarray'>\n",
      "I117 circle (8, 100, 100) <class 'numpy.ndarray'>\n",
      "I118 line (7, 100, 100) <class 'numpy.ndarray'>\n",
      "I119 circle (8, 100, 100) <class 'numpy.ndarray'>\n",
      "I120 line (6, 100, 100) <class 'numpy.ndarray'>\n",
      "I121 circle (6, 100, 100) <class 'numpy.ndarray'>\n",
      "I122 line (5, 100, 100) <class 'numpy.ndarray'>\n",
      "I123 circle (6, 100, 100) <class 'numpy.ndarray'>\n",
      "I124 line (6, 100, 100) <class 'numpy.ndarray'>\n",
      "I125 line (8, 100, 100) <class 'numpy.ndarray'>\n",
      "I126 circle (7, 100, 100) <class 'numpy.ndarray'>\n",
      "I127 line (9, 100, 100) <class 'numpy.ndarray'>\n",
      "I128 line (5, 100, 100) <class 'numpy.ndarray'>\n",
      "I129 circle (6, 100, 100) <class 'numpy.ndarray'>\n",
      "I130 circle (9, 100, 100) <class 'numpy.ndarray'>\n",
      "I131 circle (9, 100, 100) <class 'numpy.ndarray'>\n",
      "I132 circle (7, 100, 100) <class 'numpy.ndarray'>\n",
      "I133 line (8, 100, 100) <class 'numpy.ndarray'>\n",
      "I134 circle (5, 100, 100) <class 'numpy.ndarray'>\n",
      "I135 line (5, 100, 100) <class 'numpy.ndarray'>\n",
      "I136 line (6, 100, 100) <class 'numpy.ndarray'>\n",
      "I137 line (9, 100, 100) <class 'numpy.ndarray'>\n",
      "I138 circle (8, 100, 100) <class 'numpy.ndarray'>\n",
      "I139 circle (9, 100, 100) <class 'numpy.ndarray'>\n",
      "I140 line (5, 100, 100) <class 'numpy.ndarray'>\n",
      "I141 line (8, 100, 100) <class 'numpy.ndarray'>\n",
      "I142 line (8, 100, 100) <class 'numpy.ndarray'>\n",
      "I143 circle (6, 100, 100) <class 'numpy.ndarray'>\n",
      "I144 line (6, 100, 100) <class 'numpy.ndarray'>\n",
      "I145 line (6, 100, 100) <class 'numpy.ndarray'>\n",
      "I146 circle (9, 100, 100) <class 'numpy.ndarray'>\n",
      "I147 circle (8, 100, 100) <class 'numpy.ndarray'>\n",
      "I148 circle (5, 100, 100) <class 'numpy.ndarray'>\n",
      "I149 line (8, 100, 100) <class 'numpy.ndarray'>\n",
      "I150 line (8, 100, 100) <class 'numpy.ndarray'>\n",
      "I151 line (9, 100, 100) <class 'numpy.ndarray'>\n",
      "I152 line (7, 100, 100) <class 'numpy.ndarray'>\n",
      "I153 circle (8, 100, 100) <class 'numpy.ndarray'>\n",
      "I154 line (7, 100, 100) <class 'numpy.ndarray'>\n",
      "I155 line (7, 100, 100) <class 'numpy.ndarray'>\n",
      "I156 line (7, 100, 100) <class 'numpy.ndarray'>\n",
      "I157 line (6, 100, 100) <class 'numpy.ndarray'>\n",
      "I158 line (9, 100, 100) <class 'numpy.ndarray'>\n",
      "I159 circle (6, 100, 100) <class 'numpy.ndarray'>\n",
      "I160 line (9, 100, 100) <class 'numpy.ndarray'>\n",
      "I161 line (9, 100, 100) <class 'numpy.ndarray'>\n",
      "I162 line (8, 100, 100) <class 'numpy.ndarray'>\n",
      "I163 line (5, 100, 100) <class 'numpy.ndarray'>\n",
      "I164 circle (8, 100, 100) <class 'numpy.ndarray'>\n",
      "I165 line (5, 100, 100) <class 'numpy.ndarray'>\n",
      "I166 line (9, 100, 100) <class 'numpy.ndarray'>\n",
      "I167 circle (7, 100, 100) <class 'numpy.ndarray'>\n",
      "I168 line (5, 100, 100) <class 'numpy.ndarray'>\n",
      "I169 line (9, 100, 100) <class 'numpy.ndarray'>\n",
      "I170 circle (6, 100, 100) <class 'numpy.ndarray'>\n",
      "I171 circle (6, 100, 100) <class 'numpy.ndarray'>\n",
      "I172 line (7, 100, 100) <class 'numpy.ndarray'>\n",
      "I173 line (9, 100, 100) <class 'numpy.ndarray'>\n",
      "I174 circle (8, 100, 100) <class 'numpy.ndarray'>\n",
      "I175 line (9, 100, 100) <class 'numpy.ndarray'>\n",
      "I176 line (7, 100, 100) <class 'numpy.ndarray'>\n",
      "I177 line (7, 100, 100) <class 'numpy.ndarray'>\n",
      "I178 circle (8, 100, 100) <class 'numpy.ndarray'>\n",
      "I179 line (5, 100, 100) <class 'numpy.ndarray'>\n",
      "I180 line (8, 100, 100) <class 'numpy.ndarray'>\n",
      "I181 line (7, 100, 100) <class 'numpy.ndarray'>\n",
      "I182 circle (6, 100, 100) <class 'numpy.ndarray'>\n",
      "I183 circle (6, 100, 100) <class 'numpy.ndarray'>\n",
      "I184 line (9, 100, 100) <class 'numpy.ndarray'>\n",
      "I185 line (5, 100, 100) <class 'numpy.ndarray'>\n",
      "I186 line (5, 100, 100) <class 'numpy.ndarray'>\n",
      "I187 circle (8, 100, 100) <class 'numpy.ndarray'>\n",
      "I188 line (8, 100, 100) <class 'numpy.ndarray'>\n",
      "I189 line (7, 100, 100) <class 'numpy.ndarray'>\n",
      "I190 line (9, 100, 100) <class 'numpy.ndarray'>\n",
      "I191 line (9, 100, 100) <class 'numpy.ndarray'>\n",
      "I192 line (5, 100, 100) <class 'numpy.ndarray'>\n",
      "I193 line (8, 100, 100) <class 'numpy.ndarray'>\n",
      "I194 line (5, 100, 100) <class 'numpy.ndarray'>\n",
      "I195 circle (5, 100, 100) <class 'numpy.ndarray'>\n",
      "I196 circle (7, 100, 100) <class 'numpy.ndarray'>\n",
      "I197 line (6, 100, 100) <class 'numpy.ndarray'>\n",
      "I198 line (9, 100, 100) <class 'numpy.ndarray'>\n",
      "I199 circle (9, 100, 100) <class 'numpy.ndarray'>\n",
      "I200 circle (7, 100, 100) <class 'numpy.ndarray'>\n",
      "I201 line (5, 100, 100) <class 'numpy.ndarray'>\n",
      "I202 circle (5, 100, 100) <class 'numpy.ndarray'>\n",
      "I203 circle (8, 100, 100) <class 'numpy.ndarray'>\n",
      "I204 circle (8, 100, 100) <class 'numpy.ndarray'>\n",
      "I205 line (8, 100, 100) <class 'numpy.ndarray'>\n",
      "I206 circle (8, 100, 100) <class 'numpy.ndarray'>\n",
      "I207 line (5, 100, 100) <class 'numpy.ndarray'>\n",
      "I208 line (6, 100, 100) <class 'numpy.ndarray'>\n",
      "I209 line (6, 100, 100) <class 'numpy.ndarray'>\n",
      "I210 circle (6, 100, 100) <class 'numpy.ndarray'>\n",
      "I211 circle (8, 100, 100) <class 'numpy.ndarray'>\n",
      "I212 line (7, 100, 100) <class 'numpy.ndarray'>\n",
      "I213 circle (7, 100, 100) <class 'numpy.ndarray'>\n",
      "I214 circle (9, 100, 100) <class 'numpy.ndarray'>\n",
      "I215 line (8, 100, 100) <class 'numpy.ndarray'>\n",
      "I216 line (8, 100, 100) <class 'numpy.ndarray'>\n",
      "I217 line (8, 100, 100) <class 'numpy.ndarray'>\n",
      "I218 line (6, 100, 100) <class 'numpy.ndarray'>\n",
      "I219 circle (6, 100, 100) <class 'numpy.ndarray'>\n",
      "I220 circle (6, 100, 100) <class 'numpy.ndarray'>\n",
      "I221 circle (7, 100, 100) <class 'numpy.ndarray'>\n",
      "I222 circle (9, 100, 100) <class 'numpy.ndarray'>\n",
      "I223 line (9, 100, 100) <class 'numpy.ndarray'>\n",
      "I224 line (8, 100, 100) <class 'numpy.ndarray'>\n",
      "I225 line (7, 100, 100) <class 'numpy.ndarray'>\n",
      "I226 line (9, 100, 100) <class 'numpy.ndarray'>\n",
      "I227 circle (9, 100, 100) <class 'numpy.ndarray'>\n",
      "I228 circle (6, 100, 100) <class 'numpy.ndarray'>\n",
      "I229 circle (9, 100, 100) <class 'numpy.ndarray'>\n",
      "I230 circle (5, 100, 100) <class 'numpy.ndarray'>\n",
      "I231 line (5, 100, 100) <class 'numpy.ndarray'>\n",
      "I232 circle (9, 100, 100) <class 'numpy.ndarray'>\n",
      "I233 circle (7, 100, 100) <class 'numpy.ndarray'>\n",
      "I234 line (9, 100, 100) <class 'numpy.ndarray'>\n",
      "I235 circle (8, 100, 100) <class 'numpy.ndarray'>\n",
      "I236 circle (9, 100, 100) <class 'numpy.ndarray'>\n",
      "I237 circle (6, 100, 100) <class 'numpy.ndarray'>\n",
      "I238 circle (7, 100, 100) <class 'numpy.ndarray'>\n",
      "I239 circle (9, 100, 100) <class 'numpy.ndarray'>\n",
      "I240 line (8, 100, 100) <class 'numpy.ndarray'>\n",
      "I241 circle (7, 100, 100) <class 'numpy.ndarray'>\n",
      "I242 line (6, 100, 100) <class 'numpy.ndarray'>\n",
      "I243 circle (5, 100, 100) <class 'numpy.ndarray'>\n",
      "I244 circle (8, 100, 100) <class 'numpy.ndarray'>\n",
      "I245 circle (9, 100, 100) <class 'numpy.ndarray'>\n",
      "I246 circle (5, 100, 100) <class 'numpy.ndarray'>\n",
      "I247 line (7, 100, 100) <class 'numpy.ndarray'>\n",
      "I248 circle (5, 100, 100) <class 'numpy.ndarray'>\n",
      "I249 line (7, 100, 100) <class 'numpy.ndarray'>\n",
      "I250 line (6, 100, 100) <class 'numpy.ndarray'>\n",
      "I251 line (6, 100, 100) <class 'numpy.ndarray'>\n",
      "I252 circle (5, 100, 100) <class 'numpy.ndarray'>\n",
      "I253 line (8, 100, 100) <class 'numpy.ndarray'>\n",
      "I254 circle (5, 100, 100) <class 'numpy.ndarray'>\n",
      "I255 line (7, 100, 100) <class 'numpy.ndarray'>\n",
      "I256 line (7, 100, 100) <class 'numpy.ndarray'>\n",
      "I257 line (5, 100, 100) <class 'numpy.ndarray'>\n",
      "I258 circle (7, 100, 100) <class 'numpy.ndarray'>\n",
      "I259 line (8, 100, 100) <class 'numpy.ndarray'>\n",
      "I260 line (8, 100, 100) <class 'numpy.ndarray'>\n",
      "I261 circle (9, 100, 100) <class 'numpy.ndarray'>\n",
      "I262 line (5, 100, 100) <class 'numpy.ndarray'>\n",
      "I263 line (5, 100, 100) <class 'numpy.ndarray'>\n",
      "I264 line (9, 100, 100) <class 'numpy.ndarray'>\n",
      "I265 circle (9, 100, 100) <class 'numpy.ndarray'>\n",
      "I266 circle (6, 100, 100) <class 'numpy.ndarray'>\n",
      "I267 line (8, 100, 100) <class 'numpy.ndarray'>\n",
      "I268 line (7, 100, 100) <class 'numpy.ndarray'>\n",
      "I269 circle (5, 100, 100) <class 'numpy.ndarray'>\n",
      "I270 circle (7, 100, 100) <class 'numpy.ndarray'>\n",
      "I271 line (5, 100, 100) <class 'numpy.ndarray'>\n",
      "I272 line (8, 100, 100) <class 'numpy.ndarray'>\n",
      "I273 line (8, 100, 100) <class 'numpy.ndarray'>\n",
      "I274 line (8, 100, 100) <class 'numpy.ndarray'>\n",
      "I275 circle (9, 100, 100) <class 'numpy.ndarray'>\n",
      "I276 circle (6, 100, 100) <class 'numpy.ndarray'>\n",
      "I277 circle (5, 100, 100) <class 'numpy.ndarray'>\n",
      "I278 line (9, 100, 100) <class 'numpy.ndarray'>\n",
      "I279 circle (9, 100, 100) <class 'numpy.ndarray'>\n",
      "I280 circle (6, 100, 100) <class 'numpy.ndarray'>\n",
      "I281 line (7, 100, 100) <class 'numpy.ndarray'>\n",
      "I282 line (7, 100, 100) <class 'numpy.ndarray'>\n",
      "I283 circle (6, 100, 100) <class 'numpy.ndarray'>\n",
      "I284 line (8, 100, 100) <class 'numpy.ndarray'>\n",
      "I285 circle (5, 100, 100) <class 'numpy.ndarray'>\n",
      "I286 circle (6, 100, 100) <class 'numpy.ndarray'>\n",
      "I287 line (9, 100, 100) <class 'numpy.ndarray'>\n",
      "I288 circle (6, 100, 100) <class 'numpy.ndarray'>\n",
      "I289 line (9, 100, 100) <class 'numpy.ndarray'>\n",
      "I290 line (5, 100, 100) <class 'numpy.ndarray'>\n",
      "I291 line (7, 100, 100) <class 'numpy.ndarray'>\n",
      "I292 circle (8, 100, 100) <class 'numpy.ndarray'>\n",
      "I293 circle (8, 100, 100) <class 'numpy.ndarray'>\n",
      "I294 line (9, 100, 100) <class 'numpy.ndarray'>\n",
      "I295 circle (6, 100, 100) <class 'numpy.ndarray'>\n",
      "I296 circle (7, 100, 100) <class 'numpy.ndarray'>\n",
      "I297 circle (5, 100, 100) <class 'numpy.ndarray'>\n",
      "I298 line (6, 100, 100) <class 'numpy.ndarray'>\n",
      "I299 line (7, 100, 100) <class 'numpy.ndarray'>\n",
      "I300 circle (9, 100, 100) <class 'numpy.ndarray'>\n",
      "I301 circle (9, 100, 100) <class 'numpy.ndarray'>\n",
      "I302 circle (7, 100, 100) <class 'numpy.ndarray'>\n",
      "I303 circle (6, 100, 100) <class 'numpy.ndarray'>\n",
      "I304 line (7, 100, 100) <class 'numpy.ndarray'>\n",
      "I305 line (6, 100, 100) <class 'numpy.ndarray'>\n",
      "I306 line (6, 100, 100) <class 'numpy.ndarray'>\n",
      "I307 line (9, 100, 100) <class 'numpy.ndarray'>\n",
      "I308 circle (8, 100, 100) <class 'numpy.ndarray'>\n",
      "I309 line (8, 100, 100) <class 'numpy.ndarray'>\n",
      "I310 circle (6, 100, 100) <class 'numpy.ndarray'>\n",
      "I311 circle (7, 100, 100) <class 'numpy.ndarray'>\n",
      "I312 circle (5, 100, 100) <class 'numpy.ndarray'>\n",
      "I313 circle (8, 100, 100) <class 'numpy.ndarray'>\n",
      "I314 circle (5, 100, 100) <class 'numpy.ndarray'>\n",
      "I315 circle (9, 100, 100) <class 'numpy.ndarray'>\n",
      "I316 circle (5, 100, 100) <class 'numpy.ndarray'>\n",
      "I317 line (7, 100, 100) <class 'numpy.ndarray'>\n",
      "I318 circle (6, 100, 100) <class 'numpy.ndarray'>\n",
      "I319 circle (5, 100, 100) <class 'numpy.ndarray'>\n",
      "I320 line (5, 100, 100) <class 'numpy.ndarray'>\n",
      "I321 line (6, 100, 100) <class 'numpy.ndarray'>\n",
      "I322 circle (8, 100, 100) <class 'numpy.ndarray'>\n",
      "I323 circle (6, 100, 100) <class 'numpy.ndarray'>\n",
      "I324 circle (7, 100, 100) <class 'numpy.ndarray'>\n",
      "I325 circle (8, 100, 100) <class 'numpy.ndarray'>\n",
      "I326 circle (6, 100, 100) <class 'numpy.ndarray'>\n",
      "I327 circle (7, 100, 100) <class 'numpy.ndarray'>\n",
      "I328 line (5, 100, 100) <class 'numpy.ndarray'>\n",
      "I329 circle (7, 100, 100) <class 'numpy.ndarray'>\n",
      "I330 circle (9, 100, 100) <class 'numpy.ndarray'>\n",
      "I331 circle (9, 100, 100) <class 'numpy.ndarray'>\n",
      "I332 line (5, 100, 100) <class 'numpy.ndarray'>\n",
      "I333 circle (6, 100, 100) <class 'numpy.ndarray'>\n",
      "I334 circle (6, 100, 100) <class 'numpy.ndarray'>\n",
      "I335 line (6, 100, 100) <class 'numpy.ndarray'>\n",
      "I336 circle (7, 100, 100) <class 'numpy.ndarray'>\n",
      "I337 line (5, 100, 100) <class 'numpy.ndarray'>\n",
      "I338 circle (6, 100, 100) <class 'numpy.ndarray'>\n",
      "I339 line (5, 100, 100) <class 'numpy.ndarray'>\n",
      "I340 line (9, 100, 100) <class 'numpy.ndarray'>\n",
      "I341 circle (7, 100, 100) <class 'numpy.ndarray'>\n",
      "I342 circle (7, 100, 100) <class 'numpy.ndarray'>\n",
      "I343 line (6, 100, 100) <class 'numpy.ndarray'>\n",
      "I344 circle (8, 100, 100) <class 'numpy.ndarray'>\n",
      "I345 line (9, 100, 100) <class 'numpy.ndarray'>\n",
      "I346 circle (8, 100, 100) <class 'numpy.ndarray'>\n",
      "I347 circle (5, 100, 100) <class 'numpy.ndarray'>\n",
      "I348 line (8, 100, 100) <class 'numpy.ndarray'>\n",
      "I349 circle (5, 100, 100) <class 'numpy.ndarray'>\n"
     ]
    }
   ],
   "source": [
    "print('RECORD - LABEL - SHAPE')\n",
    "\n",
    "if generate_new_data:\n",
    "    \n",
    "    for R in input_d.keys():\n",
    "        print(R,input_d[R]['label'],np.shape(input_d[R]['image']),type(input_d[R]['image']))"
   ]
  },
  {
   "cell_type": "code",
   "execution_count": 5,
   "metadata": {},
   "outputs": [
    {
     "name": "stdout",
     "output_type": "stream",
     "text": [
      "circle\n"
     ]
    },
    {
     "data": {
      "image/png": "[encoded data removed]",
      "text/plain": [
       "<Figure size 640x480 with 1 Axes>"
      ]
     },
     "metadata": {},
     "output_type": "display_data"
    }
   ],
   "source": [
    "d_plt_check,rec_check=True,'I1'\n",
    "print(input_d[rec_check]['label'])\n",
    "\n",
    "if generate_new_data:\n",
    "\n",
    "    if d_plt_check:\n",
    "\n",
    "        if video_d:fig_lib.vid_show(input_d[rec_check]['image'],t_btw_frm=0.2)\n",
    "        else:fig_lib.im_show(input_d[rec_check]['image'])\n"
   ]
  },
  {
   "cell_type": "markdown",
   "metadata": {},
   "source": [
    "# CNN"
   ]
  },
  {
   "cell_type": "markdown",
   "metadata": {},
   "source": [
    "### PARAMETERS"
   ]
  },
  {
   "cell_type": "code",
   "execution_count": 6,
   "metadata": {},
   "outputs": [
    {
     "name": "stdout",
     "output_type": "stream",
     "text": [
      "LIBRARY MODELS:\n",
      " \n",
      "image_full_bin\n",
      "image_conv_bin\n",
      "image_conv_bin_augmentation\n"
     ]
    }
   ],
   "source": [
    "print('LIBRARY MODELS:')\n",
    "print(' ')\n",
    "\n",
    "for model_name in CNN_lib.MODELS.values(): print(model_name)"
   ]
  },
  {
   "cell_type": "code",
   "execution_count": 7,
   "metadata": {},
   "outputs": [],
   "source": [
    "# -------- CNN PARAMS --------\n",
    "\n",
    "# -------- MODEL --------\n",
    "\n",
    "model_from_CNN_lib,mdl= False,'image_full_bin'\n",
    "\n",
    "opt='adam'\n",
    "lss='binary_crossentropy'\n",
    "\n",
    "# -------- TRAINNING --------\n",
    "\n",
    "epch=5\n"
   ]
  },
  {
   "cell_type": "markdown",
   "metadata": {},
   "source": [
    "### GENERATE TRAIN DATA"
   ]
  },
  {
   "cell_type": "code",
   "execution_count": 8,
   "metadata": {},
   "outputs": [
    {
     "name": "stdout",
     "output_type": "stream",
     "text": [
      "Train data: 350 Evaluation data: 50\n"
     ]
    }
   ],
   "source": [
    "# X_train,Y_train,X_eval,Y_eval\n",
    "\n",
    "X_train,Y_train =CNN_lib.cnn_data_bin_gen(input_d,zero='circle', one= 'line')\n",
    "X_eval,Y_eval = CNN_lib.cnn_data_bin_gen(eval_d,zero='circle', one= 'line')\n",
    "\n",
    "print('Train data:',len(Y_train),'Evaluation data:',len(Y_eval))"
   ]
  },
  {
   "cell_type": "code",
   "execution_count": 9,
   "metadata": {},
   "outputs": [
    {
     "name": "stdout",
     "output_type": "stream",
     "text": [
      " Train data shape: (350, 100, 100)  Validation data shape: (50, 100, 100)\n"
     ]
    },
    {
     "data": {
      "image/png": "[encoded data removed]",
      "text/plain": [
       "<Figure size 640x480 with 1 Axes>"
      ]
     },
     "metadata": {},
     "output_type": "display_data"
    }
   ],
   "source": [
    "# check data\n",
    "\n",
    "zeros_count = np.sum(Y_train == 0)\n",
    "ones_count = np.sum(Y_train == 1)\n",
    "zeros_count_val = np.sum(Y_eval == 0)\n",
    "ones_count_val = np.sum(Y_eval == 1)\n",
    "\n",
    "labels = ['Circles Train', 'Lines Train','Circles Validation', 'Lines Validation']\n",
    "print(' Train data shape:', np.shape(X_train),' Validation data shape:', np.shape(X_eval))\n",
    "\n",
    "plt.bar(labels, [zeros_count, ones_count,zeros_count_val,ones_count_val], color=['green', 'blue','green', 'blue'])\n",
    "\n",
    "for i, count in enumerate([zeros_count, ones_count,zeros_count_val,ones_count_val]):\n",
    "\n",
    "    plt.text(i, count + 0.1, str(count), ha='center', va='bottom')\n",
    "\n",
    "plt.title('Data Labels')\n",
    "plt.show()"
   ]
  },
  {
   "cell_type": "markdown",
   "metadata": {},
   "source": [
    "### MODEL"
   ]
  },
  {
   "cell_type": "code",
   "execution_count": 10,
   "metadata": {},
   "outputs": [
    {
     "name": "stdout",
     "output_type": "stream",
     "text": [
      "Model: \"sequential_1\"\n",
      "_________________________________________________________________\n",
      " Layer (type)                Output Shape              Param #   \n",
      "=================================================================\n",
      " sequential (Sequential)     (None, 100, 100, 1)       0         \n",
      "                                                                 \n",
      " rescaling (Rescaling)       (None, 100, 100, 1)       0         \n",
      "                                                                 \n",
      " conv2d (Conv2D)             (None, 98, 98, 32)        320       \n",
      "                                                                 \n",
      " max_pooling2d (MaxPooling2  (None, 49, 49, 32)        0         \n",
      " D)                                                              \n",
      "                                                                 \n",
      " conv2d_1 (Conv2D)           (None, 47, 47, 64)        18496     \n",
      "                                                                 \n",
      " max_pooling2d_1 (MaxPoolin  (None, 23, 23, 64)        0         \n",
      " g2D)                                                            \n",
      "                                                                 \n",
      " conv2d_2 (Conv2D)           (None, 21, 21, 64)        36928     \n",
      "                                                                 \n",
      " max_pooling2d_2 (MaxPoolin  (None, 10, 10, 64)        0         \n",
      " g2D)                                                            \n",
      "                                                                 \n",
      " dropout (Dropout)           (None, 10, 10, 64)        0         \n",
      "                                                                 \n",
      " flatten (Flatten)           (None, 6400)              0         \n",
      "                                                                 \n",
      " dense (Dense)               (None, 64)                409664    \n",
      "                                                                 \n",
      " dense_1 (Dense)             (None, 1)                 65        \n",
      "                                                                 \n",
      "=================================================================\n",
      "Total params: 465473 (1.78 MB)\n",
      "Trainable params: 465473 (1.78 MB)\n",
      "Non-trainable params: 0 (0.00 Byte)\n",
      "_________________________________________________________________\n"
     ]
    }
   ],
   "source": [
    "# MODEL \n",
    "\n",
    "if model_from_CNN_lib:\n",
    "  \n",
    "  model=CNN_lib.lib_models(mdl,im_input_shp=(height, width))\n",
    "\n",
    "else:\n",
    "\n",
    "\n",
    "  data_augmentation = keras.Sequential([\n",
    "                      layers.RandomFlip(\"horizontal\",input_shape=(height, width, 1)),\n",
    "                      layers.RandomRotation(0.1),\n",
    "                      layers.RandomZoom(0.1),])\n",
    "                            \n",
    "  model = models.Sequential([\n",
    "                            data_augmentation,\n",
    "                            layers.Rescaling(1./255),\n",
    "                            layers.Conv2D(32, (3, 3), activation='relu'),\n",
    "                            layers.MaxPooling2D((2, 2)),\n",
    "                            layers.Conv2D(64, (3, 3), activation='relu'),\n",
    "                            layers.MaxPooling2D((2, 2)),\n",
    "                            layers.Conv2D(64, (3, 3), activation='relu'),\n",
    "                            layers.MaxPooling2D((2, 2)),\n",
    "                            layers.Dropout(0.2),\n",
    "                            layers.Flatten(),\n",
    "                            layers.Dense(64, activation='relu'),\n",
    "                            layers.Dense(1, activation='sigmoid'),\n",
    "                            ])\n",
    "\n",
    "  \n",
    "model.summary()"
   ]
  },
  {
   "cell_type": "code",
   "execution_count": 11,
   "metadata": {},
   "outputs": [],
   "source": [
    "model.compile(optimizer=opt, loss=lss, metrics=['accuracy'])"
   ]
  },
  {
   "cell_type": "markdown",
   "metadata": {},
   "source": [
    "### TRAINNING"
   ]
  },
  {
   "cell_type": "code",
   "execution_count": 12,
   "metadata": {},
   "outputs": [
    {
     "name": "stdout",
     "output_type": "stream",
     "text": [
      "Epoch 1/5\n",
      "11/11 [==============================] - 3s 130ms/step - loss: 0.6220 - accuracy: 0.6114 - val_loss: 0.5461 - val_accuracy: 0.7400\n",
      "Epoch 2/5\n",
      "11/11 [==============================] - 1s 124ms/step - loss: 0.4934 - accuracy: 0.7886 - val_loss: 0.4056 - val_accuracy: 0.8400\n",
      "Epoch 3/5\n",
      "11/11 [==============================] - 1s 119ms/step - loss: 0.3711 - accuracy: 0.8514 - val_loss: 0.4309 - val_accuracy: 0.8600\n",
      "Epoch 4/5\n",
      "11/11 [==============================] - 1s 119ms/step - loss: 0.3251 - accuracy: 0.8743 - val_loss: 0.2459 - val_accuracy: 0.8600\n",
      "Epoch 5/5\n",
      "11/11 [==============================] - 1s 129ms/step - loss: 0.2671 - accuracy: 0.8886 - val_loss: 0.1175 - val_accuracy: 0.9600\n"
     ]
    }
   ],
   "source": [
    "history =model.fit(X_train, Y_train, epochs=epch, validation_data=(X_eval,Y_eval))"
   ]
  },
  {
   "cell_type": "markdown",
   "metadata": {},
   "source": [
    "### EVALUATE MODEL"
   ]
  },
  {
   "cell_type": "code",
   "execution_count": 13,
   "metadata": {},
   "outputs": [
    {
     "data": {
      "image/png": "[encoded data removed]",
      "text/plain": [
       "<Figure size 1400x800 with 2 Axes>"
      ]
     },
     "metadata": {},
     "output_type": "display_data"
    }
   ],
   "source": [
    "fg_size=(14,8)\n",
    "\n",
    "acc = history.history['accuracy']\n",
    "val_acc = history.history['val_accuracy']\n",
    "\n",
    "loss = history.history['loss']\n",
    "val_loss = history.history['val_loss']\n",
    "\n",
    "epochs_range = range(epch)\n",
    "\n",
    "plt.figure(figsize=fg_size)\n",
    "plt.subplot(1, 2, 1)\n",
    "plt.plot(epochs_range, acc, label='Training Accuracy')\n",
    "plt.plot(epochs_range, val_acc, label='Validation Accuracy')\n",
    "plt.legend(loc='lower right')\n",
    "plt.title('Training and Validation Accuracy')\n",
    "plt.xlabel('Epochs')  \n",
    "plt.ylabel('Accuracy')  \n",
    "\n",
    "plt.subplot(1, 2, 2)\n",
    "plt.plot(epochs_range, loss, label='Training Loss')\n",
    "plt.plot(epochs_range, val_loss, label='Validation Loss')\n",
    "plt.legend(loc='upper right')\n",
    "plt.title('Training and Validation Loss')\n",
    "plt.xlabel('Epochs')  \n",
    "plt.ylabel('Loss')  \n",
    "plt.show()"
   ]
  },
  {
   "cell_type": "code",
   "execution_count": 14,
   "metadata": {},
   "outputs": [
    {
     "name": "stdout",
     "output_type": "stream",
     "text": [
      "2/2 - 0s - loss: 0.1175 - accuracy: 0.9600 - 48ms/epoch - 24ms/step\n",
      "Loss: 0.11751586198806763 Accuracy: 0.9599999785423279\n"
     ]
    }
   ],
   "source": [
    "test_loss, test_accuracy = model.evaluate(X_eval,Y_eval,verbose=2)\n",
    "\n",
    "print(f'Loss: {test_loss}',f'Accuracy: {test_accuracy}')"
   ]
  },
  {
   "cell_type": "markdown",
   "metadata": {},
   "source": [
    "### FORECAST"
   ]
  },
  {
   "cell_type": "markdown",
   "metadata": {},
   "source": [
    "GENERATE RANDOM IMAGE"
   ]
  },
  {
   "cell_type": "code",
   "execution_count": 17,
   "metadata": {},
   "outputs": [],
   "source": [
    "# generate random im\n",
    "\n",
    "n_rdm=np.random.rand()\n",
    "\n",
    "if video_d:\n",
    "    \n",
    "    if n_rdm>=0.5:\n",
    "        \n",
    "        pass\n",
    "    \n",
    "    else:\n",
    "\n",
    "        pass\n",
    "\n",
    "else:\n",
    "\n",
    "    if n_rdm>=0.5:\n",
    "\n",
    "        p1=[np.random.randint(0, width-1),np.random.randint(0, height-1)]\n",
    "        p2=[np.random.randint(0, width-1),np.random.randint(0, height-1)]\n",
    "        image=fig_lib.line_im(p1,p2,height=height, width=width,thickness=(1,3),color=color)\n",
    "        label='Line'\n",
    "\n",
    "    else:\n",
    "        \n",
    "        center= [np.random.randint(int(0+width*0.3), int(width - width*0.3)),np.random.randint(int(0+height*0.3), int(height-height*0.3))]\n",
    "        radio = np.random.randint(12, 17)\n",
    "        image=fig_lib.circle_im(center,radio,height=height, width=width,thickness=(1,3),color=color,filled=circles_filled)\n",
    "        label= 'circle'"
   ]
  },
  {
   "cell_type": "code",
   "execution_count": 18,
   "metadata": {},
   "outputs": [
    {
     "name": "stdout",
     "output_type": "stream",
     "text": [
      "1/1 - 0s - 21ms/epoch - 21ms/step\n",
      "Real: circle ----> Forecast: circle\n",
      "Percentage: 99.86000000499189 %\n",
      " \n"
     ]
    },
    {
     "data": {
      "image/png": "[encoded data removed]",
      "text/plain": [
       "<Figure size 640x480 with 1 Axes>"
      ]
     },
     "metadata": {},
     "output_type": "display_data"
    }
   ],
   "source": [
    "# Forecast\n",
    "\n",
    "pred = model.predict(np.expand_dims(image, axis=0),verbose=2)\n",
    "CNN_lib.bin_forecast(pred,label=label,up_frc='line',down_frc='circle')\n",
    "\n",
    "\n",
    "if video_d:pass\n",
    "else:fig_lib.im_show(input_d[rec_check]['image'])\n"
   ]
  }
 ],
 "metadata": {
  "kernelspec": {
   "display_name": ".venv",
   "language": "python",
   "name": "python3"
  },
  "language_info": {
   "codemirror_mode": {
    "name": "ipython",
    "version": 3
   },
   "file_extension": ".py",
   "mimetype": "text/x-python",
   "name": "python",
   "nbconvert_exporter": "python",
   "pygments_lexer": "ipython3",
   "version": "3.11.6"
  }
 },
 "nbformat": 4,
 "nbformat_minor": 2
}
