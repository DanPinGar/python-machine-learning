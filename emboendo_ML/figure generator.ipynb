{
 "cells": [
  {
   "cell_type": "markdown",
   "metadata": {},
   "source": [
    "# Libraries Import"
   ]
  },
  {
   "cell_type": "code",
   "execution_count": 152,
   "metadata": {},
   "outputs": [],
   "source": [
    "import cv2\n",
    "import numpy as np\n",
    "import matplotlib.pyplot as plt\n",
    "import time\n",
    "from IPython.display import display, clear_output"
   ]
  },
  {
   "cell_type": "markdown",
   "metadata": {},
   "source": [
    "## FIGURE GENERATOR"
   ]
  },
  {
   "cell_type": "code",
   "execution_count": 188,
   "metadata": {},
   "outputs": [
    {
     "name": "stdout",
     "output_type": "stream",
     "text": [
      "{'I0': {}, 'I1': {}, 'I2': {}, 'I3': {}, 'I4': {}, 'I5': {}, 'I6': {}, 'I7': {}, 'I8': {}, 'I9': {}}\n"
     ]
    }
   ],
   "source": [
    "n_frames=50\n",
    "t_btw_frm=0.2\n",
    "altura, ancho = 400, 400\n",
    "\n",
    "\n",
    "input_d={'I'+ str(ii):{} for ii in range(10)}\n",
    "print(input_d)\n"
   ]
  },
  {
   "cell_type": "markdown",
   "metadata": {},
   "source": [
    "### LINES\n"
   ]
  },
  {
   "cell_type": "code",
   "execution_count": 182,
   "metadata": {},
   "outputs": [
    {
     "data": {
      "image/png": "[encoded data removed]",
      "text/plain": [
       "<Figure size 640x480 with 1 Axes>"
      ]
     },
     "metadata": {},
     "output_type": "display_data"
    }
   ],
   "source": [
    "x1=np.random.randint(0, 390)\n",
    "x2=np.random.randint(0, 390)\n",
    "y1=np.random.randint(0, 390)\n",
    "y2=np.random.randint(0, 390)\n",
    "thickness=np.random.randint(1, 5)\n",
    "\n",
    "for _ in range(n_frames):\n",
    "    \n",
    "    imagen = np.zeros((altura, ancho), dtype=np.uint8)\n",
    "\n",
    "    x1+= np.random.randint(-5, 5)\n",
    "    x2+=np.random.randint(-20, 20)\n",
    "    y1+= np.random.randint(-5, 5)\n",
    "    y2+=np.random.randint(-20, 20)\n",
    "    \n",
    "\n",
    "    cv2.line(imagen, (x1, y1), (x2, y2), color=255, thickness=thickness)\n",
    "\n",
    "    plt.imshow(imagen, cmap='gray')\n",
    "    plt.axis('off')\n",
    "    plt.show()\n",
    "    time.sleep(t_btw_frm)\n",
    "    clear_output(wait=True)"
   ]
  },
  {
   "cell_type": "code",
   "execution_count": 185,
   "metadata": {},
   "outputs": [
    {
     "data": {
      "image/png": "[encoded data removed]",
      "text/plain": [
       "<Figure size 640x480 with 1 Axes>"
      ]
     },
     "metadata": {},
     "output_type": "display_data"
    }
   ],
   "source": [
    "\n",
    "thickness=np.random.randint(1, 5)\n",
    "x, y = np.random.randint(100, 300), np.random.randint(100, 300)\n",
    "radio = np.random.randint(50, 100)\n",
    "\n",
    "for _ in range(n_frames):\n",
    "    \n",
    "    imagen = np.zeros((altura, ancho), dtype=np.uint8)\n",
    "\n",
    "    x+= np.random.randint(-3, 3)\n",
    "    y+= np.random.randint(-3, 3)\n",
    "    radio += np.random.randint(-8, 8)\n",
    "    \n",
    "    cv2.circle(imagen, (x,y), radio, color=255, thickness=thickness)\n",
    "\n",
    "    plt.imshow(imagen, cmap='gray')\n",
    "    plt.axis('off')\n",
    "    plt.show()\n",
    "    time.sleep(t_btw_frm)\n",
    "    clear_output(wait=True)"
   ]
  }
 ],
 "metadata": {
  "kernelspec": {
   "display_name": ".venv",
   "language": "python",
   "name": "python3"
  },
  "language_info": {
   "codemirror_mode": {
    "name": "ipython",
    "version": 3
   },
   "file_extension": ".py",
   "mimetype": "text/x-python",
   "name": "python",
   "nbconvert_exporter": "python",
   "pygments_lexer": "ipython3",
   "version": "3.11.6"
  }
 },
 "nbformat": 4,
 "nbformat_minor": 2
}
